{
 "cells": [
  {
   "cell_type": "markdown",
   "id": "d687acd0-a5f2-4adf-b087-2c48988a2300",
   "metadata": {},
   "source": [
    "## List Questions :"
   ]
  },
  {
   "cell_type": "markdown",
   "id": "e5720c31-b043-48a6-86f7-b5f5279c425a",
   "metadata": {},
   "source": [
    "1.Write a function that takes a list of numbers and returns the sum using built-in list methods."
   ]
  },
  {
   "cell_type": "code",
   "execution_count": 1,
   "id": "73d1a864-e175-43a2-a8a8-de0d14af8560",
   "metadata": {},
   "outputs": [
    {
     "name": "stdout",
     "output_type": "stream",
     "text": [
      "467\n"
     ]
    }
   ],
   "source": [
    "a = [2,5,63,45,78,96,45,78,55]\n",
    "print(sum(a))"
   ]
  },
  {
   "cell_type": "markdown",
   "id": "f858368c-c417-4f8f-8e27-b96dc040a23c",
   "metadata": {},
   "source": [
    "2.Write a function to remove duplicates from a list."
   ]
  },
  {
   "cell_type": "code",
   "execution_count": 2,
   "id": "16440ffa-e8fa-42c3-a7c2-640f3b8f1df5",
   "metadata": {},
   "outputs": [
    {
     "data": {
      "text/plain": [
       "[2, 5, 4, 7, 8, 6, 1, 3]"
      ]
     },
     "execution_count": 2,
     "metadata": {},
     "output_type": "execute_result"
    }
   ],
   "source": [
    "s = [2,5,4,7,8,6,2,1,4,5,2,3,2,2,8,5,4,6,3,4,8]\n",
    "def remove_duplicates(s):\n",
    "    result = []\n",
    "    for value in s:\n",
    "        if value not in result:\n",
    "            result.append(value)\n",
    "\n",
    "    return result\n",
    "      \n",
    "            \n",
    "remove_duplicates(s)"
   ]
  },
  {
   "cell_type": "markdown",
   "id": "63756e7c-d89b-47c7-938d-a8363c57b081",
   "metadata": {},
   "source": [
    "3.Write a python program to Flatten a 2D list into a 1D list."
   ]
  },
  {
   "cell_type": "code",
   "execution_count": 3,
   "id": "f363a515-befb-4136-b231-19020ae10c13",
   "metadata": {},
   "outputs": [
    {
     "name": "stdout",
     "output_type": "stream",
     "text": [
      "[2, 5, 4, 5, 7, 8, 9, 4, 6, 4, 3, 5, 5, 8]\n"
     ]
    }
   ],
   "source": [
    "list2d = [[2,5],[4,5],[7,8],[9,4],[6,4],[3,5],[5,8]]\n",
    "def flatten(x):\n",
    "    list1d = []\n",
    "    for value in x:\n",
    "        for item in value:\n",
    "            list1d.append(item)\n",
    "    return list1d\n",
    "result = flatten(list2d)\n",
    "print(result)"
   ]
  },
  {
   "cell_type": "markdown",
   "id": "eeaf5dc3-f363-4389-911f-c6276d98f178",
   "metadata": {},
   "source": [
    "4.Write a python program to Rotate the elements of a list to the right by k steps."
   ]
  },
  {
   "cell_type": "code",
   "execution_count": 4,
   "id": "5327db76-fdda-47cb-b88d-b43e214fc247",
   "metadata": {},
   "outputs": [
    {
     "name": "stdout",
     "output_type": "stream",
     "text": [
      "[47, 26, 55, 56, 47, 89, 23, 56]\n"
     ]
    }
   ],
   "source": [
    "l = [56,47,89,23,56,47,26,55]\n",
    "k = 3\n",
    "def rotate_list(l,k):\n",
    "    rotate_l = l[-k:] + l[:-k]\n",
    "    return rotate_l\n",
    "\n",
    "result = rotate_list(l,k)\n",
    "print(result)"
   ]
  },
  {
   "cell_type": "markdown",
   "id": "5c2dbf1a-c7b6-48fa-9e75-367ae6f6992e",
   "metadata": {},
   "source": [
    "5.Write a python program to Return the second largest number in a list."
   ]
  },
  {
   "cell_type": "code",
   "execution_count": 5,
   "id": "2b98f690-3ded-484c-bd4e-2ea3385d2370",
   "metadata": {},
   "outputs": [
    {
     "name": "stdout",
     "output_type": "stream",
     "text": [
      "89\n"
     ]
    }
   ],
   "source": [
    "l = [56,47,89,23,56,47,26,99,55]\n",
    "def max_2nd(l):\n",
    "    max1 = max(l)\n",
    "    l.remove(max1)\n",
    "    max2 = max(l)\n",
    "    print(max2)\n",
    "    \n",
    "max_2nd(l)\n"
   ]
  },
  {
   "cell_type": "markdown",
   "id": "a6b4ee97-96ef-4e40-8ded-a3fac9fef451",
   "metadata": {},
   "source": [
    "7.Write a python program to Check if List is Palindrome."
   ]
  },
  {
   "cell_type": "code",
   "execution_count": 6,
   "id": "bfb6d401-9a86-4f08-9497-48efd5433b3f",
   "metadata": {},
   "outputs": [
    {
     "name": "stdout",
     "output_type": "stream",
     "text": [
      "list are palindrom\n"
     ]
    }
   ],
   "source": [
    "value = [1,2,3,2,1]\n",
    "def pali(value):\n",
    "    if value == value[::-1]:\n",
    "        print(\"list are palindrom\")\n",
    "    else:\n",
    "        print(\"list are not palindrom\")\n",
    "pali(value) "
   ]
  },
  {
   "cell_type": "markdown",
   "id": "0a08581c-2245-4a05-b3c2-70fac4f434f8",
   "metadata": {},
   "source": [
    "8.Write a python program to Return all elements that appear more than once in a list."
   ]
  },
  {
   "cell_type": "code",
   "execution_count": 7,
   "id": "884294b6-8306-4f3a-8876-a23a6758c957",
   "metadata": {},
   "outputs": [
    {
     "name": "stdout",
     "output_type": "stream",
     "text": [
      "[5, 69, 14, 78]\n"
     ]
    }
   ],
   "source": [
    "l = [5,69,54,5,26,14,89,14,69,78,33,5,78]\n",
    "def more_1(value):\n",
    "    result = []\n",
    "    for item in value:\n",
    "        if value.count(item) > 1 and item not in result:\n",
    "            result.append(item)\n",
    "    return result\n",
    "result_l = more_1(l)\n",
    "print(result_l)\n"
   ]
  },
  {
   "cell_type": "markdown",
   "id": "cea49366-15b5-422c-ae9f-64da9c1481ff",
   "metadata": {},
   "source": [
    "9.Write a python program to Merge two lists and return a sorted version without duplicates."
   ]
  },
  {
   "cell_type": "code",
   "execution_count": 8,
   "id": "0eef3420-c1f3-4095-9870-c01c3d02e4a7",
   "metadata": {},
   "outputs": [
    {
     "name": "stdout",
     "output_type": "stream",
     "text": [
      "[1, 14, 25, 42, 45, 53, 54, 55, 63, 65, 66, 68, 75, 78, 84, 89]\n"
     ]
    }
   ],
   "source": [
    "l1 = [25,63,45,78,54,25,65,66,1]\n",
    "l2 = [66,55,54,53,14,75,68,84,89,1,42]\n",
    "def merged(l1,l2):\n",
    "    merge = l1 + l2\n",
    "    new = []\n",
    "    for item in merge:\n",
    "        if item not in new:\n",
    "            new.append(item)\n",
    "\n",
    "    return sorted(new)\n",
    "result = merged(l1,l2)\n",
    "print(result)"
   ]
  },
  {
   "cell_type": "markdown",
   "id": "876ada8d-7241-42f4-9cd9-63224b5f85dd",
   "metadata": {},
   "source": [
    "10.Write a python program to Return a list of squares of all even numbers from the original list."
   ]
  },
  {
   "cell_type": "code",
   "execution_count": 9,
   "id": "9ced1654-7989-44a8-b78e-8a1eedd3f435",
   "metadata": {},
   "outputs": [
    {
     "name": "stdout",
     "output_type": "stream",
     "text": [
      "[4, 36, 16, 64]\n"
     ]
    }
   ],
   "source": [
    "t = [2,6,5,3,4,8,9]\n",
    "def even_sq(value):\n",
    "    original = []\n",
    "    for item in value:\n",
    "        if item % 2 == 0:\n",
    "            item = item ** 2\n",
    "            original.append(item)\n",
    "    return original\n",
    "result = even_sq(t)\n",
    "print(result)"
   ]
  },
  {
   "cell_type": "markdown",
   "id": "4aa212d6-e45e-430f-9fde-a3c086efc89a",
   "metadata": {},
   "source": [
    "## Tuple Questions :"
   ]
  },
  {
   "cell_type": "markdown",
   "id": "7b746be7-93eb-4ed8-934f-ead2f8cd0b8b",
   "metadata": {},
   "source": [
    "1.Write a function to return the first and last elements of a tuple."
   ]
  },
  {
   "cell_type": "code",
   "execution_count": 10,
   "id": "5aa8c73e-f014-4f19-82a6-dea30f5aa151",
   "metadata": {},
   "outputs": [
    {
     "name": "stdout",
     "output_type": "stream",
     "text": [
      "(2, 69)\n"
     ]
    }
   ],
   "source": [
    "a = (2,56,47,2,5,69)\n",
    "def first_last(elements):\n",
    "    return elements[0], elements[-1]\n",
    "\n",
    "result = first_last(a)\n",
    "print(result)"
   ]
  },
  {
   "cell_type": "markdown",
   "id": "fd303360-f9fb-419d-88f3-6a245bb7396d",
   "metadata": {},
   "source": [
    "2.Write a function that returns True if an element exists in a tuple."
   ]
  },
  {
   "cell_type": "code",
   "execution_count": 11,
   "id": "864c6dc5-4cb0-4882-a869-d80656a5bdf0",
   "metadata": {},
   "outputs": [
    {
     "name": "stdin",
     "output_type": "stream",
     "text": [
      "enter element 2\n"
     ]
    },
    {
     "name": "stdout",
     "output_type": "stream",
     "text": [
      "True\n"
     ]
    }
   ],
   "source": [
    "a = (2,56,47,2,5,69)\n",
    "def exists(x):\n",
    "    for item in x:\n",
    "        if element in x:\n",
    "            return True\n",
    "        else:\n",
    "            return False\n",
    "element = int(input(\"enter element\"))\n",
    "result = exists(a)\n",
    "print(result)\n"
   ]
  },
  {
   "cell_type": "markdown",
   "id": "70a52ce4-82b9-4536-b6e7-9508963c97e0",
   "metadata": {},
   "source": [
    "3. Write a python program to Find the index of the first occurrence of an element in a tuple."
   ]
  },
  {
   "cell_type": "code",
   "execution_count": 13,
   "id": "32d72201-94ee-4919-9a09-85e5440a78f5",
   "metadata": {},
   "outputs": [
    {
     "name": "stdin",
     "output_type": "stream",
     "text": [
      "enter element 12\n"
     ]
    },
    {
     "data": {
      "text/plain": [
       "0"
      ]
     },
     "execution_count": 13,
     "metadata": {},
     "output_type": "execute_result"
    }
   ],
   "source": [
    "tuple = (12,20,30,23,45,50,60)\n",
    "element = int(input(\"enter element\"))\n",
    "def first_occurrence(values):\n",
    "    if element in values:\n",
    "        result = values.index(element)\n",
    "\n",
    "    return result\n",
    "first_occurrence(tuple)"
   ]
  },
  {
   "cell_type": "markdown",
   "id": "92a0706c-e7ce-47dc-abfb-807a82cc6d5c",
   "metadata": {},
   "source": [
    "4. Write a python program to Join all items in a tuple into a single string (assume tuple of strings)."
   ]
  },
  {
   "cell_type": "code",
   "execution_count": 14,
   "id": "528f6311-e32b-46de-87a4-921ead4a2f3b",
   "metadata": {},
   "outputs": [
    {
     "data": {
      "text/plain": [
       "'JayeshRameshSureshDineshYogesh'"
      ]
     },
     "execution_count": 14,
     "metadata": {},
     "output_type": "execute_result"
    }
   ],
   "source": [
    "names = (\"Jayesh\",\"Ramesh\",\"Suresh\",\"Dinesh\",\"Yogesh\")\n",
    "def join_all(names):\n",
    "    string = ''\n",
    "    for item in names:\n",
    "        string += item\n",
    "\n",
    "    return string\n",
    "\n",
    "join_all(names)\n",
    "    "
   ]
  },
  {
   "cell_type": "markdown",
   "id": "992db094-f8df-4c5e-a344-81afb3b5cf12",
   "metadata": {},
   "source": [
    "5. Write a python program to Concatenate two tuples and return the result."
   ]
  },
  {
   "cell_type": "code",
   "execution_count": 15,
   "id": "bb02e773-d2ed-4092-adca-bc24c3bd5e2e",
   "metadata": {},
   "outputs": [
    {
     "name": "stdout",
     "output_type": "stream",
     "text": [
      "(52, 63, 45, 78, 25, 93, 65, 6, 78, 22, 48, 33, 14, 88)\n"
     ]
    }
   ],
   "source": [
    "t1 = (52,63,45,78,25,93)\n",
    "t2 = (65,6,78,22,48,33,14,88)\n",
    "def concatenate(t1,t2):\n",
    "    t3 = t1 + t2\n",
    "    return t3\n",
    "result = concatenate(t1,t2)\n",
    "print(result)"
   ]
  },
  {
   "cell_type": "markdown",
   "id": "3bde4e3c-8b94-4fdd-bc7e-72898e05c847",
   "metadata": {},
   "source": [
    "6. Write a python program to Return a tuple of common elements from two input tuples."
   ]
  },
  {
   "cell_type": "code",
   "execution_count": 1,
   "id": "559db0e1-82c8-401a-bc76-401ff5ef0298",
   "metadata": {},
   "outputs": [
    {
     "name": "stdout",
     "output_type": "stream",
     "text": [
      "(63, 78, 22, 88)\n"
     ]
    }
   ],
   "source": [
    "t1 = (52,63,45,78,25,93,22,88)\n",
    "t2 = (65,6,78,22,48,33,14,88,63)\n",
    "\n",
    "def common(t1,t2):\n",
    "    t3 = []\n",
    "    for item in t1:\n",
    "        if item in t2 and item not in t3:\n",
    "            t3.append(item)\n",
    "    \n",
    "    return tuple(t3)\n",
    "    \n",
    "result = common(t1,t2)  \n",
    "print(result)"
   ]
  },
  {
   "cell_type": "markdown",
   "id": "1f0eaec0-3bc0-4220-bbdb-5dd32ceb3d3a",
   "metadata": {},
   "source": [
    "7. Write a python program to Sort a tuple of integers in ascending order and return a new tuple."
   ]
  },
  {
   "cell_type": "code",
   "execution_count": 2,
   "id": "b6a2141b-4c0b-4e30-b88f-89b21b2993bf",
   "metadata": {},
   "outputs": [
    {
     "name": "stdout",
     "output_type": "stream",
     "text": [
      "(22, 25, 45, 52, 63, 78, 88, 93)\n"
     ]
    }
   ],
   "source": [
    "values = (52,63,45,78,25,93,22,88)\n",
    "def new_tuple(values):\n",
    "    new = []\n",
    "    for item in values:\n",
    "        new.append(item)\n",
    "    \n",
    "    return tuple(sorted(new))\n",
    "\n",
    "result = new_tuple(values)\n",
    "print(result)"
   ]
  },
  {
   "cell_type": "markdown",
   "id": "80398fca-2f8a-4f56-bdfe-5117981c5900",
   "metadata": {},
   "source": [
    "8. Write a python program to Given a tuple like (1, 2, (3, 4, 5), 6), return the number 5."
   ]
  },
  {
   "cell_type": "code",
   "execution_count": 4,
   "id": "dee9d5ee-0d57-4f24-a903-d12da580e1aa",
   "metadata": {},
   "outputs": [
    {
     "name": "stdout",
     "output_type": "stream",
     "text": [
      "5\n"
     ]
    }
   ],
   "source": [
    "a = (1, 2, (3, 4, 5), 6)\n",
    "def tuple_in5(a):\n",
    "\n",
    "    result = a[2][2]\n",
    "    return result\n",
    "\n",
    "result = tuple_in5(a)\n",
    "print(result)"
   ]
  },
  {
   "cell_type": "markdown",
   "id": "e96a53c7-12c5-461e-a5ba-f359afa372f2",
   "metadata": {},
   "source": [
    "9. Write a python program to Flatten ((1, 2), (3, 4), (5, 6)) into (1, 2, 3, 4, 5, 6)."
   ]
  },
  {
   "cell_type": "code",
   "execution_count": 5,
   "id": "aecf9d36-1da9-4493-831c-ccc42df21bd4",
   "metadata": {},
   "outputs": [
    {
     "name": "stdout",
     "output_type": "stream",
     "text": [
      "(1, 2, 3, 4, 5, 6)\n"
     ]
    }
   ],
   "source": [
    "tuple1 = ((1, 2), (3, 4), (5, 6))\n",
    "def flatten(x):\n",
    "    tuple2 = []\n",
    "    for value in x:\n",
    "        for item in value:\n",
    "            tuple2.append(item)\n",
    "    return tuple(tuple2)\n",
    "result = flatten(tuple1)\n",
    "print(result)"
   ]
  },
  {
   "cell_type": "markdown",
   "id": "5ad1decf-4f75-44ca-b5a4-6b37f058ae97",
   "metadata": {},
   "source": [
    "10. Write a python program to Remove duplicate elements from a tuple."
   ]
  },
  {
   "cell_type": "code",
   "execution_count": 6,
   "id": "31b055ab-2a46-4784-a9fd-2fbe601c0d60",
   "metadata": {},
   "outputs": [
    {
     "data": {
      "text/plain": [
       "(2, 5, 4, 7, 8, 6, 1, 3)"
      ]
     },
     "execution_count": 6,
     "metadata": {},
     "output_type": "execute_result"
    }
   ],
   "source": [
    "s = (2,5,4,7,8,6,2,1,4,5,2,3,2,2,8,5,4,6,3,4,8)\n",
    "def remove_duplicates(s):\n",
    "    result = []\n",
    "    for value in s:\n",
    "        if value not in result:\n",
    "            result.append(value)\n",
    "\n",
    "    return tuple(result)\n",
    "      \n",
    "            \n",
    "remove_duplicates(s)"
   ]
  },
  {
   "cell_type": "code",
   "execution_count": null,
   "id": "54cfcba8-3021-46a0-8266-2fcb636f10eb",
   "metadata": {},
   "outputs": [],
   "source": []
  }
 ],
 "metadata": {
  "kernelspec": {
   "display_name": "Python [conda env:base] *",
   "language": "python",
   "name": "conda-base-py"
  },
  "language_info": {
   "codemirror_mode": {
    "name": "ipython",
    "version": 3
   },
   "file_extension": ".py",
   "mimetype": "text/x-python",
   "name": "python",
   "nbconvert_exporter": "python",
   "pygments_lexer": "ipython3",
   "version": "3.13.5"
  }
 },
 "nbformat": 4,
 "nbformat_minor": 5
}
