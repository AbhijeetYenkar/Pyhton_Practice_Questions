{
 "cells": [
  {
   "cell_type": "code",
   "execution_count": 38,
   "id": "487887e6-d091-49fa-b411-8ef49e8f57a4",
   "metadata": {},
   "outputs": [
    {
     "name": "stdout",
     "output_type": "stream",
     "text": [
      "[True, False, True, True, True, False]\n",
      "[False, True, False, False, False, True]\n",
      "[0, 1, 0, 0, 0, 1]\n",
      "2\n"
     ]
    }
   ],
   "source": [
    "# Q . 1\n",
    "from functools import reduce\n",
    "a = [23,-122,123,400,532,-322]\n",
    "remo = list(map(lambda x : x  > 0 , a))\n",
    "print(remo)\n",
    "multi_100 = list(map(lambda x :  x % 100 == 0, remo))\n",
    "print(multi_100)\n",
    "square = list(map(lambda x : x ** 2 , multi_100 ))\n",
    "print(square)\n",
    "sum = reduce(lambda x,y : x + y , square)\n",
    "print(sum)\n"
   ]
  },
  {
   "cell_type": "code",
   "execution_count": 10,
   "id": "3a7f6bdc-8ea3-402b-9cdd-ec5aecf8e20d",
   "metadata": {},
   "outputs": [
    {
     "name": "stdout",
     "output_type": "stream",
     "text": [
      "{'managing', 'handling'}\n"
     ]
    },
    {
     "ename": "AttributeError",
     "evalue": "'set' object has no attribute 'symentric_differance'",
     "output_type": "error",
     "traceback": [
      "\u001b[1;31m---------------------------------------------------------------------------\u001b[0m",
      "\u001b[1;31mAttributeError\u001b[0m                            Traceback (most recent call last)",
      "Cell \u001b[1;32mIn[10], line 6\u001b[0m\n\u001b[0;32m      4\u001b[0m common_s \u001b[38;5;241m=\u001b[39m c1\u001b[38;5;241m.\u001b[39mintersection(c2)\n\u001b[0;32m      5\u001b[0m \u001b[38;5;28mprint\u001b[39m(common_s)\n\u001b[1;32m----> 6\u001b[0m unique \u001b[38;5;241m=\u001b[39m c2\u001b[38;5;241m.\u001b[39msymentric_differance(c1)\n\u001b[0;32m      7\u001b[0m \u001b[38;5;28;01mfor\u001b[39;00m s \u001b[38;5;129;01min\u001b[39;00m unique:\n\u001b[0;32m      8\u001b[0m     \u001b[38;5;28mprint\u001b[39m(s\u001b[38;5;241m.\u001b[39mlower())\n",
      "\u001b[1;31mAttributeError\u001b[0m: 'set' object has no attribute 'symentric_differance'"
     ]
    }
   ],
   "source": [
    "# Q.2\n",
    "c1 = {\"managing\",\"handling\",\"comparing\",\"presenting\"}\n",
    "c2 = {\"production\",\"handling\",\"exporting\",\"managing\"}\n",
    "common_s = c1.intersection(c2)\n",
    "print(common_s)\n",
    "unique = c2.unique(c1)\n",
    "for s in unique:\n",
    "    print(s.lower())\n",
    "    "
   ]
  },
  {
   "cell_type": "code",
   "execution_count": 14,
   "id": "466fc0bd-fe60-4983-8e1a-eac780f458b8",
   "metadata": {},
   "outputs": [
    {
     "name": "stdout",
     "output_type": "stream",
     "text": [
      "[2, 7, 5]\n",
      "[4, 49, 25]\n",
      "4900\n"
     ]
    }
   ],
   "source": [
    "# Q .7\n",
    "from functools import reduce\n",
    "lst = [2,7,8.2,\"abc\",None,5]\n",
    "remo = list(filter(lambda x : str(x).isnumeric(),lst))\n",
    "print(remo)\n",
    "square = list(map(lambda x : x ** 2 , remo))\n",
    "print(square)\n",
    "prod = reduce(lambda x,y : x * y , square)\n",
    "print(prod)"
   ]
  },
  {
   "cell_type": "code",
   "execution_count": 16,
   "id": "9a1429e6-7639-4886-8594-863294543c59",
   "metadata": {},
   "outputs": [
    {
     "name": "stdout",
     "output_type": "stream",
     "text": [
      "[1, 8, 27, 64, 125, 216]\n",
      "[125]\n",
      "125\n"
     ]
    }
   ],
   "source": [
    "# Q . 9\n",
    "lst = [1,2,3,4,5,6]\n",
    "cube = list(map(lambda x : x ** 3,lst))\n",
    "print(cube)\n",
    "greater = list(filter(lambda x : x > 50 and x % 5 == 0, cube))\n",
    "print(greater)\n",
    "t = sum(greater)\n",
    "print(t)"
   ]
  },
  {
   "cell_type": "code",
   "execution_count": 20,
   "id": "42f9b5c0-2da0-41b3-94e3-5fd10dc1beb2",
   "metadata": {},
   "outputs": [
    {
     "name": "stdout",
     "output_type": "stream",
     "text": [
      "[5, 3, 2]\n"
     ]
    }
   ],
   "source": [
    "# Q.13\n",
    "lst = [1,2,3,4,5,1,2,3]\n",
    "lst1 = set(lst)\n",
    "def prime_n(x):\n",
    "    if x < 2 :\n",
    "        return False\n",
    "\n",
    "    for i in range(2,int(x ** 0.5) + 1 ):\n",
    "        if x % i == 0:\n",
    "            return False\n",
    "\n",
    "\n",
    "    return x\n",
    "\n",
    "result = list(filter(prime_n,lst1))\n",
    "s = sorted(result , reverse = True)\n",
    "print(s)\n"
   ]
  },
  {
   "cell_type": "code",
   "execution_count": 21,
   "id": "d0ccab98-7843-4ae8-9939-093e2e61be95",
   "metadata": {},
   "outputs": [
    {
     "ename": "KeyError",
     "evalue": "50",
     "output_type": "error",
     "traceback": [
      "\u001b[1;31m---------------------------------------------------------------------------\u001b[0m",
      "\u001b[1;31mKeyError\u001b[0m                                  Traceback (most recent call last)",
      "Cell \u001b[1;32mIn[21], line 5\u001b[0m\n\u001b[0;32m      3\u001b[0m count \u001b[38;5;241m=\u001b[39m \u001b[38;5;241m0\u001b[39m\n\u001b[0;32m      4\u001b[0m \u001b[38;5;28;01mfor\u001b[39;00m k,v \u001b[38;5;129;01min\u001b[39;00m d\u001b[38;5;241m.\u001b[39mitems():\n\u001b[1;32m----> 5\u001b[0m     \u001b[38;5;28;01mif\u001b[39;00m d[v] \u001b[38;5;241m<\u001b[39m d[v] \u001b[38;5;241m+\u001b[39m \u001b[38;5;241m1\u001b[39m :\n\u001b[0;32m      6\u001b[0m         count \u001b[38;5;241m+\u001b[39m\u001b[38;5;241m=\u001b[39m \u001b[38;5;241m1\u001b[39m\n\u001b[0;32m      7\u001b[0m         \u001b[38;5;28mprint\u001b[39m(k,v)\n",
      "\u001b[1;31mKeyError\u001b[0m: 50"
     ]
    }
   ],
   "source": [
    "# Q . 10\n",
    "d = {\"sugae\":50,\"soap\":10,\"surf\":15,\"coconot\":30,\"oil\":17}\n",
    "count = 0\n",
    "for k,v in d.items():\n",
    "    if d[v] < d[v] + 1 :\n",
    "        count += 1\n",
    "        print(k,v)\n",
    "        if count == 3:\n",
    "            break\n",
    "            "
   ]
  },
  {
   "cell_type": "code",
   "execution_count": 22,
   "id": "efe2ff22-cf9e-4316-ad05-20582cdba263",
   "metadata": {},
   "outputs": [
    {
     "name": "stdout",
     "output_type": "stream",
     "text": [
      "aman 32400\n",
      "raj 56400\n",
      "suresh 41600\n"
     ]
    }
   ],
   "source": [
    "# Q .16\n",
    "d = {\"aman\":27000,\"raj\":47000,\"suresh\":51000}\n",
    "for k,v in d.items():\n",
    "    if v < 50000 :\n",
    "        p = v // 100 * 20\n",
    "        print(k,v + p)\n",
    "\n",
    "    if v > 50000 :\n",
    "        p1 = v // 100 * 10\n",
    "        print(k,v - p)\n",
    "\n"
   ]
  },
  {
   "cell_type": "code",
   "execution_count": 24,
   "id": "47e0377d-ef0c-4091-bdd0-850d83ba63d3",
   "metadata": {},
   "outputs": [
    {
     "name": "stdout",
     "output_type": "stream",
     "text": [
      "{'126b', '127b', '123a', '127a'}\n"
     ]
    }
   ],
   "source": [
    "# Q .14\n",
    "s1 = {\"123a\",\"124a\",\"125a\",\"126b\"}\n",
    "s2 = {\"125a\",\"127b\",\"124a\",\"127a\"}\n",
    "o = s1.symmetric_difference(s2)\n",
    "print(o)"
   ]
  },
  {
   "cell_type": "code",
   "execution_count": 28,
   "id": "55b4022e-aecf-4fb0-9ef9-45697aa8fca1",
   "metadata": {},
   "outputs": [
    {
     "name": "stdout",
     "output_type": "stream",
     "text": [
      "['Bob', 'level']\n"
     ]
    }
   ],
   "source": [
    "# Q .15\n",
    "lst = [\"Aman\",\"Bob\",\"level\",\"Raj\"]\n",
    "lst1 = []\n",
    "for w in lst:\n",
    "    if w.lower() == w[::-1].lower():\n",
    "        lst1.append(w)\n",
    "\n",
    "print(lst1)"
   ]
  },
  {
   "cell_type": "code",
   "execution_count": 31,
   "id": "b415badc-70bb-4b94-8625-3fd60f55d326",
   "metadata": {},
   "outputs": [
    {
     "name": "stdout",
     "output_type": "stream",
     "text": [
      "[2, 4, 6]\n",
      "[4, 16, 36]\n"
     ]
    }
   ],
   "source": [
    "# Q.17\n",
    "lst = [\"apple\",2,4,6,\"cherry\"]\n",
    "num = list(filter(lambda x : str(x).isnumeric() , lst))\n",
    "print(num)\n",
    "square = list(map(lambda x : x ** 2 , num))\n",
    "print(square)\n"
   ]
  },
  {
   "cell_type": "code",
   "execution_count": 33,
   "id": "422e1a2f-0dfb-4b2e-83e2-b966f0eeeff2",
   "metadata": {},
   "outputs": [
    {
     "name": "stdout",
     "output_type": "stream",
     "text": [
      "{'t': 2, 'h': 2, 'e': 2, ' ': 11, 'd': 3, 'o': 4, 'g': 3, 'i': 3, 's': 1, 'r': 3, 'u': 1, 'n': 8, 'a': 5, 'b': 1, 'k': 1, 'm': 1}\n"
     ]
    },
    {
     "ename": "AttributeError",
     "evalue": "'list' object has no attribute 'items'",
     "output_type": "error",
     "traceback": [
      "\u001b[1;31m---------------------------------------------------------------------------\u001b[0m",
      "\u001b[1;31mAttributeError\u001b[0m                            Traceback (most recent call last)",
      "Cell \u001b[1;32mIn[33], line 7\u001b[0m\n\u001b[0;32m      5\u001b[0m d \u001b[38;5;241m=\u001b[39m \u001b[38;5;28msorted\u001b[39m(c,reverse \u001b[38;5;241m=\u001b[39m \u001b[38;5;28;01mTrue\u001b[39;00m)\n\u001b[0;32m      6\u001b[0m count \u001b[38;5;241m=\u001b[39m \u001b[38;5;241m0\u001b[39m\n\u001b[1;32m----> 7\u001b[0m \u001b[38;5;28;01mfor\u001b[39;00m k,v \u001b[38;5;129;01min\u001b[39;00m d\u001b[38;5;241m.\u001b[39mitems():\n\u001b[0;32m      8\u001b[0m     count \u001b[38;5;241m+\u001b[39m\u001b[38;5;241m=\u001b[39m \u001b[38;5;241m1\u001b[39m\n\u001b[0;32m      9\u001b[0m     \u001b[38;5;28mprint\u001b[39m(k,v)\n",
      "\u001b[1;31mAttributeError\u001b[0m: 'list' object has no attribute 'items'"
     ]
    }
   ],
   "source": [
    "# Q . 20\n",
    "p = \"the dog is running on the road and barking on a man\"\n",
    "c = {i : p.count(i) for i in p}\n",
    "print(c)\n",
    "d = sorted(c,reverse = True)\n",
    "count = 0\n",
    "for k,v in d.items():\n",
    "    count += 1\n",
    "    print(k,v)\n",
    "    if count == 5 :\n",
    "        break"
   ]
  },
  {
   "cell_type": "code",
   "execution_count": 36,
   "id": "8d64b24a-232f-4b14-b483-4b618e3f7985",
   "metadata": {},
   "outputs": [
    {
     "name": "stdout",
     "output_type": "stream",
     "text": [
      "{'hello': 5, 'apple': 5, 'python': 6, 'welcome': 7}\n"
     ]
    },
    {
     "ename": "TypeError",
     "evalue": "'int' object is not iterable",
     "output_type": "error",
     "traceback": [
      "\u001b[1;31m---------------------------------------------------------------------------\u001b[0m",
      "\u001b[1;31mTypeError\u001b[0m                                 Traceback (most recent call last)",
      "Cell \u001b[1;32mIn[36], line 6\u001b[0m\n\u001b[0;32m      4\u001b[0m \u001b[38;5;28mprint\u001b[39m(d)\n\u001b[0;32m      5\u001b[0m \u001b[38;5;28;01mfor\u001b[39;00m k,v \u001b[38;5;129;01min\u001b[39;00m d\u001b[38;5;241m.\u001b[39mitems():\n\u001b[1;32m----> 6\u001b[0m     \u001b[38;5;28mprint\u001b[39m(\u001b[38;5;28msorted\u001b[39m(v, reverse \u001b[38;5;241m=\u001b[39m \u001b[38;5;28;01mTrue\u001b[39;00m))\n",
      "\u001b[1;31mTypeError\u001b[0m: 'int' object is not iterable"
     ]
    }
   ],
   "source": [
    "# Q .11\n",
    "t = (\"hello\",\"apple\",\"python\",\"welcome\")\n",
    "d = {i:len(i) for i in t}\n",
    "print(d)\n",
    "for k,v in d.items():\n",
    "    print(sorted(v, reverse = True))\n",
    "    "
   ]
  },
  {
   "cell_type": "code",
   "execution_count": 40,
   "id": "f24f5ee4-bd1f-4087-86c4-94f8fab97cd8",
   "metadata": {},
   "outputs": [
    {
     "name": "stdout",
     "output_type": "stream",
     "text": [
      "12\n",
      "fact t = 479001600\n",
      "fact_r = 2\n",
      "fact t r = 3628800\n",
      "869100503040000\n"
     ]
    }
   ],
   "source": [
    "# Q .4\n",
    "lst1 = [\"a\",\"b\",\"c\"]\n",
    "lst2 = [\"f\",\"g\",\"e\",\"s\"]\n",
    "l1 = set(lst1)\n",
    "l2 = set(lst2)\n",
    "total = len(l1) * len(l2)\n",
    "print(total)\n",
    "pair = 2\n",
    "fact_t = 1\n",
    "for i in range(1,total + 1):\n",
    "    fact_t *= i\n",
    "print(\"fact t =\",fact_t)\n",
    "\n",
    "fact_r = 1\n",
    "for j in range(1,pair + 1):\n",
    "    fact_r *= j\n",
    "print(\"fact_r =\",fact_r)\n",
    "\n",
    "t_r = total - pair\n",
    "fact_t_r = 1\n",
    "for i in range(1,t_r + 1):\n",
    "    fact_t_r *= i\n",
    "\n",
    "print(\"fact t r =\",fact_t_r)\n",
    "\n",
    "com = fact_t // fact_r * fact_t_r\n",
    "print(com)"
   ]
  },
  {
   "cell_type": "code",
   "execution_count": null,
   "id": "e940f4f6-3a49-4f01-a0d2-497ba9ba8c3d",
   "metadata": {},
   "outputs": [],
   "source": []
  }
 ],
 "metadata": {
  "kernelspec": {
   "display_name": "Python [conda env:base] *",
   "language": "python",
   "name": "conda-base-py"
  },
  "language_info": {
   "codemirror_mode": {
    "name": "ipython",
    "version": 3
   },
   "file_extension": ".py",
   "mimetype": "text/x-python",
   "name": "python",
   "nbconvert_exporter": "python",
   "pygments_lexer": "ipython3",
   "version": "3.13.5"
  }
 },
 "nbformat": 4,
 "nbformat_minor": 5
}
