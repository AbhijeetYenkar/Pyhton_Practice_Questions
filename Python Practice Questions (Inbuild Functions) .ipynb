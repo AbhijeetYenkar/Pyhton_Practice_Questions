{
 "cells": [
  {
   "cell_type": "markdown",
   "id": "62dc1595-09eb-4f68-978d-61cc72f1802f",
   "metadata": {},
   "source": [
    "Q.1.Write a python program to Group a list of strings into anagram groups.\n",
    "Example: ",
    "Input: [\"eat\", \"tea\", \"tan\", \"ate\", \"nat\", \"bat\"] ",
    "Output: [['eat','tea','ate'], ['tan','nat'], ['bat']]"
   ]
  },
  {
   "cell_type": "code",
   "execution_count": 5,
   "id": "0cd4b825-a9ce-4017-adf0-e54e39f565ba",
   "metadata": {},
   "outputs": [
    {
     "name": "stdout",
     "output_type": "stream",
     "text": [
      "[['eat', 'tea', 'ate'], ['tan', 'nat'], ['bat']]\n"
     ]
    }
   ],
   "source": [
    "lst = [\"eat\", \"tea\", \"tan\", \"ate\", \"nat\", \"bat\"]\n",
    "\n",
    "def angram_groups(lst):\n",
    "    grp = [] \n",
    "    \n",
    "    for word in lst:\n",
    "        for word2 in grp:\n",
    "            if sorted(word) == sorted(word2[0]):  \n",
    "                word2.append(word) \n",
    "                break  \n",
    "        else:\n",
    "            grp.append([word])\n",
    "    return grp  \n",
    "    \n",
    "result = angram_groups(lst)\n",
    "print(result)"
   ]
  },
  {
   "cell_type": "markdown",
   "id": "a356e519-1a2b-4f4b-b413-6b6cfc9e17d5",
   "metadata": {},
   "source": [
    "Q.2.Write a Python function that returns all unique 3-character permutations of a given string (without duplicates)."
   ]
  },
  {
   "cell_type": "code",
   "execution_count": 7,
   "id": "48cb4f3b-d345-4918-9054-0d0a2044299d",
   "metadata": {},
   "outputs": [
    {
     "name": "stdin",
     "output_type": "stream",
     "text": [
      "enter string = python\n",
      "enter number you want to choose = 3\n"
     ]
    },
    {
     "name": "stdout",
     "output_type": "stream",
     "text": [
      "we made 3 character word form python in 120 ways \n"
     ]
    }
   ],
   "source": [
    "def permutations(n,r):\n",
    "    # n! / (n - r)!\n",
    "    fact = 1\n",
    "    l = len(set(n)) \n",
    "    for i in range(l,1,-1):\n",
    "        fact *= i\n",
    "        #print(fact)\n",
    "\n",
    "\n",
    "    choose = (l - r) \n",
    "    fact_r = 1\n",
    "    for j in range(choose,1,-1): \n",
    "        fact_r *= j\n",
    " \n",
    "\n",
    "    per = fact // fact_r \n",
    "    print(f\"we made {r} character word form {n} in {per} ways \")\n",
    "\n",
    "    \n",
    "n = input(\"enter string =\")\n",
    "r = int(input(\"enter number you want to choose =\"))\n",
    "permutations(n,r)\n",
    "                "
   ]
  },
  {
   "cell_type": "markdown",
   "id": "5e294661-026e-486e-bf81-263062f05f57",
   "metadata": {},
   "source": [
    "Q.3.Write a Python function combination(n, r) that calculates and returns the number of combinations (also known as \"n choose r\") using the formula:"
   ]
  },
  {
   "cell_type": "code",
   "execution_count": 9,
   "id": "5330ff4b-1cd4-4d17-b449-a7041d0ae9d4",
   "metadata": {},
   "outputs": [
    {
     "name": "stdin",
     "output_type": "stream",
     "text": [
      "enter value of n =  6\n",
      "enter value of r = 3\n"
     ]
    },
    {
     "name": "stdout",
     "output_type": "stream",
     "text": [
      "combination of n and r = 20\n"
     ]
    }
   ],
   "source": [
    "def combination(n, r):\n",
    "\n",
    "    # Calculate n!\n",
    "    fact_n = 1\n",
    "    for i in range(1, n + 1):\n",
    "        fact_n *= i\n",
    "\n",
    "    # Calculate r!\n",
    "    fact_r = 1\n",
    "    for i in range(1, r + 1):\n",
    "        fact_r *= i\n",
    "\n",
    "    # Calculate (n - r)!\n",
    "    fact_nr = 1\n",
    "    for i in range(1, (n - r) + 1):\n",
    "        fact_nr *= i\n",
    "\n",
    "    # Combination formula: C(n, r) = n! / (r! * (n - r)!)\n",
    "    comb = fact_n // (fact_r * fact_nr)\n",
    "    return comb\n",
    "\n",
    "\n",
    "\n",
    "n = int(input(\"enter value of n = \"))\n",
    "r = int(input(\"enter value of r =\"))\n",
    "\n",
    "result = combination(n, r)\n",
    "print(\"combination of n and r =\", result)\n"
   ]
  },
  {
   "cell_type": "markdown",
   "id": "196b0fb2-b271-41e2-acc9-7364f5d8059d",
   "metadata": {},
   "source": [
    "Q.4.Write a python program to Return the index of the first non-repeating character."
   ]
  },
  {
   "cell_type": "code",
   "execution_count": 10,
   "id": "1e18d45a-162f-4b05-b0e4-592205ed21da",
   "metadata": {},
   "outputs": [
    {
     "name": "stdout",
     "output_type": "stream",
     "text": [
      "['a', 'a', 'b', 'b', 'h', 'h', 'k', 'l', 'n', 'n']\n",
      "(6, 'k')\n"
     ]
    }
   ],
   "source": [
    "def non_reapeat(string):\n",
    "\n",
    "    string1 = sorted(string)\n",
    "    print(string1)\n",
    "    for item in string1:\n",
    "        if string1.count(item) == 1 :\n",
    "            return string1.index(item),item\n",
    "            break\n",
    "\n",
    "result1 = non_reapeat(\"aabbhhnnkl\")\n",
    "print(result1)"
   ]
  },
  {
   "cell_type": "markdown",
   "id": "3fa1c660-11fe-4f3b-bc46-24302044fefe",
   "metadata": {},
   "source": [
    "Q.5.Write a python program to Check if Two Strings Are Isomorphic\n",
    "Each character in s can be replaced to get t — check if mapping is consistent."
   ]
  },
  {
   "cell_type": "code",
   "execution_count": 12,
   "id": "d1972fde-aaff-4f6e-909d-393044959c9e",
   "metadata": {},
   "outputs": [
    {
     "name": "stdout",
     "output_type": "stream",
     "text": [
      "False\n"
     ]
    }
   ],
   "source": [
    "def isomorephic(string1, string2):\n",
    "\n",
    "    \n",
    "    if len(string1) != len(string2):\n",
    "        return False\n",
    "    map1 = {}  \n",
    "    map2 = {}  \n",
    "    for i in range(len(string1)):\n",
    "        c1 = string1[i]  \n",
    "        c2 = string2[i]  \n",
    "\n",
    "        if c1 in map1:\n",
    "            if map1[c1] != c2:\n",
    "                return False\n",
    "        else:\n",
    "            map1[c1] = c2\n",
    "\n",
    "        if c2 in map2:\n",
    "            if map2[c2] != c1:\n",
    "                return False\n",
    "        else:\n",
    "            map2[c2] = c1\n",
    "\n",
    "    return \"isomorphic\" \n",
    "\n",
    "\n",
    "result = isomorephic(\"abc\", \"wrr\")\n",
    "print(result) "
   ]
  },
  {
   "cell_type": "markdown",
   "id": "66d0c71f-d0c1-4339-abb5-301c7dcc6c64",
   "metadata": {},
   "source": [
    "Q.6.Write a python program to Check for Palindrome Permutation\n",
    "Can a string's characters be rearranged to form a palindrome? "
   ]
  },
  {
   "cell_type": "code",
   "execution_count": 16,
   "id": "f5136e52-14be-4419-8982-ef7c0eda8fef",
   "metadata": {},
   "outputs": [
    {
     "name": "stdout",
     "output_type": "stream",
     "text": [
      "palindrome permutation\n"
     ]
    }
   ],
   "source": [
    "def pali_permu(string):\n",
    "    string1 = \"\"   \n",
    "    coount = 0     \n",
    "\n",
    "    for item in string:\n",
    "      \n",
    "        if item not in string1:\n",
    "            count = string.count(item)  \n",
    "\n",
    "           \n",
    "            if count % 2 != 0:\n",
    "                coount += 1            \n",
    "\n",
    "            string1 += item            \n",
    "\n",
    "    if coount <= 1:\n",
    "        return \"palindrome permutation\"   \n",
    "    else:\n",
    "        return \"not palindrome permutation\"    \n",
    "\n",
    "\n",
    "result = pali_permu(\"carrace\")\n",
    "print(result)\n"
   ]
  },
  {
   "cell_type": "markdown",
   "id": "9769b586-f885-43f4-9d07-d9a5ed38bdc4",
   "metadata": {},
   "source": [
    "Q.7.Write a python program to Check If a String is a Rotation of Another\n",
    "\"erbottlewat\" is a rotation of \"waterbottle\" ."
   ]
  },
  {
   "cell_type": "code",
   "execution_count": 19,
   "id": "920b6fdc-0027-47fc-8dea-6cfda05b8277",
   "metadata": {},
   "outputs": [
    {
     "name": "stdout",
     "output_type": "stream",
     "text": [
      "erbottlewaterbottlewat\n",
      "True\n"
     ]
    }
   ],
   "source": [
    "def rotation(str1, str2):\n",
    "\n",
    "    if len(str1) != len(str2):\n",
    "        return False\n",
    "   \n",
    "    temp = str1 + str1\n",
    "    print(temp)  \n",
    "    return str2 in temp\n",
    "\n",
    "\n",
    "print(rotation(\"erbottlewat\", \"waterbottle\"))"
   ]
  },
  {
   "cell_type": "markdown",
   "id": "20406c86-6855-4f36-9103-ddf73d4215ba",
   "metadata": {},
   "source": [
    "Q.8.Write a python program for  two strings s and t where t is s with one extra character, find the added character."
   ]
  },
  {
   "cell_type": "code",
   "execution_count": 28,
   "id": "eab24592-eb80-4e6f-a832-9d30f6762c98",
   "metadata": {},
   "outputs": [
    {
     "name": "stdout",
     "output_type": "stream",
     "text": [
      "extra character : f\n"
     ]
    }
   ],
   "source": [
    "def extra_char(s,t):\n",
    "    result = \"\"\n",
    "\n",
    "    str1 = sorted(s)\n",
    "    str2 = sorted(t)\n",
    "   # print(str1)\n",
    "    #print(str2)\n",
    "    if len(s) < len(t) :\n",
    "        for item1 in str2:\n",
    "            if item1 not in str1:\n",
    "                result += item1\n",
    "    if len(s) > len(t) :\n",
    "        for item2 in str1:\n",
    "            if item2 not in str2:\n",
    "                result += item2\n",
    "\n",
    "    print(f\"extra character : {result}\")\n",
    "\n",
    "    \n",
    "extra_char(\"abcdef\",\"abcde\")"
   ]
  },
  {
   "cell_type": "markdown",
   "id": "9b09a641-123e-4929-bc98-a40566bec91a",
   "metadata": {},
   "source": [
    "Q.9.Given an array of integers nums and an integer target, return indices of the two numbers such that they add up to target.\n",
    "\n",
    "You may assume that each input would have exactly one solution, and you may not use the same element twice.\n",
    "\n",
    "You can return the answer in any order."
   ]
  },
  {
   "cell_type": "code",
   "execution_count": 29,
   "id": "4c2898d1-32d2-410f-a609-5d034186c325",
   "metadata": {},
   "outputs": [
    {
     "name": "stdout",
     "output_type": "stream",
     "text": [
      "[0, 1]\n"
     ]
    }
   ],
   "source": [
    "def Add():\n",
    "    nums = [2,7,11,15]\n",
    "    target = 9\n",
    "    for i in range(len(nums)):\n",
    "        for j in range(i + 1, len(nums)):\n",
    "            if nums[i] + nums[j] == target:\n",
    "                print([i,j])\n",
    "Add()"
   ]
  },
  {
   "cell_type": "markdown",
   "id": "3afe9a0f-f308-4b68-b01c-b80fae2937fe",
   "metadata": {},
   "source": [
    "Q.10. Input: l1 = [2,4,3], l2 = [5,6,4]\n",
    "Output: [7,0,8]\n",
    "Explanation: 342 + 465 = 807"
   ]
  },
  {
   "cell_type": "code",
   "execution_count": 3,
   "id": "6a5df052-9346-4545-ad5c-b9edfc116f0a",
   "metadata": {},
   "outputs": [
    {
     "name": "stdout",
     "output_type": "stream",
     "text": [
      "[8, 9, 9, 9, 0, 0, 0, 1]\n"
     ]
    }
   ],
   "source": [
    "def add_two_lists():\n",
    "    l1 = []  \n",
    "    l2 = [9,9,9,9]\n",
    "    st1 = ''.join(str(i) for i in l1) \n",
    "    st2 = ''.join(str(j) for j in l2)\n",
    "    #print(st1)\n",
    "    #print(st2)\n",
    "     \n",
    "    re1 = st1[::-1]\n",
    "    re2 = st2[::-1]\n",
    "    #print(re1)\n",
    "    #print(re2)\n",
    "    ot = int(re1) + int(re2)\n",
    "    #print(ot)\n",
    "    \n",
    "    result = [int(i) for i in str(ot)]\n",
    "    print(result[::-1])\n",
    "        \n",
    "\n",
    "add_two_lists()"
   ]
  },
  {
   "cell_type": "markdown",
   "id": "fc841814-6c26-411f-91a4-745f42bf7f24",
   "metadata": {},
   "source": [
    "Q.11. Given a string s consisting of words and spaces, return the length of the last word in the string.\n",
    "\n",
    "A word is a maximal substring consisting of non-space characters only."
   ]
  },
  {
   "cell_type": "code",
   "execution_count": 4,
   "id": "2681d0a6-a23e-478f-ac56-763f6d8153f5",
   "metadata": {},
   "outputs": [
    {
     "data": {
      "text/plain": [
       "6"
      ]
     },
     "execution_count": 4,
     "metadata": {},
     "output_type": "execute_result"
    }
   ],
   "source": [
    "def len_last():\n",
    "    string = \"luffy is still joyboy\"\n",
    "    sepret = string.split(\" \")\n",
    "    last = sepret[-1]\n",
    "    return len(last)\n",
    "len_last()"
   ]
  },
  {
   "cell_type": "markdown",
   "id": "6de89583-e179-4dc7-a896-4c37b1cd0880",
   "metadata": {},
   "source": [
    "Q.12. Write a python program to find the product of the numbers .which is greater than the square of 5 .and addition\n",
    "    of numbers which is less than the square of 5 .\n"
   ]
  },
  {
   "cell_type": "code",
   "execution_count": 5,
   "id": "d2073635-06cc-4a5b-8aa4-28cf1b59ee80",
   "metadata": {},
   "outputs": [
    {
     "name": "stdout",
     "output_type": "stream",
     "text": [
      "[28, 33, 66, 100, 88]\n",
      "[16, 19, 21, 18]\n",
      "536659200\n",
      "74\n"
     ]
    }
   ],
   "source": [
    "l = [ 28,33,66,100,16,19,21,18,88] \n",
    "\n",
    "greater = list(filter(lambda x : x > 25, l))\n",
    "print(greater)\n",
    "lower = list(filter(lambda x : x < 25, l))\n",
    "print(lower)\n",
    "\n",
    "from functools import reduce\n",
    "\n",
    "product = reduce(lambda x,y: x * y, greater)\n",
    "print(product)\n",
    "addition = reduce(lambda x, y: x + y, lower)\n",
    "print(addition)"
   ]
  },
  {
   "cell_type": "markdown",
   "id": "832c350a-aace-43ac-972b-d18da3c8b713",
   "metadata": {},
   "source": [
    "Q.13. Square all numbers in a list.\n",
    "\n",
    "Input: [1, 2, 3, 4] → Output: [1, 4, 9, 16]"
   ]
  },
  {
   "cell_type": "code",
   "execution_count": 6,
   "id": "3ebe34de-c587-4ccf-9026-703033f8a385",
   "metadata": {},
   "outputs": [
    {
     "name": "stdout",
     "output_type": "stream",
     "text": [
      "[1, 4, 9, 16]\n"
     ]
    }
   ],
   "source": [
    "lst = [1,2,3,4]\n",
    "def square(x):\n",
    "    return x ** 2\n",
    "\n",
    "result = list(map(square,lst))\n",
    "print(result)"
   ]
  },
  {
   "cell_type": "markdown",
   "id": "930b8e7f-c770-430e-a705-e0434b75712f",
   "metadata": {},
   "source": [
    "Q.14. Convert a list of strings to uppercase.\n",
    "\n",
    "Input: ['apple', 'banana'] → Output: ['APPLE', 'BANANA']"
   ]
  },
  {
   "cell_type": "code",
   "execution_count": 7,
   "id": "41337297-412a-4a1e-9bbd-f2a341e4aaae",
   "metadata": {},
   "outputs": [
    {
     "name": "stdout",
     "output_type": "stream",
     "text": [
      "['APPLE', 'BANANA']\n"
     ]
    }
   ],
   "source": [
    "st = ['apple', 'banana'] \n",
    "def uper(x):\n",
    "    return x.upper()\n",
    "\n",
    "result = list(map(uper,st))\n",
    "print(result)"
   ]
  },
  {
   "cell_type": "markdown",
   "id": "656eac20-179b-4f3c-bc2b-a95ce4913e6d",
   "metadata": {},
   "source": [
    "Q.15. Convert temperatures from Celsius to Fahrenheit.\n",
    "\n",
    "Input: [0, 20, 37] → Output: [32.0, 68.0, 98.6] "
   ]
  },
  {
   "cell_type": "code",
   "execution_count": 8,
   "id": "8d6899d3-ac23-42e7-b790-065b1744b1dc",
   "metadata": {},
   "outputs": [
    {
     "name": "stdout",
     "output_type": "stream",
     "text": [
      "[32.0, 68.0, 98.60000000000001]\n"
     ]
    }
   ],
   "source": [
    "cel = [0,20,37]\n",
    "def cel_to_fah(c):\n",
    "    f = (9/5 * c) + 32\n",
    "    return f\n",
    "    \n",
    "result = list(map(cel_to_fah,cel))\n",
    "print(result)"
   ]
  },
  {
   "cell_type": "markdown",
   "id": "7edcbfec-07ee-4726-a0a1-73e5e87a6a2d",
   "metadata": {},
   "source": [
    "Q.16. Filter even numbers from a list.\n",
    "\n",
    "Input: [1, 2, 3, 4, 5] → Output: [2, 4]"
   ]
  },
  {
   "cell_type": "code",
   "execution_count": 9,
   "id": "44859fb6-565d-45d8-ba12-3e2f8014a2dc",
   "metadata": {},
   "outputs": [
    {
     "name": "stdout",
     "output_type": "stream",
     "text": [
      "[2, 4]\n"
     ]
    }
   ],
   "source": [
    "lst = [1, 2, 3, 4, 5]\n",
    "def even_num(x):\n",
    "    if x % 2 == 0:\n",
    "        return x\n",
    "result = list(filter(even_num,lst))\n",
    "print(result)"
   ]
  },
  {
   "cell_type": "markdown",
   "id": "596b4a9f-01e3-4f5b-80a1-ecb120aba30d",
   "metadata": {},
   "source": [
    "Q.17. Filter all numbers greater than 10.\n",
    "\n",
    "Input: [5, 12, 7, 18, 3] → Output: [12, 18]"
   ]
  },
  {
   "cell_type": "code",
   "execution_count": 10,
   "id": "001b8025-5ed1-4450-8441-cfd70859656b",
   "metadata": {},
   "outputs": [
    {
     "name": "stdout",
     "output_type": "stream",
     "text": [
      "[12, 18]\n"
     ]
    }
   ],
   "source": [
    "lst = [5, 12, 7, 18, 3]\n",
    "def greater_10(x):\n",
    "    if x > 10:\n",
    "        return x\n",
    "result = list(filter(greater_10,lst))\n",
    "print(result)"
   ]
  },
  {
   "cell_type": "markdown",
   "id": "97f7ea58-0e1b-41af-8ba4-7647d7fc2659",
   "metadata": {},
   "source": [
    "Q.18.Filter prime numbers from a list.\n",
    "\n",
    "Input: [2, 3, 4, 5, 6, 7] → Output: [2, 3, 5, 7]"
   ]
  },
  {
   "cell_type": "code",
   "execution_count": 11,
   "id": "695e342d-44e3-4605-ab6a-290265b2e248",
   "metadata": {},
   "outputs": [
    {
     "name": "stdout",
     "output_type": "stream",
     "text": [
      "[2, 3, 5, 7]\n"
     ]
    }
   ],
   "source": [
    "lst = [2, 3, 4, 5, 6, 7] \n",
    "def prime_num(x):\n",
    "    if x < 2:\n",
    "        return False\n",
    "    for i in range(2,int(x ** 0.5)+ 1):\n",
    "        if x % i == 0:\n",
    "            return False\n",
    "    return True\n",
    "result = list(filter(prime_num,lst))\n",
    "print(result)"
   ]
  },
  {
   "cell_type": "markdown",
   "id": "1c08da97-8a74-413b-99ea-cac413d7c6fd",
   "metadata": {},
   "source": [
    "Q.19.Print each element of a list with its index.\n",
    "\n",
    "Input: ['a', 'b', 'c'] → Output: 0 a, 1 b, 2 c"
   ]
  },
  {
   "cell_type": "code",
   "execution_count": 12,
   "id": "1f71b84b-c0c8-4aa0-b92b-5286267ff1b0",
   "metadata": {},
   "outputs": [
    {
     "name": "stdout",
     "output_type": "stream",
     "text": [
      "0 a 1 b 2 c "
     ]
    }
   ],
   "source": [
    "lst = ['a','b','c']\n",
    "for i,v in enumerate(lst,start = 0):\n",
    "    print(i,v,end=\" \")                  "
   ]
  },
  {
   "cell_type": "markdown",
   "id": "621448dd-4b65-416f-baf9-0f27e3734ca8",
   "metadata": {},
   "source": [
    "Q.20.Find all elements at even indices.\n",
    "\n",
    "Input: [10, 20, 30, 40, 50] → Output: [10, 30, 50]"
   ]
  },
  {
   "cell_type": "code",
   "execution_count": 13,
   "id": "6951328d-a7c0-4953-995a-5ce1f2ef081f",
   "metadata": {},
   "outputs": [
    {
     "name": "stdout",
     "output_type": "stream",
     "text": [
      "[10, 30, 50]\n"
     ]
    }
   ],
   "source": [
    "lst = [10, 20, 30, 40, 50]\n",
    "def even_ind(lst):\n",
    "    lst1 = []\n",
    "    for index,value in enumerate(lst,start = 0):\n",
    "        if index % 2 == 0:\n",
    "            lst1.append(value)\n",
    "    return lst1\n",
    "\n",
    "result = even_ind(lst)\n",
    "print(result)\n",
    "    "
   ]
  },
  {
   "cell_type": "markdown",
   "id": "35fa3704-c420-4502-905a-c9ec845e9f45",
   "metadata": {},
   "source": [
    "Q.21.Sum all elements multiplied by their index.\n",
    "\n",
    "Input: [1, 2, 3] → Output: 0*1 + 1*2 + 2*3 = 8"
   ]
  },
  {
   "cell_type": "code",
   "execution_count": 14,
   "id": "8551e71e-81b5-4a02-8cb0-3c10ae606c55",
   "metadata": {},
   "outputs": [
    {
     "name": "stdout",
     "output_type": "stream",
     "text": [
      "8\n"
     ]
    }
   ],
   "source": [
    "lst = [1, 2, 3]\n",
    "def multi_ind(lst):\n",
    "    multi = 0\n",
    "    add = 0\n",
    "    for index,value in enumerate(lst,start = 0):\n",
    "        multi = index * value\n",
    "        add += multi\n",
    "\n",
    "    return add\n",
    "result = multi_ind(lst) \n",
    "print(result) "
   ]
  },
  {
   "cell_type": "markdown",
   "id": "434e9bd5-24b4-4e61-ac7a-8d6452ace4ae",
   "metadata": {},
   "source": [
    "Q.22.Find the product of all numbers in a list.\n",
    "\n",
    "Input: [1, 2, 3, 4] → Output: 24 "
   ]
  },
  {
   "cell_type": "code",
   "execution_count": 15,
   "id": "d2801ae8-51f4-4504-b0a8-eefd6e6845d4",
   "metadata": {},
   "outputs": [
    {
     "name": "stdout",
     "output_type": "stream",
     "text": [
      "24\n"
     ]
    }
   ],
   "source": [
    "from functools import reduce\n",
    "lst = [1, 2, 3, 4]\n",
    "def prod(x,y):\n",
    "    return x * y\n",
    "\n",
    "result = reduce(prod,lst)\n",
    "print(result)"
   ]
  },
  {
   "cell_type": "markdown",
   "id": "2c660ced-b11b-49ed-a916-05cca9d63bca",
   "metadata": {},
   "source": [
    "Q.23.Find the maximum number in a list.\n",
    "\n",
    "Input: [5, 9, 2, 7] → Output: 9"
   ]
  },
  {
   "cell_type": "code",
   "execution_count": 16,
   "id": "144aed4d-ed32-450e-a914-7089e375c8dc",
   "metadata": {},
   "outputs": [
    {
     "name": "stdout",
     "output_type": "stream",
     "text": [
      "9\n"
     ]
    }
   ],
   "source": [
    "from functools import reduce\n",
    "lst = [5, 9, 2, 7]\n",
    "def maximum(x,y):\n",
    "    if x > y :\n",
    "        return x\n",
    "    else:\n",
    "        return y\n",
    "\n",
    "result = reduce(maximum,lst)\n",
    "print(result)               "
   ]
  },
  {
   "cell_type": "markdown",
   "id": "a16305b3-cd64-48c1-9c9e-5e2888e16c34",
   "metadata": {},
   "source": [
    "Q.24.Concatenate all strings in a list.\n",
    "\n",
    "Input: ['Hello', ' ', 'World'] → Output: 'Hello World'"
   ]
  },
  {
   "cell_type": "code",
   "execution_count": 17,
   "id": "2501de35-4277-4da3-b5d7-2e8e64e5c830",
   "metadata": {},
   "outputs": [
    {
     "name": "stdout",
     "output_type": "stream",
     "text": [
      "Hello World\n"
     ]
    }
   ],
   "source": [
    "lst = ['Hello', ' ', 'World']\n",
    "def con(x,y):\n",
    "    st = x + y\n",
    "    return st \n",
    "result = reduce(con,lst) \n",
    "print(result)       "
   ]
  },
  {
   "cell_type": "markdown",
   "id": "c2eff8fe-f998-4784-8276-02818b180a7a",
   "metadata": {},
   "source": [
    "Q.25.Sort a list of tuples by the second element.\n",
    "\n",
    "Input: [(1, 3), (2, 1), (3, 2)] → Output: [(2, 1), (3, 2), (1, 3)]"
   ]
  },
  {
   "cell_type": "code",
   "execution_count": 18,
   "id": "017c484f-a0a4-4a22-a83e-bf30da6aab82",
   "metadata": {},
   "outputs": [
    {
     "name": "stdout",
     "output_type": "stream",
     "text": [
      "[(2, 1), (3, 2), (1, 3)]\n"
     ]
    }
   ],
   "source": [
    "lst = [(1, 3), (2, 1), (3, 2)]\n",
    "result = sorted(lst,key = lambda x : x[1])\n",
    "print(result)"
   ]
  },
  {
   "cell_type": "markdown",
   "id": "08ca01f3-d5fe-47c8-9df1-2f3611b533d9",
   "metadata": {},
   "source": [
    "Q.26.Increment all numbers in a list by 5.\n",
    "\n",
    "Input: [1, 2, 3] → Output: [6, 7, 8]"
   ]
  },
  {
   "cell_type": "code",
   "execution_count": 19,
   "id": "c29f5a9f-4f1b-442b-9afe-40be83b9b84a",
   "metadata": {},
   "outputs": [
    {
     "name": "stdout",
     "output_type": "stream",
     "text": [
      "[6, 7, 8]\n"
     ]
    }
   ],
   "source": [
    "lst = [1, 2, 3] \n",
    "result = list(map(lambda x: x + 5,lst))\n",
    "print(result)"
   ]
  },
  {
   "cell_type": "markdown",
   "id": "d8d47923-291e-4e6a-ab3b-20e7eb376716",
   "metadata": {},
   "source": [
    "Q.27.Filter words starting with a vowel.\n",
    "\n",
    "Input: ['apple', 'banana', 'orange', 'grape'] → Output: ['apple', 'orange']"
   ]
  },
  {
   "cell_type": "code",
   "execution_count": 22,
   "id": "dd6df2c1-68d5-42e4-8978-dd634f31325a",
   "metadata": {},
   "outputs": [
    {
     "name": "stdout",
     "output_type": "stream",
     "text": [
      "['apple', 'orange']\n"
     ]
    }
   ],
   "source": [
    "lst = ['apple', 'banana', 'orange', 'grape']\n",
    "vowel = (\"a\",\"e\",\"u\",\"i\",\"o\")\n",
    "result = list(filter(lambda x : x[0] in vowel , lst))        \n",
    "print(result) \n",
    "#st = \" \".join(str(item) for item in result)\n",
    "#cap = st.title()\n",
    "#lst = cap.split()\n",
    "#print(lst)"
   ]
  },
  {
   "cell_type": "markdown",
   "id": "2c182a75-2f6c-45de-856c-09ddb26c3dec",
   "metadata": {},
   "source": [
    "Q.28.Find the index of first occurance in the string.\n",
    "- Input: haystack = \"sadbutsad\", needle = \"sad\"\n",
    "Output: 0\n",
    "find longest string in the main string.\n",
    "- Input: haystack = \"leetcode\", needle = \"leeto\"\n",
    "Output: -1"
   ]
  },
  {
   "cell_type": "code",
   "execution_count": 24,
   "id": "fd7bdc5d-6620-4cbe-a6aa-56554bb510e6",
   "metadata": {},
   "outputs": [
    {
     "data": {
      "text/plain": [
       "4"
      ]
     },
     "execution_count": 24,
     "metadata": {},
     "output_type": "execute_result"
    }
   ],
   "source": [
    "def longest():\n",
    "    haystack = \"codeleet\"\n",
    "    needle = \"leet\"\n",
    "    return haystack.find(needle)\n",
    "    \n",
    "   \n",
    "longest()"
   ]
  },
  {
   "cell_type": "markdown",
   "id": "e1632ed0-4fea-4081-bece-d9b8fc04f25a",
   "metadata": {},
   "source": [
    "Q.29.Give a list of squares and return their sqaure roots.\n",
    "ex: lst = [4,9,16,25,36,49,64,81,100]"
   ]
  },
  {
   "cell_type": "code",
   "execution_count": 25,
   "id": "90cfd18c-99d1-43a0-9d1d-ba180c8537f8",
   "metadata": {},
   "outputs": [
    {
     "name": "stdout",
     "output_type": "stream",
     "text": [
      "[2.0, 3.0, 4.0, 5.0, 6.0, 7.0, 8.0, 9.0, 10.0, 2.8284271247461903]\n"
     ]
    }
   ],
   "source": [
    "lst = [4,9,16,25,36,49,64,81,100,8]\n",
    "def root(x):\n",
    "    return x ** 0.5\n",
    "\n",
    "result = list(map(root,lst))\n",
    "print(result)"
   ]
  },
  {
   "cell_type": "markdown",
   "id": "3ef2b050-cf79-46eb-93e8-06ad4b1d328f",
   "metadata": {},
   "source": [
    "Q.30.Write a Python program to find the unique names in a list of students."
   ]
  },
  {
   "cell_type": "code",
   "execution_count": 27,
   "id": "65605abc-2470-4097-89b2-08c362fc7ff1",
   "metadata": {},
   "outputs": [
    {
     "name": "stdout",
     "output_type": "stream",
     "text": [
      "['raj', 'rajesh', 'ramesh', 'suresh', 'nilesh', 'yogesh']\n"
     ]
    }
   ],
   "source": [
    "lst = [\"raj\",\"ramesh\",\"rajesh\",\"raj\",\"yogesh\",\"nilesh\",\"suresh\"]\n",
    "ss = list(set(lst))\n",
    "print(ss)"
   ]
  },
  {
   "cell_type": "markdown",
   "id": "0969f41e-9987-477a-9b88-87bf2a225cdb",
   "metadata": {},
   "source": [
    "Q.31.Write a Python program to find the common friends between two people."
   ]
  },
  {
   "cell_type": "code",
   "execution_count": 28,
   "id": "fddb0c20-a4f6-4391-afb4-21515fcf3ac7",
   "metadata": {},
   "outputs": [
    {
     "data": {
      "text/plain": [
       "{'nilesh', 'raj', 'suresh'}"
      ]
     },
     "execution_count": 28,
     "metadata": {},
     "output_type": "execute_result"
    }
   ],
   "source": [
    "def common_fd():\n",
    "    p1 = {\"raj\",\"ramesh\",\"rajesh\",\"yogesh\",\"nilesh\",\"suresh\"}\n",
    "    p2 = {\"suresh\",\"nilesh\",\"akbar\",\"aman\",\"raj\",\"jayesh\"}\n",
    "    return p1.intersection(p2)\n",
    "common_fd()"
   ]
  },
  {
   "cell_type": "markdown",
   "id": "0a3f3a5c-a589-46e5-ac2b-15d392221ebb",
   "metadata": {},
   "source": [
    "Q.32.Write a Python program to remove duplicate phone numbers from a contact list."
   ]
  },
  {
   "cell_type": "code",
   "execution_count": 29,
   "id": "029768d7-a033-4d89-ae2f-0071f9e1e9e8",
   "metadata": {},
   "outputs": [
    {
     "data": {
      "text/plain": [
       "['5551234', '5555678', '5553456', '5557890']"
      ]
     },
     "execution_count": 29,
     "metadata": {},
     "output_type": "execute_result"
    }
   ],
   "source": [
    "def dupli_number():\n",
    "    phone_numbers = [\"5551234\",\"5555678\",\"5551234\",  \"5559012\",\"5553456\",\"5555678\",  \"5557890\",\"5553456\",  \"5552222\",\"5557890\"   ]\n",
    "    dupli = []\n",
    "    for num in phone_numbers:\n",
    "        if phone_numbers.count(num) > 1 and num not in dupli:\n",
    "            dupli.append(num)\n",
    "\n",
    "    return dupli\n",
    "dupli_number()\n",
    "        \n"
   ]
  },
  {
   "cell_type": "markdown",
   "id": "54847556-1a8f-4c4a-82e8-bdad9963d0e7",
   "metadata": {},
   "source": [
    "Q.33.Write a Python program to find the unique items in a shopping cart."
   ]
  },
  {
   "cell_type": "code",
   "execution_count": 30,
   "id": "b89b03c4-2a57-47e7-be51-51cb3e7aef0a",
   "metadata": {},
   "outputs": [
    {
     "data": {
      "text/plain": [
       "['Butter', 'Apples', 'Chicken', 'Tomatoes']"
      ]
     },
     "execution_count": 30,
     "metadata": {},
     "output_type": "execute_result"
    }
   ],
   "source": [
    "def shoping_cart():\n",
    "    shopping_cart = [\n",
    "    \"Milk\",\n",
    "    \"Eggs\",\n",
    "    \"Bread\",\n",
    "    \"Butter\",\n",
    "    \"Milk\",      \n",
    "    \"Apples\",\n",
    "    \"Eggs\",       \n",
    "    \"Chicken\",\n",
    "    \"Bread\",      \n",
    "    \"Tomatoes\"\n",
    "]\n",
    "    unique = []\n",
    "    for item in shopping_cart:\n",
    "        if shopping_cart.count(item) == 1 :\n",
    "            unique.append(item)\n",
    "\n",
    "    return unique\n",
    "shoping_cart()\n",
    "    "
   ]
  },
  {
   "cell_type": "code",
   "execution_count": null,
   "id": "1c83d915-c63c-4b95-a29b-c2e94d7070c8",
   "metadata": {},
   "outputs": [],
   "source": [
    " "
   ]
  }
 ],
 "metadata": {
  "kernelspec": {
   "display_name": "Python [conda env:base] *",
   "language": "python",
   "name": "conda-base-py"
  },
  "language_info": {
   "codemirror_mode": {
    "name": "ipython",
    "version": 3
   },
   "file_extension": ".py",
   "mimetype": "text/x-python",
   "name": "python",
   "nbconvert_exporter": "python",
   "pygments_lexer": "ipython3",
   "version": "3.13.5"
  }
 },
 "nbformat": 4,
 "nbformat_minor": 5
}
