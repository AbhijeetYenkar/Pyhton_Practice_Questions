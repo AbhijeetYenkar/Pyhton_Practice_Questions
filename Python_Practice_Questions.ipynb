{
 "cells": [
  {
   "cell_type": "markdown",
   "id": "6fe5ceaf-e2ea-4846-a10e-4c611498c280",
   "metadata": {},
   "source": [
    "## Python Programming "
   ]
  },
  {
   "cell_type": "markdown",
   "id": "b7822fca-7424-4520-a4ec-99219142fa3d",
   "metadata": {},
   "source": [
    "Python : Python is high level dynamically interpreted and general purpose programming language. "
   ]
  },
  {
   "cell_type": "markdown",
   "id": "65485615-85c3-49f0-bd19-4114a9d90059",
   "metadata": {},
   "source": [
    "## Practice Questions :"
   ]
  },
  {
   "cell_type": "markdown",
   "id": "95c8c809-064b-4bfb-98e9-c3c5fe0157b2",
   "metadata": {},
   "source": [
    "Q 01.Division - always return quatient with decimal"
   ]
  },
  {
   "cell_type": "code",
   "execution_count": 1,
   "id": "12bb4b83-0629-4c07-a664-239ff59efa89",
   "metadata": {},
   "outputs": [
    {
     "name": "stdout",
     "output_type": "stream",
     "text": [
      "5.0\n"
     ]
    }
   ],
   "source": [
    "a  = 10 / 2\n",
    "print(a)"
   ]
  },
  {
   "cell_type": "markdown",
   "id": "d440dd35-f636-4550-92b0-9e564a409ee7",
   "metadata": {},
   "source": [
    "Q 02.Floor Division - Always return quatient without decimal"
   ]
  },
  {
   "cell_type": "code",
   "execution_count": 2,
   "id": "894bb082-8be3-4137-83df-48d3d951bfeb",
   "metadata": {},
   "outputs": [
    {
     "name": "stdout",
     "output_type": "stream",
     "text": [
      "14\n"
     ]
    }
   ],
   "source": [
    "b = 100 // 7\n",
    "print(b)"
   ]
  },
  {
   "cell_type": "markdown",
   "id": "94b95c42-2c13-4041-9110-f2334c4d6d8f",
   "metadata": {},
   "source": [
    "Q 03.Exponent - used to calculate the power of a variable."
   ]
  },
  {
   "cell_type": "code",
   "execution_count": 3,
   "id": "80867b21-8fa8-4f52-bd16-b2323eb2d011",
   "metadata": {},
   "outputs": [
    {
     "name": "stdout",
     "output_type": "stream",
     "text": [
      "1024\n"
     ]
    }
   ],
   "source": [
    "c = 2 ** 10\n",
    "print(c)"
   ]
  },
  {
   "cell_type": "markdown",
   "id": "31089562-d534-4e02-a7b7-aa0e7dc07a7e",
   "metadata": {},
   "source": [
    "Comparison Oprator:\n",
    "Q 04.Equal to ( \"==\" ) - used to check value are equal or not\n"
   ]
  },
  {
   "cell_type": "code",
   "execution_count": 4,
   "id": "83db08ee-52cf-4f90-925d-bc68995ff145",
   "metadata": {},
   "outputs": [
    {
     "name": "stdout",
     "output_type": "stream",
     "text": [
      "False\n"
     ]
    }
   ],
   "source": [
    "a = 10\n",
    "b = 23\n",
    "print(a == b)"
   ]
  },
  {
   "cell_type": "markdown",
   "id": "ba211656-e48b-4fd7-8e06-b4926cc3bb39",
   "metadata": {},
   "source": [
    "Q 05.Not Equal to ( \" != \") "
   ]
  },
  {
   "cell_type": "code",
   "execution_count": 5,
   "id": "421cbdcf-6397-4f81-b929-4eb04c92c33c",
   "metadata": {},
   "outputs": [
    {
     "name": "stdout",
     "output_type": "stream",
     "text": [
      "True\n"
     ]
    }
   ],
   "source": [
    "print(a != b)"
   ]
  },
  {
   "cell_type": "markdown",
   "id": "8e6cf61a-d002-489f-9d82-f8cbdb7ce280",
   "metadata": {},
   "source": [
    "Q 06.Greater than (\" > \") "
   ]
  },
  {
   "cell_type": "code",
   "execution_count": 6,
   "id": "a0776e8d-6f7b-43c2-bb2d-c1ba9137d7ef",
   "metadata": {},
   "outputs": [
    {
     "name": "stdout",
     "output_type": "stream",
     "text": [
      "False\n"
     ]
    }
   ],
   "source": [
    "print(a > b)"
   ]
  },
  {
   "cell_type": "markdown",
   "id": "15835fb9-c8aa-49ad-b00e-7b0c695c51e2",
   "metadata": {},
   "source": [
    "Q 07.Less than (\" < \") "
   ]
  },
  {
   "cell_type": "code",
   "execution_count": 7,
   "id": "9051a0ca-4a7d-40d4-9148-1ca5b152bf67",
   "metadata": {},
   "outputs": [
    {
     "name": "stdout",
     "output_type": "stream",
     "text": [
      "True\n"
     ]
    }
   ],
   "source": [
    "print(a < b)"
   ]
  },
  {
   "cell_type": "markdown",
   "id": "bbfa19f6-5943-4229-9059-636a0138d857",
   "metadata": {},
   "source": [
    "Q 08.Greater than Equal to (\" >= \") "
   ]
  },
  {
   "cell_type": "code",
   "execution_count": 8,
   "id": "8e959929-50a3-41c4-b25b-43f8d89a7a09",
   "metadata": {},
   "outputs": [
    {
     "name": "stdout",
     "output_type": "stream",
     "text": [
      "False\n"
     ]
    }
   ],
   "source": [
    "print(a >= b)"
   ]
  },
  {
   "cell_type": "markdown",
   "id": "fe8f6af2-b9ee-4753-9064-e9e3b4b008b5",
   "metadata": {},
   "source": [
    "Q 09.Less than Equal to (\" <= \")"
   ]
  },
  {
   "cell_type": "code",
   "execution_count": 9,
   "id": "73279897-8a76-4398-aa9e-022db9fca2e7",
   "metadata": {},
   "outputs": [
    {
     "name": "stdout",
     "output_type": "stream",
     "text": [
      "True\n"
     ]
    }
   ],
   "source": [
    "print(a <= b)"
   ]
  },
  {
   "cell_type": "markdown",
   "id": "b97f500f-a72c-4538-9c21-efceb77b855d",
   "metadata": {},
   "source": [
    "Q 10.Compare subject's marks."
   ]
  },
  {
   "cell_type": "code",
   "execution_count": 10,
   "id": "f3776b4d-dc4e-4ef7-ac3e-237bad37a704",
   "metadata": {},
   "outputs": [
    {
     "name": "stdout",
     "output_type": "stream",
     "text": [
      "True\n"
     ]
    }
   ],
   "source": [
    "maths =77\n",
    "eng = 87\n",
    "hindi = 88\n",
    "print(maths >= 75 and eng >= 85 and hindi >= 88)"
   ]
  },
  {
   "cell_type": "markdown",
   "id": "f0911610-eacb-4195-8383-1f4bfcddcfa1",
   "metadata": {},
   "source": [
    "Q 11.Take a value and perform Multipilication , Division, Floor Division and Modolus."
   ]
  },
  {
   "cell_type": "code",
   "execution_count": 11,
   "id": "7ce9cb99-9cc9-4dea-9a1a-5794f8f0bcd5",
   "metadata": {},
   "outputs": [
    {
     "name": "stdout",
     "output_type": "stream",
     "text": [
      "150\n",
      "7.5\n",
      "7\n",
      "1\n"
     ]
    }
   ],
   "source": [
    "a = 15\n",
    "print(a * 10)\n",
    "print(a / 2)\n",
    "print(a // 2)\n",
    "print(a % 2)"
   ]
  },
  {
   "cell_type": "markdown",
   "id": "f539ebe0-1836-40d5-911f-fdf4de34fad1",
   "metadata": {},
   "source": [
    "## Conditional Statment \n",
    "## if, ..if..else, ..if..elif..else."
   ]
  },
  {
   "cell_type": "markdown",
   "id": "2224b577-ac27-452f-9e83-234b9027207f",
   "metadata": {},
   "source": [
    "if : Block executs when if condition is true."
   ]
  },
  {
   "cell_type": "markdown",
   "id": "cec8a63d-7956-4a7b-a741-79a6c465a5ae",
   "metadata": {},
   "source": [
    "if..else : 1st(if) block executes when it's condition is true otherwise else block executes."
   ]
  },
  {
   "cell_type": "markdown",
   "id": "9bc0ffcc-314c-4810-afb2-0178d526dbd9",
   "metadata": {},
   "source": [
    "if..elif..else : Check one and more condition's at a time , check condition's step by step if no one condition are true then execute's else block."
   ]
  },
  {
   "cell_type": "markdown",
   "id": "3f7b6676-ce04-4a4f-81fb-82024c0a662a",
   "metadata": {},
   "source": [
    "Q 12.Check number's are same using if ."
   ]
  },
  {
   "cell_type": "code",
   "execution_count": 18,
   "id": "fd830662-8d3f-4f82-8f35-5bbc3adb7c55",
   "metadata": {},
   "outputs": [
    {
     "name": "stdout",
     "output_type": "stream",
     "text": [
      "number are same\n"
     ]
    }
   ],
   "source": [
    "a = 12\n",
    "b = 12\n",
    "if a == b:\n",
    "    print(\"number are same\")"
   ]
  },
  {
   "cell_type": "markdown",
   "id": "616d33dc-8d2c-4433-b4fa-eea110acc9b5",
   "metadata": {},
   "source": [
    "Q 13.Check a number divisible by b number using if .. else."
   ]
  },
  {
   "cell_type": "code",
   "execution_count": 21,
   "id": "4b852ff1-6ab8-4a0e-800a-88c97bd63e51",
   "metadata": {},
   "outputs": [
    {
     "name": "stdout",
     "output_type": "stream",
     "text": [
      "a is not divisible by b\n"
     ]
    }
   ],
   "source": [
    "a = 7\n",
    "b = 10\n",
    "if a // b:\n",
    "    print(\"a is divisible by b\")\n",
    "else:\n",
    "    print(\"a is not divisible by b\")\n"
   ]
  },
  {
   "cell_type": "markdown",
   "id": "1a6767a2-c4d4-463c-9d21-a6526644b24d",
   "metadata": {},
   "source": [
    "Q 14.Ask the user for temperature in celcius and suggest what to wear."
   ]
  },
  {
   "cell_type": "code",
   "execution_count": 12,
   "id": "ed9a2ed6-4d51-48ec-9d3a-4303d143eb8e",
   "metadata": {},
   "outputs": [
    {
     "name": "stdin",
     "output_type": "stream",
     "text": [
      "Enter the temperature in celcius 41\n"
     ]
    },
    {
     "name": "stdout",
     "output_type": "stream",
     "text": [
      "stay cool and hydrated\n"
     ]
    }
   ],
   "source": [
    "temp=int(input(\"Enter the temperature in celcius\"))\n",
    "if (temp <= 0 ):\n",
    "    print(\"wear a heavy coat and gloves\")\n",
    "elif ( temp <= 10):\n",
    "    print(\"wear a jackect\")\n",
    "elif (temp <= 20 ):\n",
    "    print(\"wear a hoodie\")\n",
    "elif (temp <= 30 ):\n",
    "    print(\"wear a T shirt\")\n",
    "else:\n",
    "    print(\"stay cool and hydrated\")\n",
    "    "
   ]
  },
  {
   "cell_type": "markdown",
   "id": "c3b964a2-b50e-4878-9579-8e253dc93048",
   "metadata": {},
   "source": [
    "Q 15.Input of days a book is overdue."
   ]
  },
  {
   "cell_type": "code",
   "execution_count": 14,
   "id": "4cc43572-5770-48e6-b4c1-cdb6c71f93dc",
   "metadata": {},
   "outputs": [
    {
     "name": "stdin",
     "output_type": "stream",
     "text": [
      "PLEASE ENTER THE NO.OF OVERDUE DAY'S = 3\n"
     ]
    },
    {
     "name": "stdout",
     "output_type": "stream",
     "text": [
      " PLEASE PAY FINE 2 RS. PER DAY 6\n"
     ]
    }
   ],
   "source": [
    "day = int(input(\"PLEASE ENTER THE NO.OF OVERDUE DAY'S =\"))\n",
    "if (day == 0):\n",
    "    print(\" NO FINE APPLICABLE\")\n",
    "elif (day <= 5 ):\n",
    "    print(\" PLEASE PAY FINE 2 RS. PER DAY\",day*2)\n",
    "elif (day <= 10 ):\n",
    "    print(\" PLEASE PAY THE FINE 5 RS. PER DAY\",day*5)\n",
    "else:\n",
    "    print(\"PLEASE PAY FINE 10 RS. PER DAY\",day*10)\n",
    "    "
   ]
  },
  {
   "cell_type": "markdown",
   "id": "750752bd-9385-4e55-9e7b-7fde1cfa0b97",
   "metadata": {},
   "source": [
    "Q 16.Input : hunger level (1 to 10 ) suggest pizza size."
   ]
  },
  {
   "cell_type": "code",
   "execution_count": 15,
   "id": "05cfbd39-7a4c-4ac2-8a94-55b5f5e5a5df",
   "metadata": {},
   "outputs": [
    {
     "name": "stdin",
     "output_type": "stream",
     "text": [
      "Witch size pizza you want, please enter the size of pizza 1 to 10 5\n"
     ]
    },
    {
     "name": "stdout",
     "output_type": "stream",
     "text": [
      "YOU WANT MEDIUM SIZE PIZZA\n"
     ]
    }
   ],
   "source": [
    "pizza = int(input(\"Witch size pizza you want, please enter the size of pizza 1 to 10\"))\n",
    "if (pizza == 1 or pizza <=3) :\n",
    "   print(\"YOU WANT SMALL SIZE PIZZA\")\n",
    "elif (pizza == 4 or pizza <= 7):\n",
    "   print(\"YOU WANT MEDIUM SIZE PIZZA\")\n",
    "elif ( pizza == 8 or pizza <= 10):\n",
    "   print(\"YOU WANT LARGE SIZE PIZZA\")\n",
    "else:\n",
    "   print(\"PLEASE ENTER VALID SIZE\")"
   ]
  },
  {
   "cell_type": "markdown",
   "id": "9d5cce2a-67bb-4a7d-b79b-d6ee9cfa9e7a",
   "metadata": {},
   "source": [
    "Q 17.Input.animal name match sound."
   ]
  },
  {
   "cell_type": "code",
   "execution_count": 16,
   "id": "8d74e832-76f7-46ac-8f35-22492d1ce1e7",
   "metadata": {},
   "outputs": [
    {
     "name": "stdin",
     "output_type": "stream",
     "text": [
      "WITCH ANIMAL SOUND YOU WANT, PLEASE ENTER THIS ANIMAL NAME dog\n"
     ]
    },
    {
     "name": "stdout",
     "output_type": "stream",
     "text": [
      "DOG DO BARK\n"
     ]
    }
   ],
   "source": [
    "s = input(\"WITCH ANIMAL SOUND YOU WANT, PLEASE ENTER THIS ANIMAL NAME\")\n",
    "\n",
    "if s == \"dog\":\n",
    "    print(\"DOG DO BARK\")\n",
    "elif (s == \"cat\"):\n",
    "    print(\"CAT DO MEOW\")\n",
    "elif (s == \"cow\"):\n",
    "    print(\"COW DO MOO\")\n",
    "elif (s == \"duck\"):\n",
    "    print(\"DUCK DO QUACK\")\n",
    "else:\n",
    "    print(\"PLEASE ENTER VALID NAME\")"
   ]
  },
  {
   "cell_type": "markdown",
   "id": "2a2b8af9-c5ae-4dbc-853f-87a116e0691e",
   "metadata": {},
   "source": [
    "Q 18.Write a program that checks if a number is prime (divisible only by 1 and itself)."
   ]
  },
  {
   "cell_type": "code",
   "execution_count": 23,
   "id": "d0c83efb-c1cb-4cad-9856-9a676a1c3008",
   "metadata": {},
   "outputs": [
    {
     "name": "stdin",
     "output_type": "stream",
     "text": [
      "ENTER ANY NUMBER = 5\n"
     ]
    },
    {
     "name": "stdout",
     "output_type": "stream",
     "text": [
      "THIS IS A PRIME NUMBER\n"
     ]
    }
   ],
   "source": [
    "num = int(input(\"ENTER ANY NUMBER =\"))\n",
    "if num <= 1:\n",
    "    print(\"PRIME NUMBER STARTS FROM 2,PLEASE ENTER VALID VALUE\")\n",
    "elif num == 2 or num == 3 or num == 5 or num == 7:\n",
    "    print(\"THIS IS A PRIME NUMBER\")\n",
    "elif num % 2 ==0:\n",
    "    print(\"THIS IS NOT A PRIME NUMBER , ITS DIVISIBLE BY 2 \")\n",
    "elif num % 3 ==0:\n",
    "    print(\"THIS IS PRIME NUMBER , ITS DIVISIBLE BY 3\")\n",
    "elif num % 5 ==0:\n",
    "    print(\"THIS IS NOT A PRIME NUMBER , ITS DIVISIBLE BY 5\")\n",
    "elif num % 7 ==0:\n",
    "    print(\"THIS IS NOT A PRIME NUMBER , ITS DIVISIBLE BY 7\")\n",
    "else:\n",
    "    print(\"THIS IS A PRIME NUMBER\")"
   ]
  },
  {
   "cell_type": "markdown",
   "id": "7eeb8181-79bd-4358-b609-5191e994922d",
   "metadata": {},
   "source": [
    "## Loops:"
   ]
  },
  {
   "cell_type": "markdown",
   "id": "a0e112b6-0bee-464c-b20c-b7c4a7bf26e1",
   "metadata": {},
   "source": [
    "## For Loop :"
   ]
  },
  {
   "cell_type": "markdown",
   "id": "df8b0184-b3bb-4376-b621-2e9766b7715b",
   "metadata": {},
   "source": [
    "For Loop : For loop are used for sequence/range,whenever we know the of iteration required then we can use For Loop."
   ]
  },
  {
   "cell_type": "markdown",
   "id": "21a5ba9b-d65c-4d7b-9c49-9047722a5fc2",
   "metadata": {},
   "source": [
    "## While Loop :"
   ]
  },
  {
   "cell_type": "markdown",
   "id": "075344a9-c16a-4509-a4d6-a51815449c79",
   "metadata": {},
   "source": [
    "While Loop : While loop is used for condition's or when we don't know the number's of iteration's required."
   ]
  },
  {
   "cell_type": "markdown",
   "id": "01905588-2256-4139-af7d-60cefe27ae11",
   "metadata": {},
   "source": [
    "Q 19.Print odd numbers between 1-20."
   ]
  },
  {
   "cell_type": "code",
   "execution_count": 24,
   "id": "ab12f10e-6682-42c1-a8c7-7bee1d483504",
   "metadata": {},
   "outputs": [
    {
     "name": "stdout",
     "output_type": "stream",
     "text": [
      "ODD NUMBER = 1\n",
      "ODD NUMBER = 3\n",
      "ODD NUMBER = 5\n",
      "ODD NUMBER = 7\n",
      "ODD NUMBER = 9\n",
      "ODD NUMBER = 11\n",
      "ODD NUMBER = 13\n",
      "ODD NUMBER = 15\n",
      "ODD NUMBER = 17\n",
      "ODD NUMBER = 19\n"
     ]
    }
   ],
   "source": [
    "for i in range(1,21):\n",
    "    if i % 2==1:\n",
    "        print(\"ODD NUMBER =\",i)"
   ]
  },
  {
   "cell_type": "markdown",
   "id": "324aa4d4-b319-48f2-afce-243466c2cbd7",
   "metadata": {},
   "source": [
    "Q 20.Print the numbers divisible by 3 in between 1-30."
   ]
  },
  {
   "cell_type": "code",
   "execution_count": 26,
   "id": "b2d71aba-0d02-4b00-af9d-eb6b78633e49",
   "metadata": {},
   "outputs": [
    {
     "name": "stdout",
     "output_type": "stream",
     "text": [
      "NUMBER IS DEVISIBLE BY 3 = 3\n",
      "NUMBER IS DEVISIBLE BY 3 = 6\n",
      "NUMBER IS DEVISIBLE BY 3 = 9\n",
      "NUMBER IS DEVISIBLE BY 3 = 12\n",
      "NUMBER IS DEVISIBLE BY 3 = 15\n",
      "NUMBER IS DEVISIBLE BY 3 = 18\n",
      "NUMBER IS DEVISIBLE BY 3 = 21\n",
      "NUMBER IS DEVISIBLE BY 3 = 24\n",
      "NUMBER IS DEVISIBLE BY 3 = 27\n",
      "NUMBER IS DEVISIBLE BY 3 = 30\n"
     ]
    }
   ],
   "source": [
    "for i in range(1,31):\n",
    "    if i % 3== 0:\n",
    "        print(\"NUMBER IS DEVISIBLE BY 3 =\",i)"
   ]
  },
  {
   "cell_type": "markdown",
   "id": "0cda3a32-fecc-45f2-a459-0902d168d395",
   "metadata": {},
   "source": [
    "Q 21.Ask the user for a number n and print the sum of numbers from 1 to n using a while loop."
   ]
  },
  {
   "cell_type": "code",
   "execution_count": 27,
   "id": "c0644cf4-737f-4671-bf70-825b785dad71",
   "metadata": {},
   "outputs": [
    {
     "name": "stdin",
     "output_type": "stream",
     "text": [
      "ENTER ANY NUMBER 12\n"
     ]
    },
    {
     "name": "stdout",
     "output_type": "stream",
     "text": [
      "The sum of numbers from 1 to 12 is 78\n"
     ]
    }
   ],
   "source": [
    "num = int(input(\"ENTER ANY NUMBER\"))\n",
    "i = 1\n",
    "total = 0\n",
    "while i <= num:\n",
    "      total += i\n",
    "      i += 1\n",
    "print(\"The sum of numbers from 1 to\",num,\"is\",total) "
   ]
  },
  {
   "cell_type": "markdown",
   "id": "66adb678-ec06-428e-b54d-f0db9d3489d6",
   "metadata": {},
   "source": [
    "Q 22.Keep asking the user for input until they type \"quit\", then exit."
   ]
  },
  {
   "cell_type": "code",
   "execution_count": 28,
   "id": "f73f7594-17e2-48f1-a79d-4ffd87f558f4",
   "metadata": {},
   "outputs": [
    {
     "name": "stdin",
     "output_type": "stream",
     "text": [
      "YOU WANT TO QUIT no\n",
      "ENTER AGAIN no\n",
      "ENTER AGAIN quit\n"
     ]
    },
    {
     "name": "stdout",
     "output_type": "stream",
     "text": [
      "SUCCESSFULLY QUIT  quit\n"
     ]
    }
   ],
   "source": [
    "n = input(\"YOU WANT TO QUIT\")\n",
    "\n",
    "while n != \"quit\":\n",
    "      n = input(\"ENTER AGAIN\")\n",
    "if n == \"quit\":\n",
    "      print(\"SUCCESSFULLY QUIT \",n)"
   ]
  },
  {
   "cell_type": "markdown",
   "id": "5795355d-b300-4ec0-82e8-05aa5230d9d9",
   "metadata": {},
   "source": [
    "Q 23.Ask the user to enter a starting number and count down to 0 using a while loop."
   ]
  },
  {
   "cell_type": "code",
   "execution_count": 33,
   "id": "28e339ed-9670-43ff-ae1d-9033115a7c36",
   "metadata": {},
   "outputs": [
    {
     "name": "stdin",
     "output_type": "stream",
     "text": [
      "Enter number:  5\n"
     ]
    },
    {
     "name": "stdout",
     "output_type": "stream",
     "text": [
      "5\n",
      "4\n",
      "3\n",
      "2\n",
      "1\n"
     ]
    }
   ],
   "source": [
    "n = int(input(\"Enter number: \"))\n",
    "i = n\n",
    "while i > 0:\n",
    "    print(i)\n",
    "    i -= 1"
   ]
  },
  {
   "cell_type": "markdown",
   "id": "63b7f759-c07f-4271-be5b-4a0aa2f256b4",
   "metadata": {},
   "source": [
    "Q 24.Print powers of 2 (2, 4, 8, 16, …) using a while loop, until the result is greater than 1000."
   ]
  },
  {
   "cell_type": "code",
   "execution_count": 34,
   "id": "b20eb745-7c17-4c24-8649-cb6569983e79",
   "metadata": {},
   "outputs": [
    {
     "name": "stdout",
     "output_type": "stream",
     "text": [
      "2\n",
      "4\n",
      "8\n",
      "16\n",
      "32\n",
      "64\n",
      "128\n",
      "256\n",
      "512\n"
     ]
    }
   ],
   "source": [
    "i = 1\n",
    "while 2 ** i <= 1000:\n",
    "    print(2 ** i)\n",
    "    i += 1"
   ]
  },
  {
   "cell_type": "markdown",
   "id": "f2e85910-7224-467c-9c9f-f38288863b32",
   "metadata": {},
   "source": [
    "Q 25.Given a list of numbers,calculate the sum of all elements that are greater than 50 or divisible by 3, but not both."
   ]
  },
  {
   "cell_type": "code",
   "execution_count": 37,
   "id": "0b3566f1-bf0d-4a98-ba4b-cab18a622665",
   "metadata": {},
   "outputs": [
    {
     "name": "stdout",
     "output_type": "stream",
     "text": [
      "12\n",
      "15\n"
     ]
    }
   ],
   "source": [
    "l = [12, 13, 14, 15, 16, 17]\n",
    "\n",
    "total = 0\n",
    "for i in l:\n",
    "    if i % 3 == 0:\n",
    "        total += 1\n",
    "        print(i)\n"
   ]
  },
  {
   "cell_type": "markdown",
   "id": "13ef9319-b9a6-42c4-8cbf-bcb6cd43e926",
   "metadata": {},
   "source": [
    "Q 26.Take 5 numbers from user, add them to a list and for each odd number add +2 and even number substract -1"
   ]
  },
  {
   "cell_type": "code",
   "execution_count": 38,
   "id": "6c81da95-9a27-4463-9bf4-9b420463559f",
   "metadata": {},
   "outputs": [
    {
     "name": "stdin",
     "output_type": "stream",
     "text": [
      "enter 5 numbers 11\n"
     ]
    },
    {
     "name": "stdout",
     "output_type": "stream",
     "text": [
      "13\n"
     ]
    },
    {
     "name": "stdin",
     "output_type": "stream",
     "text": [
      "enter 5 numbers 25\n"
     ]
    },
    {
     "name": "stdout",
     "output_type": "stream",
     "text": [
      "27\n"
     ]
    },
    {
     "name": "stdin",
     "output_type": "stream",
     "text": [
      "enter 5 numbers 25\n"
     ]
    },
    {
     "name": "stdout",
     "output_type": "stream",
     "text": [
      "27\n"
     ]
    },
    {
     "name": "stdin",
     "output_type": "stream",
     "text": [
      "enter 5 numbers 2\n"
     ]
    },
    {
     "name": "stdout",
     "output_type": "stream",
     "text": [
      "1\n"
     ]
    },
    {
     "name": "stdin",
     "output_type": "stream",
     "text": [
      "enter 5 numbers 45\n"
     ]
    },
    {
     "name": "stdout",
     "output_type": "stream",
     "text": [
      "47\n"
     ]
    }
   ],
   "source": [
    "total = 0\n",
    "count = 0\n",
    "while count <= 4:\n",
    "      a = int(input(\"enter 5 numbers\"))\n",
    "      count += 1\n",
    "      if a % 2 == 0:\n",
    "         a -= 1\n",
    "         print(a)\n",
    "      else:\n",
    "          a += 2\n",
    "          print(a)"
   ]
  },
  {
   "cell_type": "markdown",
   "id": "5be68363-bfde-4fde-8387-ffd269b6ca32",
   "metadata": {},
   "source": [
    "Q 27.Choose a secret number (e.g., 7). Ask the user to guess a number.\n",
    "If their guess is too low, print \"Too low!\".\n",
    "If their guess is too high, print \"Too high!\".\n",
    "If their guess is correct, print \"Congratulations! You guessed it!\"."
   ]
  },
  {
   "cell_type": "code",
   "execution_count": 39,
   "id": "040b775d-63a0-4915-9623-499983481351",
   "metadata": {},
   "outputs": [
    {
     "name": "stdin",
     "output_type": "stream",
     "text": [
      "guess a number 5\n"
     ]
    },
    {
     "name": "stdout",
     "output_type": "stream",
     "text": [
      "Too low!\n"
     ]
    }
   ],
   "source": [
    "a = 991\n",
    "b = int(input(\"guess a number\"))\n",
    "if a > b:\n",
    "    print(\"Too low!\")\n",
    "elif a < b:\n",
    "    print(\"Too hign!\")\n",
    "elif a == b:\n",
    "    print(\"Congratulations! You guessed it!\")"
   ]
  },
  {
   "cell_type": "markdown",
   "id": "0dfa8bb7-066b-40d0-9e07-b257166ffe9c",
   "metadata": {},
   "source": [
    "Q 28..Ask the user for a starting and ending number. Print all numbers in that range, except for multiples of 3."
   ]
  },
  {
   "cell_type": "code",
   "execution_count": 40,
   "id": "c90d9d3c-bc1b-4441-a64b-e5a904f62f13",
   "metadata": {},
   "outputs": [
    {
     "name": "stdin",
     "output_type": "stream",
     "text": [
      "enter starting number 4\n",
      "enter ending number 8\n"
     ]
    },
    {
     "name": "stdout",
     "output_type": "stream",
     "text": [
      "4\n",
      "5\n",
      "6\n",
      "7\n"
     ]
    }
   ],
   "source": [
    "s = int(input(\"enter starting number\"))\n",
    "e = int(input(\"enter ending number\"))\n",
    "for i in range(s,e):\n",
    "    print(i)"
   ]
  },
  {
   "cell_type": "markdown",
   "id": "1bb5a813-fe84-4da1-9afb-aee3c96cd1bf",
   "metadata": {},
   "source": [
    "Q 29.Write a program that asks the user to enter a password (\"python123\"). Allow them a maximum of 3 attempts. After each incorrect attempt, prompt them again. If they get it right within 3 attempts, print \"Access Granted\". Otherwise, print \"Access Denied\" after the failed attempts."
   ]
  },
  {
   "cell_type": "code",
   "execution_count": 41,
   "id": "42d45537-b40c-4990-ad04-40492f8094ce",
   "metadata": {},
   "outputs": [
    {
     "name": "stdin",
     "output_type": "stream",
     "text": [
      "ENTER YOUR PASSWORD fghj\n"
     ]
    },
    {
     "name": "stdout",
     "output_type": "stream",
     "text": [
      "INVALID PASSWORD\n"
     ]
    },
    {
     "name": "stdin",
     "output_type": "stream",
     "text": [
      "ENTER PASSWORD dfg\n"
     ]
    },
    {
     "name": "stdout",
     "output_type": "stream",
     "text": [
      "INVALID PASSWORD\n"
     ]
    },
    {
     "name": "stdin",
     "output_type": "stream",
     "text": [
      "ENTER PASSWORD python123\n"
     ]
    }
   ],
   "source": [
    "password = input(\"ENTER YOUR PASSWORD\")\n",
    "count = 1\n",
    "\n",
    "while count <= 2:\n",
    "   if (password == \"python123\"):\n",
    "        print(\"ACCESS GRANTED\")\n",
    "        count = 2\n",
    "    \n",
    "      \n",
    "        \n",
    "   elif password != \"python123\" or count < 2  :\n",
    "        print(\"INVALID PASSWORD\")\n",
    "        count +=1\n",
    "        password = input(\"ENTER PASSWORD\")\n",
    "        \n",
    "        \n",
    "if password != \"python123\":\n",
    "        print(\"ACCESS BLOCK\")"
   ]
  },
  {
   "cell_type": "markdown",
   "id": "6f3fbafd-00ce-4028-a7e8-4873ebcee438",
   "metadata": {},
   "source": [
    "Q 30.Using nested loops, print the following pattern:\n",
    "*\n",
    "**\n",
    "***\n",
    "****\n",
    "*****"
   ]
  },
  {
   "cell_type": "code",
   "execution_count": 42,
   "id": "263b4154-fc6a-4a15-afa1-d5f02af60a97",
   "metadata": {},
   "outputs": [
    {
     "name": "stdout",
     "output_type": "stream",
     "text": [
      "* \n",
      "* * \n",
      "* * * \n",
      "* * * * \n",
      "* * * * * \n"
     ]
    }
   ],
   "source": [
    "\n",
    "for i in range(0,5):\n",
    "    for n in range(i+1):\n",
    "     print(\"*\",end=\" \")\n",
    "    print()"
   ]
  },
  {
   "cell_type": "markdown",
   "id": "c36bba76-6d97-4746-af5c-fe7a101ea867",
   "metadata": {},
   "source": [
    "Q 31.Check the number's in list those are divisible by 4 & 6."
   ]
  },
  {
   "cell_type": "code",
   "execution_count": 43,
   "id": "af719127-06dd-4df3-9eb2-32f42c72e3d0",
   "metadata": {},
   "outputs": [
    {
     "name": "stdout",
     "output_type": "stream",
     "text": [
      "12 is divisible by 4 & 6\n",
      "14 is not divisible by 4 & 6\n",
      "34 is not divisible by 4 & 6\n",
      "35 is not divisible by 4 & 6\n",
      "25 is not divisible by 4 & 6\n",
      "22 is not divisible by 4 & 6\n"
     ]
    }
   ],
   "source": [
    "a = [12,14,34,35,25,22]\n",
    "for i in a:\n",
    "    if i % 4 == 0 and i % 6 == 0:\n",
    "          print(i, \"is divisible by 4 & 6\")\n",
    "    else:\n",
    "        print(i,\"is not divisible by 4 & 6\")"
   ]
  },
  {
   "cell_type": "markdown",
   "id": "36dd2561-6c5f-4c6b-b620-302ffbf26228",
   "metadata": {},
   "source": [
    "Q 32.Take the number from user and Print the first 5 multiples of the number."
   ]
  },
  {
   "cell_type": "code",
   "execution_count": 44,
   "id": "20cf1ca3-6188-4aec-86d8-05de01703591",
   "metadata": {},
   "outputs": [
    {
     "name": "stdin",
     "output_type": "stream",
     "text": [
      "ENTER A NUMBER = 12\n"
     ]
    },
    {
     "name": "stdout",
     "output_type": "stream",
     "text": [
      "FRIST 5 MULTIPLICATION OF A NUMBER = 248832\n"
     ]
    }
   ],
   "source": [
    "i = int(input(\"ENTER A NUMBER =\"))\n",
    "c = i ** 5\n",
    "print( \"FRIST 5 MULTIPLICATION OF A NUMBER =\",c)"
   ]
  },
  {
   "cell_type": "markdown",
   "id": "a6dd2c40-80c3-4f36-a3ea-45e425530312",
   "metadata": {},
   "source": [
    "Q 33.Write a program to check if two numbers are equal without using the == operator."
   ]
  },
  {
   "cell_type": "code",
   "execution_count": 45,
   "id": "f5bc18db-1062-4818-bc60-1f7bd12f5eeb",
   "metadata": {},
   "outputs": [
    {
     "name": "stdin",
     "output_type": "stream",
     "text": [
      "ENTER 1 NUMBER = 5\n",
      "ENTER 2 NUMBER = 47\n"
     ]
    },
    {
     "name": "stdout",
     "output_type": "stream",
     "text": [
      "NUMBER'S ARE NOT EQUAL = 5 47\n"
     ]
    }
   ],
   "source": [
    "a = int(input(\"ENTER 1 NUMBER =\"))\n",
    "b = int(input(\"ENTER 2 NUMBER =\"))\n",
    "if a >= b and b <= a:\n",
    "    print (\"numbers are equal =\")\n",
    "else:\n",
    "    print(\"NUMBER'S ARE NOT EQUAL =\",a,b)"
   ]
  },
  {
   "cell_type": "markdown",
   "id": "75ccfee1-f246-4d09-a21f-b1dbf39bb7eb",
   "metadata": {},
   "source": [
    "Q 34.Given a year, check whether it's a leap year.Take the year from the user."
   ]
  },
  {
   "cell_type": "code",
   "execution_count": 46,
   "id": "4c1e1eed-c2f4-4857-a371-421f4d4928cc",
   "metadata": {},
   "outputs": [
    {
     "name": "stdin",
     "output_type": "stream",
     "text": [
      "ENTER YEAR = 2025\n"
     ]
    },
    {
     "name": "stdout",
     "output_type": "stream",
     "text": [
      "THIS IS NOT LEAP YEAR = 2025\n"
     ]
    }
   ],
   "source": [
    "y = int(input(\"ENTER YEAR =\"))\n",
    "\n",
    "if y % 4 == 0 or y % 400 == 0 and y % 100 == 0:\n",
    "    print(\"THIS IS A LEAP YEAR =\",y)\n",
    "else:\n",
    "    print(\"THIS IS NOT LEAP YEAR =\",y)"
   ]
  },
  {
   "cell_type": "markdown",
   "id": "31fdcc74-dcc2-4cfc-8b78-4f29ae45419a",
   "metadata": {},
   "source": [
    "Q 35.Ask the user to input 10 numbers and count how many are:\n",
    "Positive\n",
    "Negative\n",
    "Zero"
   ]
  },
  {
   "cell_type": "code",
   "execution_count": 51,
   "id": "73f603cb-8f03-4c30-b8ef-a419302207e1",
   "metadata": {},
   "outputs": [
    {
     "name": "stdout",
     "output_type": "stream",
     "text": [
      "NUMBER  IS POSSITIVE = 131 1\n",
      "NUMBER  IS POSSITIVE = 123 1\n",
      "NUMBER  IS POSSITIVE = 0 1\n",
      "NUMBER IS NEGATIVE = 0\n",
      "NUMBER IS ZERO = 0\n",
      "NUMBER IS NEGATIVE = -35\n",
      "NUMBER IS NEGATIVE = -7\n"
     ]
    }
   ],
   "source": [
    "a = [131,123,0,-35,-7]\n",
    "\n",
    "sum = 0\n",
    "for i in a:\n",
    "    if i >= 0:\n",
    "        total = sum + 1\n",
    "        print(\"NUMBER  IS POSSITIVE =\",i,total)\n",
    "\n",
    "    if i <= 0:\n",
    "        print(\"NUMBER IS NEGATIVE =\",i)\n",
    "\n",
    "    if i == 0:\n",
    "        print(\"NUMBER IS ZERO =\",i)"
   ]
  },
  {
   "cell_type": "markdown",
   "id": "16998409-1044-4f5a-a5b3-d2f1e12e84b2",
   "metadata": {},
   "source": [
    "Q 36.Take a number n and print all odd numbers from n down to 1."
   ]
  },
  {
   "cell_type": "code",
   "execution_count": 54,
   "id": "95bb10d7-cfb8-41d5-998f-db9aa08c1423",
   "metadata": {},
   "outputs": [
    {
     "name": "stdin",
     "output_type": "stream",
     "text": [
      "ENTER A NUMBER = 5\n"
     ]
    },
    {
     "name": "stdout",
     "output_type": "stream",
     "text": [
      "5\n",
      "3\n"
     ]
    }
   ],
   "source": [
    "n = int(input(\"ENTER A NUMBER =\"))\n",
    "\n",
    "for n in range(n,1,-1):\n",
    "    if n % 2 == 1:\n",
    "        print(n)"
   ]
  },
  {
   "cell_type": "markdown",
   "id": "89984739-3521-444a-81d5-543358126955",
   "metadata": {},
   "source": [
    "Q 37.Take principal, rate, and time as input, and calculate simple interest."
   ]
  },
  {
   "cell_type": "code",
   "execution_count": 55,
   "id": "ffb51069-b829-47e7-81f1-025a44c38697",
   "metadata": {},
   "outputs": [
    {
     "name": "stdin",
     "output_type": "stream",
     "text": [
      "ENTER THE AMOUNT = 100005\n",
      "ENTER THE RATE OF INTRESTE = 54\n",
      "ENTER THE TIME IN YEAR = 5\n"
     ]
    },
    {
     "name": "stdout",
     "output_type": "stream",
     "text": [
      ":...............................:\n",
      "YOUR AMMOUNT IS = 100005.0\n",
      "RATE OF INTREST = 54.0\n",
      "FOR YEAR'S = 5.0\n",
      "SIMPLE RATE OF INTREST ON YOUR AMOUNT =  170008.5\n",
      "TOTAL AMOUNT WITH INTREST = 270013.5\n"
     ]
    }
   ],
   "source": [
    "p = float(input(\"ENTER THE AMOUNT =\"))\n",
    "r = float(input(\"ENTER THE RATE OF INTRESTE =\"))\n",
    "t = float(input(\"ENTER THE TIME IN YEAR =\"))\n",
    "print(\":...............................:\")\n",
    "si = (p * r * t)/100\n",
    "i = si - p\n",
    "\n",
    "print(\"YOUR AMMOUNT IS =\",p)\n",
    "print(\"RATE OF INTREST =\",r)\n",
    "print(\"FOR YEAR'S =\",t)\n",
    "print(\"SIMPLE RATE OF INTREST ON YOUR AMOUNT = \",i)\n",
    "print(\"TOTAL AMOUNT WITH INTREST =\",si)"
   ]
  },
  {
   "cell_type": "markdown",
   "id": "877c125b-467d-4013-a6e4-4769b2dfdf19",
   "metadata": {},
   "source": [
    "Q 38.Print numbers from 1 to 50:\n",
    "\n",
    "If divisible by 3, print \"Fizz\"\n",
    "\n",
    "If divisible by 5, print \"Buzz\"\n",
    "\n",
    "If divisible by both, print \"FizzBuzz\""
   ]
  },
  {
   "cell_type": "code",
   "execution_count": 56,
   "id": "3fe00ee5-3791-4c88-9287-b6d23e7c355b",
   "metadata": {},
   "outputs": [
    {
     "name": "stdout",
     "output_type": "stream",
     "text": [
      "Fizz 3\n",
      "Buzz 5\n",
      "Fizz 6\n",
      "Fizz 9\n",
      "Buzz 10\n",
      "Fizz 12\n",
      "Fizz 15\n",
      "Buzz 15\n",
      "FizzBuzz 15\n",
      "Fizz 18\n",
      "Buzz 20\n",
      "Fizz 21\n",
      "Fizz 24\n",
      "Buzz 25\n",
      "Fizz 27\n",
      "Fizz 30\n",
      "Buzz 30\n",
      "FizzBuzz 30\n",
      "Fizz 33\n",
      "Buzz 35\n",
      "Fizz 36\n",
      "Fizz 39\n",
      "Buzz 40\n",
      "Fizz 42\n",
      "Fizz 45\n",
      "Buzz 45\n",
      "FizzBuzz 45\n",
      "Fizz 48\n"
     ]
    }
   ],
   "source": [
    "for i in range(1,50):\n",
    "    if i % 3 == 0 :\n",
    "        print(\"Fizz\",i)\n",
    "    if i % 5 == 0 :\n",
    "        print(\"Buzz\",i)\n",
    "    if i % 3 == 0 and i % 5 == 0 :\n",
    "        print(\"FizzBuzz\",i)"
   ]
  },
  {
   "cell_type": "markdown",
   "id": "48313854-4d2c-49ac-98e1-08831296764d",
   "metadata": {},
   "source": [
    "Q 39. Take n, and compute the sum of squares: 1² + 2² + 3² + ... + n²"
   ]
  },
  {
   "cell_type": "code",
   "execution_count": 57,
   "id": "5ba9e4d5-189e-4f44-8f50-ce9591d879ad",
   "metadata": {},
   "outputs": [
    {
     "name": "stdin",
     "output_type": "stream",
     "text": [
      "enter number = 5\n"
     ]
    },
    {
     "name": "stdout",
     "output_type": "stream",
     "text": [
      "30\n"
     ]
    }
   ],
   "source": [
    "n = int(input(\"enter number =\"))\n",
    "sum_s = 0\n",
    "for i in range(n):\n",
    "    square = i * i\n",
    "    sum_s += square\n",
    "print(sum_s)"
   ]
  },
  {
   "cell_type": "markdown",
   "id": "e087bb12-8f51-4503-8979-4b0f287691f8",
   "metadata": {},
   "source": [
    "Q 40.Take two integers and print both the quotient and the remainder."
   ]
  },
  {
   "cell_type": "code",
   "execution_count": 58,
   "id": "89a7c775-8461-4250-81e1-0e7f9ac78ee8",
   "metadata": {},
   "outputs": [
    {
     "name": "stdin",
     "output_type": "stream",
     "text": [
      "ENTER 1 NUMBER = 45\n",
      "ENTER 2 NUMBER = 12\n"
     ]
    },
    {
     "name": "stdout",
     "output_type": "stream",
     "text": [
      "QUOTIENT IS = 3.75\n",
      "REMAINDER IS = 9\n"
     ]
    }
   ],
   "source": [
    "a = int(input(\"ENTER 1 NUMBER =\"))\n",
    "b = int(input(\"ENTER 2 NUMBER =\"))\n",
    "c = a / b\n",
    "d = a % b\n",
    "print(\"QUOTIENT IS =\",c)\n",
    "print(\"REMAINDER IS =\",d)"
   ]
  },
  {
   "cell_type": "markdown",
   "id": "7e0e0e10-ade3-4579-b61f-9dda64be46e4",
   "metadata": {},
   "source": [
    "Q 41.Take n, and calculate the sum of all numbers below n that are divisible by 3 or 5."
   ]
  },
  {
   "cell_type": "code",
   "execution_count": 60,
   "id": "7c0132c6-ed33-4e7f-a15e-426b51ae049b",
   "metadata": {},
   "outputs": [
    {
     "name": "stdin",
     "output_type": "stream",
     "text": [
      "ENTER THE NUMBER = 4568\n"
     ]
    },
    {
     "name": "stdout",
     "output_type": "stream",
     "text": [
      "SUM OF NUMBER'S THIS ARE DIVISIBLE BY 3 & 5 = 695400\n"
     ]
    }
   ],
   "source": [
    "n = int(input(\"ENTER THE NUMBER =\"))\n",
    "sum = 0\n",
    "\n",
    "for i in range(1,n):\n",
    "    if i % 3 == 0 and i % 5 == 0:\n",
    "         sum += i\n",
    "print(\"SUM OF NUMBER'S THIS ARE DIVISIBLE BY 3 & 5 =\",sum)"
   ]
  },
  {
   "cell_type": "markdown",
   "id": "09522930-f6a4-4d31-81f7-acd2fd385b8c",
   "metadata": {},
   "source": [
    "Q 42. Ask the user to enter a 2-digit number as a string (e.g., '45'). Convert each character to an integer and print their sum: 4 + 5 = 9."
   ]
  },
  {
   "cell_type": "code",
   "execution_count": 61,
   "id": "0c39c605-56a2-4397-a42c-5f35b703c617",
   "metadata": {},
   "outputs": [
    {
     "name": "stdin",
     "output_type": "stream",
     "text": [
      "enter 1 number 20\n",
      "enter 2 number 25\n"
     ]
    },
    {
     "name": "stdout",
     "output_type": "stream",
     "text": [
      "45\n"
     ]
    }
   ],
   "source": [
    "a = input(\"enter 1 number\")\n",
    "b = input(\"enter 2 number\")\n",
    "j=int(a)\n",
    "s=int(b)\n",
    "c = j + s\n",
    "print(c)"
   ]
  },
  {
   "cell_type": "markdown",
   "id": "4bfaa2f3-91af-4543-a54d-fed28f07022a",
   "metadata": {},
   "source": [
    "Q 43.Ask for a number n. Print the first n even numbers starting from 2."
   ]
  },
  {
   "cell_type": "code",
   "execution_count": 63,
   "id": "eacb8e84-ea51-44f8-a693-3b92ea206c20",
   "metadata": {},
   "outputs": [
    {
     "name": "stdin",
     "output_type": "stream",
     "text": [
      "enter number = 10\n"
     ]
    },
    {
     "name": "stdout",
     "output_type": "stream",
     "text": [
      "2\n",
      "4\n",
      "6\n",
      "8\n"
     ]
    }
   ],
   "source": [
    "n = int(input(\"enter number =\"))\n",
    "\n",
    "for n in range(2,n):\n",
    "    if n % 2 == 0:\n",
    "        print(n)"
   ]
  },
  {
   "cell_type": "markdown",
   "id": "658125c9-2ace-4223-90f4-f885e3dcfc94",
   "metadata": {},
   "source": [
    "Q 44.Ask for 3 numbers. Print the smallest (using only if/elif/else)."
   ]
  },
  {
   "cell_type": "code",
   "execution_count": 65,
   "id": "71639f0a-c248-4c73-8799-d581de14a03c",
   "metadata": {},
   "outputs": [
    {
     "name": "stdin",
     "output_type": "stream",
     "text": [
      "enter 1 number = 45\n",
      "enter 2 number = 47\n",
      "enter 3 number = 40\n"
     ]
    },
    {
     "name": "stdout",
     "output_type": "stream",
     "text": [
      "c is smallest\n"
     ]
    }
   ],
   "source": [
    "a = int(input(\"enter 1 number =\"))\n",
    "b = int(input(\"enter 2 number =\"))\n",
    "c = int(input(\"enter 3 number =\"))\n",
    "if a <= b and a <= c :\n",
    "    print(\"a is smallest\")\n",
    "elif b <= a and b <= c :\n",
    "    print(\"b is smallest\")\n",
    "elif c <= a and c <= b:\n",
    "    print(\"c is smallest\")"
   ]
  },
  {
   "cell_type": "markdown",
   "id": "32dd4377-3e57-4323-9967-4d105303e252",
   "metadata": {},
   "source": [
    "Q 45.Input length and width. Print the area and perimeter."
   ]
  },
  {
   "cell_type": "code",
   "execution_count": 67,
   "id": "6fb138ab-af19-48be-9168-99223b267487",
   "metadata": {},
   "outputs": [
    {
     "name": "stdin",
     "output_type": "stream",
     "text": [
      "enter length = 45\n",
      "enter weigth 12\n"
     ]
    },
    {
     "name": "stdout",
     "output_type": "stream",
     "text": [
      "are of perimeter 114.0\n"
     ]
    }
   ],
   "source": [
    "length = float(input(\"enter length =\"))\n",
    "weigth = float(input(\"enter weigth\"))\n",
    "c = (length + weigth)*2\n",
    "print(\"are of perimeter\",c)"
   ]
  },
  {
   "cell_type": "markdown",
   "id": "d85f5b51-7be1-4b09-9407-1a4f237f280c",
   "metadata": {},
   "source": [
    "Q 46.Ask for a number. Print the remainder when divided by 2, 3, 4, and 5."
   ]
  },
  {
   "cell_type": "code",
   "execution_count": 68,
   "id": "1883b9e8-7fae-4a0c-baef-81bb91fc42fb",
   "metadata": {},
   "outputs": [
    {
     "name": "stdin",
     "output_type": "stream",
     "text": [
      "enter number = 45\n"
     ]
    },
    {
     "name": "stdout",
     "output_type": "stream",
     "text": [
      "remainder is = 45  47  114.0  9\n"
     ]
    }
   ],
   "source": [
    "n = int(input(\"enter number =\"))\n",
    "\n",
    "if n % 2 and n % 3 and n % 4 and n % 5:\n",
    "    a = n % 2\n",
    "    b = n % 3\n",
    "    c = n % 4\n",
    "    d = n % 5\n",
    "print(\"remainder is =\",a,\"\",b,\"\",c,\"\",d)"
   ]
  },
  {
   "cell_type": "markdown",
   "id": "acb2db3d-f213-4008-9894-c5c62965be2a",
   "metadata": {},
   "source": [
    "Q 47.Ask for 3 digits separately (like 4, 7, 2). Combine them into the number 472."
   ]
  },
  {
   "cell_type": "code",
   "execution_count": 69,
   "id": "5e4fd6e1-33f4-4333-8cb8-f28fd12d8148",
   "metadata": {},
   "outputs": [
    {
     "name": "stdin",
     "output_type": "stream",
     "text": [
      "enter 1 number = 45\n",
      "enter 2 number = 25\n",
      "enter 3 number = 22\n"
     ]
    },
    {
     "name": "stdout",
     "output_type": "stream",
     "text": [
      "452522\n"
     ]
    }
   ],
   "source": [
    "a = input(\"enter 1 number =\")\n",
    "b = input(\"enter 2 number =\")\n",
    "c = input(\"enter 3 number =\")\n",
    "d = a + b + c\n",
    "print(d)"
   ]
  },
  {
   "cell_type": "markdown",
   "id": "8991a924-bff8-4f04-88c8-34e21a6dfa50",
   "metadata": {},
   "source": [
    "Q 48.Pizza Slice Divider\n",
    "Input total slices and number of friends. Calculate:\n",
    "\n",
    "How many slices each gets\n",
    "\n",
    "  "
   ]
  },
  {
   "cell_type": "code",
   "execution_count": 70,
   "id": "07ce593c-b999-4872-aaef-3ba659fbd168",
   "metadata": {},
   "outputs": [
    {
     "name": "stdin",
     "output_type": "stream",
     "text": [
      "ENTER THE NUMBER OF SLICE OF PIZZA = 4\n",
      "ENTER THE NUBER OF FRIEND = 5\n"
     ]
    },
    {
     "name": "stdout",
     "output_type": "stream",
     "text": [
      "slice of each friends = 4\n"
     ]
    }
   ],
   "source": [
    "s = int(input(\"ENTER THE NUMBER OF SLICE OF PIZZA =\"))\n",
    "f = int(input(\"ENTER THE NUBER OF FRIEND =\"))\n",
    "\n",
    "c = s % f\n",
    "print(\"slice of each friends =\",c)"
   ]
  },
  {
   "cell_type": "markdown",
   "id": "5fef9c37-6bf4-406c-97e3-4d203048118a",
   "metadata": {},
   "source": [
    "Q 49.Input a number. Print all numbers that divide it exactly (its factors)."
   ]
  },
  {
   "cell_type": "code",
   "execution_count": null,
   "id": "62db4a11-e39c-4a2a-ae07-3ee815a5b0ab",
   "metadata": {},
   "outputs": [],
   "source": []
  },
  {
   "cell_type": "markdown",
   "id": "d752c03c-2bf8-4fda-9257-2de0b1f4c83b",
   "metadata": {},
   "source": [
    "Q 50.Ask for base and exponent. Calculate power using a loop."
   ]
  },
  {
   "cell_type": "code",
   "execution_count": 71,
   "id": "9ae9f7f2-71a9-4c24-ae80-9594d934a162",
   "metadata": {},
   "outputs": [
    {
     "name": "stdin",
     "output_type": "stream",
     "text": [
      "ENTER BASE VALUE = 50\n",
      "ENTER EXPONENT OF NUMBER = 6\n"
     ]
    },
    {
     "name": "stdout",
     "output_type": "stream",
     "text": [
      "POWER OF THE NUMBERS = 15625000000\n"
     ]
    }
   ],
   "source": [
    "b = int(input(\"ENTER BASE VALUE =\"))\n",
    "e = int(input(\"ENTER EXPONENT OF NUMBER =\"))\n",
    "c = b ** e\n",
    "print(\"POWER OF THE NUMBERS =\",c)"
   ]
  },
  {
   "cell_type": "markdown",
   "id": "9f3325cd-7e68-4ea6-a8ec-cdddc19c446c",
   "metadata": {},
   "source": [
    "Q 51.Ask for a single digit (0–9). Print the digit in words (e.g., 5 → \"Five\")."
   ]
  },
  {
   "cell_type": "code",
   "execution_count": 73,
   "id": "ad14ae58-63eb-4dbc-a1c7-036d8e62877a",
   "metadata": {},
   "outputs": [
    {
     "name": "stdin",
     "output_type": "stream",
     "text": [
      "ENTER THE NUMBER = 5\n"
     ]
    },
    {
     "name": "stdout",
     "output_type": "stream",
     "text": [
      "five\n"
     ]
    }
   ],
   "source": [
    "d = int(input(\"ENTER THE NUMBER =\"))\n",
    "if d == 0:\n",
    "    print(\"zero\")\n",
    "elif d == 1:\n",
    "    print(\"one\")\n",
    "elif d == 2:\n",
    "    print(\"two\")\n",
    "elif d == 3:\n",
    "    print(\"three\")\n",
    "elif d == 4:\n",
    "    print(\"four\")\n",
    "elif d== 5:\n",
    "    print(\"five\")\n",
    "elif d == 6:\n",
    "    print(\"six\")\n",
    "elif d == 7:\n",
    "    print(\"seven\")\n",
    "elif d == 8:\n",
    "    print(\"eight\")\n",
    "elif d == 9:\n",
    "    print(\"nine\")"
   ]
  },
  {
   "cell_type": "markdown",
   "id": "448543ef-0169-4663-af85-047d6b933320",
   "metadata": {},
   "source": [
    "Q 52.Electricity Bill Calculator\n",
    "Ask for units used. Calculate & Display bill:\n",
    "First 100 units: ₹1.5/unit\n",
    "Next 100: ₹2.5/unit \n",
    "Above 200: ₹4/unit"
   ]
  },
  {
   "cell_type": "code",
   "execution_count": 75,
   "id": "591bbaf6-1a4e-4bfb-8a68-ed2c1a3f2256",
   "metadata": {},
   "outputs": [
    {
     "name": "stdin",
     "output_type": "stream",
     "text": [
      "ENTER YOUR UNIT = 5\n"
     ]
    },
    {
     "name": "stdout",
     "output_type": "stream",
     "text": [
      "PER UNIT CHARGE IS 1.5/UNIT \n",
      "TOTAL BILL = 7.5\n"
     ]
    }
   ],
   "source": [
    "u = float(input(\"ENTER YOUR UNIT =\"))\n",
    "\n",
    "if u <= 100:\n",
    "    print(\"PER UNIT CHARGE IS 1.5/UNIT \")\n",
    "    print(\"TOTAL BILL =\",u * 1.5)\n",
    "elif u <= 200:\n",
    "    print(\"PER UNIT CHARGE IS 2.5/UNIT \")\n",
    "    print(\"TOTAL BILL =\",u * 2.5)\n",
    "elif u >= 200:\n",
    "    print(\"PER UNIT CHARGE IS 4/UNIT \")\n",
    "    print(\"TOTAL BILL =\",u * 4)"
   ]
  },
  {
   "cell_type": "markdown",
   "id": "48a33237-47b8-459e-b41a-860df2541c58",
   "metadata": {},
   "source": [
    "Q 53.Ask for a number. If the last digit is 0, print \"Ends with zero\"."
   ]
  },
  {
   "cell_type": "code",
   "execution_count": 77,
   "id": "b65f234e-1e77-41ea-923e-fc4af67ecf78",
   "metadata": {},
   "outputs": [
    {
     "name": "stdin",
     "output_type": "stream",
     "text": [
      "ENTER ANY NUMBER = 3\n"
     ]
    },
    {
     "name": "stdout",
     "output_type": "stream",
     "text": [
      "NUMBER IS NOT END WITH ZERO 3\n"
     ]
    }
   ],
   "source": [
    "n = int(input(\"ENTER ANY NUMBER =\"))\n",
    "if n % 5 == 0 or n % 10 == 0:\n",
    "    print(\"NUMBER END WITH ZERO =\",n)\n",
    "else:\n",
    "    print(\"NUMBER IS NOT END WITH ZERO\",n)"
   ]
  },
  {
   "cell_type": "markdown",
   "id": "6ce5e620-5c50-4dd1-93ff-a0bf6497bbaa",
   "metadata": {},
   "source": [
    "Q 54.Input 4 numbers: a, b, c, d. ",
    "Compare sum of a + b with c + d. Print which sum is greater."
   ]
  },
  {
   "cell_type": "code",
   "execution_count": 78,
   "id": "20de2562-ba8e-4efb-b772-090e239517d0",
   "metadata": {},
   "outputs": [
    {
     "name": "stdin",
     "output_type": "stream",
     "text": [
      "ENTER 1 NUMBER = 20\n",
      "ENTER 2 NUMBER = 55\n",
      "ENTER 3 NUMBER = 47\n",
      "ENTER 4 NUMBER = 6\n"
     ]
    },
    {
     "name": "stdout",
     "output_type": "stream",
     "text": [
      "a + b SUM IS GREATER 75\n"
     ]
    }
   ],
   "source": [
    "a = int(input(\"ENTER 1 NUMBER =\"))\n",
    "b = int(input(\"ENTER 2 NUMBER =\"))\n",
    "c = int(input(\"ENTER 3 NUMBER =\"))\n",
    "d = int(input(\"ENTER 4 NUMBER =\"))\n",
    "\n",
    "e = a + b\n",
    "f = c + d\n",
    "if e > f:\n",
    "    print(\"a + b SUM IS GREATER\",e)\n",
    "elif f > e:\n",
    "    print(\"c + d SUM IS GREATER\",f)"
   ]
  },
  {
   "cell_type": "markdown",
   "id": "27e1cb2f-9304-49b3-ab7e-fab75c839833",
   "metadata": {},
   "source": [
    "Q 55. Check if Square of a Number is Even or Odd\n",
    "* Input a number. Calculate its square. Say whether it's even or odd."
   ]
  },
  {
   "cell_type": "code",
   "execution_count": 79,
   "id": "7da08c08-96c2-4c9d-af61-4010ec7bdb05",
   "metadata": {},
   "outputs": [
    {
     "name": "stdin",
     "output_type": "stream",
     "text": [
      "ENTER THE NUMBER = 20\n"
     ]
    },
    {
     "name": "stdout",
     "output_type": "stream",
     "text": [
      "THIS NUMBER SQUARE IS EVEN = 400\n"
     ]
    }
   ],
   "source": [
    "num = int(input(\"ENTER THE NUMBER =\"))\n",
    "\n",
    "s = num ** 2\n",
    "if s % 2 == 0:\n",
    "    print(\"THIS NUMBER SQUARE IS EVEN =\",s)\n",
    "elif s % 2 != 0:\n",
    "    print(\"THIS NUMBER SQUARE IS ODD =\",s)"
   ]
  },
  {
   "cell_type": "markdown",
   "id": "64e0ba62-2ed9-4250-bba5-301cb6b12ccb",
   "metadata": {},
   "source": [
    "Q 56.Print Reverse Table - Input a number. Print its table in reverse"
   ]
  },
  {
   "cell_type": "code",
   "execution_count": 80,
   "id": "1b7ca948-80c0-4131-916d-ce8d67455821",
   "metadata": {},
   "outputs": [
    {
     "name": "stdin",
     "output_type": "stream",
     "text": [
      "enter number 3\n"
     ]
    },
    {
     "name": "stdout",
     "output_type": "stream",
     "text": [
      "30\n",
      "27\n",
      "24\n",
      "21\n",
      "18\n",
      "15\n",
      "12\n",
      "9\n",
      "6\n",
      "3\n"
     ]
    }
   ],
   "source": [
    "n = int(input(\"enter number\"))\n",
    "\n",
    "for i in range(10,0,-1):\n",
    "    print(i*n)"
   ]
  },
  {
   "cell_type": "markdown",
   "id": "77d81574-6632-4d7e-ba94-e4102e7f6907",
   "metadata": {},
   "source": [
    "Q 57.Write a Python program that asks the user to enter a number between 1 and 100. Then the program should: "
   ]
  },
  {
   "cell_type": "code",
   "execution_count": 83,
   "id": "a860aec2-15c6-425b-964e-1ad71ae1edec",
   "metadata": {},
   "outputs": [
    {
     "name": "stdin",
     "output_type": "stream",
     "text": [
      "enter number 10\n"
     ]
    },
    {
     "name": "stdout",
     "output_type": "stream",
     "text": [
      "number is even 10\n",
      "number is even 2\n",
      "number is even 4\n",
      "number is even 6\n",
      "number is even 8\n",
      "number is odd 1\n",
      "number is odd 3\n",
      "number is odd 5\n",
      "number is odd 7\n",
      "number is less than 50 = 8\n"
     ]
    }
   ],
   "source": [
    "a = int(input(\"enter number\"))\n",
    "\n",
    "if a % 2 == 0:\n",
    "    print(\"number is even\",a)\n",
    "elif a % 2 != 0:\n",
    "    print(\"number is odd =\",a)\n",
    "for a in range(2,a):\n",
    "    if a % 2 == 0:\n",
    "        print(\"number is even\",a)\n",
    "for a in range(1,a):\n",
    "    if a % 2 != 0:\n",
    "        print(\"number is odd\",a)\n",
    "if a <= 50:\n",
    "    print(\"number is less than 50 =\",a)\n",
    "elif a >= 50:\n",
    "    print(\"number is greater than 50\",a)"
   ]
  },
  {
   "cell_type": "markdown",
   "id": "60ed50df-f655-4cc2-86a6-805ba9e072eb",
   "metadata": {},
   "source": [
    "Q 58.Write a Python program to calculate the sum of all even numbers between 1 and a number entered by the user."
   ]
  },
  {
   "cell_type": "code",
   "execution_count": 84,
   "id": "00c1c8a3-163d-49ee-994a-2a3c35e3fe9d",
   "metadata": {},
   "outputs": [
    {
     "name": "stdin",
     "output_type": "stream",
     "text": [
      "enter the number = 55\n"
     ]
    },
    {
     "name": "stdout",
     "output_type": "stream",
     "text": [
      "sum of all even number 1 to 55 is = 54\n"
     ]
    }
   ],
   "source": [
    "n = int(input(\"enter the number =\"))\n",
    "sum = 0\n",
    "\n",
    "for i in range(1,n):\n",
    "    if i % 2 == 0:\n",
    "        sum += i\n",
    "print(\"sum of all even number 1 to\",n,\"is =\",i)"
   ]
  },
  {
   "cell_type": "markdown",
   "id": "99091ec5-c695-4f0b-a1ee-0f7e5b76a918",
   "metadata": {},
   "source": [
    "Q 59.Keep asking the user to enter numbers and add them to a total. Stop when the user enters 0. Then print the total sum."
   ]
  },
  {
   "cell_type": "code",
   "execution_count": 85,
   "id": "de667a7c-d8a6-495a-85e9-2fd0d3ebbb07",
   "metadata": {},
   "outputs": [
    {
     "name": "stdin",
     "output_type": "stream",
     "text": [
      "enter number = 12\n",
      "enter number = 0\n"
     ]
    },
    {
     "name": "stdout",
     "output_type": "stream",
     "text": [
      "0\n"
     ]
    }
   ],
   "source": [
    "\n",
    "total = 0\n",
    "while n != 0:\n",
    "    n = int(input(\"enter number =\"))\n",
    "    if n == 0:\n",
    "        total += n\n",
    "        print(total)\n"
   ]
  },
  {
   "cell_type": "markdown",
   "id": "20b10c5b-ebf5-4c7a-8795-562962605975",
   "metadata": {},
   "source": [
    "Q 60.Ask the user for a number. Print all its multiples from 1 to 100."
   ]
  },
  {
   "cell_type": "code",
   "execution_count": 86,
   "id": "267d3835-4ad9-4bc7-98b0-8bf9f0f807e4",
   "metadata": {},
   "outputs": [
    {
     "name": "stdin",
     "output_type": "stream",
     "text": [
      "enter the number = 20\n"
     ]
    },
    {
     "name": "stdout",
     "output_type": "stream",
     "text": [
      "20\n",
      "40\n",
      "60\n",
      "80\n",
      "100\n"
     ]
    }
   ],
   "source": [
    "n = int(input(\"enter the number =\"))\n",
    "\n",
    "for i in range(1,101):\n",
    "    if i % n == 0:\n",
    "        print(i)"
   ]
  },
  {
   "cell_type": "markdown",
   "id": "6e994a87-86fa-4b79-90dd-36e1ad947349",
   "metadata": {},
   "source": [
    "Q 61.Ask the user to enter a number. Find the sum of all even digits in that number.\n",
    "Example: 2468 → 2 + 4 + 6 + 8 = 20"
   ]
  },
  {
   "cell_type": "code",
   "execution_count": 89,
   "id": "89a0e4a9-1fb1-4226-b151-f9701bca6e07",
   "metadata": {},
   "outputs": [
    {
     "name": "stdin",
     "output_type": "stream",
     "text": [
      "enter number 256\n"
     ]
    },
    {
     "name": "stdout",
     "output_type": "stream",
     "text": [
      "8\n"
     ]
    }
   ],
   "source": [
    "a = input(\"enter number\")\n",
    "\n",
    "sum =0\n",
    "for i in a:\n",
    "    if int(i) % 2 == 0:\n",
    "        sum += int(i)\n",
    "print(sum)"
   ]
  },
  {
   "cell_type": "markdown",
   "id": "4228f2ff-c780-4e67-b281-b9b5022126c6",
   "metadata": {},
   "source": [
    "Q 63.Ask the user to enter a number n. Calculate and print the sum of squares of numbers from 1 to n."
   ]
  },
  {
   "cell_type": "code",
   "execution_count": 90,
   "id": "72236e11-c5e8-4555-8989-c1112c726ca1",
   "metadata": {},
   "outputs": [
    {
     "name": "stdin",
     "output_type": "stream",
     "text": [
      "enter the number = 12\n"
     ]
    },
    {
     "name": "stdout",
     "output_type": "stream",
     "text": [
      "sum of square numbers = 650\n"
     ]
    }
   ],
   "source": [
    "n = int(input(\"enter the number =\"))\n",
    "\n",
    "sum = 0\n",
    "for i in range(1,n+1):\n",
    "    sum += i ** 2\n",
    "\n",
    "print(\"sum of square numbers =\",sum)"
   ]
  },
  {
   "cell_type": "markdown",
   "id": "11541cd9-674d-48f2-a502-0d6093cb5067",
   "metadata": {},
   "source": [
    "Q 64.Ask the user to enter a number and print how many digits it has."
   ]
  },
  {
   "cell_type": "code",
   "execution_count": 92,
   "id": "4beb58b2-bd19-4e66-b763-b9747b8c12b1",
   "metadata": {},
   "outputs": [
    {
     "name": "stdin",
     "output_type": "stream",
     "text": [
      "Enter a number 123\n"
     ]
    },
    {
     "name": "stdout",
     "output_type": "stream",
     "text": [
      "3\n"
     ]
    }
   ],
   "source": [
    "num = int(input(\"Enter a number\"))\n",
    "a = num \n",
    "count = 0\n",
    "\n",
    "while a > 0:\n",
    "    count += 1\n",
    "    a //= 10 \n",
    "\n",
    "print(count)    "
   ]
  },
  {
   "cell_type": "markdown",
   "id": "bd09552a-5425-41df-a9a0-2cc7a5189908",
   "metadata": {},
   "source": [
    "Q 65.Ask the user how many numbers they want to enter (n). Accept n numbers, then print their total sum and average."
   ]
  },
  {
   "cell_type": "code",
   "execution_count": 94,
   "id": "5f3953c6-5c7b-4fbc-826a-e5efd296cbab",
   "metadata": {},
   "outputs": [
    {
     "name": "stdin",
     "output_type": "stream",
     "text": [
      "how many numbers they want to enter = 3\n",
      "enter the number = 1\n",
      "enter the number = 5\n",
      "enter the number = 7\n"
     ]
    },
    {
     "name": "stdout",
     "output_type": "stream",
     "text": [
      "sun of numbers = 13\n",
      "average of numbers = 4.333333333333333\n"
     ]
    }
   ],
   "source": [
    "n = int(input(\"how many numbers they want to enter =\"))\n",
    "total = 0\n",
    "for i in range(n):\n",
    "    j = int(input(\"enter the number =\"))\n",
    "    total += j\n",
    "    avg = total / n\n",
    "print(\"sun of numbers =\",total)\n",
    "print(\"average of numbers =\",avg)"
   ]
  },
  {
   "cell_type": "markdown",
   "id": "a5b1c834-8678-4f54-a76f-df09722611b8",
   "metadata": {},
   "source": [
    "Q 66.Ask the user to input a total number of seconds. Convert and print it as minutes and seconds. ",
    "Example: 130 seconds → 2 minutes, 10 seconds"
   ]
  },
  {
   "cell_type": "code",
   "execution_count": 96,
   "id": "a5fdae29-8861-4d0d-82be-fc3f3e4e6170",
   "metadata": {},
   "outputs": [
    {
     "name": "stdin",
     "output_type": "stream",
     "text": [
      "enter second = 222\n"
     ]
    },
    {
     "name": "stdout",
     "output_type": "stream",
     "text": [
      "3 minutes 42 seconds\n"
     ]
    }
   ],
   "source": [
    "n = int(input(\"enter second =\"))\n",
    "min = n //60\n",
    "sec = n % 60\n",
    "print(min,\"minutes\",sec,\"seconds\")"
   ]
  },
  {
   "cell_type": "markdown",
   "id": "0994d822-ba64-4d8e-9904-14fac6466baf",
   "metadata": {},
   "source": [
    "Q 67.Ask the user to input time in hours. Convert and print the equivalent in seconds."
   ]
  },
  {
   "cell_type": "code",
   "execution_count": 97,
   "id": "a8fd5aad-1ca2-4143-a6c0-f7dcf6293f96",
   "metadata": {},
   "outputs": [
    {
     "name": "stdin",
     "output_type": "stream",
     "text": [
      "enter time in hours = 5\n"
     ]
    },
    {
     "name": "stdout",
     "output_type": "stream",
     "text": [
      "18000 second\n"
     ]
    }
   ],
   "source": [
    "t = int(input(\"enter time in hours =\"))\n",
    "min = t * 3600\n",
    "print(min,\"second\")"
   ]
  },
  {
   "cell_type": "markdown",
   "id": "7e3bbbe3-0fd1-4b9e-9dad-b2ce924cd684",
   "metadata": {},
   "source": [
    "Q 68.Ask the user for two numbers: a and b. Print all numbers from a to b. If a > b, print in reverse."
   ]
  },
  {
   "cell_type": "code",
   "execution_count": 99,
   "id": "0ae49ff5-2db1-4af0-9165-45a04e570d22",
   "metadata": {},
   "outputs": [
    {
     "name": "stdin",
     "output_type": "stream",
     "text": [
      "enter 1 number = 10\n",
      "enter 2 number = 2\n"
     ]
    },
    {
     "name": "stdout",
     "output_type": "stream",
     "text": [
      "10\n",
      "9\n",
      "8\n",
      "7\n",
      "6\n",
      "5\n",
      "4\n",
      "3\n",
      "2\n"
     ]
    }
   ],
   "source": [
    "a = int(input(\"enter 1 number =\"))\n",
    "b = int(input(\"enter 2 number =\"))\n",
    "if a > b:\n",
    "    for i in range(a,b-1,-1):\n",
    "        print(i)\n",
    "else:\n",
    "    for i in range(a,b+1):\n",
    "        print(i)"
   ]
  },
  {
   "cell_type": "markdown",
   "id": "b22d23eb-afb7-45b6-87df-80dabf50688d",
   "metadata": {},
   "source": [
    "Q 69.Ask the user for a number n. Use a loop to calculate the product of all numbers from 1 to n."
   ]
  },
  {
   "cell_type": "code",
   "execution_count": 100,
   "id": "4ff22bfe-d4fa-41cb-9fce-9cd8c339f5a8",
   "metadata": {},
   "outputs": [
    {
     "name": "stdin",
     "output_type": "stream",
     "text": [
      "enter a number = 10\n"
     ]
    },
    {
     "name": "stdout",
     "output_type": "stream",
     "text": [
      "3628800\n"
     ]
    }
   ],
   "source": [
    "n = int(input(\"enter a number =\"))\n",
    "count = 1\n",
    "for i in range(1,n + 1):\n",
    "    count *= i\n",
    "print(count)"
   ]
  },
  {
   "cell_type": "markdown",
   "id": "c9acd077-b488-4fcd-bb87-4f2d5bcd7596",
   "metadata": {},
   "source": [
    "## Type Conversion: \n",
    "## 1.Implicit Type conversion\n",
    "## 2.Explicit type conversion"
   ]
  },
  {
   "cell_type": "code",
   "execution_count": null,
   "id": "0e8398e4-e773-411a-9295-a0daacbfdda0",
   "metadata": {},
   "outputs": [],
   "source": []
  },
  {
   "cell_type": "markdown",
   "id": "68b0d33b-14f5-4611-8b2e-1ce0c16f8aba",
   "metadata": {},
   "source": [
    "Q 70.Ask the user to input two integers. Add them and print the result as a float using type conversion."
   ]
  },
  {
   "cell_type": "code",
   "execution_count": 101,
   "id": "d3e25a6a-c9da-4a79-846a-fc34eaf34447",
   "metadata": {},
   "outputs": [
    {
     "name": "stdin",
     "output_type": "stream",
     "text": [
      "enter 1 number = 12\n",
      "enter 2 number = 14\n"
     ]
    },
    {
     "name": "stdout",
     "output_type": "stream",
     "text": [
      "26.0\n"
     ]
    }
   ],
   "source": [
    "a = int(input(\"enter 1 number =\"))\n",
    "b = int(input(\"enter 2 number =\"))\n",
    "add = a + b\n",
    "print(float(add))"
   ]
  },
  {
   "cell_type": "markdown",
   "id": "d3326eb5-c7bc-473d-b768-fdb7cda42eb1",
   "metadata": {},
   "source": [
    "Q 71.Ask the user to input a number n. Use a loop to print \"Hello\" exactly n times."
   ]
  },
  {
   "cell_type": "code",
   "execution_count": 102,
   "id": "7ac9b28e-3d81-4930-947c-9590c1d8dd86",
   "metadata": {},
   "outputs": [
    {
     "name": "stdin",
     "output_type": "stream",
     "text": [
      "enter number to print hello = 2\n"
     ]
    },
    {
     "name": "stdout",
     "output_type": "stream",
     "text": [
      "hello\n",
      "hello\n"
     ]
    }
   ],
   "source": [
    "n = int(input(\"enter number to print hello =\"))\n",
    "\n",
    "for i in range(1,n+1):\n",
    "    print(\"hello\")\n",
    "    "
   ]
  },
  {
   "cell_type": "markdown",
   "id": "ccb685fc-b317-43a1-abf7-2cf2ca077bbe",
   "metadata": {},
   "source": [
    "Q 72.Ask the user to enter a number n. Use a loop to print numbers from 1 to n, but skip all numbers that are divisible by 4."
   ]
  },
  {
   "cell_type": "code",
   "execution_count": 104,
   "id": "3ae6b445-3a90-4218-a834-fd2429c19ee1",
   "metadata": {},
   "outputs": [
    {
     "name": "stdin",
     "output_type": "stream",
     "text": [
      "enter the number = 10\n"
     ]
    },
    {
     "name": "stdout",
     "output_type": "stream",
     "text": [
      "1\n",
      "2\n",
      "3\n",
      "\n",
      "5\n",
      "6\n",
      "7\n",
      "\n",
      "9\n"
     ]
    }
   ],
   "source": [
    "n = int(input(\"enter the number =\"))\n",
    "\n",
    "for i in range(1,n):\n",
    "    if i % 4 == 0:\n",
    "        print(\"\")\n",
    "    else:\n",
    "        print(i)"
   ]
  },
  {
   "cell_type": "markdown",
   "id": "4511aae2-6030-4785-8760-f91df6ceffae",
   "metadata": {},
   "source": [
    "Q 73.Ask the user to input a number. Keep dividing it by 2 using a loop until it becomes less than 1. Print how many divisions were performed."
   ]
  },
  {
   "cell_type": "code",
   "execution_count": 110,
   "id": "7f2b6952-b80b-4aee-8f18-58aa9ba7d886",
   "metadata": {},
   "outputs": [
    {
     "name": "stdin",
     "output_type": "stream",
     "text": [
      "enter number = 10\n"
     ]
    },
    {
     "name": "stdout",
     "output_type": "stream",
     "text": [
      "0\n",
      "1\n",
      "0\n",
      "1\n",
      "0\n",
      "1\n",
      "0\n",
      "1\n",
      "0\n",
      "1\n",
      "10\n"
     ]
    }
   ],
   "source": [
    "a = int(input(\"enter number =\"))\n",
    "count = 0\n",
    "\n",
    "for i in range(a):\n",
    "    print(i % 2)\n",
    "    count += 1\n",
    "print(count)\n"
   ]
  },
  {
   "cell_type": "markdown",
   "id": "32d372a5-7e82-4650-8885-369034ea5906",
   "metadata": {},
   "source": [
    "Q 74.Ask the user to input two numbers, a and b. Use a loop to find the sum of all numbers between a and b (inclusive). ",
    "Handle if a > b by swapping or using a conditional structure."
   ]
  },
  {
   "cell_type": "code",
   "execution_count": 111,
   "id": "c1823f4f-318e-47ab-b440-49f56eb22eed",
   "metadata": {},
   "outputs": [
    {
     "name": "stdin",
     "output_type": "stream",
     "text": [
      "enter 1 number = 12\n",
      "enter 2 number = 14\n"
     ]
    },
    {
     "name": "stdout",
     "output_type": "stream",
     "text": [
      "sum of all number's = 39\n"
     ]
    }
   ],
   "source": [
    "a = int(input(\"enter 1 number =\"))\n",
    "b = int(input(\"enter 2 number =\"))\n",
    "sum = 0\n",
    "\n",
    "if a > b:\n",
    "    a,b = b,a\n",
    "    \n",
    "for i in range(a,b+1):\n",
    "    sum += i\n",
    "print(\"sum of all number's =\",sum)"
   ]
  },
  {
   "cell_type": "markdown",
   "id": "9388891d-1148-4977-8839-45387f7a21bd",
   "metadata": {},
   "source": [
    "Q 75.Ask the user to enter two numbers, a and b. Calculate and print the average of all numbers between them (inclusive)."
   ]
  },
  {
   "cell_type": "code",
   "execution_count": 112,
   "id": "c1302589-7853-427e-85a5-1ca5525004e7",
   "metadata": {},
   "outputs": [
    {
     "name": "stdin",
     "output_type": "stream",
     "text": [
      "enter 1 number = 123\n",
      "enter 2 number = 147\n"
     ]
    },
    {
     "name": "stdout",
     "output_type": "stream",
     "text": [
      "123\n",
      "147\n",
      "135.0\n"
     ]
    }
   ],
   "source": [
    "a = int(input(\"enter 1 number =\"))\n",
    "b = int(input(\"enter 2 number =\"))\n",
    "count = 0\n",
    "sum = 0\n",
    "if a > b:\n",
    "    a,b = b,a\n",
    "print(a)\n",
    "print(b)\n",
    "    \n",
    "for i in range(a,b+1):\n",
    "    sum += i\n",
    "    count += 1\n",
    "    avg = sum / count\n",
    "print(avg)"
   ]
  },
  {
   "cell_type": "markdown",
   "id": "18c44d62-8cc7-45c4-b495-abc4c0c07bde",
   "metadata": {},
   "source": [
    "Q 76.Ask the user for a number. Keep multiplying it by 10 using a loop until it becomes greater than 1000. Print how many steps it took."
   ]
  },
  {
   "cell_type": "code",
   "execution_count": 3,
   "id": "a99fbe29-d654-4d76-aff8-3d735e7bd74a",
   "metadata": {},
   "outputs": [
    {
     "name": "stdin",
     "output_type": "stream",
     "text": [
      "Enter number =  22\n"
     ]
    },
    {
     "name": "stdout",
     "output_type": "stream",
     "text": [
      "2\n"
     ]
    }
   ],
   "source": [
    "a = float(input(\"Enter number = \"))\n",
    "\n",
    "count = 0\n",
    "while a <= 1000:\n",
    "    a = a * 10  \n",
    "    count += 1\n",
    "print(count)\n"
   ]
  },
  {
   "cell_type": "markdown",
   "id": "c20afc13-3e3c-483d-9047-86e986d58a01",
   "metadata": {},
   "source": [
    "Q 77.Ask the user to enter a number n. Print all numbers from n to 1 that are not divisible by 3."
   ]
  },
  {
   "cell_type": "code",
   "execution_count": 5,
   "id": "94ea3879-e4e4-48d6-8b66-5460fcd49b27",
   "metadata": {},
   "outputs": [
    {
     "name": "stdin",
     "output_type": "stream",
     "text": [
      "enter number = 10\n"
     ]
    },
    {
     "name": "stdout",
     "output_type": "stream",
     "text": [
      "10\n",
      "8\n",
      "7\n",
      "5\n",
      "4\n",
      "2\n",
      "1\n"
     ]
    }
   ],
   "source": [
    "n = int(input(\"enter number =\"))\n",
    "\n",
    "for i in range(n,0,-1):\n",
    "    if i % 3 != 0:\n",
    "        print(i)"
   ]
  },
  {
   "cell_type": "markdown",
   "id": "a8cc86f4-adbb-4c8f-b7b8-55491c92492d",
   "metadata": {},
   "source": [
    "Q 78.Write a program that:\n",
    "Takes marks (0–100) for 5 subjects from the user.\n",
    "Calculates the average.\n",
    "Assigns a grade based on the average:\n",
    "A (90–100)\n",
    "B (80–89)\n",
    "C (70–79)\n",
    "D (60–69)\n",
    "F (below 60)\n",
    "Prints \"Passed\" if the grade is not F, otherwise “Failed”."
   ]
  },
  {
   "cell_type": "code",
   "execution_count": 6,
   "id": "53f82711-3146-454c-8ea3-d5533ea49cc5",
   "metadata": {},
   "outputs": [
    {
     "name": "stdin",
     "output_type": "stream",
     "text": [
      "enter marks of english = 56\n",
      "enter marks of maths = 58\n",
      "enter marks of science = 77\n",
      "enter marks of geography = 85\n",
      "enter marks of marathi = 99\n"
     ]
    },
    {
     "name": "stdout",
     "output_type": "stream",
     "text": [
      "you get C grade\n"
     ]
    }
   ],
   "source": [
    "eng = int(input(\"enter marks of english =\"))\n",
    "math = int(input(\"enter marks of maths =\"))\n",
    "sci = int(input(\"enter marks of science =\"))\n",
    "geo = int(input(\"enter marks of geography =\"))\n",
    "mar = int(input(\"enter marks of marathi =\"))\n",
    "total = eng + math + sci + geo + mar\n",
    "avg = (total / 500 )*100\n",
    "if 90 <= avg < 100:\n",
    "    print(\"you get A grade\")\n",
    "elif 80 <= avg < 89:\n",
    "    print(\"you get B grade\")\n",
    "elif 70 <= avg < 79:\n",
    "    print(\"you get C grade\")\n",
    "elif 60 <= avg < 69:\n",
    "    print(\"you get D grade\")\n",
    "else:\n",
    "    print(\"f\")"
   ]
  },
  {
   "cell_type": "markdown",
   "id": "3e427d21-a006-4518-ad3b-1fc59c80a005",
   "metadata": {},
   "source": [
    "Q 79.Write a program that:\n",
    "Accepts a number n.\n",
    "Finds and prints the sum of all prime numbers up to n."
   ]
  },
  {
   "cell_type": "code",
   "execution_count": 8,
   "id": "6b3902a4-9610-447b-b788-c4a6481a5e6f",
   "metadata": {},
   "outputs": [
    {
     "name": "stdin",
     "output_type": "stream",
     "text": [
      "enter number 55\n"
     ]
    },
    {
     "name": "stdout",
     "output_type": "stream",
     "text": [
      "55\n"
     ]
    }
   ],
   "source": [
    "n = int(input(\"enter number\"))\n",
    "\n",
    "total = 0\n",
    "\n",
    "for i in range(2,n + 1):\n",
    "    for j in range(2,i):\n",
    "        if i % j == 0:\n",
    "            break\n",
    "print(i)\n",
    "            "
   ]
  },
  {
   "cell_type": "markdown",
   "id": "1f37eed1-6a09-4686-bea8-1368e4ce6012",
   "metadata": {},
   "source": [
    "Q 80.Write a program that:\n",
    "Takes a number as input.\n",
    "Replaces each digit with its square.\n",
    "Joins and prints the result as a new number.\n",
    "Input: 123 → Output: 149"
   ]
  },
  {
   "cell_type": "code",
   "execution_count": 10,
   "id": "e55c9c77-56ed-4ed3-a9d1-dbf60c7fd651",
   "metadata": {},
   "outputs": [
    {
     "name": "stdin",
     "output_type": "stream",
     "text": [
      "enter n number = 123\n"
     ]
    },
    {
     "name": "stdout",
     "output_type": "stream",
     "text": [
      "149\n"
     ]
    }
   ],
   "source": [
    "a = input(\"enter n number =\")\n",
    "result = \"\"\n",
    "\n",
    "for digit in a:\n",
    "    square = int(digit) ** 2\n",
    "    result += str(square)\n",
    "print(result)"
   ]
  },
  {
   "cell_type": "markdown",
   "id": "5efc34b4-a996-4ccf-8b8a-27170fd0485f",
   "metadata": {},
   "source": [
    "Q 81.Ask the user for:\n",
    "A start number\n",
    "An end number\n",
    "A step\n",
    "Then:\n",
    "Calculate and print the sum of all numbers in that range.\n",
    "Example: Start = 1, End = 10, Step = 2 → Sum = 1 + 3 + 5 + 7 + 9 = 25"
   ]
  },
  {
   "cell_type": "code",
   "execution_count": 12,
   "id": "13872671-4f0b-4b53-a57b-4207fd4df643",
   "metadata": {},
   "outputs": [
    {
     "name": "stdin",
     "output_type": "stream",
     "text": [
      "enter start number = 10\n",
      "enetr end number = 15\n",
      "enter step = 2\n"
     ]
    },
    {
     "name": "stdout",
     "output_type": "stream",
     "text": [
      "count = 3\n",
      "sum = 36\n"
     ]
    }
   ],
   "source": [
    "a = int(input(\"enter start number =\"))\n",
    "b = int(input(\"enetr end number =\"))\n",
    "c = int(input(\"enter step =\"))\n",
    "\n",
    "count = 0\n",
    "sum = 0\n",
    "for i in range(a,b,c):\n",
    "    count += 1\n",
    "    sum += i\n",
    "    \n",
    "print(\"count =\",count)\n",
    "print(\"sum =\",sum)"
   ]
  },
  {
   "cell_type": "markdown",
   "id": "bff60d52-9913-4bf9-aa35-010a4777a969",
   "metadata": {},
   "source": [
    "Q 82.Ask for:\n",
    "Principal amount\n",
    "Annual interest rate\n",
    "Number of years\n",
    "Times interest is compounded per year\n",
    "Use the formula:  A = P (1 + r/n)^(nt)\n",
    "Print final amount A."
   ]
  },
  {
   "cell_type": "code",
   "execution_count": 14,
   "id": "419ff71b-24ca-4e3e-8c25-2a6adac6ff0c",
   "metadata": {},
   "outputs": [
    {
     "name": "stdin",
     "output_type": "stream",
     "text": [
      "enter pricipal ammount = 125478\n",
      "enetr rate of intrest = 12\n",
      "enter number if year = 9\n",
      "enter Times interest is compounded per year = 12\n"
     ]
    },
    {
     "name": "stdout",
     "output_type": "stream",
     "text": [
      "simple rate of intrest = 135516.24\n",
      "compound rate of intrest = 347960.37632733484\n"
     ]
    }
   ],
   "source": [
    "p = float(input(\"enter pricipal ammount =\"))\n",
    "r = float(input(\"enetr rate of intrest =\"))\n",
    "n = float(input(\"enter number if year =\"))\n",
    "t = float(input(\"enter Times interest is compounded per year =\"))\n",
    "\n",
    "A = p*r*n/100\n",
    "C = p *((1 + r /100)**n)\n",
    "print(\"simple rate of intrest =\",A)\n",
    "print(\"compound rate of intrest =\",C)"
   ]
  },
  {
   "cell_type": "markdown",
   "id": "f2441315-0814-4ebd-804b-54906794684a",
   "metadata": {},
   "source": [
    "Q 83.Ask the user for a number.\n",
    "If divisible by 2, print \"Divisible by 2\"\n",
    "If divisible by 3, add \" and 3\" to output\n",
    "If divisible by 5, add \" and 5\" to output\n",
    "If none apply, print \"Not divisible by 2, 3, or 5\""
   ]
  },
  {
   "cell_type": "code",
   "execution_count": 16,
   "id": "eb45777a-b844-45d9-8028-e18fcb50a3d9",
   "metadata": {},
   "outputs": [
    {
     "name": "stdin",
     "output_type": "stream",
     "text": [
      "enter a nunber = 1234\n"
     ]
    },
    {
     "name": "stdout",
     "output_type": "stream",
     "text": [
      "Divisible by 2 1234\n"
     ]
    }
   ],
   "source": [
    "num = int(input(\"enter a nunber =\"))\n",
    "\n",
    "if num % 2 == 0:\n",
    "    print(\"Divisible by 2\",num)\n",
    "elif num % 3 == 0:\n",
    "    print(\"Divisible by 3, add \",3,\"in\",num,\"=\",num + 3)\n",
    "elif num % 5 == 0:\n",
    "    print(\"Divisible by 5, add \",5,\"in\",num,\"=\",num + 5)\n",
    "else:\n",
    "    print(\"not divisible by 2,3 or 5\")"
   ]
  },
  {
   "cell_type": "markdown",
   "id": "92ca086a-1320-4ddc-91bc-dd1a1efe78d9",
   "metadata": {},
   "source": [
    "Q 84.Find all twin prime pairs between two numbers. Twin primes differ by 2 (e.g., 11 and 13)."
   ]
  },
  {
   "cell_type": "code",
   "execution_count": 17,
   "id": "3efb24cb-fbfd-4987-972e-73a363ec2cac",
   "metadata": {},
   "outputs": [
    {
     "name": "stdin",
     "output_type": "stream",
     "text": [
      "enter a number 1 = 10\n",
      "enter a number 2 = 30\n"
     ]
    },
    {
     "name": "stdout",
     "output_type": "stream",
     "text": [
      "11 and 13\n",
      "17 and 19\n"
     ]
    }
   ],
   "source": [
    "s = int(input(\"enter a number 1 =\"))\n",
    "e = int(input(\"enter a number 2 =\"))\n",
    "\n",
    "for n in range(s,e-1):\n",
    "    count = 0\n",
    "    for i in range(1,n+1):\n",
    "        if n % i == 0:\n",
    "            count += 1 \n",
    "    count2 = 0\n",
    "    for j in range(1,n+3):\n",
    "        if (n+2) % j == 0 :\n",
    "            count2 += 1\n",
    "    if count == 2 and count2 == 2:\n",
    "        print(n,\"and\",n+2)"
   ]
  },
  {
   "cell_type": "markdown",
   "id": "7d48d533-4a20-4edb-b698-2c0035b5e016",
   "metadata": {},
   "source": [
    "Q 85.Input a range and print all numbers that are palindromes."
   ]
  },
  {
   "cell_type": "code",
   "execution_count": 25,
   "id": "a5c3af47-5dc2-400b-bd1a-69bf59e2312e",
   "metadata": {},
   "outputs": [
    {
     "name": "stdin",
     "output_type": "stream",
     "text": [
      "Enter starting number =  10\n",
      "Enter ending numbe =  30\n"
     ]
    },
    {
     "name": "stdout",
     "output_type": "stream",
     "text": [
      "Number is palindrome: 11\n",
      "Number is palindrome: 22\n"
     ]
    }
   ],
   "source": [
    "s = int(input(\"Enter starting number = \"))\n",
    "e = int(input(\"Enter ending numbe = \"))\n",
    "\n",
    "for n in range(s, e + 1):\n",
    "    if str(n) == str(n)[::-1]:\n",
    "        print(\"Number is palindrome:\", n)\n"
   ]
  },
  {
   "cell_type": "markdown",
   "id": "463c3ea4-8d45-41e7-9efc-97cd9ed863d7",
   "metadata": {},
   "source": [
    "Q 86.A number is Harshad if it is divisible by the sum of its digits.\n",
    "Example: 18 → 1+8 = 9 → 18 % 9 == 0 → Harshad"
   ]
  },
  {
   "cell_type": "code",
   "execution_count": 26,
   "id": "680dea55-f1b4-4a7f-8f17-e040f7031555",
   "metadata": {},
   "outputs": [
    {
     "name": "stdin",
     "output_type": "stream",
     "text": [
      "enter number = 10\n"
     ]
    },
    {
     "name": "stdout",
     "output_type": "stream",
     "text": [
      "number is harshed\n"
     ]
    }
   ],
   "source": [
    "num = int(input(\"enter number =\"))\n",
    "sum = 0\n",
    "\n",
    "for digit in str(num):\n",
    "    sum += int(digit)\n",
    "    \n",
    "if num % sum == 0:\n",
    "    print(\"number is harshed\")\n",
    "else:\n",
    "    print(\"number is not harshed\")\n"
   ]
  },
  {
   "cell_type": "markdown",
   "id": "e97d67ca-31d9-4b7e-b742-aac807117d5a",
   "metadata": {},
   "source": [
    "Q 87.A triangular number is of the form n(n+1)/2. Check if the given number fits that pattern."
   ]
  },
  {
   "cell_type": "code",
   "execution_count": 27,
   "id": "680a13d2-c7ca-4fb5-8f4c-a1cb9bfdc4c3",
   "metadata": {},
   "outputs": [
    {
     "name": "stdin",
     "output_type": "stream",
     "text": [
      "enter number = 10\n"
     ]
    },
    {
     "name": "stdout",
     "output_type": "stream",
     "text": [
      "55.0\n"
     ]
    }
   ],
   "source": [
    "n = float(input(\"enter number =\"))\n",
    "\n",
    "t = n*(n+1)/2\n",
    "print(t)"
   ]
  },
  {
   "cell_type": "markdown",
   "id": "10b755a2-e50f-4e1f-8f2a-3c842cc608f8",
   "metadata": {},
   "source": [
    "Q 88.A Disarium number is one where the sum of its digits raised to the power of their positions is equal to the number.\n",
    "Example: 135 → 1¹ + 3² + 5³ = 135"
   ]
  },
  {
   "cell_type": "code",
   "execution_count": 29,
   "id": "a4168fea-928e-450f-8ecd-5e54bb9d3c7d",
   "metadata": {},
   "outputs": [
    {
     "name": "stdin",
     "output_type": "stream",
     "text": [
      "Enter number = 135\n"
     ]
    },
    {
     "name": "stdout",
     "output_type": "stream",
     "text": [
      "Disarium number = 135\n"
     ]
    }
   ],
   "source": [
    "num = input(\"Enter number =\")\n",
    "total = 0\n",
    "count = 1\n",
    "\n",
    "for digit in num:\n",
    "    total += int(digit) ** count\n",
    "    count += 1\n",
    "\n",
    "if total == int(num):\n",
    "    print(\"Disarium number =\",num)\n",
    "else:\n",
    "    print(\"not Disarium number =\",num)"
   ]
  },
  {
   "cell_type": "markdown",
   "id": "b5840a74-0b4e-4fe2-9afb-7d85baf3876b",
   "metadata": {},
   "source": [
    "Q 89.Write a python program to find Sum of Non-Prime Numbers in a Range"
   ]
  },
  {
   "cell_type": "code",
   "execution_count": 30,
   "id": "804247d6-70f1-4ae4-a6f1-59d678b4045e",
   "metadata": {},
   "outputs": [
    {
     "name": "stdin",
     "output_type": "stream",
     "text": [
      "enter starting number = 14\n",
      "enter ending number = 55\n"
     ]
    },
    {
     "name": "stdout",
     "output_type": "stream",
     "text": [
      "3966\n"
     ]
    }
   ],
   "source": [
    "start = int(input(\"enter starting number =\"))\n",
    "end = int(input(\"enter ending number =\"))\n",
    "total = 0\n",
    "for num in range(start, end + 1):\n",
    "    if num < 2:\n",
    "        total += num\n",
    "    else:\n",
    "        for i in range(2, num):\n",
    "            if num % i == 0:\n",
    "                total += num\n",
    "                \n",
    "print(total)"
   ]
  },
  {
   "cell_type": "markdown",
   "id": "3f81e211-5775-4b57-b42d-98a8320e16d5",
   "metadata": {},
   "source": [
    "Q 90.Check for Magic Number\n",
    "A number is a magic number if the repeated sum of its digits equals 1.\n",
    "Example: 1729 → 1+7+2+9 = 19 → 1+9 = 10 → 1+0 = 1"
   ]
  },
  {
   "cell_type": "code",
   "execution_count": 31,
   "id": "aea615c1-f3b1-465b-b7a1-be1a4897257e",
   "metadata": {},
   "outputs": [
    {
     "name": "stdin",
     "output_type": "stream",
     "text": [
      "Enter number =  1729\n"
     ]
    },
    {
     "name": "stdout",
     "output_type": "stream",
     "text": [
      " magic number\n"
     ]
    }
   ],
   "source": [
    "num = int(input(\"Enter number = \"))\n",
    "\n",
    "while num > 9:\n",
    "    total = 0\n",
    "    for digit in str(num):\n",
    "        total += int(digit)\n",
    "    num = total\n",
    "\n",
    "if num == 1:\n",
    "    print(\" magic number\")\n",
    "else:\n",
    "    print(\"not magic number\")"
   ]
  },
  {
   "cell_type": "markdown",
   "id": "19872cfb-2167-4d1b-867e-86ccee046485",
   "metadata": {},
   "source": [
    "Q 91.Find the Digital Root of a Number\n",
    "Repeatedly sum digits until a single-digit number is left.\n",
    "Input: 9875 → 9+8+7+5 = 29 → 2+9 = 11 → 1+1 = 2"
   ]
  },
  {
   "cell_type": "code",
   "execution_count": 32,
   "id": "cf55298a-7142-4990-bd03-bcb9ada166e8",
   "metadata": {},
   "outputs": [
    {
     "name": "stdin",
     "output_type": "stream",
     "text": [
      "Enter number = 9875\n"
     ]
    },
    {
     "name": "stdout",
     "output_type": "stream",
     "text": [
      "2\n"
     ]
    }
   ],
   "source": [
    "n = int(input(\"Enter number =\"))\n",
    "\n",
    "while n > 9:\n",
    "    total = 0\n",
    "    for digit in str(n):\n",
    "        total += int(digit)\n",
    "    n = total\n",
    "\n",
    "print(n)"
   ]
  },
  {
   "cell_type": "markdown",
   "id": "e85dd577-35ca-46fc-a47f-57d8947e0ec7",
   "metadata": {},
   "source": [
    "Q 92.Count All Numbers in a Range That Have No Zero Digit\n",
    "Example: 104 has a zero → Exclude | 123 → Include"
   ]
  },
  {
   "cell_type": "code",
   "execution_count": 33,
   "id": "b7a47ee5-4ef2-4cd1-9636-02588d09d6d8",
   "metadata": {},
   "outputs": [
    {
     "name": "stdin",
     "output_type": "stream",
     "text": [
      "Enter start number = 123\n",
      "Enter end number = 159\n"
     ]
    },
    {
     "name": "stdout",
     "output_type": "stream",
     "text": [
      "numbers with no zero digit 34\n"
     ]
    }
   ],
   "source": [
    "s = int(input(\"Enter start number =\"))\n",
    "e = int(input(\"Enter end number =\"))\n",
    "\n",
    "count = 0\n",
    "for i in range(s, e + 1):\n",
    "    if '0' not in str(i):\n",
    "        count += 1\n",
    "\n",
    "print(\"numbers with no zero digit\",count)"
   ]
  },
  {
   "cell_type": "markdown",
   "id": "0a317e63-50b5-40ec-8f9c-001e92895987",
   "metadata": {},
   "source": [
    "Q 93.Find All 2-Digit Numbers Where Sum of Digits Squared Equals the Number\n",
    "Example: 81 → 8 + 1 = 9 → 9² = 81"
   ]
  },
  {
   "cell_type": "code",
   "execution_count": 34,
   "id": "f78003fe-e439-4887-8420-cda26f624d01",
   "metadata": {},
   "outputs": [
    {
     "name": "stdin",
     "output_type": "stream",
     "text": [
      "Enter number = 81\n"
     ]
    },
    {
     "name": "stdout",
     "output_type": "stream",
     "text": [
      "81\n"
     ]
    }
   ],
   "source": [
    "n = int(input(\"Enter number =\"))\n",
    "\n",
    "while n > 100:\n",
    "    total = 0\n",
    "    for digit in str(n):\n",
    "        total += int(digit)** 2\n",
    "    n == total\n",
    "print(n)"
   ]
  },
  {
   "cell_type": "markdown",
   "id": "aa140f16-78cf-4faf-a007-d315c8783ce4",
   "metadata": {},
   "source": [
    "Q 94.Take a user input and find the difference between the product and sum of digits of a number."
   ]
  },
  {
   "cell_type": "code",
   "execution_count": 35,
   "id": "b07ff30f-b00f-4524-ad5d-b867977c8d11",
   "metadata": {},
   "outputs": [
    {
     "name": "stdin",
     "output_type": "stream",
     "text": [
      "Enter number = 147\n"
     ]
    },
    {
     "name": "stdout",
     "output_type": "stream",
     "text": [
      "product of number's = 28\n",
      "sum of number's = 12\n",
      "difference detween product and sum 28 - 12 = 16\n"
     ]
    }
   ],
   "source": [
    "n = int(input(\"Enter number =\"))\n",
    "sum = 0\n",
    "product = 1\n",
    "for digit in str(n):\n",
    "    sum += int(digit)\n",
    "    product *= int(digit)\n",
    "\n",
    "    \n",
    "print(\"product of number's =\",product)\n",
    "print(\"sum of number's =\",sum)\n",
    "d = product - sum\n",
    "print(\"difference detween product and sum\",product ,\"-\", sum,\"=\",d)"
   ]
  },
  {
   "cell_type": "markdown",
   "id": "f6068ec0-74c3-4a2f-9954-3ac2a77e1617",
   "metadata": {},
   "source": [
    "Q 95.Write a python program to check whether a number is a Duck number (contains zero but not as the first digit)"
   ]
  },
  {
   "cell_type": "code",
   "execution_count": 36,
   "id": "7383304f-cb47-4664-a7b2-7e021183705e",
   "metadata": {},
   "outputs": [
    {
     "name": "stdin",
     "output_type": "stream",
     "text": [
      "Enter number = 102\n"
     ]
    },
    {
     "name": "stdout",
     "output_type": "stream",
     "text": [
      "duck number\n"
     ]
    }
   ],
   "source": [
    "n = input(\"Enter number =\")\n",
    "\n",
    "for digit in str(n):\n",
    "    \n",
    "    if int(digit) == 0:\n",
    "        print(\"nor duck number\")\n",
    "        break\n",
    "    else:\n",
    "        print(\"duck number\")\n",
    "        break"
   ]
  },
  {
   "cell_type": "markdown",
   "id": "49faa3de-35f4-47aa-8747-1acde8ad856c",
   "metadata": {},
   "source": [
    "Q 96.Write a python program to check whether a number is an Automorphic number."
   ]
  },
  {
   "cell_type": "code",
   "execution_count": 38,
   "id": "1acf0614-71d3-47fc-ac08-a567fe49ba38",
   "metadata": {},
   "outputs": [
    {
     "name": "stdin",
     "output_type": "stream",
     "text": [
      "Enter number = 76\n"
     ]
    },
    {
     "name": "stdout",
     "output_type": "stream",
     "text": [
      "squre =  5776\n",
      "automorphic number \n"
     ]
    }
   ],
   "source": [
    "n = int(input(\"Enter number =\"))\n",
    "squre = n ** 2\n",
    "num = n\n",
    "count = 0\n",
    "while num > 0:\n",
    "    count += 1\n",
    "    num //= 10\n",
    "\n",
    "last_digit = squre % 10 ** count\n",
    "print(\"squre = \",squre)\n",
    "if last_digit == n:\n",
    "    print(\"automorphic number \")     \n",
    "else:\n",
    "    print(\"not automorphic number \")     \n",
    "\n",
    "        \n",
    "\n",
    "\n"
   ]
  },
  {
   "cell_type": "markdown",
   "id": "9eed56e1-bc20-424a-a7a0-80fc4d4843a3",
   "metadata": {},
   "source": [
    "Q 97.Write a python program to check if a number is a Trimorphic number"
   ]
  },
  {
   "cell_type": "code",
   "execution_count": 39,
   "id": "7fa2b405-698f-4307-98b6-e82befcb6837",
   "metadata": {},
   "outputs": [
    {
     "name": "stdin",
     "output_type": "stream",
     "text": [
      "Enter number = 76\n"
     ]
    },
    {
     "name": "stdout",
     "output_type": "stream",
     "text": [
      "cube =  438976\n",
      "trimorphic number \n"
     ]
    }
   ],
   "source": [
    "n = int(input(\"Enter number =\"))\n",
    "cube = n ** 3\n",
    "num = n\n",
    "count = 0\n",
    "while num > 0:\n",
    "    count += 1\n",
    "    num //= 10\n",
    "    \n",
    "\n",
    "last_digit = cube % 10 ** count\n",
    "print(\"cube = \",cube)\n",
    "\n",
    "if last_digit == n:\n",
    "    print(\"trimorphic number \")    \n",
    "else:\n",
    "    print(\"not trimorphic number \")     "
   ]
  },
  {
   "cell_type": "markdown",
   "id": "dcab75c9-addf-4b06-9c24-a2afc67f7b0d",
   "metadata": {},
   "source": [
    "Q 98.Write a python program to find the first digit of a number without converting to string."
   ]
  },
  {
   "cell_type": "code",
   "execution_count": 42,
   "id": "c6eee5c9-1743-4275-b6a1-06a303eb70f3",
   "metadata": {},
   "outputs": [
    {
     "name": "stdin",
     "output_type": "stream",
     "text": [
      "Enter a number:  4587\n"
     ]
    },
    {
     "name": "stdout",
     "output_type": "stream",
     "text": [
      "he first digit is = 4\n"
     ]
    }
   ],
   "source": [
    "num = int(input(\"Enter a number: \"))\n",
    "while num >= 10:\n",
    "    num = num // 10\n",
    "\n",
    "print(\"he first digit is =\", num)"
   ]
  },
  {
   "cell_type": "markdown",
   "id": "1a2de228-fdf3-4f44-ad68-50f7d5970151",
   "metadata": {},
   "source": [
    "Q 99.Given a list of names: [\"Alice\", \"Bob\", \"Charlie\", \"David\"], write a program that iterates through the list and prints \"Found Charlie!\" when \"Charlie\" is encountered, then exits the loop"
   ]
  },
  {
   "cell_type": "code",
   "execution_count": 43,
   "id": "4f174773-2be5-4b2b-b33e-c649d7367373",
   "metadata": {},
   "outputs": [
    {
     "name": "stdout",
     "output_type": "stream",
     "text": [
      "not charlie\n",
      "not charlie\n",
      "found Charlie!\n"
     ]
    }
   ],
   "source": [
    "names = [\"Alice\", \"Bob\", \"Charlie\", \"David\"]\n",
    "\n",
    "for c in names:\n",
    "    if c == \"Charlie\":\n",
    "        print(\"found Charlie!\")\n",
    "        break\n",
    "    else:\n",
    "        print(\"not charlie\")\n",
    "        \n",
    "        "
   ]
  },
  {
   "cell_type": "markdown",
   "id": "d05eea2e-eb67-4cfa-9b3d-4da3cd72ab5c",
   "metadata": {},
   "source": [
    "Q 100.Given a list of numbers: [10, 20, 33, 46, 55], write a program that only prints numbers divisible by 5. If a number is not divisible by 5, skip it using continue. "
   ]
  },
  {
   "cell_type": "code",
   "execution_count": 44,
   "id": "a90f63b4-8ab9-4ae7-b55c-a1ed5761d3d6",
   "metadata": {},
   "outputs": [
    {
     "name": "stdout",
     "output_type": "stream",
     "text": [
      "10\n",
      "20\n",
      "55\n"
     ]
    }
   ],
   "source": [
    "numbers = [10, 20, 33, 46, 55]\n",
    "\n",
    "for i in numbers:\n",
    "    if i % 5 == 0:\n",
    "        print(i)\n",
    "    else:\n",
    "        continue"
   ]
  },
  {
   "cell_type": "markdown",
   "id": "0bfe7022-f222-450c-8083-8fb796b72c38",
   "metadata": {},
   "source": [
    "Q 101.given list of numbers, e.g., [1, 2, 3, 4, 5, 6, 7, 8, 9, 10], write a program that:\n",
    "Uses continue to skip even numbers.\n",
    "Uses break to exit the loop if a number greater than 7 is encountered.\n",
    "Otherwise, it prints the odd numbers. "
   ]
  },
  {
   "cell_type": "code",
   "execution_count": 45,
   "id": "680d3c9a-6fe2-4c0e-979f-c0347cc5766a",
   "metadata": {},
   "outputs": [
    {
     "name": "stdout",
     "output_type": "stream",
     "text": [
      "1\n",
      "3\n",
      "5\n",
      "7\n"
     ]
    }
   ],
   "source": [
    "n = [1, 2, 3, 4, 5, 6, 7, 8, 9, 10]\n",
    "\n",
    "for i in n:\n",
    "    if i % 2 == 0:\n",
    "        continue\n",
    "    elif i > 7:\n",
    "        break\n",
    "    elif i % 2 != 0:\n",
    "        print(i)"
   ]
  },
  {
   "cell_type": "markdown",
   "id": "a0c9334b-4000-475a-ac19-be0a7768e6c6",
   "metadata": {},
   "source": [
    "Q 102.You have a list of numbers: data = [10, -5, 20, 0, 30, -15, 40]. Write a program that iterates through this list:\n",
    "If a number is negative, use continue to skip it.\n",
    "If a number is 0, use break to exit the loop entirely.\n",
    "Otherwise, print the square of the number. "
   ]
  },
  {
   "cell_type": "code",
   "execution_count": 46,
   "id": "5418eec8-ae3a-4aee-9984-2d4eb2de8cef",
   "metadata": {},
   "outputs": [
    {
     "name": "stdout",
     "output_type": "stream",
     "text": [
      "100\n",
      "400\n",
      "900\n",
      "1600\n"
     ]
    }
   ],
   "source": [
    "data = [10, -5, 20, 0, 30, -15, 40]\n",
    "\n",
    "for i in data:\n",
    "    if i <= 0:\n",
    "        continue\n",
    "    if i == 0:\n",
    "        break\n",
    "    else:\n",
    "        c = i ** 2\n",
    "        print(c)"
   ]
  },
  {
   "cell_type": "markdown",
   "id": "98ce0490-e89e-449c-ba46-5ca54f9c00e8",
   "metadata": {},
   "source": [
    "Q 103.Write a while loop that continues to prompt the user to enter a positive number. If the user enters a non-positive number or invalid input (like text), print an error message and use continue to ask again. Only accept positive numbers and use break once a valid positive number is received."
   ]
  },
  {
   "cell_type": "code",
   "execution_count": 47,
   "id": "ac48e109-daea-47a0-b5e3-4a68af3db70c",
   "metadata": {},
   "outputs": [
    {
     "name": "stdin",
     "output_type": "stream",
     "text": [
      "enter number = 123\n"
     ]
    },
    {
     "name": "stdout",
     "output_type": "stream",
     "text": [
      "error, enter valid numbeer\n"
     ]
    },
    {
     "name": "stdin",
     "output_type": "stream",
     "text": [
      "enter number = 0\n"
     ]
    },
    {
     "name": "stdout",
     "output_type": "stream",
     "text": [
      "your number is  0\n"
     ]
    }
   ],
   "source": [
    "n = int(input(\"enter number =\"))\n",
    "\n",
    "while n % 2 != 0:\n",
    "    print(\"error, enter valid numbeer\")\n",
    "    n = int(input(\"enter number =\"))\n",
    "\n",
    "\n",
    "print(\"your number is \",n)"
   ]
  },
  {
   "cell_type": "markdown",
   "id": "13fc3148-672b-4c88-9870-863cd35af133",
   "metadata": {},
   "source": [
    "Q 104.You have a list of student scores: scores = [85, 92, 78, 65, 95, 70, -1, 88, 55, 100]. Iterate through the list:\n",
    "If a score is negative, consider it an invalid entry, print a warning message, and use continue to skip it.\n",
    "If a score is 100, print \"Perfect Score!\" and use break to stop further processing (assuming you only need to acknowledge the first perfect score).\n",
    "Otherwise, print the score and indicate if it's a passing score (70 or above) or a failing score."
   ]
  },
  {
   "cell_type": "code",
   "execution_count": 48,
   "id": "7c472a64-4e8a-4cba-b43e-b3b81131766f",
   "metadata": {},
   "outputs": [
    {
     "name": "stdout",
     "output_type": "stream",
     "text": [
      "SCORES LIST\n",
      "[85, 92, 78, 65, 95, 70, -1, 88, 55, 100]\n",
      ".....................................\n",
      "pass, your score is above 70 = 85\n",
      ".....................................\n",
      "pass, your score is above 70 = 92\n",
      ".....................................\n",
      "pass, your score is above 70 = 78\n",
      ".....................................\n",
      "fail becouse your scores is bellow 70 = 65\n",
      ".....................................\n",
      "pass, your score is above 70 = 95\n",
      ".....................................\n",
      "pass, your score is above 70 = 70\n",
      ".....................................\n",
      "warning massage !, score is low = -1\n",
      ".....................................\n",
      "pass, your score is above 70 = 88\n",
      ".....................................\n",
      "fail becouse your scores is bellow 70 = 55\n",
      ".....................................\n",
      "perfect score ! = 100\n",
      ".....................................\n"
     ]
    }
   ],
   "source": [
    "scores = [85, 92, 78, 65, 95, 70, -1, 88, 55, 100]\n",
    "print(\"SCORES LIST\")\n",
    "print(scores)\n",
    "print(\".....................................\")\n",
    "\n",
    "for i in scores:\n",
    "    if i <= 0:\n",
    "        print(\"warning massage !, score is low =\",i)\n",
    "        print(\".....................................\")\n",
    "        continue\n",
    "    if i == 100:\n",
    "        print(\"perfect score ! =\",i)\n",
    "        print(\".....................................\")\n",
    "\n",
    "        break\n",
    "    elif i >= 70:\n",
    "        print(\"pass, your score is above 70 =\",i)\n",
    "        print(\".....................................\")\n",
    "\n",
    "    elif i <= 70:\n",
    "        print(\"fail becouse your scores is bellow 70 =\",i)\n",
    "        print(\".....................................\")"
   ]
  },
  {
   "cell_type": "markdown",
   "id": "d28dd6d1-551b-4186-8f9d-bdbce40f2e84",
   "metadata": {},
   "source": [
    "## Inbuild Function :"
   ]
  },
  {
   "cell_type": "markdown",
   "id": "2d0287ea-4b10-4936-b02b-c66418ca8b60",
   "metadata": {},
   "source": [
    "Inbuild Function's : Inbuilt functions in Python are the ready made functions provided by Python that you can use directly to perform our tasks."
   ]
  },
  {
   "cell_type": "markdown",
   "id": "549d9fc0-ca3a-447f-977f-d0e09ea8b175",
   "metadata": {},
   "source": [
    "## User Define Function :"
   ]
  },
  {
   "cell_type": "markdown",
   "id": "43f29444-818e-4ade-a263-d4f909609550",
   "metadata": {},
   "source": [
    "User Define Function's : This function's are written by the user from scratch there is a structure pre-defined in python which contains different component of a function and it has to be follow for each user define function."
   ]
  },
  {
   "cell_type": "markdown",
   "id": "44df21da-2133-4e0c-87b4-3b9e55cb165d",
   "metadata": {},
   "source": [
    "Q 105.Write a python Function to Check if a Number is Prime."
   ]
  },
  {
   "cell_type": "code",
   "execution_count": 56,
   "id": "c84a6340-27a2-4539-a58f-c992182d5893",
   "metadata": {},
   "outputs": [
    {
     "name": "stdin",
     "output_type": "stream",
     "text": [
      "enter number = 5\n"
     ]
    },
    {
     "name": "stdout",
     "output_type": "stream",
     "text": [
      "this is a prime number = 5\n",
      "this is a prime number = 5\n",
      "this is a prime number = 5\n"
     ]
    }
   ],
   "source": [
    "## A prime number is a whole number greater than 1 that has only two divisors = 1 and the number itself. \n",
    "def prime_number():\n",
    "    num = int(input(\"enter number =\"))\n",
    "    if num > 1:\n",
    "        for i in range(2,num):\n",
    "            if num % i == 0:\n",
    "                print(\"this is not a prime number =\",num)\n",
    "                break\n",
    "            \n",
    "            else:\n",
    "                print(\"this is a prime number =\",num)\n",
    "    else:\n",
    "        print(\"this is not a prime numbe =\",num)\n",
    "\n",
    "prime_number()"
   ]
  },
  {
   "cell_type": "markdown",
   "id": "b90d0ab3-1696-4ba7-8629-814060e2bead",
   "metadata": {},
   "source": [
    "Q 106.Write a function to calculate sum of digits of a number."
   ]
  },
  {
   "cell_type": "code",
   "execution_count": 57,
   "id": "2e94eb3b-040f-4316-a85b-0c5e4525da0f",
   "metadata": {},
   "outputs": [
    {
     "name": "stdin",
     "output_type": "stream",
     "text": [
      "enter number = 123\n"
     ]
    },
    {
     "name": "stdout",
     "output_type": "stream",
     "text": [
      "6\n"
     ]
    }
   ],
   "source": [
    "def sum():\n",
    "    num = int(input(\"enter number =\"))\n",
    "    total = 0\n",
    "    for i in str(num):\n",
    "        total += int(i)\n",
    "    print(total)\n",
    "sum()"
   ]
  },
  {
   "cell_type": "markdown",
   "id": "505866f5-f987-40b4-850b-7987a18c06ac",
   "metadata": {},
   "source": [
    "Q 107.Write a python function to Find the Sum of the First N Natural Numbers."
   ]
  },
  {
   "cell_type": "code",
   "execution_count": 58,
   "id": "7f2103bf-c09f-4da6-84f6-ae3f07a85d69",
   "metadata": {},
   "outputs": [
    {
     "name": "stdin",
     "output_type": "stream",
     "text": [
      "enter number = 10\n"
     ]
    },
    {
     "name": "stdout",
     "output_type": "stream",
     "text": [
      "55\n"
     ]
    }
   ],
   "source": [
    "def natural_numbers():\n",
    "    n = int(input(\"enter number =\"))\n",
    "    total = 0\n",
    "    count = 0\n",
    "    \n",
    "    for i in range(1,n + 1):\n",
    "        total += int(i)\n",
    "        count += 1\n",
    "        \n",
    "    print(total)\n",
    "    \n",
    "natural_numbers()"
   ]
  },
  {
   "cell_type": "markdown",
   "id": "4630136d-2efa-4adc-b6f9-46b4d1530573",
   "metadata": {},
   "source": [
    "Q 108.Write a python function to find the total number of vowels in a string ."
   ]
  },
  {
   "cell_type": "code",
   "execution_count": 59,
   "id": "0db971cc-3663-4586-a22c-3028d643263f",
   "metadata": {},
   "outputs": [
    {
     "name": "stdin",
     "output_type": "stream",
     "text": [
      "enter your name = abhi\n"
     ]
    },
    {
     "name": "stdout",
     "output_type": "stream",
     "text": [
      "total numbers of vowela 2\n"
     ]
    }
   ],
   "source": [
    "def vowels():\n",
    "    name = input(\"enter your name =\")\n",
    "   \n",
    "    \n",
    "    total = 0\n",
    "\n",
    "    for n in name:\n",
    "        if n == \"a\" or n == \"e\" or n == \"o\" or n == \"i\" or n == \"u\" :\n",
    "            \n",
    "            total += 1\n",
    "            \n",
    "    print(\"total numbers of vowela\",total)\n",
    "            \n",
    "vowels()\n",
    "\n",
    "    "
   ]
  },
  {
   "cell_type": "markdown",
   "id": "43564605-9941-479f-a921-b49dd47e8ed0",
   "metadata": {},
   "source": [
    "Q 109.Write a python function to calculate distance between two points."
   ]
  },
  {
   "cell_type": "code",
   "execution_count": 61,
   "id": "83dea532-9424-4434-9fdc-5ebe926e9d8e",
   "metadata": {},
   "outputs": [
    {
     "name": "stdin",
     "output_type": "stream",
     "text": [
      "Enter start number = 20\n",
      "Enter end number = 12\n"
     ]
    },
    {
     "name": "stdout",
     "output_type": "stream",
     "text": [
      "distance between two point's = 8\n"
     ]
    }
   ],
   "source": [
    "def distance():\n",
    "    d1 = int(input(\"Enter start number =\"))\n",
    "    d2 = int(input(\"Enter end number =\"))\n",
    "\n",
    "    dis = d1 - d2\n",
    "    print(\"distance between two point's =\",dis)\n",
    "distance()"
   ]
  },
  {
   "cell_type": "markdown",
   "id": "8ccaff91-8bf5-4b90-b5ca-30c3cd2d74ec",
   "metadata": {},
   "source": [
    "Q 110.Write a python function to calculate area of triangle ."
   ]
  },
  {
   "cell_type": "code",
   "execution_count": 62,
   "id": "a80f389c-5a98-4325-98be-bdb475a3fe42",
   "metadata": {},
   "outputs": [
    {
     "name": "stdin",
     "output_type": "stream",
     "text": [
      "enter base of a triangle = 123\n",
      "enter height of a triangle = 25\n"
     ]
    },
    {
     "name": "stdout",
     "output_type": "stream",
     "text": [
      "area of triangle = 1537.5\n"
     ]
    }
   ],
   "source": [
    "def area_of_triangle():\n",
    "    b = float(input(\"enter base of a triangle =\"))\n",
    "    h = float(input(\"enter height of a triangle =\"))\n",
    "    area = 0.5 * b * h\n",
    "    print(\"area of triangle =\",area)\n",
    "area_of_triangle()"
   ]
  },
  {
   "cell_type": "markdown",
   "id": "7a67105d-e404-4a08-bee1-a83de07ee1f1",
   "metadata": {},
   "source": [
    "Q 111.Write a python function to convert celsius temperature to Fahrenheit and vice versa."
   ]
  },
  {
   "cell_type": "code",
   "execution_count": 63,
   "id": "11455e90-d7ad-475f-9110-e0b0a8c65994",
   "metadata": {},
   "outputs": [
    {
     "name": "stdin",
     "output_type": "stream",
     "text": [
      "enter temperature in celsius = 41\n"
     ]
    },
    {
     "name": "stdout",
     "output_type": "stream",
     "text": [
      "temperature converted celsius to fehrenheit = 105.8\n"
     ]
    },
    {
     "name": "stdin",
     "output_type": "stream",
     "text": [
      "enter temperature in fahrenheit = 103\n"
     ]
    },
    {
     "name": "stdout",
     "output_type": "stream",
     "text": [
      "temperature converted fehrenheit to celsius = 39.44444444444444\n"
     ]
    }
   ],
   "source": [
    "def convert_temp():\n",
    "    c = float(input(\"enter temperature in celsius =\"))\n",
    "    fehrenhreit = (c * 9 / 5) + 32\n",
    "    \n",
    "    print(\"temperature converted celsius to fehrenheit =\",fehrenhreit)\n",
    "    \n",
    "    f = float(input(\"enter temperature in fahrenheit =\"))\n",
    "    celsius = (f - 32) * 5 / 9\n",
    "    \n",
    "    print(\"temperature converted fehrenheit to celsius =\",celsius)\n",
    "\n",
    "convert_temp()"
   ]
  },
  {
   "cell_type": "markdown",
   "id": "28918d02-8d4f-4278-b512-12a900f81ac4",
   "metadata": {},
   "source": [
    "Q 112.Write a python function to calculate compound interest and simple interest."
   ]
  },
  {
   "cell_type": "code",
   "execution_count": 64,
   "id": "825655d5-a762-4d0e-9a2e-69ecfcc43d79",
   "metadata": {},
   "outputs": [
    {
     "name": "stdin",
     "output_type": "stream",
     "text": [
      "enter principal ammount = 125478\n",
      "enter rate of interest = 23\n",
      "enter number of year's = 8\n",
      "enter compound interest = 12\n"
     ]
    },
    {
     "name": "stdout",
     "output_type": "stream",
     "text": [
      " ammount with compound interest is = 5.341954995561028e+49\n",
      "compound interest on ammount = -5.341954995561028e+49\n",
      "amoount with simple interest = 230879.52\n",
      "simple interest on your moount = 105401.51999999999\n"
     ]
    }
   ],
   "source": [
    "def interest():\n",
    "    principal = float(input(\"enter principal ammount =\"))\n",
    "    rate = float(input(\"enter rate of interest =\"))\n",
    "    time = float(input(\"enter number of year's =\"))\n",
    "    compound = float(input(\"enter compound interest =\"))\n",
    "    \n",
    "    ## compound interest\n",
    "    compound_interest = principal * (1 + rate / compound) ** (compound * time)\n",
    "    c_interest = principal - compound_interest\n",
    "    print(\" ammount with compound interest is =\",compound_interest)\n",
    "    print(\"compound interest on ammount =\",c_interest)\n",
    "\n",
    "    ## simple interest\n",
    "    simple_interest = (principal * rate * time) / 100\n",
    "    print(\"amoount with simple interest =\",simple_interest)\n",
    "    print(\"simple interest on your moount =\",simple_interest - principal)\n",
    "\n",
    "interest()"
   ]
  },
  {
   "cell_type": "markdown",
   "id": "c88d0291-1d10-4e22-9910-e7f4b5a05d02",
   "metadata": {},
   "source": [
    "Q 113.Write a menu driven program using functions for all arithmetic operations."
   ]
  },
  {
   "cell_type": "code",
   "execution_count": 66,
   "id": "fc4bf420-615b-45e4-b0c1-47c883d8d1af",
   "metadata": {},
   "outputs": [
    {
     "name": "stdin",
     "output_type": "stream",
     "text": [
      "enter 1st number = 20\n",
      "enter 2nd number = 12\n"
     ]
    },
    {
     "name": "stdout",
     "output_type": "stream",
     "text": [
      "addition of number's = 32\n",
      "substraction of number's = 8\n",
      "multiplication of number's =  240\n",
      "division of number's = 1.6666666666666667\n"
     ]
    }
   ],
   "source": [
    "def menu_driven():\n",
    "    a = int(input(\"enter 1st number =\"))\n",
    "    b = int(input(\"enter 2nd number =\"))\n",
    "\n",
    "    add = a + b\n",
    "    sub = a - b\n",
    "    multi = a * b\n",
    "    div = a / b\n",
    "    print(\"addition of number's =\",add)\n",
    "    print(\"substraction of number's =\",sub)\n",
    "    print(\"multiplication of number's = \",multi)\n",
    "    print(\"division of number's =\",div)\n",
    "\n",
    "menu_driven()"
   ]
  },
  {
   "cell_type": "markdown",
   "id": "2d980b8b-35a4-4fe8-9c75-7d2e28e5b7a6",
   "metadata": {},
   "source": [
    "Q 114.Write a function to print numbers when starting number and ending number is specified by the user."
   ]
  },
  {
   "cell_type": "code",
   "execution_count": 67,
   "id": "6a2e02a2-7624-4af6-8bdb-b1591bdfc47d",
   "metadata": {},
   "outputs": [
    {
     "name": "stdin",
     "output_type": "stream",
     "text": [
      "enter starting number = 10\n",
      "enter ending number = 15\n"
     ]
    },
    {
     "name": "stdout",
     "output_type": "stream",
     "text": [
      "10\n",
      "11\n",
      "12\n",
      "13\n",
      "14\n",
      "15\n"
     ]
    }
   ],
   "source": [
    "def numbers():\n",
    "    s = int(input(\"enter starting number =\"))\n",
    "    e = int(input(\"enter ending number =\"))\n",
    "\n",
    "    for i in range(s,e + 1):\n",
    "        print(i)\n",
    "numbers()"
   ]
  },
  {
   "cell_type": "markdown",
   "id": "75c0c852-8708-4262-888c-5bc5dd10c2cd",
   "metadata": {},
   "source": [
    "Q 115.Write a function to print “Welcome to Python, username”. The username should be entered by the user. "
   ]
  },
  {
   "cell_type": "code",
   "execution_count": 68,
   "id": "51a64917-701b-451f-8d05-e11e459070ca",
   "metadata": {},
   "outputs": [
    {
     "name": "stdin",
     "output_type": "stream",
     "text": [
      "enter your name = abhijeet\n"
     ]
    },
    {
     "name": "stdout",
     "output_type": "stream",
     "text": [
      "Welcome to Python abhijeet\n"
     ]
    }
   ],
   "source": [
    "def welcome():\n",
    "    username = input(\"enter your name =\")\n",
    "    print(\"Welcome to Python\",username)\n",
    "welcome()"
   ]
  },
  {
   "cell_type": "markdown",
   "id": "d90370c5-80ce-4975-99bb-c02e8c80abe0",
   "metadata": {},
   "source": [
    "Q 116.Write a python function to generate all divisors of a number."
   ]
  },
  {
   "cell_type": "code",
   "execution_count": 69,
   "id": "50623473-df66-48c5-8009-5828dc206e33",
   "metadata": {},
   "outputs": [
    {
     "name": "stdin",
     "output_type": "stream",
     "text": [
      "enter number = 123\n"
     ]
    },
    {
     "name": "stdout",
     "output_type": "stream",
     "text": [
      "1\n",
      "3\n",
      "41\n"
     ]
    }
   ],
   "source": [
    "def divisors():\n",
    "    n = int(input(\"enter number =\"))\n",
    "    for i in range(1,n):\n",
    "        digit = int(i)\n",
    "        if n % digit == 0:\n",
    "            print(digit)\n",
    "divisors()"
   ]
  },
  {
   "cell_type": "markdown",
   "id": "362e6548-8a18-4697-99a4-806d9d871633",
   "metadata": {},
   "source": [
    "Q 117.Write a Python function to find the maximum of three numbers."
   ]
  },
  {
   "cell_type": "code",
   "execution_count": 70,
   "id": "64aee29f-8567-46f9-8e5b-cd4902d8442f",
   "metadata": {},
   "outputs": [
    {
     "name": "stdin",
     "output_type": "stream",
     "text": [
      "enter 1 number = 12\n",
      "enter 2nd number = 14\n",
      "enter 3rd number = 45\n"
     ]
    },
    {
     "name": "stdout",
     "output_type": "stream",
     "text": [
      "this number are greater than other number's 45\n"
     ]
    }
   ],
   "source": [
    "def max_number():\n",
    "    a = int(input(\"enter 1 number =\"))\n",
    "    b = int(input(\"enter 2nd number =\"))\n",
    "    c = int(input(\"enter 3rd number =\"))\n",
    "\n",
    "    if a > b and a > c :\n",
    "        print(\"this number are greater than other number's\",a)\n",
    "    elif b > a and b > c :\n",
    "        print(\"this number are greater than other number's\",b)\n",
    "    else:\n",
    "        print(\"this number are greater than other number's\",c)\n",
    "\n",
    "max_number()"
   ]
  },
  {
   "cell_type": "markdown",
   "id": "2f9e053d-0552-41ba-8323-de845fb2ab68",
   "metadata": {},
   "source": [
    "Q 118.Write a Python function to create and print a list where the values are the squares of numbers between 1 and 30 (both included)."
   ]
  },
  {
   "cell_type": "code",
   "execution_count": 71,
   "id": "c5773a64-6021-43d3-a16a-37d2c71bd8cf",
   "metadata": {},
   "outputs": [
    {
     "name": "stdout",
     "output_type": "stream",
     "text": [
      "1\n",
      "4\n",
      "9\n",
      "16\n",
      "25\n",
      "36\n",
      "49\n",
      "64\n",
      "81\n",
      "100\n",
      "121\n",
      "144\n",
      "169\n",
      "196\n",
      "225\n",
      "256\n",
      "289\n",
      "324\n",
      "361\n",
      "400\n",
      "441\n",
      "484\n",
      "529\n",
      "576\n",
      "625\n",
      "676\n",
      "729\n",
      "784\n",
      "841\n",
      "900\n"
     ]
    }
   ],
   "source": [
    "def square():\n",
    "    a = 1\n",
    "    b = 30\n",
    "    sq = 0 \n",
    "    count = 0\n",
    "    for i in range(a,b + 1):\n",
    "        sq = int(i) ** 2\n",
    "        count += 1\n",
    "        print(sq)\n",
    "square()"
   ]
  },
  {
   "cell_type": "markdown",
   "id": "6cf06438-264d-45d6-b08f-e81dcd98468e",
   "metadata": {},
   "source": [
    "## Default Parameter :"
   ]
  },
  {
   "cell_type": "markdown",
   "id": "b40f6735-84bd-443b-a64c-ba473134547b",
   "metadata": {},
   "source": [
    "Default Parameter : The Default Parameter refer's to the default value's specified during function decleration."
   ]
  },
  {
   "cell_type": "markdown",
   "id": "ea1b1c0a-7012-471f-9d1d-c5ffcc1e48ea",
   "metadata": {},
   "source": [
    "Q 119.Write a Python function to check whether a number falls within a given range."
   ]
  },
  {
   "cell_type": "code",
   "execution_count": 79,
   "id": "8e6485c4-a303-4cae-9c69-e9fe25b35584",
   "metadata": {},
   "outputs": [
    {
     "name": "stdout",
     "output_type": "stream",
     "text": [
      "False\n"
     ]
    }
   ],
   "source": [
    "def in_range(num, start, end):\n",
    "    print(start <= num <= end)\n",
    "\n",
    "in_range(1,2,3)\n"
   ]
  },
  {
   "cell_type": "markdown",
   "id": "e0b48366-fa65-4da8-acfd-d18695b7aaae",
   "metadata": {},
   "source": [
    "Q 120.Create a Python program with user-defined functions to calculate the area of a triangle. "
   ]
  },
  {
   "cell_type": "code",
   "execution_count": 72,
   "id": "6bb03b40-132c-44a7-a0f5-800178d88844",
   "metadata": {},
   "outputs": [
    {
     "name": "stdin",
     "output_type": "stream",
     "text": [
      "enter the lenght of rectangle = 125\n",
      "enter the width of rectangle = 26\n"
     ]
    },
    {
     "name": "stdout",
     "output_type": "stream",
     "text": [
      "area of rectangle is =  3250\n"
     ]
    }
   ],
   "source": [
    "def area_of_rectangle():\n",
    "    l = int(input(\"enter the lenght of rectangle =\"))\n",
    "    w = int(input(\"enter the width of rectangle =\"))\n",
    "    a = l * w\n",
    "    print(\"area of rectangle is = \",a)\n",
    "area_of_rectangle()"
   ]
  },
  {
   "cell_type": "markdown",
   "id": "89dad0d7-d37b-4de1-b6a5-b33ce735ee23",
   "metadata": {},
   "source": [
    "Q 121.Write a Python program that defines user-defined functions to calculate the volume of a cube and a sphere ."
   ]
  },
  {
   "cell_type": "code",
   "execution_count": 73,
   "id": "5098af82-deda-4ab0-8067-14c9108ee33e",
   "metadata": {},
   "outputs": [
    {
     "name": "stdin",
     "output_type": "stream",
     "text": [
      "enter the side length of cube = 123\n"
     ]
    },
    {
     "name": "stdout",
     "output_type": "stream",
     "text": [
      "valume of the cube = 1860867\n"
     ]
    },
    {
     "name": "stdin",
     "output_type": "stream",
     "text": [
      "enter the redius of cube = 524\n"
     ]
    },
    {
     "name": "stdout",
     "output_type": "stream",
     "text": [
      "sphere of the cube = 338832275.52\n"
     ]
    }
   ],
   "source": [
    "def cube():\n",
    "    l = int(input(\"enter the side length of cube =\"))\n",
    "    valume = l ** 3\n",
    "    print(\"valume of the cube =\",valume)\n",
    "    \n",
    "    r = int(input(\"enter the redius of cube =\"))\n",
    "    sphere = 3/4 * 3.14 * (r ** 3)\n",
    "    print(\"sphere of the cube =\",sphere)\n",
    "\n",
    "\n",
    "cube()"
   ]
  },
  {
   "cell_type": "markdown",
   "id": "5891a3ef-f12c-4435-8f31-e3ac873ee583",
   "metadata": {},
   "source": [
    "Q 122.Write a Python program with a user-defined function is_right_triangle(side1, side2, side3) that takes the lengths of three sides of a triangle as input and returns True if it can form a right-angled triangle (using the Pythagorean theorem), and False otherwise. "
   ]
  },
  {
   "cell_type": "code",
   "execution_count": 74,
   "id": "8bd494ac-0faa-4fd5-9862-89e236aba25f",
   "metadata": {},
   "outputs": [
    {
     "name": "stdout",
     "output_type": "stream",
     "text": [
      "it's not a traingle = 125\n"
     ]
    }
   ],
   "source": [
    "def is_right_triangle(side1, side2, side3):\n",
    "    a = side1 + side2 + side3\n",
    "    \n",
    "    if a == 180:\n",
    "        print(\"it's a traingle =\",a)\n",
    "    else:\n",
    "        print(\"it's not a traingle =\",a)\n",
    "    \n",
    "    \n",
    "\n",
    "is_right_triangle(12,33,80)"
   ]
  },
  {
   "cell_type": "markdown",
   "id": "6c4a507d-1204-4ec1-a3d3-1c88f298f473",
   "metadata": {},
   "source": [
    "Q 123.Create a Python program with user-defined functions to calculate the volume and surface area of a cylinder. "
   ]
  },
  {
   "cell_type": "code",
   "execution_count": 75,
   "id": "7c144bc1-5975-43fc-96aa-a2976a44e064",
   "metadata": {},
   "outputs": [
    {
     "name": "stdin",
     "output_type": "stream",
     "text": [
      "enter the height of cylinder = 34\n",
      "enter the redius of cylinder = 23\n"
     ]
    },
    {
     "name": "stdout",
     "output_type": "stream",
     "text": [
      "valume of cylinder = 56476.04\n",
      "surface area of cylinder = 5199.84\n"
     ]
    }
   ],
   "source": [
    "def cylinder():\n",
    "    h = float(input(\"enter the height of cylinder =\"))\n",
    "    r = float(input(\"enter the redius of cylinder =\"))\n",
    "    \n",
    "    valume = 3.14 * h * (r ** 2)\n",
    "    \n",
    "    print(\"valume of cylinder =\",valume)\n",
    "    \n",
    "    surface =2 * 3.14 * r * h + 2 * 3.14 * r * 2\n",
    "    \n",
    "    print(\"surface area of cylinder =\",surface)\n",
    "\n",
    "cylinder()"
   ]
  },
  {
   "cell_type": "markdown",
   "id": "050b78bf-c7ef-49fc-9a54-36ae7552d83f",
   "metadata": {},
   "source": [
    "Q 124.Write a Python program that defines a user-defined function calculate_square_area(side) which takes the side length of a square as input and returns its area. "
   ]
  },
  {
   "cell_type": "code",
   "execution_count": 76,
   "id": "d1216139-1d21-4060-92f8-b4afd49217e1",
   "metadata": {},
   "outputs": [
    {
     "name": "stdout",
     "output_type": "stream",
     "text": [
      "square area = 484\n"
     ]
    }
   ],
   "source": [
    "def calculate_square_area(side):\n",
    "    area = side * side\n",
    "    \n",
    "    print(\"square area =\",area)\n",
    "\n",
    "calculate_square_area(22)\n",
    "    "
   ]
  },
  {
   "cell_type": "markdown",
   "id": "9b4c2b72-dd06-47ac-88db-5b8bb5c5b997",
   "metadata": {},
   "source": [
    "Q 125.Create a Python program with a user-defined function calculate_square_perimeter(side) that takes the side length of a square as input and returns its perimeter. "
   ]
  },
  {
   "cell_type": "code",
   "execution_count": 80,
   "id": "ea3c32b3-35f3-4dc2-a2e8-40df5c5da407",
   "metadata": {},
   "outputs": [
    {
     "name": "stdout",
     "output_type": "stream",
     "text": [
      "perimeter of square = 48\n"
     ]
    }
   ],
   "source": [
    "def calculate_square_perimeter(side):\n",
    "    perimeter = 4 * side\n",
    "    print(\"perimeter of square =\",perimeter)\n",
    "\n",
    "calculate_square_perimeter(12)"
   ]
  },
  {
   "cell_type": "markdown",
   "id": "a8a49eba-a747-48d6-bea4-d8ffc099fed0",
   "metadata": {},
   "source": [
    "Q 126.Write a Python program that defines a user-defined function calculate_hypotenuse(side1, side2) which takes the lengths of the two shorter sides (legs) of a right-angled triangle as input and returns the length of the hypotenuse"
   ]
  },
  {
   "cell_type": "code",
   "execution_count": 81,
   "id": "4d43c115-3d37-4952-ac62-5a9e3e4c785b",
   "metadata": {},
   "outputs": [
    {
     "name": "stdout",
     "output_type": "stream",
     "text": [
      "hypotenuse of a traingle = 22.360679774997898\n"
     ]
    }
   ],
   "source": [
    "def calculate_hypotenuse(side1, side2):\n",
    "    hypotenuse = (side1 ** 2 + side2 ** 2) ** 0.5\n",
    "    print(\"hypotenuse of a traingle =\",hypotenuse)\n",
    "\n",
    "calculate_hypotenuse(10,20)"
   ]
  },
  {
   "cell_type": "markdown",
   "id": "545e37cd-bbc1-4be2-a1e8-88b301e24e30",
   "metadata": {},
   "source": [
    "Q 127.Write a Python function to evaluate a linear function:\n",
    "f(x) = 3x + 7 ",
    "for a given value of x."
   ]
  },
  {
   "cell_type": "code",
   "execution_count": 82,
   "id": "ddc9a080-86cf-4334-b2c9-70baf48e9a7a",
   "metadata": {},
   "outputs": [
    {
     "name": "stdin",
     "output_type": "stream",
     "text": [
      "enter value of x = 12\n"
     ]
    },
    {
     "name": "stdout",
     "output_type": "stream",
     "text": [
      "f( 12.0 ) = 43.0\n"
     ]
    }
   ],
   "source": [
    "def evaluate_a_linear_function():\n",
    "    x = float(input(\"enter value of x =\"))\n",
    "    f = 3 * x + 7\n",
    "    print(\"f(\",x,\") =\",f)\n",
    "\n",
    "evaluate_a_linear_function()    "
   ]
  },
  {
   "cell_type": "markdown",
   "id": "351fd6bd-229d-44b6-ab27-7e6647736511",
   "metadata": {},
   "source": [
    "Q 128.Write a function that takes coefficients a, b, and c of a quadratic equation\n",
    "ax² + bx + c = 0  ",
    " and returns the real roots."
   ]
  },
  {
   "cell_type": "code",
   "execution_count": 83,
   "id": "bd6a20cd-d303-4f29-a76c-6b2123cf10af",
   "metadata": {},
   "outputs": [
    {
     "name": "stdout",
     "output_type": "stream",
     "text": [
      "two real roots = 2.0 and 1.0\n"
     ]
    }
   ],
   "source": [
    "def find_real_roots(a,b,c):\n",
    "    d = b ** 2 - 4 * a * c\n",
    "    if d < 0:\n",
    "        print(\"no real roots\")\n",
    "    elif d == 0:\n",
    "        root = (-b / (2 * a ))\n",
    "        print(\"one real root =\",root)\n",
    "    else:\n",
    "        root1 = (-b + d ** 0.5) / (2 * a )\n",
    "        root2 = (-b - d ** 0.5) / (2 * a )\n",
    "        print(\"two real roots =\",root1,\"and\",root2)\n",
    "\n",
    "\n",
    "find_real_roots(1,-3,2)"
   ]
  },
  {
   "cell_type": "markdown",
   "id": "5e5b6960-32fe-4223-a3e8-d88c57e38dae",
   "metadata": {},
   "source": [
    "Q 129.Write a function that evaluates the expression:\n",
    "f(x) = x² + 2x + 1 ",
    "for any x."
   ]
  },
  {
   "cell_type": "code",
   "execution_count": 84,
   "id": "681d73f3-2de3-46b5-942f-974d7337c46e",
   "metadata": {},
   "outputs": [
    {
     "name": "stdout",
     "output_type": "stream",
     "text": [
      "f( 20 ) 441\n"
     ]
    }
   ],
   "source": [
    "def evaluates_the_expression(x):\n",
    "    f = x ** 2 + 2 * x + 1\n",
    "    print(\"f(\",x,\")\",f)\n",
    "\n",
    "evaluates_the_expression(20)\n",
    "    "
   ]
  },
  {
   "cell_type": "markdown",
   "id": "6185ce75-4f46-4f6f-813e-55a4ee424263",
   "metadata": {},
   "source": [
    "Q 130.Write a function that checks whether a given number x is a solution to the equation:\n",
    "2x - 5 = 11"
   ]
  },
  {
   "cell_type": "code",
   "execution_count": 85,
   "id": "bc538616-1d29-4d89-b59f-ed26b7325a2e",
   "metadata": {},
   "outputs": [
    {
     "name": "stdout",
     "output_type": "stream",
     "text": [
      "condition false = 19\n"
     ]
    }
   ],
   "source": [
    "def solution_to_the_equation(x):\n",
    "    solution = 2 * x - 5\n",
    "    if solution == 11:\n",
    "        print(\"condition true =\",solution)\n",
    "    else:\n",
    "        print(\"condition false =\",solution)\n",
    "solution_to_the_equation(12)"
   ]
  },
  {
   "cell_type": "markdown",
   "id": "1a54569d-3578-42dd-9dde-66ef6b7d6403",
   "metadata": {},
   "source": [
    "Q 131.Given an expression x² + 2ax + a², write a function that returns its factorized form as a string."
   ]
  },
  {
   "cell_type": "code",
   "execution_count": 91,
   "id": "5e54f46f-c0f4-4f39-b0cf-ac75988dad9b",
   "metadata": {},
   "outputs": [
    {
     "name": "stdout",
     "output_type": "stream",
     "text": [
      "144 + 12\n"
     ]
    }
   ],
   "source": [
    "def factorized(a,x):\n",
    "    f = x ** 2 + 2 * a * x + a ** 2\n",
    "    print(x ** 2,\"+\",2+a)\n",
    "\n",
    "factorized(10,12)"
   ]
  },
  {
   "cell_type": "markdown",
   "id": "b2754258-af0e-4df4-a2bd-0ef787773f03",
   "metadata": {},
   "source": [
    "Q 132.Write a python program for a given a quadratic equation in standard form y = ax² + bx + c, find the vertex (h, k)."
   ]
  },
  {
   "cell_type": "code",
   "execution_count": 92,
   "id": "ef91e37c-fa95-4ee3-af36-ccbd8aedd2b9",
   "metadata": {},
   "outputs": [
    {
     "name": "stdout",
     "output_type": "stream",
     "text": [
      "vertex of equation = -3.4499999999999997\n",
      "-0.7 -3.4499999999999997\n"
     ]
    }
   ],
   "source": [
    "def find_vertex(a,b,c):\n",
    "    h = -b / (2 * a)\n",
    "    k = a * h ** 2 + b * h + c\n",
    "    x = h\n",
    "   \n",
    "    y = a * x ** 2 + b * x + c\n",
    "    print(\"vertex of equation =\",y)\n",
    "    print(h,k)\n",
    "\n",
    "find_vertex(5,7,-1)"
   ]
  },
  {
   "cell_type": "markdown",
   "id": "54286183-44bf-4314-bd7a-ab5d7246941e",
   "metadata": {},
   "source": [
    "Q 133.Write a function that returns the sum of the first n natural numbers using the formula\n",
    "S = n(n + 1)/2"
   ]
  },
  {
   "cell_type": "code",
   "execution_count": 93,
   "id": "b1598d09-53fa-4eca-9e10-e46c83f09dde",
   "metadata": {},
   "outputs": [
    {
     "name": "stdout",
     "output_type": "stream",
     "text": [
      "sum of natural numbeer's = 325.0\n"
     ]
    }
   ],
   "source": [
    "def  natural_numbers(n):\n",
    "    s = n * (n + 1) / 2\n",
    "    print(\"sum of natural numbeer's =\",s)\n",
    "\n",
    "natural_numbers(25)"
   ]
  },
  {
   "cell_type": "markdown",
   "id": "0b730d83-ed3a-437c-a08d-e8d56fb4a66d",
   "metadata": {},
   "source": [
    "Q 134.Write a Python program that defines a user-defined function calculate_rhombus_area(diagonal1, diagonal2) which takes the lengths of the two diagonals of a rhombus as input and returns its area     "
   ]
  },
  {
   "cell_type": "code",
   "execution_count": 94,
   "id": "75a9e566-68e8-49cc-bcfc-0669a03b380e",
   "metadata": {},
   "outputs": [
    {
     "name": "stdout",
     "output_type": "stream",
     "text": [
      "calculate rhombus area = 1485.0\n"
     ]
    }
   ],
   "source": [
    "def calculate_rhombus_area(diagonal1, diagonal2):\n",
    "    area = (diagonal1 * diagonal2) / 2\n",
    "    print(\"calculate rhombus area =\",area)\n",
    "\n",
    "calculate_rhombus_area(45,66)"
   ]
  },
  {
   "cell_type": "markdown",
   "id": "bd15b6db-68d5-4822-9d94-91b8d3f3fc44",
   "metadata": {},
   "source": [
    "Q 135.Create a Python program with a user-defined function calculate_rhombus_perimeter(side) that takes the side length of a rhombus as input and returns its perimeter.\n",
    "Then, get user input for the side length and print the calculated perimeter. "
   ]
  },
  {
   "cell_type": "code",
   "execution_count": 95,
   "id": "b75c57ad-4d89-40f3-96a5-d7b9dba378d6",
   "metadata": {},
   "outputs": [
    {
     "name": "stdout",
     "output_type": "stream",
     "text": [
      "rhombus perimeter = 396\n"
     ]
    }
   ],
   "source": [
    "def calculate_rhombus_perimeter(side):\n",
    "    perimeter = 4 * side\n",
    "    print(\"rhombus perimeter =\",perimeter)\n",
    "\n",
    "calculate_rhombus_perimeter(99)"
   ]
  },
  {
   "cell_type": "markdown",
   "id": "bd932aa7-6c82-4bc7-8d71-922c8477a2ac",
   "metadata": {},
   "source": [
    "Q 136.Write a Python program that defines a user-defined function get_line_equation(x1, y1, x2, y2) which takes the coordinates of two points (x1, y1) and (x2, y2) and returns the slope and y-intercept of the line passing through them. The function should return a tuple (m, c) representing the slope (m) and y-intercept (c) in the slope-intercept form (y = mx + c). Handle the case of vertical lines (undefined slope) appropriately (e.g., return None for slope and the x-intercept). "
   ]
  },
  {
   "cell_type": "code",
   "execution_count": 96,
   "id": "6781ed35-92ce-46c2-9689-b37e970935ef",
   "metadata": {},
   "outputs": [
    {
     "name": "stdout",
     "output_type": "stream",
     "text": [
      "slope m = 1.0 and y-intercepting line c 3.0\n"
     ]
    }
   ],
   "source": [
    "def get_line_equation(x1, y1, x2, y2):\n",
    "    if x1 == x2:\n",
    "        print(\"none intercept\", x1)\n",
    "\n",
    "    else:\n",
    "        m = (y2 - y1) / (x2 - x1)\n",
    "        c = m * x1 + y1\n",
    "        print(\"slope m =\",m ,\"and y-intercepting line c\",c)\n",
    "\n",
    "get_line_equation(1,2,3,4)"
   ]
  },
  {
   "cell_type": "markdown",
   "id": "de043533-5ace-43b9-a0a1-c5958a87e043",
   "metadata": {},
   "source": [
    "Q 137.Write a Python program that defines a user-defined function calculate_trapezium_area(base1, base2, height) which takes the lengths of the two parallel bases and the height of a trapezium (trapezoid) as input and returns its area."
   ]
  },
  {
   "cell_type": "code",
   "execution_count": 97,
   "id": "a39ed7e5-941d-4e08-b34a-f233e856c0db",
   "metadata": {},
   "outputs": [
    {
     "name": "stdout",
     "output_type": "stream",
     "text": [
      "trapezium area = 600.0\n"
     ]
    }
   ],
   "source": [
    "def calculate_trapezium_area(base1, base2, height):\n",
    "    area = 0.5 * ( base1 + base2 ) * height\n",
    "    print(\"trapezium area =\",area)\n",
    "\n",
    "calculate_trapezium_area(10,20,40)"
   ]
  },
  {
   "cell_type": "markdown",
   "id": "056c0594-e65d-44a4-9f0f-3ef7cecb1ef0",
   "metadata": {},
   "source": [
    "Q 138.Write a Python program that defines a user-defined function calculate_dot_product(vec1_x, vec1_y, vec2_x, vec2_y) which takes the x and y components of two 2D vectors as input and returns their dot product.\n",
    "Then, get user input for the components of two vectors and print their dot product."
   ]
  },
  {
   "cell_type": "code",
   "execution_count": 98,
   "id": "2a45ec42-5fba-4ae1-a268-3918c2490603",
   "metadata": {},
   "outputs": [
    {
     "name": "stdout",
     "output_type": "stream",
     "text": [
      "10\n"
     ]
    }
   ],
   "source": [
    "def calculate_dot_product(vec1_x, vec1_y, vec2_x, vec2_y):\n",
    "   ### vector1 = vec1_x * vec1_y\n",
    "   ### vector2 = vec2_x * vec2_y\n",
    "    vector1_vector2 = (vec1_x * vec1_y) + (vec2_x * vec2_y) \n",
    "    print(vector1_vector2)\n",
    "\n",
    "\n",
    "calculate_dot_product(2,3,4,1)    \n",
    "    "
   ]
  },
  {
   "cell_type": "markdown",
   "id": "b3bbe763-7b5d-4857-9c4f-99915722c27f",
   "metadata": {},
   "source": [
    "Q 139.Create a Python program with a user-defined function calculate_factorial(n) that takes a non-negative integer n as input and returns its factorial. The factorial of a number n is the product of all positive integers less than or equal to n. For example, 5 factorial (5!) is 5 * 4 * 3 * 2 * 1 = 120"
   ]
  },
  {
   "cell_type": "code",
   "execution_count": 99,
   "id": "b5783292-cc9a-434b-a500-8b37188cebae",
   "metadata": {},
   "outputs": [
    {
     "name": "stdout",
     "output_type": "stream",
     "text": [
      "120\n"
     ]
    }
   ],
   "source": [
    "def calculate_factorial(n):\n",
    "    count = 0\n",
    "    sum = 1\n",
    "   \n",
    "    \n",
    "    for i in range(n , 1,-1):\n",
    "        sum *= i\n",
    "        count += 1\n",
    "    print(sum)\n",
    "\n",
    "calculate_factorial(5)"
   ]
  },
  {
   "cell_type": "markdown",
   "id": "82e2433a-c65f-48de-b81d-7e31e3f886a5",
   "metadata": {},
   "source": [
    "Q 140.Write a Python program that defines a user-defined function calculate_mean(numbers_list) which takes a list of numbers as input and returns their arithmetic mean (average). The mean is the sum of all numbers divided by the count of numbers."
   ]
  },
  {
   "cell_type": "code",
   "execution_count": 100,
   "id": "f3cbcbc6-b3e4-4445-9ed7-605f6f9e8bf1",
   "metadata": {},
   "outputs": [
    {
     "name": "stdout",
     "output_type": "stream",
     "text": [
      "3.0\n"
     ]
    }
   ],
   "source": [
    "def calculate_mean(numbers_list):\n",
    "    count = 0\n",
    "    sum = 0\n",
    "    \n",
    "    for i in numbers_list:\n",
    "        \n",
    "        sum += i\n",
    "        \n",
    "        count += 1\n",
    "        \n",
    "        mean = (sum / count )\n",
    "        \n",
    "    print(mean)\n",
    "\n",
    "calculate_mean([1,2,3,4,5])        "
   ]
  },
  {
   "cell_type": "markdown",
   "id": "95ca189b-7a4e-4a0c-b16a-d111928502f3",
   "metadata": {},
   "source": [
    "Q 141.Write a Python program that defines a user-defined function sum_list_elements(numbers_list) which takes a list of numbers as input and returns the sum of all elements in the list. You should not use the built-in sum() function. Use a loop instead."
   ]
  },
  {
   "cell_type": "code",
   "execution_count": 101,
   "id": "ca3f97e7-c729-4b2c-81ba-28d104acf0a9",
   "metadata": {},
   "outputs": [
    {
     "name": "stdout",
     "output_type": "stream",
     "text": [
      "sum of all element = 20\n"
     ]
    }
   ],
   "source": [
    "def sum_list_elements(numbers_list):\n",
    "    sum = 0\n",
    "    \n",
    "    for i in numbers_list:\n",
    "        sum += i\n",
    "        \n",
    "    print(\"sum of all element =\",sum)\n",
    "\n",
    "sum_list_elements([2,4,6,8])"
   ]
  },
  {
   "cell_type": "markdown",
   "id": "cddb7054-bb98-4a74-9ee6-bcf7c090a2a9",
   "metadata": {},
   "source": [
    "Q 142.Create a Python program with a user-defined function find_largest_element(numbers_list) that takes a list of numbers as input and returns the largest element in that list. You should not use the built-in max() function. Use a loop and a variable to keep track of the largest number found so far."
   ]
  },
  {
   "cell_type": "code",
   "execution_count": 102,
   "id": "758095ce-b7a3-4939-83c8-020af645a73d",
   "metadata": {},
   "outputs": [
    {
     "name": "stdout",
     "output_type": "stream",
     "text": [
      "3\n"
     ]
    }
   ],
   "source": [
    "def find_largest_element(numbers_list):\n",
    "    large = numbers_list[0]\n",
    "    \n",
    "    for i in numbers_list:\n",
    "        \n",
    "        if i > large:\n",
    "            \n",
    "            large = i\n",
    "    print(large)\n",
    "find_largest_element([1,2,3])"
   ]
  },
  {
   "cell_type": "markdown",
   "id": "be606871-9d61-42c7-811d-6fa35507afe5",
   "metadata": {},
   "source": [
    "Q 143.Write a python Function to Check for Twin Primes\n",
    "Two numbers are twin primes if they are both prime and differ by 2."
   ]
  },
  {
   "cell_type": "code",
   "execution_count": 104,
   "id": "20a61182-2820-420e-86e2-987c73e2ea70",
   "metadata": {},
   "outputs": [
    {
     "name": "stdin",
     "output_type": "stream",
     "text": [
      "enter 1st number = 100\n",
      "enter 2nd number = 200\n"
     ]
    },
    {
     "name": "stdout",
     "output_type": "stream",
     "text": [
      "101 and 103\n",
      "107 and 109\n",
      "137 and 139\n",
      "149 and 151\n",
      "179 and 181\n",
      "191 and 193\n",
      "197 and 199\n"
     ]
    }
   ],
   "source": [
    "def twin_prime():\n",
    "    start = int(input(\"enter 1st number =\"))\n",
    "    end = int(input(\"enter 2nd number =\"))\n",
    "\n",
    "    for n in range(start,end - 1):\n",
    "        count = 0\n",
    "        for i in range(1,n+1):\n",
    "            if n % i == 0:\n",
    "                count += 1\n",
    "            count2 = 0\n",
    "        for j in range(1,n+3):\n",
    "            if (n + 2) % j == 0:\n",
    "                count2 += 1\n",
    "        if count == 2 and count2 == 2:\n",
    "            print(n,\"and\",n+2)\n",
    "twin_prime()"
   ]
  },
  {
   "cell_type": "markdown",
   "id": "6c382784-b285-4c12-b68b-0e990fdd8233",
   "metadata": {},
   "source": [
    "Q 144.Write a python function to find  Greatest Common Divisor (GCD) using Euclid’s algorithm"
   ]
  },
  {
   "cell_type": "code",
   "execution_count": 105,
   "id": "0b1e95f6-b7e3-4088-85d7-8bb787a39002",
   "metadata": {},
   "outputs": [
    {
     "name": "stdin",
     "output_type": "stream",
     "text": [
      "enter 1st number = 123\n",
      "enter 2nd number = 154\n"
     ]
    },
    {
     "name": "stdout",
     "output_type": "stream",
     "text": [
      "154\n",
      "123\n",
      "31\n",
      "30\n",
      "1\n"
     ]
    }
   ],
   "source": [
    "def gcd_algo():\n",
    "    a = int(input(\"enter 1st number =\"))\n",
    "    b = int(input(\"enter 2nd number =\"))\n",
    "    \n",
    "\n",
    "    while b != 0:\n",
    "        a,b = b, a % b\n",
    "        print(a)\n",
    "\n",
    "gcd_algo()"
   ]
  },
  {
   "cell_type": "markdown",
   "id": "01d37547-f5f6-4c5d-8bb5-c3c96a38c068",
   "metadata": {},
   "source": [
    "Q 145.Write a python function to find Midpoint of a line segment"
   ]
  },
  {
   "cell_type": "code",
   "execution_count": 106,
   "id": "24477509-462b-4bae-8e7e-4e46576741ea",
   "metadata": {},
   "outputs": [
    {
     "name": "stdout",
     "output_type": "stream",
     "text": [
      "(2.0, 3.0)\n"
     ]
    }
   ],
   "source": [
    "def Midpoint_of_line_segment(x1,y1,x2,y2):\n",
    "    midpoint = (x, y) = ((x1 + x2)/2, (y1 + y2)/2)\n",
    "    print(midpoint)\n",
    "Midpoint_of_line_segment(1,2,3,4)"
   ]
  },
  {
   "cell_type": "markdown",
   "id": "bb02a534-2ad9-45ed-9047-1d4d52523390",
   "metadata": {},
   "source": [
    "Q 146.Write a python function to find Equation of the perpendicular bisector of segment (x1, y1)-(x2, y2)"
   ]
  },
  {
   "cell_type": "code",
   "execution_count": 2,
   "id": "35ada80c-4bf9-4668-86c1-8e48e1775439",
   "metadata": {},
   "outputs": [
    {
     "name": "stdout",
     "output_type": "stream",
     "text": [
      "The perpendicular bisector is y = 6.0\n"
     ]
    }
   ],
   "source": [
    "def perpendicular_bisector_of_segment(x1,x2,y1,y2):\n",
    "    mid_x = (x1 + x2) / 2\n",
    "    mid_y = (y1 + y2) / 2 \n",
    "    perp_slope = 1\n",
    "    if x2 - x1 == 0:\n",
    "    \n",
    "        print(\"original line is vertical\")\n",
    "        return\n",
    "    slope = (y2 - y1 ) / (x2 - x1)\n",
    "\n",
    "    if slope == 0:\n",
    "        print(\"original line is horizontal\")\n",
    "        return\n",
    "    prep_slope = -1 / slope\n",
    "\n",
    "    c = mid_y - prep_slope * mid_x\n",
    "    print(\"The perpendicular bisector is y =\", perp_slope + c)\n",
    "    \n",
    "        \n",
    "    \n",
    "\n",
    "perpendicular_bisector_of_segment(1,2,3,4)"
   ]
  },
  {
   "cell_type": "markdown",
   "id": "606e1415-d2a0-48b0-b375-47ee9a690376",
   "metadata": {},
   "source": [
    "Q 147.Write roman_to_int(roman_str) that converts Roman numerals to integers without using dictionaries."
   ]
  },
  {
   "cell_type": "code",
   "execution_count": 108,
   "id": "f560700a-c2fd-4c4b-9934-5454493ab567",
   "metadata": {},
   "outputs": [
    {
     "name": "stdout",
     "output_type": "stream",
     "text": [
      "500\n"
     ]
    }
   ],
   "source": [
    "def roman_to_int(ro):\n",
    "    \n",
    "    if ro == \"I\" :\n",
    "        print(\"1\")\n",
    "    elif ro == \"V\" :\n",
    "        print(\"10\")\n",
    "    elif ro == \"X\" :\n",
    "        print(\"100\")\n",
    "    elif ro == \"D\" :\n",
    "        print(\"500\")\n",
    "    elif ro == \"M\" :\n",
    "        print(\"1000\")\n",
    "    else :\n",
    "        print(0)\n",
    "\n",
    "roman_to_int(\"D\")\n",
    "    \n",
    "    "
   ]
  },
  {
   "cell_type": "markdown",
   "id": "8801b39d-5406-4cd1-b0aa-9cd967e341bd",
   "metadata": {},
   "source": [
    "Q 148.Write a python program to Calculate HCF Using Subtraction Method"
   ]
  },
  {
   "cell_type": "code",
   "execution_count": 113,
   "id": "e62aa119-2d3d-4c2c-b793-9ab1d3c49e58",
   "metadata": {},
   "outputs": [
    {
     "name": "stdin",
     "output_type": "stream",
     "text": [
      "enter 1st value = 10\n",
      "enter 2nd value = 50\n"
     ]
    },
    {
     "name": "stdout",
     "output_type": "stream",
     "text": [
      "HFC is = 10\n",
      "HFC is = 10\n",
      "HFC is = 10\n",
      "HFC is = 10\n"
     ]
    }
   ],
   "source": [
    "def Calculate_HCF_Using_Subtraction_Method():\n",
    "    a = int(input(\"enter 1st value =\"))\n",
    "    b = int(input(\"enter 2nd value =\"))\n",
    "    while a != b:\n",
    "        if a > b:\n",
    "            a =(a - b)\n",
    "            \n",
    "        else:\n",
    "            b = (b - a)\n",
    "        print(\"HFC is =\",a)\n",
    "\n",
    "Calculate_HCF_Using_Subtraction_Method()            \n",
    "        "
   ]
  },
  {
   "cell_type": "markdown",
   "id": "ae38b896-4307-4583-997f-d0024a3beb0a",
   "metadata": {},
   "source": [
    "Q 149.Write a python program Check for Buzz Number\n",
    "\n",
    "A number is a Buzz Number if it ends with 7 or is divisible by 7.\n",
    "Write is_buzz(n)."
   ]
  },
  {
   "cell_type": "code",
   "execution_count": 117,
   "id": "f9ee017a-15a5-4b57-8ff6-21560cb3b436",
   "metadata": {},
   "outputs": [
    {
     "name": "stdin",
     "output_type": "stream",
     "text": [
      "enter number = 7\n"
     ]
    },
    {
     "name": "stdout",
     "output_type": "stream",
     "text": [
      "it's buzz number = 7\n"
     ]
    }
   ],
   "source": [
    "def is_buzz():\n",
    "    num = int(input(\"enter number =\"))\n",
    "    if num % 10 == 7 or num % 7 == 0:\n",
    "        print(\"it's buzz number =\",num)\n",
    "\n",
    "    else:\n",
    "        print(\"is not buzz number =\",num)\n",
    "\n",
    "        \n",
    "is_buzz()        "
   ]
  },
  {
   "cell_type": "markdown",
   "id": "a9db638d-e177-4c8c-a952-a57d8354bb60",
   "metadata": {},
   "source": [
    "Q 150.Write a python program to check Magic Number \n",
    "\n",
    "A number is a Magic Number if the sum of its digits is repeated until a single digit is obtained and that is 1.\n",
    "Example: 199 → 1+9+9=19 → 1+9=10 → 1+0 = 1 → Magic"
   ]
  },
  {
   "cell_type": "code",
   "execution_count": 119,
   "id": "ba65e682-9768-49ee-91b7-a2ebed550151",
   "metadata": {},
   "outputs": [
    {
     "name": "stdin",
     "output_type": "stream",
     "text": [
      "Enter number =  199\n"
     ]
    },
    {
     "name": "stdout",
     "output_type": "stream",
     "text": [
      " magic number\n"
     ]
    }
   ],
   "source": [
    "def magic_number():\n",
    "    num = int(input(\"Enter number = \"))\n",
    "    while num > 9:\n",
    "        total = 0\n",
    "        for digit in str(num):\n",
    "            total += int(digit)\n",
    "            num = total\n",
    "    if num == 1:\n",
    "        print(\" magic number\")\n",
    "    else:\n",
    "        print(\"not magic number\")\n",
    "\n",
    "magic_number()"
   ]
  },
  {
   "cell_type": "markdown",
   "id": "4db99f32-6b7e-4123-9f97-fb9609b1708f",
   "metadata": {},
   "source": [
    "Q 151.Write a python program to find Sum of First N Even Numbers\n",
    "\n",
    "Write sum_of_evens(n) to return sum of first n even numbers manually."
   ]
  },
  {
   "cell_type": "code",
   "execution_count": 120,
   "id": "edee199e-77f0-4efc-9bd2-4fb16690ae89",
   "metadata": {},
   "outputs": [
    {
     "name": "stdin",
     "output_type": "stream",
     "text": [
      "enter number = 100\n"
     ]
    },
    {
     "name": "stdout",
     "output_type": "stream",
     "text": [
      "2450\n"
     ]
    }
   ],
   "source": [
    "def sum_of_evens():\n",
    "    num = int(input(\"enter number =\"))\n",
    "    sum = 0\n",
    "    for i in range(num):\n",
    "        if i % 2 == 0:\n",
    "            sum += i\n",
    "    print(sum)\n",
    "\n",
    "sum_of_evens()\n",
    "\n"
   ]
  },
  {
   "cell_type": "markdown",
   "id": "741fc3a6-7f68-49a5-834e-72b97c158fb3",
   "metadata": {},
   "source": [
    "Q 152.Write a python program to Check for Abundant Number\n",
    "\n",
    "If the sum of the proper divisors of a number is greater than the number itself, it's abundant.\n",
    "Example: 12 → 1+2+3+4+6 = 16 > 12 → Abundant"
   ]
  },
  {
   "cell_type": "code",
   "execution_count": 121,
   "id": "8d665775-f536-44e1-9727-53ef794b58de",
   "metadata": {},
   "outputs": [
    {
     "name": "stdin",
     "output_type": "stream",
     "text": [
      "enter number = 12\n"
     ]
    },
    {
     "name": "stdout",
     "output_type": "stream",
     "text": [
      "Abundant number =  16 > 12\n"
     ]
    }
   ],
   "source": [
    "def abundant():\n",
    "    num = int(input(\"enter number =\"))\n",
    "    sum = 0\n",
    "    \n",
    "    \n",
    "    for i in range(1,num ):\n",
    "        if num % i == 0:\n",
    "            sum += i\n",
    "    if sum > num:\n",
    "        print(\"Abundant number = \",sum,\">\",num)\n",
    "    else:\n",
    "        print(\"not abundant \")\n",
    "            \n",
    "    \n",
    "abundant()"
   ]
  },
  {
   "cell_type": "markdown",
   "id": "ed95344a-c4a1-4c6f-833f-802eb6c7a052",
   "metadata": {},
   "source": [
    "Q 153. Write a python program to Check if Number is Composite \n",
    "\n",
    "A composite number has more than 2 factors.\n",
    "Write is_composite(n)."
   ]
  },
  {
   "cell_type": "code",
   "execution_count": 124,
   "id": "759c8f5e-596d-4493-85ad-4177b1867da2",
   "metadata": {},
   "outputs": [
    {
     "name": "stdin",
     "output_type": "stream",
     "text": [
      "enter number = 15\n"
     ]
    },
    {
     "name": "stdout",
     "output_type": "stream",
     "text": [
      "composite number = 15\n",
      "composite number = 15\n"
     ]
    }
   ],
   "source": [
    "def is_composite():\n",
    "    num = int(input(\"enter number =\"))\n",
    "\n",
    "    if num < 4:\n",
    "        print(\"is not composite number =\",num)\n",
    "    for i in range(2,num):\n",
    "        if num % i == 0:\n",
    "            print(\"composite number =\",num)\n",
    "        \n",
    "\n",
    "            \n",
    " \n",
    "is_composite()"
   ]
  },
  {
   "cell_type": "markdown",
   "id": "5891aa10-0125-4e69-a626-a0a8faf0f06e",
   "metadata": {},
   "source": [
    "Q 154.Write a python program to Generate N Perfect Squares\n",
    "\n",
    "Write generate_squares(n) to return the first n perfect squares using loops."
   ]
  },
  {
   "cell_type": "code",
   "execution_count": 126,
   "id": "9305a0f0-74ed-4673-a133-0cb27ea722e3",
   "metadata": {},
   "outputs": [
    {
     "name": "stdout",
     "output_type": "stream",
     "text": [
      "perfect square\n"
     ]
    }
   ],
   "source": [
    "def generate_squares(num):\n",
    "\n",
    "    if num < 0:\n",
    "        print(\"invalid input\")\n",
    "\n",
    "    sqroot = int(num ** 0.5)\n",
    "    if sqroot * sqroot == num :\n",
    "        print(\"perfect square\")\n",
    "    else:\n",
    "        print(\"not perfect square\")\n",
    "        \n",
    "generate_squares(25)"
   ]
  },
  {
   "cell_type": "markdown",
   "id": "6ef52b62-6b29-4514-a111-812c1201cda1",
   "metadata": {},
   "source": [
    "Q 155.Write a python program to Find Difference Between Sum of Squares and Square of Sum\n",
    "For first n natural numbers, write difference(n) where:\n",
    "sum1 = 1² + 2² + ... + n²\n",
    "sum2 = (1 + 2 + ... + n)²\n",
    "return sum2 - sum1"
   ]
  },
  {
   "cell_type": "code",
   "execution_count": 127,
   "id": "f57d1f81-0dad-4021-9e4c-160f3e432daf",
   "metadata": {},
   "outputs": [
    {
     "name": "stdout",
     "output_type": "stream",
     "text": [
      "square of sum = 400\n",
      "sum of square = 420\n",
      "difference between sum of square and square of sum = 20\n"
     ]
    }
   ],
   "source": [
    "def difference(n):\n",
    "    sum = 0\n",
    "    count = 0\n",
    "    for i in range(1,n+1):\n",
    "        square = i ** 2\n",
    "        square += i\n",
    "        count += 1\n",
    "        sum = count ** 2\n",
    "    print(\"square of sum =\",sum)\n",
    "    print(\"sum of square =\",square)\n",
    "    difference = square - sum\n",
    "    print(\"difference between sum of square and square of sum =\",difference)\n",
    "\n",
    "difference(20)"
   ]
  },
  {
   "cell_type": "markdown",
   "id": "3700488e-ab62-4455-80af-b0434bf9f62d",
   "metadata": {},
   "source": [
    "Q 156.Write a python program to Find the Nth Ugly Number\n",
    "Ugly numbers have only 2, 3, or 5 as their prime factors. Write nth_ugly(n)."
   ]
  },
  {
   "cell_type": "code",
   "execution_count": 128,
   "id": "5e57aa78-aa4b-4521-aa1f-45511a02ae1d",
   "metadata": {},
   "outputs": [
    {
     "name": "stdout",
     "output_type": "stream",
     "text": [
      "not ugly number\n",
      "not ugly number\n",
      "ugly number = 1\n"
     ]
    }
   ],
   "source": [
    "def nth_ugly(n):\n",
    "    if n > 0:\n",
    "        f = [2,3,5]\n",
    "    for i in f:\n",
    "        while n % i == 0:\n",
    "            n = n // i\n",
    "            if n == 1:\n",
    "                print(\"ugly number =\",n)\n",
    "            else:\n",
    "                print(\"not ugly number\")\n",
    "nth_ugly(8)"
   ]
  },
  {
   "cell_type": "markdown",
   "id": "4c6a33ac-d7a0-4678-95ec-a667e05303ee",
   "metadata": {},
   "source": [
    "Q 157.Write a python program to Generate First N Prime Numbers Ending with 3\n",
    "Write prime_ending_with_3(n) to generate such primes."
   ]
  },
  {
   "cell_type": "code",
   "execution_count": 131,
   "id": "0cf6a3b9-df22-4926-80ca-98fcb2ce79cc",
   "metadata": {},
   "outputs": [
    {
     "name": "stdin",
     "output_type": "stream",
     "text": [
      "Enter number = 50\n"
     ]
    },
    {
     "name": "stdout",
     "output_type": "stream",
     "text": [
      "3\n",
      "13\n",
      "23\n",
      "43\n"
     ]
    }
   ],
   "source": [
    "def prime_ending_with_3():\n",
    "    for num in range(2, n+1):\n",
    "        for i in range(2, num):\n",
    "            if num % i == 0:\n",
    "                break\n",
    "        else:\n",
    "            if num % 10 == 3:\n",
    "                print(num)\n",
    "n = int(input(\"Enter number =\"))\n",
    "prime_ending_with_3()"
   ]
  },
  {
   "cell_type": "markdown",
   "id": "98b42419-8d80-402e-b715-d76f1a8dffb5",
   "metadata": {},
   "source": [
    "Q 158.Write a python program to Check for Palprime Number\n",
    "A Palprime is a number that is both a palindrome and a prime.\n",
    "Write is_palprime(n)."
   ]
  },
  {
   "cell_type": "code",
   "execution_count": 132,
   "id": "dba335ce-5f87-498c-aef4-6cb7eb0f5870",
   "metadata": {},
   "outputs": [
    {
     "name": "stdout",
     "output_type": "stream",
     "text": [
      "Palprime\n"
     ]
    }
   ],
   "source": [
    "def is_palprime(n):\n",
    "    num = n\n",
    "    reverce = 0\n",
    "    while num > 0:\n",
    "        reverce = reverce * 10 + num % 10\n",
    "        num = num // 10\n",
    "\n",
    "    \n",
    "    if reverce != n:\n",
    "        print(\"Not Palprime\")\n",
    "        return\n",
    "\n",
    "    \n",
    "    if n < 2:\n",
    "        print(\"Not Palprime\")\n",
    "        return\n",
    "\n",
    "    i = 2\n",
    "    while i < n:  \n",
    "        if n % i == 0:\n",
    "            print(\"Not Palprime\")\n",
    "            return\n",
    "        i += 1\n",
    "\n",
    "    print(\"Palprime\")\n",
    "\n",
    "\n",
    "is_palprime(131)  "
   ]
  },
  {
   "cell_type": "markdown",
   "id": "bd560041-54e4-4c49-9606-02ff5566d9b0",
   "metadata": {},
   "source": [
    "Q 159.Write a python program to Check for Happy Prime\n",
    "\n",
    "A Happy Prime is a number that is both prime and happy (sum of squares of digits eventually becomes 1).\n",
    "Write is_happy_prime(n)."
   ]
  },
  {
   "cell_type": "code",
   "execution_count": 133,
   "id": "3bb91185-9d25-4950-93fc-06955cc9d4b6",
   "metadata": {},
   "outputs": [
    {
     "name": "stdout",
     "output_type": "stream",
     "text": [
      "7 is a Happy Prime\n"
     ]
    }
   ],
   "source": [
    "def is_prime(n):\n",
    "    if n < 2:\n",
    "        return False\n",
    "    i = 2\n",
    "    while i <= n // 2:\n",
    "        if n % i == 0:\n",
    "            return False\n",
    "        i += 1\n",
    "    return True\n",
    "\n",
    "def is_happy(n):\n",
    "    s = []\n",
    "    while n != 1:\n",
    "        if n in s:\n",
    "            return False\n",
    "        s = s + [n]  \n",
    "\n",
    "        total = 0\n",
    "        num = n\n",
    "        while num > 0:\n",
    "            digit = num % 10\n",
    "            total += digit * digit\n",
    "            num = num // 10\n",
    "        n = total\n",
    "    return True\n",
    "\n",
    "def is_happy_prime(n):\n",
    "    if is_prime(n) and is_happy(n):\n",
    "        print(n, \"is a Happy Prime\")\n",
    "    else:\n",
    "        print(n, \"is NOT a Happy Prime\")\n",
    "\n",
    "\n",
    "is_happy_prime(7)    "
   ]
  },
  {
   "cell_type": "markdown",
   "id": "b1d7b30b-e314-4706-b9c4-33b8d1620bb7",
   "metadata": {},
   "source": [
    "Q 160. Write a python program to Check for Bouncy Number\n",
    "\n",
    "A number is bouncy if its digits are neither in increasing nor decreasing order.\n",
    "Write is_bouncy(n).\n",
    "Example: 1234 → Not bouncy, 321 → Not bouncy, 132 → Bouncy."
   ]
  },
  {
   "cell_type": "code",
   "execution_count": 134,
   "id": "da5a9004-a0a4-4d90-ae63-a1e660fde936",
   "metadata": {},
   "outputs": [
    {
     "name": "stdout",
     "output_type": "stream",
     "text": [
      "it's not bouncy 1234\n"
     ]
    }
   ],
   "source": [
    "def is_bouncy(n):\n",
    "    increasing = False\n",
    "    decreasing = False\n",
    "    num = n\n",
    "    last_digit = num % 10\n",
    "    num = num // 10\n",
    "\n",
    "    while num > 0:\n",
    "        current_digit = num % 10\n",
    "        if current_digit < last_digit:\n",
    "            increasing = True\n",
    "        elif current_digit > last_digit:\n",
    "            decreasing = True\n",
    "        last_digit = current_digit\n",
    "        num = num // 10\n",
    "\n",
    "        if increasing and decreasing:\n",
    "            print(\"is bouncy\",n)\n",
    "            return\n",
    "\n",
    "    print(\"it's not bouncy\",n)\n",
    "\n",
    "\n",
    "is_bouncy(1234)  \n",
    "\n"
   ]
  },
  {
   "cell_type": "markdown",
   "id": "7de1bb13-6826-4942-b82c-46b25511f41c",
   "metadata": {},
   "source": [
    "Q 161.Write a python program to Check if Number Is Centered Hexagonal Number\n",
    "\n",
    "A centered hexagonal number is in the form .\n",
    "Write is_centered_hexagonal(n)."
   ]
  },
  {
   "cell_type": "code",
   "execution_count": 135,
   "id": "86a8b175-311c-47e1-9b3d-0284a0cb00a8",
   "metadata": {},
   "outputs": [
    {
     "name": "stdout",
     "output_type": "stream",
     "text": [
      "true\n"
     ]
    }
   ],
   "source": [
    "def is_centered_hexagonal(n):\n",
    "    if n == 1:\n",
    "        print(\"true\")  \n",
    "        return\n",
    "    k = 1\n",
    "    while True:\n",
    "        value = 3 * k * (k - 1) + 1\n",
    "        if value == n:\n",
    "            print(\"true\")\n",
    "            return\n",
    "        elif value > n:\n",
    "            print(\"false\")\n",
    "            return\n",
    "        k += 1\n",
    "\n",
    "\n",
    "is_centered_hexagonal(1)   "
   ]
  },
  {
   "cell_type": "markdown",
   "id": "65ae36f9-4bb6-4608-8128-0174c3d4e932",
   "metadata": {},
   "source": [
    "Q 162.Write a python program to Check if Number Has Equal Even and Odd Digits\n",
    "\n",
    "Write has_equal_even_odd(n) that returns True if the number has the same count of even and odd digits. "
   ]
  },
  {
   "cell_type": "code",
   "execution_count": 136,
   "id": "4e18302f-48d8-4a19-b761-45383b91ef02",
   "metadata": {},
   "outputs": [
    {
     "name": "stdout",
     "output_type": "stream",
     "text": [
      "True\n"
     ]
    }
   ],
   "source": [
    "def has_equal_even_odd(n):\n",
    "    even = 0\n",
    "    odd = 0\n",
    "    num = n\n",
    "    \n",
    "    while num > 0:\n",
    "        digit = num % 10\n",
    "        if digit % 2 == 0:\n",
    "            even += 1\n",
    "        else:\n",
    "            odd += 1\n",
    "        num = num // 10\n",
    "    c = even == odd\n",
    "    print(c)\n",
    "\n",
    "\n",
    "has_equal_even_odd(1234)  "
   ]
  },
  {
   "cell_type": "markdown",
   "id": "7c678d70-0a47-4cdc-95c4-5e3cb6a8929d",
   "metadata": {},
   "source": [
    "Q 163.Write a python program to Check for Emirp Number\n",
    "\n",
    "An emirp is a number that is prime and whose reverse is also prime (but not palindromic).\n",
    "Example: 13 → 31, both prime → Emirp\n",
    "Write is_emirp(n)."
   ]
  },
  {
   "cell_type": "code",
   "execution_count": 137,
   "id": "f5570fc4-989c-4a38-ae98-33b88ae73437",
   "metadata": {},
   "outputs": [
    {
     "name": "stdout",
     "output_type": "stream",
     "text": [
      "this is emiper 13\n"
     ]
    }
   ],
   "source": [
    "def is_prime(n):\n",
    "    if n < 2:\n",
    "        return False\n",
    "    i = 2\n",
    "    while i <= n // 2:\n",
    "        if n % i == 0:\n",
    "            return False\n",
    "        i += 1\n",
    "    return True\n",
    "\n",
    "def reverse_num(n):\n",
    "    reverce = 0\n",
    "    num = n\n",
    "    while num > 0:\n",
    "        reverce = reverce * 10 + num % 10\n",
    "        num = num // 10\n",
    "    return reverce\n",
    "\n",
    "def is_emirp(n):\n",
    "    reverce = reverse_num(n)\n",
    "    if n != reverce and is_prime(n) and is_prime(reverce):\n",
    "        print(\"this is emiper\",n)\n",
    "    else:\n",
    "        print(\"is not empire\",n)\n",
    "\n",
    "\n",
    "is_emirp(13) "
   ]
  },
  {
   "cell_type": "markdown",
   "id": "a190240a-f579-45e3-ac2d-61b54a77e1e4",
   "metadata": {},
   "source": [
    "Q 164. Write a python program to Check if Product of Digits Equals the Number\n",
    "\n",
    "Write is_product_equal(n) — return True if the product of digits equals the number."
   ]
  },
  {
   "cell_type": "code",
   "execution_count": 138,
   "id": "2240c248-d156-4262-a006-460b3728c561",
   "metadata": {},
   "outputs": [
    {
     "name": "stdout",
     "output_type": "stream",
     "text": [
      "True\n"
     ]
    }
   ],
   "source": [
    "def is_product_equal(n):\n",
    "    product = 1\n",
    "    num = n\n",
    "\n",
    "    while num > 0:\n",
    "        digit = num % 10\n",
    "        product *= digit\n",
    "        num = num // 10\n",
    "\n",
    "    true = product == n\n",
    "    print(true)\n",
    "\n",
    "\n",
    "\n",
    "is_product_equal(5)\n"
   ]
  },
  {
   "cell_type": "markdown",
   "id": "8dd573d3-c51f-4a14-a15b-85ad3b540233",
   "metadata": {},
   "source": [
    "Q 165. Write a python program to Check if Digits Are All the Same\n",
    "\n",
    "Write all_same_digits(n) to check whether all digits of the number are identical.\n",
    "Example: 777 → True, 171 → False"
   ]
  },
  {
   "cell_type": "code",
   "execution_count": 139,
   "id": "d2d2b4a3-e658-4f6a-ae26-0389c2988007",
   "metadata": {},
   "outputs": [
    {
     "name": "stdout",
     "output_type": "stream",
     "text": [
      "false\n",
      "false\n"
     ]
    }
   ],
   "source": [
    "def all_same_digits(n):\n",
    "    for i in str(n):\n",
    "        if str(i) == str(n):\n",
    "            print(\"true\")\n",
    "        else:\n",
    "            print(\"false\")\n",
    "\n",
    "all_same_digits(11)\n",
    "    "
   ]
  },
  {
   "cell_type": "markdown",
   "id": "ed17bad8-acfb-4108-a7bc-4e61a92236f7",
   "metadata": {},
   "source": [
    "Q 166.Write a python program to Find the Nth Centered Square Number\n",
    "\n",
    "Centered square numbers follow the pattern: 1, 5, 13, 25...\n",
    "\n",
    "Write centered_square(n) using the formula  or via loop logic.\n"
   ]
  },
  {
   "cell_type": "code",
   "execution_count": 140,
   "id": "02298e7a-8738-4574-8dc9-9dc2d4f08df7",
   "metadata": {},
   "outputs": [
    {
     "name": "stdout",
     "output_type": "stream",
     "text": [
      "Term  1 = 1\n",
      "Term  2 = 5\n",
      "Term  3 = 13\n",
      "Term  4 = 25\n",
      "Term  5 = 41\n",
      "Term  6 = 61\n",
      "Term  7 = 85\n",
      "Term  8 = 113\n",
      "Term  9 = 145\n",
      "Term  10 = 181\n"
     ]
    }
   ],
   "source": [
    "def centered_square_numbers(n):\n",
    "    for i in range(1, n + 1):\n",
    "        c = i**2 + (i - 1)**2\n",
    "        print(\"Term \" , str(i) , \"=\" , str(c))\n",
    "\n",
    "\n",
    "centered_square_numbers(10)"
   ]
  },
  {
   "cell_type": "markdown",
   "id": "9e42de81-ea45-41c5-bbd1-ce585a71b243",
   "metadata": {},
   "source": [
    "Q 167.Write a python program to Count Digits in Ascending Order\n",
    "Write count_ascending_digits(n) that counts how many digits are greater than the digit before them."
   ]
  },
  {
   "cell_type": "code",
   "execution_count": 141,
   "id": "656cf76c-f3d3-42f6-aa32-a22c43001ecd",
   "metadata": {},
   "outputs": [
    {
     "name": "stdout",
     "output_type": "stream",
     "text": [
      "4\n"
     ]
    }
   ],
   "source": [
    "def count_ascending_digits(n):\n",
    "\n",
    "\n",
    "    prev = -1 \n",
    "    count = 0\n",
    "    digits = 0\n",
    "\n",
    "   \n",
    "    temp = n\n",
    "    place = 1\n",
    "    while temp >= 10:\n",
    "        temp = temp // 10\n",
    "        place *= 10\n",
    "\n",
    "    while place > 0:\n",
    "        digit = n // place \n",
    "        n = n % place       \n",
    "        place = place // 10\n",
    "\n",
    "        if prev != -1 and digit > prev:\n",
    "            count += 1\n",
    "        prev = digit\n",
    "\n",
    "    print( count)\n",
    "\n",
    "\n",
    "count_ascending_digits(12345)"
   ]
  },
  {
   "cell_type": "markdown",
   "id": "5b5befa4-5f42-4d57-9c4a-a72da13273b5",
   "metadata": {},
   "source": [
    "Q 168.Write a python program to Check if All Digits Are Odd or Even\n",
    "Write is_uniform_even_odd(n) — return True if all digits are even or all odd."
   ]
  },
  {
   "cell_type": "code",
   "execution_count": 142,
   "id": "6e5e39c8-1d74-4d64-bdcf-10b1ff98051d",
   "metadata": {},
   "outputs": [
    {
     "name": "stdout",
     "output_type": "stream",
     "text": [
      "mixed\n"
     ]
    }
   ],
   "source": [
    "def is_uniform_even_odd(n):\n",
    "  \n",
    "\n",
    "    even_count = 0\n",
    "    odd_count = 0\n",
    "    length = 0\n",
    "\n",
    "    if n == 0:\n",
    "        print(\"all even true\")\n",
    "       \n",
    "\n",
    "    temp = n\n",
    "    while temp > 0:\n",
    "        digit = temp % 10\n",
    "        if digit % 2 == 0:\n",
    "            even_count += 1\n",
    "        else:\n",
    "            odd_count += 1\n",
    "        temp = temp // 10\n",
    "        length += 1\n",
    "\n",
    "    if even_count == length:\n",
    "        print(\"all even true\")\n",
    "    elif odd_count == length:\n",
    "        print(\"all odd true\")\n",
    "    else:\n",
    "        print(\"mixed\")\n",
    "\n",
    "\n",
    "is_uniform_even_odd(1234)"
   ]
  },
  {
   "cell_type": "markdown",
   "id": "9f915d8c-945d-42c8-a207-350ccb42f923",
   "metadata": {},
   "source": [
    "Q 169.Write a python program to Find Maximum Product of Two Digits\n",
    "Write max_digit_product(n) — returns the max product of any 2 digits of the number. "
   ]
  },
  {
   "cell_type": "code",
   "execution_count": 1,
   "id": "c5293b38-ad2e-46c3-86d7-6c144814387d",
   "metadata": {},
   "outputs": [
    {
     "name": "stdout",
     "output_type": "stream",
     "text": [
      "12\n"
     ]
    }
   ],
   "source": [
    "def max_digit_product(n):\n",
    "\n",
    "\n",
    "    max_product = 0\n",
    "    digits = []\n",
    "\n",
    "   \n",
    "    temp = n\n",
    "    digit_count = 0\n",
    "    while temp > 0:\n",
    "        digit_count += 1\n",
    "        temp = temp // 10\n",
    "\n",
    "    if digit_count < 2:\n",
    "        return 0  \n",
    "\n",
    "\n",
    "    digits = [0]*digit_count\n",
    "\n",
    "    temp = n\n",
    "    i = digit_count - 1\n",
    "    while temp > 0:\n",
    "        digits[i] = temp % 10\n",
    "        temp = temp // 10\n",
    "        i -= 1\n",
    "\n",
    " \n",
    "    max_product = 0\n",
    "    i = 0\n",
    "    while i < digit_count:\n",
    "        j = i + 1\n",
    "        while j < digit_count:\n",
    "            product = digits[i] * digits[j]\n",
    "            if product > max_product:\n",
    "                max_product = product\n",
    "            j += 1\n",
    "        i += 1\n",
    "\n",
    "    print(max_product)\n",
    "\n",
    "\n",
    "max_digit_product(1234)"
   ]
  },
  {
   "cell_type": "markdown",
   "id": "75316479-02a3-4ec9-9a4d-c5df824ee156",
   "metadata": {},
   "source": [
    "Q 170.Write a python program to Check for Bi-Prime Number\n",
    "\n",
    "A number is bi-prime if it is the product of 2 (not necessarily distinct) prime numbers.\n",
    "Example: 6 → 2×3 → Bi-prime\n",
    "Write is_biprime(n)."
   ]
  },
  {
   "cell_type": "code",
   "execution_count": 2,
   "id": "29628df2-848c-41fd-8698-00a09ba188c7",
   "metadata": {},
   "outputs": [
    {
     "name": "stdout",
     "output_type": "stream",
     "text": [
      "Not Bi-prime\n"
     ]
    }
   ],
   "source": [
    "def is_prime(n):\n",
    "    if n < 2:\n",
    "        return False\n",
    "    i = 2\n",
    "    while i < n:\n",
    "        if n % i == 0:\n",
    "            return False\n",
    "        i += 1\n",
    "    return True\n",
    "\n",
    "def is_biprime(n):\n",
    "    i = 2\n",
    "    while i <= n:\n",
    "        if n % i == 0:\n",
    "            j = n // i\n",
    "            if is_prime(i) and is_prime(j):\n",
    "                print(\"Bi-prime\")\n",
    "                \n",
    "        i += 1\n",
    "    print(\"Not Bi-prime\")\n",
    "\n",
    "\n",
    "is_biprime(17) "
   ]
  },
  {
   "cell_type": "markdown",
   "id": "8d0637c4-6e0a-4746-b8d7-71948abf16e5",
   "metadata": {},
   "source": [
    "Q 171.Write a python program to Check for Descending Order of All Digits\n",
    "\n",
    "Write is_digits_descending(n) — return True if each digit is smaller than or equal to the previous digit.\n"
   ]
  },
  {
   "cell_type": "code",
   "execution_count": 3,
   "id": "de579d31-ca1a-4e2c-b354-44c02033992a",
   "metadata": {},
   "outputs": [
    {
     "data": {
      "text/plain": [
       "True"
      ]
     },
     "execution_count": 3,
     "metadata": {},
     "output_type": "execute_result"
    }
   ],
   "source": [
    "def is_digits_descending(n):\n",
    "    \n",
    "    prev_digit = 10  \n",
    "\n",
    "    while n > 0:\n",
    "        digit = n % 10  \n",
    "        if digit > prev_digit:\n",
    "            return False\n",
    "        prev_digit = digit\n",
    "        n = n // 10 \n",
    "\n",
    "    return True\n",
    "\n",
    "is_digits_descending(1234)"
   ]
  },
  {
   "cell_type": "markdown",
   "id": "d6a01272-be53-4f28-9abe-660f7fc76201",
   "metadata": {},
   "source": [
    "Q 173. Write a python program to Generate Numbers with All Unique Digits in Given Range\n",
    "Write unique_digit_numbers(start, end) — only return numbers with no repeated digits."
   ]
  },
  {
   "cell_type": "code",
   "execution_count": 1,
   "id": "b91cd569-9d26-4854-a7e3-5bebcec57b9f",
   "metadata": {},
   "outputs": [
    {
     "name": "stdout",
     "output_type": "stream",
     "text": [
      "[10, 12, 13, 14, 15, 16, 17, 18, 19, 20, 21, 23, 24, 25, 26, 27, 28, 29, 30]\n"
     ]
    }
   ],
   "source": [
    "def unique_digit_numbers(start, end):\n",
    "    result = []\n",
    "\n",
    "    for num in range(start, end + 1):\n",
    "        n = num\n",
    "        digits = [0] * 10\n",
    "        unique = 1 \n",
    "\n",
    "        while n > 0:\n",
    "            d = n % 10\n",
    "            if digits[d] == 1:\n",
    "                unique = 0\n",
    "                break\n",
    "                \n",
    "            digits[d] = 1\n",
    "            n = n // 10\n",
    "\n",
    "        if unique == 1:\n",
    "            result = result + [num]  \n",
    "\n",
    "    print(result)\n",
    "\n",
    "\n",
    "unique_digit_numbers(10, 30)"
   ]
  },
  {
   "cell_type": "markdown",
   "id": "aef78a5d-0277-4c6d-a0e4-fc453a452aa1",
   "metadata": {},
   "source": [
    "Q 174. Write a python program to Check if Product of All Digits is Even\n",
    "\n",
    "Write is_product_even(n) — return True if the product of all digits is an even number."
   ]
  },
  {
   "cell_type": "code",
   "execution_count": null,
   "id": "067ffc1a-5872-453f-94f3-bf55c1ce2bbc",
   "metadata": {},
   "outputs": [],
   "source": [
    "def is_product_even(n):\n",
    "    if n == 0:\n",
    "        print(\"all even true\")\n",
    "        return\n",
    "\n",
    "    num = n\n",
    "    even = 1  \n",
    "\n",
    "    while num > 0:\n",
    "        digit = num % 10\n",
    "        if digit % 2 != 0:\n",
    "            even = 0\n",
    "            break\n",
    "        num = num // 10\n",
    "\n",
    "    if even == 1:\n",
    "        print(\"all even true\")\n",
    "    else:\n",
    "        print(\"not all even\")\n",
    "\n",
    "\n",
    "is_product_even(1254)"
   ]
  },
  {
   "cell_type": "markdown",
   "id": "08aa08cb-c75e-4900-b4c4-6656f3800b2b",
   "metadata": {},
   "source": [
    "Q 175.Write a python program to calculate determinant of 2x2 Matrix"
   ]
  },
  {
   "cell_type": "code",
   "execution_count": 3,
   "id": "d23aa049-4736-4bf6-bf2c-b8d9e8fdb973",
   "metadata": {},
   "outputs": [
    {
     "name": "stdout",
     "output_type": "stream",
     "text": [
      "Determinant = -20\n"
     ]
    }
   ],
   "source": [
    "def determinant_of_2x2_matrix(a, b, c, d):\n",
    "    deter = (a * d) - (b * c)\n",
    "    print(\"Determinant =\", deter)\n",
    "\n",
    "\n",
    "determinant_of_2x2_matrix(6,4,8,2)\n"
   ]
  },
  {
   "cell_type": "markdown",
   "id": "ce4d9e8d-0b11-4a11-ad25-f8a7688c9ef0",
   "metadata": {},
   "source": [
    "Q 176.Write a python program to calculate Derivative of a Function (using finite difference)"
   ]
  },
  {
   "cell_type": "code",
   "execution_count": 4,
   "id": "44a51a0b-a31b-4107-9175-f1556599ae28",
   "metadata": {},
   "outputs": [
    {
     "data": {
      "text/plain": [
       "6.000100000012054"
      ]
     },
     "execution_count": 4,
     "metadata": {},
     "output_type": "execute_result"
    }
   ],
   "source": [
    "def f(x):\n",
    "    return x * x  \n",
    "\n",
    "def calculate_derivative(x):\n",
    "    h = 0.0001\n",
    "    return (f(x + h) - f(x)) / h\n",
    "\n",
    "\n",
    "calculate_derivative(3)"
   ]
  },
  {
   "cell_type": "markdown",
   "id": "081971ad-8aa9-463a-ac2d-cb240edbd890",
   "metadata": {},
   "source": [
    "Q 178.Write a python function for calculating Partial Derivative (Numerical)"
   ]
  },
  {
   "cell_type": "code",
   "execution_count": 5,
   "id": "9f05d81e-018a-4493-b556-91ba6db120f5",
   "metadata": {},
   "outputs": [
    {
     "data": {
      "text/plain": [
       "6.000100000012054"
      ]
     },
     "execution_count": 5,
     "metadata": {},
     "output_type": "execute_result"
    }
   ],
   "source": [
    "def f(x, y):\n",
    "    return x * x + y * y\n",
    "\n",
    "def Partial_Derivative_x(x, y):\n",
    "    h = 0.0001\n",
    "    return (f(x + h, y) - f(x, y)) / h\n",
    "\n",
    "def Partial_Derivative_y(x, y):\n",
    "    h = 0.0001\n",
    "    return (f(x, y + h) - f(x, y)) / h\n",
    "\n",
    "\n",
    "Partial_Derivative_x(2, 3)\n",
    "Partial_Derivative_y(2, 3)"
   ]
  },
  {
   "cell_type": "markdown",
   "id": "20179502-acdf-43d2-bf1e-a764c1fcb591",
   "metadata": {},
   "source": [
    "Q 181.Write a python function for Calculating Modular Exponentiation (a^b mod n)"
   ]
  },
  {
   "cell_type": "code",
   "execution_count": 6,
   "id": "d202c774-c525-4fe0-8123-fc968ff7180c",
   "metadata": {},
   "outputs": [
    {
     "data": {
      "text/plain": [
       "9"
      ]
     },
     "execution_count": 6,
     "metadata": {},
     "output_type": "execute_result"
    }
   ],
   "source": [
    "def Calculating_Modular_Exponentiation(a, b, n):\n",
    "    result = 1\n",
    "    base = a % n\n",
    "    exponent = b\n",
    "\n",
    "    while exponent > 0:\n",
    "        if exponent % 2 == 1:  \n",
    "            result = (result * base) % n\n",
    "        base = (base * base) % n\n",
    "        exponent = exponent // 2\n",
    "    return result\n",
    "\n",
    "Calculating_Modular_Exponentiation(3, 200, 13)"
   ]
  },
  {
   "cell_type": "markdown",
   "id": "f7e05b8b-87c8-4d3f-8386-1fe155ded853",
   "metadata": {},
   "source": [
    "Q 183.Write a python function to Check if a Point Lies Inside a Triangle (2D)"
   ]
  },
  {
   "cell_type": "code",
   "execution_count": 7,
   "id": "5ccc97be-5f52-48f7-a449-62ff84c71223",
   "metadata": {},
   "outputs": [
    {
     "data": {
      "text/plain": [
       "True"
      ]
     },
     "execution_count": 7,
     "metadata": {},
     "output_type": "execute_result"
    }
   ],
   "source": [
    "def area(x1, y1, x2, y2, x3, y3):\n",
    "    return (x1*(y2 - y3) + x2*(y3 - y1) + x3*(y1 - y2))\n",
    "\n",
    "def point_line_triangle(px, py, x1, y1, x2, y2, x3, y3):\n",
    "    a1 = area(x1, y1, x2, y2, x3, y3)\n",
    "    a2 = area(px, py, x2, y2, x3, y3)\n",
    "    a3 = area(x1, y1, px, py, x3, y3)\n",
    "    a4 = area(x1, y1, x2, y2, px, py)\n",
    "\n",
    "   \n",
    "    negative = (a2 < 0) or (a3 < 0) or (a4 < 0)\n",
    "    positive = (a2 > 0) or (a3 > 0) or (a4 > 0)\n",
    "\n",
    "    return not(negative and positive)\n",
    "\n",
    "point_line_triangle(1, 1, 0, 0, 5, 0, 0, 5)  "
   ]
  },
  {
   "cell_type": "markdown",
   "id": "e978cb22-fcd7-498a-9c06-c2f50d88b7d9",
   "metadata": {},
   "source": [
    "Q 185.Write a python function to Find Nth Digit in a Concatenated Number Series\n",
    "\n",
    "Given a number N, find the Nth digit in the series: 12345678910111213…"
   ]
  },
  {
   "cell_type": "code",
   "execution_count": 8,
   "id": "9e901b44-1716-418a-8428-9f03d2a6f175",
   "metadata": {},
   "outputs": [
    {
     "data": {
      "text/plain": [
       "8"
      ]
     },
     "execution_count": 8,
     "metadata": {},
     "output_type": "execute_result"
    }
   ],
   "source": [
    "def find_digit_in_number(n):\n",
    "    digit_length = 1\n",
    "    count = 9\n",
    "    start_num = 1\n",
    "\n",
    "    while n > digit_length * count:\n",
    "        n -= digit_length * count\n",
    "        digit_length += 1\n",
    "        count *= 10\n",
    "        start_num *= 10\n",
    "\n",
    "    target_num = start_num + (n - 1) // digit_length\n",
    "\n",
    "    digit_index_in_num = (n - 1) % digit_length\n",
    "\n",
    "    return int(str(target_num)[digit_index_in_num])\n",
    "\n",
    "find_digit_in_number(8)"
   ]
  },
  {
   "cell_type": "markdown",
   "id": "e50297f5-b9a5-4c50-81d6-d0c19d150be2",
   "metadata": {},
   "source": [
    "Q 187.Write a python function to Count Numbers That are Powers of 2 in a Range\n",
    "\n",
    "Write a function to count numbers between L and R which are exact powers of 2."
   ]
  },
  {
   "cell_type": "code",
   "execution_count": 10,
   "id": "3ef4bc65-6ed4-424c-a5a8-4de43936826e",
   "metadata": {},
   "outputs": [
    {
     "name": "stdin",
     "output_type": "stream",
     "text": [
      "enter 1st number = 1\n",
      "enter 2nd number = 50\n"
     ]
    },
    {
     "name": "stdout",
     "output_type": "stream",
     "text": [
      "1 1\n",
      "2 4\n",
      "3 9\n",
      "4 16\n",
      "5 25\n",
      "6 36\n",
      "7 49\n"
     ]
    }
   ],
   "source": [
    "def count_number_power():\n",
    "    l = int(input(\"enter 1st number =\"))\n",
    "    r = int(input(\"enter 2nd number =\"))\n",
    "    count = 0\n",
    "    for i in range(l,r+1):\n",
    "        square = i * i\n",
    "        if square > r:\n",
    "            break\n",
    "        if square >= l:\n",
    "            count += 1\n",
    "        print(count,square)\n",
    "   \n",
    "count_number_power()"
   ]
  },
  {
   "cell_type": "markdown",
   "id": "3401c21f-3109-4bc9-8d8e-42403ada2be3",
   "metadata": {},
   "source": [
    "Q 188.Write a python function to find Largest Prime Factor\n",
    "\n",
    "Given a number, return its largest prime factor without libraries."
   ]
  },
  {
   "cell_type": "code",
   "execution_count": 11,
   "id": "dae64ff0-ed65-4c98-bfff-ac10e67f6644",
   "metadata": {},
   "outputs": [
    {
     "name": "stdout",
     "output_type": "stream",
     "text": [
      "largest factor = 5\n",
      "is prime factor = 5\n"
     ]
    }
   ],
   "source": [
    "def find_largest_prime_factor(n):\n",
    "    max = 1\n",
    "    for fac in range(1,n):\n",
    "        if n % fac == 0:\n",
    "            \n",
    "\n",
    "            max = fac\n",
    "    print(\"largest factor =\",max)\n",
    "\n",
    "    if max <= 1:\n",
    "        print(\"not a prime factor =\",max)\n",
    "        return\n",
    "\n",
    "    for i in range(2, max):\n",
    "        if max % i == 0:\n",
    "            print(\"not a prime factor =\",max)\n",
    "            return\n",
    "\n",
    "    print(\"is prime factor =\",max)\n",
    "\n",
    "    \n",
    "find_largest_prime_factor(10)      "
   ]
  },
  {
   "cell_type": "markdown",
   "id": "db541f5b-5dd3-412c-a849-c7ed9dabcb19",
   "metadata": {},
   "source": [
    "Q 189.Write a python program to Generate N Digit Numbers with Alternating Even and Odd Digits\n",
    "\n",
    "Generate numbers with patterns like: 2, 3, 2, 3... or 1, 4, 1... where even and odd digits alternate."
   ]
  },
  {
   "cell_type": "code",
   "execution_count": 12,
   "id": "31693fc1-011e-4818-967c-5598079c38c6",
   "metadata": {},
   "outputs": [
    {
     "name": "stdout",
     "output_type": "stream",
     "text": [
      "even digits =  2\n",
      "even digits =  4\n",
      "even digits =  6\n",
      "even digits =  8\n",
      "odd digits 1\n",
      "odd digits 3\n",
      "odd digits 5\n",
      "odd digits 7\n",
      "odd digits 9\n"
     ]
    }
   ],
   "source": [
    "def even_odd_digits(n):\n",
    "    even_digit = 2\n",
    "    odd_digit = 1\n",
    "    \n",
    "    for even_digit in str(n):\n",
    "        if int(even_digit) % 2 == 0:\n",
    "            print(\"even digits = \",even_digit)\n",
    "            \n",
    "    for odd_digit in str(n):\n",
    "        if int(odd_digit) % 2 != 0:\n",
    "            print(\"odd digits\",odd_digit)\n",
    "          \n",
    "\n",
    "even_odd_digits(123456789)"
   ]
  },
  {
   "cell_type": "markdown",
   "id": "1d4de73a-a959-4a56-819b-f529b385a2a8",
   "metadata": {},
   "source": [
    "Q 190.Write a python function to Find Difference Between Largest and Smallest Digit\n",
    "\n",
    "Given a number, find the difference between largest and smallest digit."
   ]
  },
  {
   "cell_type": "code",
   "execution_count": 13,
   "id": "11598ae9-30b7-4564-b921-960b94f6e67d",
   "metadata": {},
   "outputs": [
    {
     "name": "stdin",
     "output_type": "stream",
     "text": [
      "enter number = 123\n"
     ]
    },
    {
     "name": "stdout",
     "output_type": "stream",
     "text": [
      "large digit = 3\n",
      "small digit = 1\n",
      "Difference Between Largest and Smallest Digit 2\n"
     ]
    }
   ],
   "source": [
    "def difference_large_small():\n",
    "    n = int(input(\"enter number =\"))\n",
    "    large = 0\n",
    "    small = 9\n",
    "    for digit in str(n):\n",
    "        d = int(digit)\n",
    "        if d > large:\n",
    "            large = d\n",
    "        if d < small:\n",
    "            small = d\n",
    "\n",
    "    print(\"large digit =\",large)\n",
    "    print(\"small digit =\",small)\n",
    "\n",
    "    difference = large - small\n",
    "    print(\"Difference Between Largest and Smallest Digit\",difference)\n",
    "        \n",
    "        \n",
    "    \n",
    "difference_large_small()    "
   ]
  },
  {
   "cell_type": "markdown",
   "id": "fef80054-3f2a-45e3-b5ba-af28c803b9b2",
   "metadata": {},
   "source": [
    "Q 191.Write a python function to Generate All Primes Whose Digits Are All Prime\n",
    "\n",
    "Only include primes where each digit is also a prime (2, 3, 5, 7)."
   ]
  },
  {
   "cell_type": "code",
   "execution_count": 15,
   "id": "009222e5-cf35-4028-84c0-1b2f9661146b",
   "metadata": {},
   "outputs": [
    {
     "name": "stdin",
     "output_type": "stream",
     "text": [
      "enter number = 233\n"
     ]
    },
    {
     "name": "stdout",
     "output_type": "stream",
     "text": [
      "prime digit number = 233\n"
     ]
    }
   ],
   "source": [
    "def all_digit_are_prime():\n",
    "    n = int(input(\"enter number =\"))\n",
    "\n",
    "    for digit in str(n):\n",
    "        d = int(digit)\n",
    "    if d <= 1:\n",
    "        print(\"not a prime digit number =\",n)\n",
    "        return\n",
    "\n",
    "    for i in range(2, d):\n",
    "        if d % i == 0:\n",
    "            print(\"not a prime digit number =\",n)\n",
    "            return\n",
    "\n",
    "    print(\"prime digit number =\",n)\n",
    "\n",
    "        \n",
    "all_digit_are_prime()        \n",
    "        "
   ]
  },
  {
   "cell_type": "markdown",
   "id": "db8f74b2-f0ef-4a71-9bae-8c342652d77f",
   "metadata": {},
   "source": [
    "Q 192.Write a python function to Find the Closest Number Greater Than N That Has All Even Digits\n",
    "\n",
    "Start at N+1, keep checking until all digits are even."
   ]
  },
  {
   "cell_type": "code",
   "execution_count": 16,
   "id": "f9241653-a033-4ea9-a71d-f0aa9361c45b",
   "metadata": {},
   "outputs": [
    {
     "name": "stdin",
     "output_type": "stream",
     "text": [
      "Enter a number:  100\n"
     ]
    },
    {
     "name": "stdout",
     "output_type": "stream",
     "text": [
      "closest even number greater than n = 200\n"
     ]
    }
   ],
   "source": [
    "def Closest_Number_Greater():\n",
    "    n = int(input(\"Enter a number: \"))\n",
    "\n",
    "    for num in range(n + 1, 1000000): \n",
    "        for digit in str(num):\n",
    "            if int(digit) % 2 != 0:\n",
    "                break  \n",
    "        else:\n",
    "           \n",
    "            print(\"closest even number greater than n =\", num)\n",
    "            break\n",
    "\n",
    "Closest_Number_Greater()\n",
    "    "
   ]
  },
  {
   "cell_type": "markdown",
   "id": "839dff3d-f247-4391-b937-907bc69bcb1d",
   "metadata": {},
   "source": [
    "Q 193.Write a python function to Count All 3-Digit Numbers That Are Palindromes and Divisible by Sum of Digits\n",
    "Example: 121, 131, 141, etc., and divisible by 1+2+1, 1+3+1 etc."
   ]
  },
  {
   "cell_type": "code",
   "execution_count": 19,
   "id": "064cf3f2-b782-4c68-a2f5-478c11790fb3",
   "metadata": {},
   "outputs": [
    {
     "name": "stdin",
     "output_type": "stream",
     "text": [
      "Enter a number:  121\n"
     ]
    },
    {
     "name": "stdout",
     "output_type": "stream",
     "text": [
      "Palindrome number = 11\n",
      "sum of digit = 1  +  1 = 2\n",
      "Palindrome number = 22\n",
      "sum of digit = 2  +  2 = 4\n",
      "Palindrome number = 33\n",
      "sum of digit = 3  +  3 = 6\n",
      "Palindrome number = 44\n",
      "sum of digit = 4  +  4 = 8\n",
      "Palindrome number = 55\n",
      "sum of digit = 5  +  5 = 10\n",
      "Palindrome number = 66\n",
      "sum of digit = 6  +  6 = 12\n",
      "Palindrome number = 77\n",
      "sum of digit = 7  +  7 = 14\n",
      "Palindrome number = 88\n",
      "sum of digit = 8  +  8 = 16\n",
      "Palindrome number = 99\n",
      "sum of digit = 9  +  9 = 18\n",
      "Palindrome number = 101\n",
      "sum of digit = 1  +  1 = 2\n",
      "Palindrome number = 111\n",
      "sum of digit = 1  +  1 = 3\n"
     ]
    }
   ],
   "source": [
    "def find_palindrom_number():\n",
    "    n = int(input(\"Enter a number: \"))\n",
    "    \n",
    "\n",
    "    for i in range(10,n):\n",
    "        num = i\n",
    "        reversed_num = 0 \n",
    "\n",
    "        while num > 0:\n",
    "            digit = num % 10\n",
    "            reversed_num = reversed_num * 10 + digit\n",
    "            num = num // 10\n",
    "\n",
    "        if i == reversed_num:\n",
    "            print(\"Palindrome number =\", i)\n",
    "            sum = 0\n",
    "            for digit in str(i):\n",
    "                sum += int(digit)\n",
    "        \n",
    "        \n",
    "            print(\"sum of digit =\",digit,\" + \",digit ,\"=\",sum)\n",
    "\n",
    "       \n",
    "        \n",
    "\n",
    "find_palindrom_number()\n"
   ]
  },
  {
   "cell_type": "markdown",
   "id": "b10553a7-9172-4c31-9fcb-23d10f1e17fe",
   "metadata": {},
   "source": [
    "Q 194.Write a python function to Count All 2-digit Numbers with Digits in Geometric Progression\n",
    "\n",
    "Example: 24 → 2, 4 → ratio = 2 → valid"
   ]
  },
  {
   "cell_type": "code",
   "execution_count": 20,
   "id": "5616488c-6077-42e3-9ee1-449575147f15",
   "metadata": {},
   "outputs": [
    {
     "name": "stdin",
     "output_type": "stream",
     "text": [
      "enter number = 24\n"
     ]
    },
    {
     "name": "stdout",
     "output_type": "stream",
     "text": [
      "11\n",
      "12\n",
      "13\n",
      "14\n",
      "15\n",
      "16\n",
      "17\n",
      "18\n",
      "19\n",
      "21\n",
      "22\n",
      "24\n",
      "count = 12\n"
     ]
    }
   ],
   "source": [
    "def Geometric_Progression():\n",
    "    n = int(input(\"enter number =\"))\n",
    "    count = 0\n",
    "\n",
    "    for num in range(10,n+1):\n",
    "        a = num // 10\n",
    "        b = num % 10\n",
    "        if a == 0 or b == 0:\n",
    "            continue\n",
    "\n",
    "        if a % b == 0 or b % a == 0:\n",
    "            print(num)\n",
    "            count += 1\n",
    "    print(\"count =\",count)\n",
    "\n",
    "\n",
    "Geometric_Progression()\n",
    "    "
   ]
  },
  {
   "cell_type": "markdown",
   "id": "009e04a2-0081-47c1-950c-d83ef51fa82e",
   "metadata": {},
   "source": [
    "Q 195.Write a function called birthday that takes in three parameters (month, day, and year) and returns it in the format month/day/year. For example, birthday(11, 17, 1990) should return \"11/17/1990\" and birthday(7, 5, 2004) should return “7/5/2004\"."
   ]
  },
  {
   "cell_type": "code",
   "execution_count": 21,
   "id": "9b02dca8-569d-4167-9ebc-4e5abda20b84",
   "metadata": {},
   "outputs": [
    {
     "name": "stdout",
     "output_type": "stream",
     "text": [
      "25 / 11 / 2003\n"
     ]
    }
   ],
   "source": [
    "def birthday(month,day,year):\n",
    "    print(day,\"/\",month,\"/\",year)\n",
    "birthday(11,25,2003)"
   ]
  },
  {
   "cell_type": "markdown",
   "id": "aea502df-8321-4a4b-a8c9-c7754f163fe4",
   "metadata": {},
   "source": [
    "Q 196.Write a function called address that combines 3 different string address parameters (city, state, and zip) and returns a user’s address. After the city and state inputs, add a comma and a space. For example, address('Pune', 'MH', '411041') should return \"Pune, MH, 411041”."
   ]
  },
  {
   "cell_type": "code",
   "execution_count": 22,
   "id": "9c21b918-cac5-4d4d-a139-69ef518844ed",
   "metadata": {},
   "outputs": [
    {
     "name": "stdout",
     "output_type": "stream",
     "text": [
      "pune, maharastra, 4111202\n"
     ]
    }
   ],
   "source": [
    "def address_parameters(city,state,zip):\n",
    "    print(city,state,zip)\n",
    "address_parameters(\"pune,\",\"maharastra,\",4111202)"
   ]
  },
  {
   "cell_type": "markdown",
   "id": "df37100a-db06-45c1-a877-ee9ab9309c35",
   "metadata": {},
   "source": [
    "Q 197.Write a program to find out the prime factors of a number. Example: prime factors of 56 - 2, 2, 2, 7"
   ]
  },
  {
   "cell_type": "code",
   "execution_count": 24,
   "id": "3d42d6d7-4ad7-498e-86c9-47cdf8f056f0",
   "metadata": {},
   "outputs": [
    {
     "name": "stdout",
     "output_type": "stream",
     "text": [
      "factor = 2\n",
      "factor = 11\n",
      "not a prime factor = 21\n"
     ]
    }
   ],
   "source": [
    "def find_prime_factor(n):\n",
    "    \n",
    "    for fac in range(2,n):\n",
    "        if n % fac == 0:\n",
    "            print(\"factor =\",fac)\n",
    "\n",
    "    if fac <= 1:\n",
    "        print(\"not a prime factor =\",fac)\n",
    "        return\n",
    "\n",
    "    for i in range(2, fac):\n",
    "        if fac % i == 0:\n",
    "            print(\"not a prime factor =\",fac)\n",
    "            return\n",
    "\n",
    "    print(\"is prime factor =\",fac)\n",
    "\n",
    "    \n",
    "find_prime_factor(22)      \n",
    "            "
   ]
  },
  {
   "cell_type": "markdown",
   "id": "f41b7595-4a6e-46f2-bbd8-9ba73ab68b72",
   "metadata": {},
   "source": [
    "Q 198.Write a function sumPdivisors() that finds the sum of proper divisors of a number. Proper divisors of a number are those numbers by which the number is divisible, except the number itself. For example proper divisors of 36 are 1, 2, 3, 4, 6, 9, 18¶"
   ]
  },
  {
   "cell_type": "code",
   "execution_count": 25,
   "id": "1cb23869-aa68-4663-9af3-f71e09a511b5",
   "metadata": {},
   "outputs": [
    {
     "name": "stdout",
     "output_type": "stream",
     "text": [
      "divisors = 1\n",
      "divisors = 2\n",
      "divisors = 3\n",
      "divisors = 4\n",
      "divisors = 6\n",
      "divisors = 9\n",
      "divisors = 12\n",
      "divisors = 18\n",
      "divisors = 36\n",
      "sum of divisors = 91\n"
     ]
    }
   ],
   "source": [
    "def sumPdivisors(num):\n",
    "    sum = 0\n",
    "    for i in range(1,num+1):\n",
    "        if num % i == 0:\n",
    "            print(\"divisors =\",i)\n",
    "            sum += i\n",
    "    print(\"sum of divisors =\",sum)\n",
    "sumPdivisors(36)"
   ]
  },
  {
   "cell_type": "markdown",
   "id": "f9e4578b-e781-4b61-91ff-59af5eeb9221",
   "metadata": {},
   "source": [
    "Q 200.Write a python function to calculate simple interest and compound interest "
   ]
  },
  {
   "cell_type": "code",
   "execution_count": 26,
   "id": "4f8abb2c-d475-473d-8b17-4ce1ba445a5d",
   "metadata": {},
   "outputs": [
    {
     "name": "stdin",
     "output_type": "stream",
     "text": [
      "enter principal ammount = 125478\n",
      "enter rate of intrest = 23\n",
      "enter number of years = 2\n"
     ]
    },
    {
     "name": "stdout",
     "output_type": "stream",
     "text": [
      "compound intrest is = 57719.88\n",
      "compound intrest is = 64357.66619999998\n"
     ]
    }
   ],
   "source": [
    "def si_compound():\n",
    "    p = int(input(\"enter principal ammount =\"))\n",
    "    r = int(input(\"enter rate of intrest =\"))\n",
    "    t = int(input(\"enter number of years =\"))\n",
    "   \n",
    "    si = (p * r * t) / 100\n",
    "    print(\"compound intrest is =\",si)\n",
    "    compound_amount = p * (1 + (r / 100)) ** t\n",
    "    compound_intrest = compound_amount - p\n",
    "    print(\"compound intrest is =\",compound_intrest)\n",
    "\n",
    "si_compound()\n",
    "    "
   ]
  },
  {
   "cell_type": "markdown",
   "id": "7bb1a5fd-7c45-402c-8f19-11711494825e",
   "metadata": {},
   "source": [
    "Q 201.Write a python function to create a countdown timer, take the start and end number from the user"
   ]
  },
  {
   "cell_type": "code",
   "execution_count": 27,
   "id": "1ee2d60c-0410-483d-bff2-7d9239e0dabf",
   "metadata": {},
   "outputs": [
    {
     "name": "stdin",
     "output_type": "stream",
     "text": [
      "enter starting number = 10\n",
      "entrt ending number = 20\n"
     ]
    },
    {
     "name": "stdout",
     "output_type": "stream",
     "text": [
      "10\n",
      "11\n",
      "12\n",
      "13\n",
      "14\n",
      "15\n",
      "16\n",
      "17\n",
      "18\n",
      "19\n",
      "20\n"
     ]
    }
   ],
   "source": [
    "def start_end_number():\n",
    "    s = int(input(\"enter starting number =\"))\n",
    "    e = int(input(\"entrt ending number =\"))\n",
    "    for i in range(s,e + 1):\n",
    "        print(i)\n",
    "\n",
    "start_end_number()\n"
   ]
  },
  {
   "cell_type": "markdown",
   "id": "2e5c9422-a799-4c63-b5bf-6205b97fa6e8",
   "metadata": {},
   "source": [
    "Q 202.Write a python program to print multiplication of the digits in the number entered by the user, add 2 to each digit and then multiply"
   ]
  },
  {
   "cell_type": "code",
   "execution_count": 28,
   "id": "7a286d6b-862c-42e7-8169-3b928ea568d7",
   "metadata": {},
   "outputs": [
    {
     "name": "stdin",
     "output_type": "stream",
     "text": [
      "enter number = 10\n"
     ]
    },
    {
     "name": "stdout",
     "output_type": "stream",
     "text": [
      "30\n",
      "20\n"
     ]
    }
   ],
   "source": [
    "def digit_multiplication():\n",
    "    num = int(input(\"enter number =\"))\n",
    "    multi = 0\n",
    "    for digit in str(num):\n",
    "        digit = int(digit)\n",
    "        digit += 2\n",
    "        multi = digit * num\n",
    "        print(multi)\n",
    "digit_multiplication()"
   ]
  },
  {
   "cell_type": "markdown",
   "id": "6c2afc8a-ccf9-4254-a9f0-4f6b0e001322",
   "metadata": {},
   "source": [
    "Q 203.Write a python function to take 5 numbers from the user, sort the numbers in ascending order."
   ]
  },
  {
   "cell_type": "code",
   "execution_count": 30,
   "id": "563d694d-cb2d-4d97-b48f-6a49b3706d1f",
   "metadata": {},
   "outputs": [
    {
     "name": "stdout",
     "output_type": "stream",
     "text": [
      "[\n",
      "1\n",
      ",\n",
      " \n",
      "2\n",
      ",\n",
      " \n",
      "3\n",
      ",\n",
      " \n",
      "4\n",
      ",\n",
      " \n",
      "5\n",
      "]\n",
      "None\n"
     ]
    }
   ],
   "source": [
    "def ascending_order_in_list(num):\n",
    "    \n",
    "    \n",
    "    for digit in str(num):\n",
    "        \n",
    "        for digit2 in digit:\n",
    "            \n",
    "            if digit2 >= digit:\n",
    "                print(digit)\n",
    "data = [1,2,3,4,5]            \n",
    "result = ascending_order_in_list(data)\n",
    "print(result)"
   ]
  },
  {
   "cell_type": "markdown",
   "id": "28ec5a2d-6c0f-4059-ae77-44100a4418a0",
   "metadata": {},
   "source": [
    "Q 205.Write a function that returns the alternating sum of digits.\n",
    "For example: num = 1234 → 1 - 2 + 3 - 4 = -2"
   ]
  },
  {
   "cell_type": "code",
   "execution_count": 31,
   "id": "84e04772-69ff-491a-9bc8-a781219e5a9b",
   "metadata": {},
   "outputs": [
    {
     "name": "stdout",
     "output_type": "stream",
     "text": [
      "-2\n"
     ]
    }
   ],
   "source": [
    "def alternating_sum_of_digits(num):\n",
    "    sum = 0\n",
    "    sign = 1\n",
    "\n",
    "    for digit in str(num):\n",
    "        sum += sign * int(digit)\n",
    "        sign *= -1\n",
    "\n",
    "    print(sum)\n",
    "\n",
    "alternating_sum_of_digits(1234)"
   ]
  },
  {
   "cell_type": "markdown",
   "id": "d134e687-4bce-49a0-a979-dcce889adc6b",
   "metadata": {},
   "source": [
    "Q 207.Write a python function to Check if a Number is Equal to Product of Its Digits Plus Sum of Its Digits\n",
    "\n",
    "Example:\n",
    "num = 123\n",
    "Sum = 1+2+3 = 6, Product = 1×2×3 = 6\n",
    "Check: 123 == 6 + 6 "
   ]
  },
  {
   "cell_type": "code",
   "execution_count": 32,
   "id": "aafe512b-2cd4-4d20-818f-3778ec56c47d",
   "metadata": {},
   "outputs": [
    {
     "name": "stdin",
     "output_type": "stream",
     "text": [
      "enter number = 123\n"
     ]
    },
    {
     "name": "stdout",
     "output_type": "stream",
     "text": [
      "both not equal= 12 123\n"
     ]
    }
   ],
   "source": [
    "def Equal_to_Product():\n",
    "    num = int(input(\"enter number =\"))\n",
    "    sum = 0\n",
    "    product = 1\n",
    "    for digit in str(num):\n",
    "        digit = int(digit)\n",
    "        sum += digit\n",
    "        product *= digit\n",
    "\n",
    "    check = sum + product\n",
    "    if check == num:\n",
    "        print(\"both are equal =\",check,num)\n",
    "\n",
    "    else:\n",
    "        print(\"both not equal=\",check,num)\n",
    "\n",
    "\n",
    "Equal_to_Product()    "
   ]
  },
  {
   "cell_type": "markdown",
   "id": "9f0dcef2-0f79-4285-872a-580d1b9968eb",
   "metadata": {},
   "source": [
    "Q 208.Write a python function to Digit Reversal + Original = Palindrome\n",
    "\n",
    "Check if reversing a number and adding to the original creates a palindrome.\n",
    "E.g., num = 56 → 56 + 65 = 121 → palindrome"
   ]
  },
  {
   "cell_type": "code",
   "execution_count": 33,
   "id": "03ba8659-fb5e-4d63-ac8d-b317e576bb9c",
   "metadata": {},
   "outputs": [
    {
     "name": "stdin",
     "output_type": "stream",
     "text": [
      "enter number = 56\n"
     ]
    },
    {
     "name": "stdout",
     "output_type": "stream",
     "text": [
      "original  56 + reverce 65 = 121\n",
      "palimdrome\n"
     ]
    }
   ],
   "source": [
    "def reverce_original_palindrome():\n",
    "    num = int(input(\"enter number =\"))\n",
    "    original = num\n",
    "    reverse = 0\n",
    "\n",
    "    \n",
    "    while num > 0:\n",
    "        \n",
    "        \n",
    "        digit = num % 10\n",
    "        reverse = reverse * 10 + digit\n",
    "        num = num // 10\n",
    "    addition = original + reverse\n",
    "    print(\"original \",original,\"+\",\"reverce\",reverse,\"=\",addition)\n",
    "\n",
    "    temp = addition\n",
    "    reverce_addition = 0\n",
    "\n",
    "    while temp > 0:\n",
    "\n",
    "        digit = temp % 10\n",
    "        reverce_addition = reverce_addition * 10 + digit\n",
    "        temp = temp // 10\n",
    "\n",
    "    if addition == reverce_addition:\n",
    "        print(\"palimdrome\")\n",
    "    else:\n",
    "        print(\"not palindrome =\")\n",
    "        \n",
    "\n",
    "reverce_original_palindrome()\n",
    "    "
   ]
  },
  {
   "cell_type": "markdown",
   "id": "2266a19f-8c4f-4aeb-b64c-900fadfd9990",
   "metadata": {},
   "source": [
    "Q 209.Write a python function to Count All Digits Greater Than the Digit to Their Right\n",
    "\n",
    "e.g., num = 954213 →\n",
    "9 > 5 \n",
    "5 > 4 \n",
    "4 > 2 \n",
    "2 > 1 \n",
    "1 > 3 \n",
    "→ Count = 4"
   ]
  },
  {
   "cell_type": "markdown",
   "id": "4aa000c7-f515-46a1-8fef-58fee6dc88f4",
   "metadata": {},
   "source": [
    "Q 210.Write a python function to Create Number from Sum of Digits at Even and Odd Indexes\n",
    "\n",
    "e.g. num = 123456 →\n",
    "Even index digits (1-based): 2+4+6 = 12\n",
    "Odd index digits: 1+3+5 = 9\n",
    "New number = 912"
   ]
  },
  {
   "cell_type": "code",
   "execution_count": 34,
   "id": "358508ea-ef47-4a51-b8b6-cdf3bfe96fa7",
   "metadata": {},
   "outputs": [
    {
     "name": "stdin",
     "output_type": "stream",
     "text": [
      "enter number = 123456\n"
     ]
    },
    {
     "name": "stdout",
     "output_type": "stream",
     "text": [
      "even digit = 12\n",
      "odd number = 9\n",
      "new number = 912\n"
     ]
    }
   ],
   "source": [
    "def Even_and_Odd_Indexes():\n",
    "    num = int(input(\"enter number =\"))\n",
    "    \n",
    "    even = 0\n",
    "    odd = 0\n",
    "\n",
    "    for even_digit in str(num):\n",
    "        \n",
    "        even_digit = int(even_digit)\n",
    "        \n",
    "        if even_digit % 2 == 0:\n",
    "            even += even_digit\n",
    "            \n",
    "    print(\"even digit =\",even)\n",
    "            \n",
    "    for odd_digit in str(num):\n",
    "        odd_digit = int(odd_digit)\n",
    "        \n",
    "        if odd_digit % 2 != 0:\n",
    "            odd += odd_digit\n",
    "    \n",
    "    print(\"odd number =\",odd)\n",
    "\n",
    "    new_number = str(odd) + str(even)\n",
    "    print(\"new number =\",str(new_number))\n",
    "\n",
    "Even_and_Odd_Indexes()\n",
    "    \n",
    "            "
   ]
  },
  {
   "cell_type": "markdown",
   "id": "5c6362d8-6d2a-4d23-90ef-85edd4d103a9",
   "metadata": {},
   "source": [
    "Q 211.Write a python function to Reverse Only Even Digits in a Number\n",
    "\n",
    "e.g. num = 12345678 → Even digits: 2, 4, 6, 8 → Reverse → 8,6,4,2\n",
    "Final output: 18345672"
   ]
  },
  {
   "cell_type": "code",
   "execution_count": 35,
   "id": "2bf91716-5560-49a9-877d-3cec59a3c769",
   "metadata": {},
   "outputs": [
    {
     "name": "stdin",
     "output_type": "stream",
     "text": [
      "enter number =  12345678\n"
     ]
    },
    {
     "name": "stdout",
     "output_type": "stream",
     "text": [
      "even digit's = 2\n",
      "even digit's = 4\n",
      "even digit's = 6\n",
      "even digit's = 8\n",
      "reverse even digit's = 8642\n"
     ]
    }
   ],
   "source": [
    "def Reverse_Only_Even_Digits():\n",
    "    num = int(input(\"enter number = \"))\n",
    "    even = 0\n",
    "    temp = 0  \n",
    "\n",
    "    \n",
    "    for digit in str(num):\n",
    "        digit = int(digit)\n",
    "        if digit % 2 == 0:\n",
    "            print(\"even digit's =\", digit)\n",
    "            \n",
    "            temp = temp * 10 + digit\n",
    "\n",
    "    even_reverse = 0\n",
    "    while temp > 0:\n",
    "        digit_reverse = temp % 10\n",
    "        even_reverse = even_reverse * 10 + digit_reverse\n",
    "        temp = temp // 10\n",
    "\n",
    "    print(\"reverse even digit's =\", even_reverse)\n",
    "\n",
    "Reverse_Only_Even_Digits()\n"
   ]
  },
  {
   "cell_type": "markdown",
   "id": "ee6c9688-f65c-4de3-84ff-396c4fd65723",
   "metadata": {},
   "source": [
    "## Variable Length Arguement:"
   ]
  },
  {
   "cell_type": "markdown",
   "id": "755927e6-1057-486b-8f21-c2a67beef4a9",
   "metadata": {},
   "source": [
    "Variable Length Arguement: these arguement are used to pass multiple value as arguement during function call. "
   ]
  },
  {
   "cell_type": "markdown",
   "id": "11c6c3a6-d674-449d-ba2d-e7dd98ad8205",
   "metadata": {},
   "source": [
    "## *args :"
   ]
  },
  {
   "cell_type": "markdown",
   "id": "55f5c92c-3bd9-47df-a374-c928f6d58f89",
   "metadata": {},
   "source": [
    "*args : These are used to pass multiple value during function call."
   ]
  },
  {
   "cell_type": "markdown",
   "id": "bca51ebf-e80c-47ee-bfd3-5df1480c9a29",
   "metadata": {},
   "source": [
    "## **kwargs :"
   ]
  },
  {
   "cell_type": "markdown",
   "id": "c377e89e-ee37-4b01-86c8-b5eaa83174ad",
   "metadata": {},
   "source": [
    "**kwargs : **kwargs are used to accept multiple value of keyword arguement the ** is used to specify kwargs,it then convert's the arguement into dictionary where every key is keyword and the value assciated with the keyword is the value for that respective key."
   ]
  },
  {
   "cell_type": "markdown",
   "id": "95a0d53d-dc57-49e1-bf9b-43889d010255",
   "metadata": {},
   "source": [
    "Q 212.Create a function custom_sum(*args, **kwargs) that calculates the sum of all numbers passed via *args, and then applies modifications from **kwargs. Modifiers can be:\n",
    "\"add\": add this value to the sum\n",
    "\"subtract\": subtract this value from the sum\n",
    "\"multiply\": multiply the result by this value\n",
    "\"divide\": divide the result by this value (integer division only)"
   ]
  },
  {
   "cell_type": "code",
   "execution_count": 36,
   "id": "f4a46ffb-fbdc-48e3-8f95-084ce8d3cc28",
   "metadata": {},
   "outputs": [
    {
     "name": "stdout",
     "output_type": "stream",
     "text": [
      "14\n",
      "addition = 19\n",
      "19\n",
      "substraction = 14\n",
      "14\n",
      "multiplication = 70\n",
      "70\n",
      "division = 14\n",
      "14\n"
     ]
    }
   ],
   "source": [
    "def sum_s(*args,**kwargs):\n",
    "    total = 0\n",
    "    for i in args:\n",
    "        total += i\n",
    "    print(total)\n",
    "    result = total\n",
    "\n",
    "    for k,v in kwargs.items():\n",
    "        if k == \"add\":\n",
    "            result += v\n",
    "            print(\"addition =\",result)\n",
    "        if k == \"sub\":\n",
    "            result -= v\n",
    "            print(\"substraction =\",result)\n",
    "        if k == \"multi\":\n",
    "            result *= v\n",
    "            print(\"multiplication =\",result)\n",
    "        if k == \"divisor\":\n",
    "            result //= v\n",
    "            print(\"division =\",result)\n",
    "            \n",
    "\n",
    "        print(result)\n",
    "    \n",
    "\n",
    "sum_s(2,3,4,5,add = 5,sub = 5,multi = 5,divisor = 5)\n",
    "        "
   ]
  },
  {
   "cell_type": "markdown",
   "id": "ce461b1d-7919-47c9-98f8-aba8a7df1236",
   "metadata": {},
   "source": [
    "Q 213.Write a function keyword_counter(*args, **kwargs) that counts how many times each keyword argument value appears in *args."
   ]
  },
  {
   "cell_type": "code",
   "execution_count": 37,
   "id": "e32ef248-9238-4139-8186-fd420fa49b5e",
   "metadata": {},
   "outputs": [
    {
     "name": "stdout",
     "output_type": "stream",
     "text": [
      "a 2\n",
      "b 3\n",
      "c 1\n"
     ]
    }
   ],
   "source": [
    "def keyword_counter(*args,**kwargs):\n",
    "    for key,value in kwargs.items():\n",
    "        count = 0\n",
    "        for item in args:\n",
    "            if item == value:\n",
    "                count += 1\n",
    "        print(key ,str(count))\n",
    "keyword_counter(1,2,4,1,2,2,3,a = 1,b = 2, c= 3)\n",
    "        \n",
    "        "
   ]
  },
  {
   "cell_type": "markdown",
   "id": "bcc1470f-b9e6-40ce-952e-e97edad5065b",
   "metadata": {},
   "source": [
    "Q 214.Write a function print_args(*args) that prints each value from *args on a new line."
   ]
  },
  {
   "cell_type": "code",
   "execution_count": 38,
   "id": "227e16bb-fdf3-4a49-b193-7e64186c9517",
   "metadata": {},
   "outputs": [
    {
     "name": "stdout",
     "output_type": "stream",
     "text": [
      "1\n",
      "2\n",
      "3\n",
      "4\n",
      "5\n"
     ]
    }
   ],
   "source": [
    "def print_args(*args):\n",
    "    for i in args:\n",
    "        print(i)\n",
    "print_args(1,2,3,4,5)\n"
   ]
  },
  {
   "cell_type": "markdown",
   "id": "1b446551-b26b-40df-9403-3bbe7ee2a5bb",
   "metadata": {},
   "source": [
    "Q 216.Write a function create_profile(**kwargs) that creates and returns a dictionary representing a user profile with the given keyword arguments"
   ]
  },
  {
   "cell_type": "code",
   "execution_count": 39,
   "id": "e243e158-8d6a-41f6-8b42-e0e5a34ec086",
   "metadata": {},
   "outputs": [
    {
     "name": "stdout",
     "output_type": "stream",
     "text": [
      "name abc\n",
      "age 22\n",
      "city pune\n",
      "work data\n"
     ]
    }
   ],
   "source": [
    "def create_profile(**profile):\n",
    "    for k,v in profile.items():\n",
    "        print(k,v)\n",
    "create_profile(name =\"abc\",age =22,city =\"pune\",work = \"data\")"
   ]
  },
  {
   "cell_type": "markdown",
   "id": "74c30631-64e5-400d-9df4-2798f2271701",
   "metadata": {},
   "source": [
    "Q 217.Write a function get_keys(**kwargs) that returns a list of all the keys passed as keyword arguments.\n"
   ]
  },
  {
   "cell_type": "code",
   "execution_count": 40,
   "id": "d85cb0ca-ec5b-47fd-9a26-91740f797282",
   "metadata": {},
   "outputs": [
    {
     "name": "stdout",
     "output_type": "stream",
     "text": [
      "name\n",
      "age\n",
      "city\n",
      "work\n"
     ]
    }
   ],
   "source": [
    "def get_keys(**kwarge):\n",
    "    for k,v in kwarge.items():\n",
    "        print(k)\n",
    "get_keys(name =\"abc\",age =22,city =\"pune\",work = \"data\")"
   ]
  },
  {
   "cell_type": "markdown",
   "id": "7eac82d0-7921-4d13-b0e7-aab31ec69bab",
   "metadata": {},
   "source": [
    "Q 218.Write a function multiply_args(*args) that multiplies all numeric positional arguments and returns the result. If none are numeric, return 1."
   ]
  },
  {
   "cell_type": "code",
   "execution_count": 41,
   "id": "b8cfefce-50dc-448e-acf4-f158d68ef68d",
   "metadata": {},
   "outputs": [
    {
     "name": "stdout",
     "output_type": "stream",
     "text": [
      "1\n",
      "0\n"
     ]
    }
   ],
   "source": [
    "def multiply_args(*args):\n",
    "    multi = 1\n",
    "    for i in args:\n",
    "        \n",
    "        multi *= i\n",
    "        if i == 0:\n",
    "            print(1)\n",
    "    print(multi)\n",
    "    \n",
    "multiply_args(2,0,4,5)\n",
    "    "
   ]
  },
  {
   "cell_type": "markdown",
   "id": "e9acedaa-912f-4183-afb6-ed4aa98e23c8",
   "metadata": {},
   "source": [
    "Q 219.Dynamic Email GeneratorRequirements:\n",
    "\n",
    "Takes the recipient’s name (positional)\n",
    "\n",
    "Accepts any number of lines in the body via *args\n",
    "\n",
    "Accepts optional settings (**kwargs), like sender, subject, and signature\n",
    "\n",
    "Prints the formatted email"
   ]
  },
  {
   "cell_type": "code",
   "execution_count": 42,
   "id": "f6e2dcab-d619-4912-b29e-7bf56108e8b0",
   "metadata": {},
   "outputs": [
    {
     "name": "stdout",
     "output_type": "stream",
     "text": [
      "To: abhi\n",
      "Subject: job application\n",
      "from : vikas\n"
     ]
    }
   ],
   "source": [
    "def generate_email(recipient, *body, **options):\n",
    "    print(\"To:\", recipient)\n",
    "    if 'subject' in options:\n",
    "        print(\"Subject:\", options['subject'])\n",
    "   \n",
    "    for line in body:\n",
    "        print(line)\n",
    "   \n",
    "   \n",
    "\n",
    "generate_email(\"abhi\", \"from : vikas\",subject=\"job application\")\n"
   ]
  },
  {
   "cell_type": "markdown",
   "id": "185b50d3-a927-46b5-aa60-5a7f272b6f70",
   "metadata": {},
   "source": [
    "Q 220.Create Character Profile for a Game Requirements:\n",
    "\n",
    "Accepts character class as first argument\n",
    "\n",
    "Accepts any number of skills via *args\n",
    "\n",
    "Accepts keyword attributes via **kwargs (like strength, agility, magic, etc.)"
   ]
  },
  {
   "cell_type": "code",
   "execution_count": 43,
   "id": "11459f23-e205-4fe4-809b-7d0c9391e989",
   "metadata": {},
   "outputs": [
    {
     "name": "stdout",
     "output_type": "stream",
     "text": [
      "class = frist\n",
      "skill = runner\n",
      "strength = 1000m\n"
     ]
    }
   ],
   "source": [
    "def Profile_for_Game_Requirements(clas , *args, **kwargs):\n",
    "    print(\"class =\",clas)\n",
    "    for skill in args:\n",
    "        print(\"skill =\",skill)\n",
    "\n",
    "    for k,v in kwargs.items():\n",
    "        if 'strength' in k:\n",
    "            print(\"strength =\",v)\n",
    "            \n",
    "Profile_for_Game_Requirements(\"frist\" , \"runner\", strength = \"1000m\")\n",
    "            "
   ]
  },
  {
   "cell_type": "markdown",
   "id": "f57cd51d-dde9-4a20-a786-39e6126550c0",
   "metadata": {},
   "source": [
    "Q 221.Write a function object_builder(name, *args, **kwargs) that creates a dictionary representing an object.\n",
    "name becomes the \"name\" field.\n",
    "All values in *args become entries under \"values\" list.\n",
    "All key-value pairs in **kwargs go under a \"properties\" sub-dictionary."
   ]
  },
  {
   "cell_type": "code",
   "execution_count": 44,
   "id": "edc403c4-1f6f-4565-9dce-83deaef751ec",
   "metadata": {},
   "outputs": [
    {
     "name": "stdout",
     "output_type": "stream",
     "text": [
      "name = abhijeet\n",
      "values = 123\n",
      "properties = running fast\n",
      "properties = drive currect\n"
     ]
    }
   ],
   "source": [
    "def object_builder(name, *args, **kwargs):\n",
    "    print(\"name =\",name)\n",
    "\n",
    "    for value in args:\n",
    "        print(\"values =\",value)\n",
    "\n",
    "    for k,v in kwargs.items():\n",
    "        print(\"properties =\",k,v)\n",
    "object_builder(\"abhijeet\", 123, running =\"fast\",drive =\"currect\" )\n"
   ]
  },
  {
   "cell_type": "markdown",
   "id": "e6cfd5fe-968d-48c4-ad72-4d745f03caaf",
   "metadata": {},
   "source": [
    "Q 222.Write a function create_student_profile(name, *scores, **weights) that:\n",
    "Accepts name as the first argument.\n",
    "Accepts any number of scores in *scores (assume test scores).\n",
    "Accepts keyword arguments as subject weights (e.g., math=2, english=1).\n",
    "Returns a dictionary"
   ]
  },
  {
   "cell_type": "code",
   "execution_count": 45,
   "id": "813aec30-37cb-470e-94f9-ec5aaa2f651b",
   "metadata": {},
   "outputs": [
    {
     "name": "stdout",
     "output_type": "stream",
     "text": [
      "Student Name  = vansh\n",
      "Student Test Scores = 87\n",
      "Student Subjects Scores = math 23\n",
      "Student Subjects Scores = englist 34\n"
     ]
    }
   ],
   "source": [
    "def create_student_profile(name, *scores, **weights):\n",
    "    print(\"Student Name  =\",name)\n",
    "\n",
    "    for test_score in scores:\n",
    "        print(\"Student Test Scores =\",test_score)\n",
    "\n",
    "    for k,v in weights.items():\n",
    "        print(\"Student Subjects Scores =\",k,v)\n",
    "\n",
    "create_student_profile(\"vansh\", 87, math =23,englist =34)"
   ]
  },
  {
   "cell_type": "markdown",
   "id": "52fc5c21-d7d2-402e-9b40-9edd1e55265e",
   "metadata": {},
   "source": [
    "Q 223.Create a function sales_report(region, *sales, **bonuses) where:\n",
    "region: region name (e.g., \"East\")\n",
    "*sales: list of daily sales amounts\n",
    "**bonuses: keyword bonuses by day (e.g., day1=100, day3=50)\n",
    "Return a dictionary with:\n",
    "region\n",
    "sales list\n",
    "total bonus\n",
    "number of days"
   ]
  },
  {
   "cell_type": "code",
   "execution_count": 46,
   "id": "6b67f021-919f-4214-ab4e-75b3eebe2b99",
   "metadata": {},
   "outputs": [
    {
     "name": "stdout",
     "output_type": "stream",
     "text": [
      "Region = pune\n",
      "Daily Sales amount = 1000\n",
      "Bonuses by day = day1 100\n",
      "Bonuses by day = day2 40\n",
      "Bonuses by day = day3 50\n",
      "Total Bonuses = 190\n"
     ]
    }
   ],
   "source": [
    "def sales_report(region, *sales, **bonuses):\n",
    "    print(\"Region =\",region)\n",
    "\n",
    "    for amount in sales:\n",
    "        print(\"Daily Sales amount =\",amount)\n",
    "\n",
    "        \n",
    "    total_bonuses = 0\n",
    "    for k,v in bonuses.items():\n",
    "        \n",
    "        print(\"Bonuses by day =\",k,v)\n",
    "        total_bonuses += v\n",
    "\n",
    "        \n",
    "    print(\"Total Bonuses =\",total_bonuses)\n",
    "\n",
    "sales_report(\"pune\",1000,day1 =100,day2 = 40, day3 = 50)\n",
    "        \n",
    "        "
   ]
  },
  {
   "cell_type": "markdown",
   "id": "ad756fa0-9a0a-4913-babc-b00fd8dc62df",
   "metadata": {},
   "source": [
    "Q 224.Write a function account_summary(account_type, *transactions, **adjustments) that:\n",
    "account_type: like \"savings\", \"checking\"\n",
    "*transactions: deposit/withdrawal values (positive/negative)\n",
    "**adjustments: like interest=50, fees=10"
   ]
  },
  {
   "cell_type": "code",
   "execution_count": 47,
   "id": "30e42a3d-9511-4106-8a86-4c1e5a4c0b6e",
   "metadata": {},
   "outputs": [
    {
     "name": "stdout",
     "output_type": "stream",
     "text": [
      "Account Type : Saving\n",
      "Total Trasaction = 700\n",
      "Total Trasaction = 1500\n",
      "Total Trasaction = 1000\n",
      "Total Trasaction = 1200\n",
      "Adjustments = intrest 100\n",
      "Adjustments = fees 50\n",
      "Total Adjustment = 150\n",
      "Final Ammount = 1050\n"
     ]
    }
   ],
   "source": [
    "def account_summary(account_type, *transactions, **adjustments):\n",
    "    print(\"Account Type :\",account_type)\n",
    "\n",
    "    total_transaction = 0\n",
    "    for value in transactions:\n",
    "        total_transaction += value\n",
    "        print(\"Total Trasaction =\",total_transaction)\n",
    "    \n",
    "    total_adjustment = 0\n",
    "    for k,v in adjustments.items():\n",
    "        print(\"Adjustments =\",k,v)\n",
    "\n",
    "        total_adjustment += v\n",
    "    print(\"Total Adjustment =\",total_adjustment)\n",
    "\n",
    "    final_balance = total_transaction - total_adjustment\n",
    "    print(\"Final Ammount =\",final_balance)\n",
    "\n",
    "account_summary(\"Saving\",700,800,-500,200,intrest = 100,fees =50)"
   ]
  },
  {
   "cell_type": "markdown",
   "id": "527551ae-cd95-4676-80f2-b2754086fd82",
   "metadata": {},
   "source": [
    "Q 225.Write a function grade_exam(student, *marks, **penalties) that:\n",
    "Accepts the student's name\n",
    "Takes any number of marks (e.g., per section)\n",
    "Accepts deductions via key words (e.g., late=5, cheating=10)\n",
    "Return total score after all penalties."
   ]
  },
  {
   "cell_type": "code",
   "execution_count": 48,
   "id": "4a02c794-4df1-44e9-8d9f-6f66eaf54da3",
   "metadata": {},
   "outputs": [
    {
     "name": "stdout",
     "output_type": "stream",
     "text": [
      "Student Name = Samarth\n",
      "Student marks in Exam = 45\n",
      "Student marks in Exam = 55\n",
      "Student marks in Exam = 60\n",
      "Student marks in Exam = 70\n",
      "Student marks in Exam = 88\n",
      "Student total marks in Exam = 318\n",
      "panelties on student marks = late 5\n",
      "panelties on student marks = cheating 10\n",
      "deduction of panelties in marks = 15\n",
      "total score after all penalties = 303\n"
     ]
    }
   ],
   "source": [
    "def grade_exam(student, *marks, **penalties):\n",
    "    print(\"Student Name =\",student)\n",
    "\n",
    "    total_marks = 0\n",
    "    for mark in marks:\n",
    "        print(\"Student marks in Exam =\",mark)\n",
    "        total_marks += mark\n",
    "    print(\"Student total marks in Exam =\",total_marks)\n",
    "\n",
    "    deduction = 0\n",
    "    for k,v in penalties.items():\n",
    "        print(\"panelties on student marks =\",k,v)\n",
    "\n",
    "        deduction += v\n",
    "    print(\"deduction of panelties in marks =\",deduction)\n",
    "\n",
    "    total_score = total_marks - deduction \n",
    "\n",
    "    print(\"total score after all penalties =\",total_score)\n",
    "\n",
    "grade_exam(\"Samarth\",45,55,60,70,88,late = 5,cheating = 10)\n",
    "\n",
    "\n",
    "        "
   ]
  },
  {
   "cell_type": "markdown",
   "id": "b29b75e1-a4e3-4acb-862d-cc9e57efb288",
   "metadata": {},
   "source": [
    "Q 227.Write a function check_perfect_numbers(*args) that:\n",
    "Accepts multiple integers via *args\n",
    "Returns a list of only those numbers that are perfect numbers\n",
    "A perfect number is a number that is equal to the sum of its proper divisors (excluding itself). ",
    "Example: 6 → divisors: 1, 2, 3 → sum: 6"
   ]
  },
  {
   "cell_type": "code",
   "execution_count": 49,
   "id": "efa840af-a270-43f8-a3cb-58415ab64841",
   "metadata": {},
   "outputs": [
    {
     "name": "stdout",
     "output_type": "stream",
     "text": [
      "perfect number = 6\n"
     ]
    }
   ],
   "source": [
    "def check_perfect_numbers(*args):\n",
    "\n",
    "    for num in args:\n",
    "\n",
    "        divisor_sum = 0\n",
    "        for i in range(1,num):\n",
    "            if num % i == 0:\n",
    "                divisor_sum += i\n",
    "                \n",
    "\n",
    "        if divisor_sum == num:\n",
    "            print(\"perfect number =\",num)\n",
    "\n",
    "   \n",
    "\n",
    "\n",
    "check_perfect_numbers(2,3,4,5,6,7,8)"
   ]
  },
  {
   "cell_type": "markdown",
   "id": "4cf2e7a5-2a4b-4749-a199-6712a5447052",
   "metadata": {},
   "source": [
    "Q 228.Write a function filter_divisible(divisor, *args) that returns a list of numbers from args divisible by divisor.\n"
   ]
  },
  {
   "cell_type": "code",
   "execution_count": 50,
   "id": "d01278c1-6771-4db1-b891-118b3e4170e1",
   "metadata": {},
   "outputs": [
    {
     "name": "stdout",
     "output_type": "stream",
     "text": [
      "divisor = 8\n",
      "8 divisible by divisor = 56\n",
      "8 divisible by divisor = 96\n",
      "8 divisible by divisor = 88\n"
     ]
    }
   ],
   "source": [
    "def filter_divisible(divisor, *args):\n",
    "    print(\"divisor =\",divisor)\n",
    "    \n",
    "\n",
    "    \n",
    "    for num in args:\n",
    "        if num % divisor == 0:\n",
    "            print(divisor,\"divisible by divisor =\",num)\n",
    "\n",
    "filter_divisible(8 ,10,20,37,65,78,56,65,96,88,300)"
   ]
  },
  {
   "cell_type": "markdown",
   "id": "b67befea-9540-4c2d-ace1-3ef3d6b2b4e2",
   "metadata": {},
   "source": [
    "Q 229.Write a function is_prime(num) that returns True if num is prime, else False.\n"
   ]
  },
  {
   "cell_type": "code",
   "execution_count": 51,
   "id": "7c1aaf59-4c07-44fd-a557-d65c91a5f1d1",
   "metadata": {},
   "outputs": [
    {
     "data": {
      "text/plain": [
       "True"
      ]
     },
     "execution_count": 51,
     "metadata": {},
     "output_type": "execute_result"
    }
   ],
   "source": [
    "def is_prime(num):\n",
    "    if num < 2:\n",
    "        return False\n",
    "\n",
    "    for i in range(2, num):\n",
    "        if num % i == 0:\n",
    "            return False\n",
    "\n",
    "    return True\n",
    "is_prime(5)"
   ]
  },
  {
   "cell_type": "markdown",
   "id": "3e632c07-0459-4e05-880c-3c324f280d14",
   "metadata": {},
   "source": [
    "Q 230.Write a function count_divisors(*args) that returns a dictionary mapping each number to the count of its positive divisors.\n"
   ]
  },
  {
   "cell_type": "code",
   "execution_count": 53,
   "id": "647d6cd0-616d-474f-a323-6d004b58f965",
   "metadata": {},
   "outputs": [
    {
     "name": "stdout",
     "output_type": "stream",
     "text": [
      "3\n"
     ]
    }
   ],
   "source": [
    "def count_divisors(*args):\n",
    "    \n",
    "    for num in args:\n",
    "        count = 0\n",
    "        for d in range(1,num):\n",
    "            if num % d == 0:\n",
    "                count += 1\n",
    "        print(count)\n",
    "count_divisors(10)       "
   ]
  },
  {
   "cell_type": "markdown",
   "id": "7eda40b4-baad-4dfe-a142-1d8321f6df64",
   "metadata": {},
   "source": [
    "Q 231.Write a function sum_of_powers(power, *args) that computes the sum of each number raised to the given power (power is a positive integer)."
   ]
  },
  {
   "cell_type": "code",
   "execution_count": 54,
   "id": "76b5258b-3940-4fa7-8e1e-f571a2f2e58d",
   "metadata": {},
   "outputs": [
    {
     "name": "stdout",
     "output_type": "stream",
     "text": [
      "Power of each number = 2\n",
      "Power of 5 = 25\n",
      "Power of 4 = 16\n",
      "Sum of powers = 41\n"
     ]
    }
   ],
   "source": [
    "def sum_of_powers(power, *args):\n",
    "    print(\"Power of each number =\", power)\n",
    "    \n",
    "    sum_power = 0\n",
    "    \n",
    "    for num in args:\n",
    "        result = num ** power\n",
    "        print(\"Power of\", num, \"=\", result)\n",
    "        sum_power += result\n",
    "\n",
    "    print(\"Sum of powers =\", sum_power)\n",
    "\n",
    "\n",
    "sum_of_powers(2,5,4)\n"
   ]
  },
  {
   "cell_type": "markdown",
   "id": "641cd3ac-f8b2-4c2b-9de7-a6c18d927884",
   "metadata": {},
   "source": [
    "Q 232.Write count_items(a) that returns how many elements are in list a without using len (iterate and count manually)."
   ]
  },
  {
   "cell_type": "code",
   "execution_count": 55,
   "id": "7f43f38f-f7b5-4264-b3aa-656e389a055d",
   "metadata": {},
   "outputs": [
    {
     "name": "stdout",
     "output_type": "stream",
     "text": [
      "elements in list = 5\n",
      "5\n"
     ]
    }
   ],
   "source": [
    "def count_items(a):\n",
    "    \n",
    "    count = 0\n",
    "    for element in a:\n",
    "        count += 1\n",
    "    print(\"elements in list =\",count)\n",
    "    return count\n",
    "\n",
    "list = [1,2,3,4,5]\n",
    "result = count_items(list)\n",
    "print(result)"
   ]
  },
  {
   "cell_type": "markdown",
   "id": "619f0ba9-e546-432f-a590-2923091b26a6",
   "metadata": {},
   "source": [
    "Q 233.Write mean(a) that returns the arithmetic mean. You must compute both the total and the count via loops you write yourself."
   ]
  },
  {
   "cell_type": "code",
   "execution_count": 56,
   "id": "6440af1e-993d-4ba1-81a0-063b3d158f04",
   "metadata": {},
   "outputs": [
    {
     "name": "stdout",
     "output_type": "stream",
     "text": [
      "mean value = 3.0\n",
      "3.0\n"
     ]
    }
   ],
   "source": [
    "def mean(a):\n",
    "    count = 0\n",
    "    total = 0\n",
    "    for element in a:\n",
    "        count += 1\n",
    "        total += element\n",
    "\n",
    "    mean_value = total / element\n",
    "    print(\"mean value =\",mean_value)\n",
    "    return mean_value\n",
    "\n",
    "data = [1,2,3,4,5]\n",
    "result = mean(data)\n",
    "print(result)"
   ]
  },
  {
   "cell_type": "markdown",
   "id": "635ddc35-9c7a-4890-bd31-511d0f204913",
   "metadata": {},
   "source": [
    "Q 234.Write min_value(a) and max_value(a) that return the smallest and largest elements using only comparisons in a loop."
   ]
  },
  {
   "cell_type": "code",
   "execution_count": 57,
   "id": "98d9c1f1-06c2-4f15-8c69-fcc858a40705",
   "metadata": {},
   "outputs": [
    {
     "name": "stdout",
     "output_type": "stream",
     "text": [
      "min element in a = 12\n",
      "max element in a = 78\n",
      "12 78\n"
     ]
    }
   ],
   "source": [
    "def min_value(a):\n",
    "    min_value = a[0] \n",
    "    \n",
    "    for element in a:\n",
    "        if element < min_value:\n",
    "            min_value = element\n",
    "    print(\"min element in a =\",min_value)\n",
    "    return min_value\n",
    "\n",
    "def max_value(a):\n",
    "    max_value = a[0]\n",
    "\n",
    "    for element in a:\n",
    "        if element > max_value :\n",
    "            max_value = element\n",
    "    print(\"max element in a =\",max_value)\n",
    "    return max_value\n",
    "\n",
    "data_min = min_value([12,54,87])\n",
    "data_max = max_value([45,65,78])\n",
    "print(data_min,data_max)\n",
    "            "
   ]
  },
  {
   "cell_type": "markdown",
   "id": "f5269ce5-d9be-4ce4-a35a-a3eeeed3ec9e",
   "metadata": {},
   "source": [
    "Q 235.Write data_range(a) that returns max_value(a) - min_value(a) using your own functions from (Q3)."
   ]
  },
  {
   "cell_type": "code",
   "execution_count": 58,
   "id": "92e13a5f-1ec5-42c4-95cd-bde4c184e45b",
   "metadata": {},
   "outputs": [
    {
     "name": "stdout",
     "output_type": "stream",
     "text": [
      "min element in a = 12\n",
      "max element in a = 20\n",
      "data range of min and max = 12\n",
      "data range of min and max = 13\n",
      "data range of min and max = 14\n",
      "data range of min and max = 15\n",
      "data range of min and max = 16\n",
      "data range of min and max = 17\n",
      "data range of min and max = 18\n",
      "data range of min and max = 19\n",
      "data range of min and max = 20\n",
      "total range between min and max = 9\n",
      "None\n"
     ]
    }
   ],
   "source": [
    "def min_value(a):\n",
    "    min_val = a[0]\n",
    "    \n",
    "    for element in a:\n",
    "        if element < min_val:\n",
    "            min_val = element\n",
    "    print(\"min element in a =\",min_val)\n",
    "    return min_val\n",
    "\n",
    "def max_value(a):\n",
    "    max_val = a[0]\n",
    "\n",
    "    for element in a:\n",
    "        if element > max_val :\n",
    "            max_val = element\n",
    "    print(\"max element in a =\",max_val)\n",
    "    return max_val\n",
    "\n",
    "def data_range(min_value,max_value):\n",
    "    \n",
    "    range_count = 0\n",
    "    for data in range(min_value,max_value + 1):\n",
    "        range_count += 1\n",
    "        \n",
    "        print(\"data range of min and max =\",data)\n",
    "    print(\"total range between min and max =\",range_count)\n",
    "\n",
    "min_result = min_value([12,54,87,56])\n",
    "max_result = max_value([20,5,14,3])\n",
    "result = data_range(min_result,max_result)\n",
    "print(result)\n",
    "        "
   ]
  },
  {
   "cell_type": "markdown",
   "id": "9738331e-cf37-4802-8949-61817e84010a",
   "metadata": {},
   "source": [
    "Q 236.Write stddev_population(a) that returns population standard deviation using your own square root function sqrt_newton(x)"
   ]
  },
  {
   "cell_type": "code",
   "execution_count": 59,
   "id": "5283d87b-6b6e-4773-b5c9-0cb7ff1e4dda",
   "metadata": {},
   "outputs": [
    {
     "name": "stdout",
     "output_type": "stream",
     "text": [
      "1.4142135623730951\n"
     ]
    }
   ],
   "source": [
    "def standard_daviation(a):\n",
    "    # total number of elements\n",
    "    n = 0\n",
    "    for _ in a:\n",
    "        n += 1\n",
    "\n",
    "    # sum of numbers\n",
    "    total = 0\n",
    "    for value in a:\n",
    "        total += value\n",
    "\n",
    "    # calculate mean of numbers\n",
    "    average = total / n\n",
    "\n",
    "    # each data point, subtract the mean and square the result\n",
    "    square_diff_sum = 0\n",
    "    for value in a: \n",
    "        result = value - average\n",
    "        square = result * result\n",
    "        square_diff_sum += square\n",
    "\n",
    "    # calculate variance \n",
    "    variance = square_diff_sum / n\n",
    "\n",
    "    # take the square root to get standard deviation\n",
    "    root = variance ** 0.5\n",
    "\n",
    "    return root\n",
    "\n",
    "\n",
    "data = [8, 5, 7, 9, 6]\n",
    "r = standard_daviation(data)\n",
    "print(r)"
   ]
  },
  {
   "cell_type": "markdown",
   "id": "304e5ff9-d88c-4e94-ae24-79b16a390611",
   "metadata": {},
   "source": [
    "Q 237.Write z_score(a, value) that returns the z-score of value using your mean and stddev_population."
   ]
  },
  {
   "cell_type": "code",
   "execution_count": 60,
   "id": "b390061f-ce1b-499b-9b46-6e2e898e584b",
   "metadata": {},
   "outputs": [
    {
     "name": "stdout",
     "output_type": "stream",
     "text": [
      "0.7071067811865475\n"
     ]
    }
   ],
   "source": [
    "def mean_val(a):\n",
    "    # number in a\n",
    "    n = 0\n",
    "    for _ in a:\n",
    "        n += 1\n",
    "    # total of number's\n",
    "    total = 0\n",
    "    for value in a:\n",
    "        total += value\n",
    "\n",
    "    # average of number's (mean)\n",
    "    average = total / n\n",
    "    return average\n",
    "\n",
    "def stddev_population(a):\n",
    "    # calculating sum of difference \n",
    "    n = 0\n",
    "    sum_diff_square = 0\n",
    "    for value in a:\n",
    "        average = mean_val(a)\n",
    "        difference = value - average\n",
    "        square = difference * difference\n",
    "        sum_diff_square += square\n",
    "        n += 1\n",
    "\n",
    "    # variance for square root\n",
    "    variance = sum_diff_square / n\n",
    "    # root \n",
    "    root = variance ** 0.5\n",
    "    return root\n",
    "\n",
    "def z_score(a, value):\n",
    "    # compute mean(average)\n",
    "    mean = mean_val(a)\n",
    "    # compute standard daviation\n",
    "    root = stddev_population(a)\n",
    "    # handle if root of zero using loop\n",
    "    if root == 0:\n",
    "        return root\n",
    "    z = (value - mean) / root\n",
    "    return z\n",
    "    \n",
    "\n",
    "\n",
    "\n",
    "\n",
    "a = [1,2,3,4,5]\n",
    "value = 4\n",
    "result = z_score(a,value)\n",
    "print(result)"
   ]
  },
  {
   "cell_type": "markdown",
   "id": "f6bc1aef-e5a7-4bc9-aec3-5dad31255b2c",
   "metadata": {},
   "source": [
    "Q 238.Write covariance(x, y) (population) given two equal-length lists. Compute means and the sum of cross-deviations in one or two passes; verify lengths manually."
   ]
  },
  {
   "cell_type": "code",
   "execution_count": 61,
   "id": "87e1ebe1-bc1d-4910-ac87-aae1fdfc91ce",
   "metadata": {},
   "outputs": [
    {
     "name": "stdout",
     "output_type": "stream",
     "text": [
      "1.2\n"
     ]
    }
   ],
   "source": [
    "def variance(x,y):\n",
    "    # count the length of both list x and y\n",
    "    n_x = 0\n",
    "    for _ in x:\n",
    "        n_x += 1\n",
    "    n_y = 0\n",
    "    for _ in y:\n",
    "        n_y += 1\n",
    "\n",
    "    # check if both list are same\n",
    "    if n_x != n_y:\n",
    "        return \"both list are same\"\n",
    "\n",
    "    # calculate sum of element\n",
    "    total_x = 0\n",
    "    for value in x:\n",
    "        total_x += value\n",
    "\n",
    "    total_y = 0\n",
    "    for value in y:\n",
    "        total_y += value\n",
    "\n",
    "    # calculate mean of list's\n",
    "    mean_x = total_x / n_x\n",
    "    mean_y = total_y / n_y\n",
    "\n",
    "    # calculate variance using stddev\n",
    "    sum_diif_square = 0\n",
    "    i = 0\n",
    "    while i < n_x:\n",
    "        diff_x = x[i] - mean_x\n",
    "        diff_y = y[i] - mean_y\n",
    "        sum_diif_square += diff_x * diff_y\n",
    "        i += 1\n",
    "\n",
    "    variance = sum_diif_square / n_x\n",
    "    return variance\n",
    "\n",
    "x = [1,2,3,4,5]\n",
    "y = [6,7,8,9,8]\n",
    "result = variance(x,y)\n",
    "print(result)"
   ]
  },
  {
   "cell_type": "markdown",
   "id": "a156d247-c2ef-409e-b4d7-7d6fae9be6ab",
   "metadata": {},
   "source": [
    "Q 239.Write geometric_mean(a) using only loops and your nth_root_newton(value, n) (implement nth root via Newton’s method). Handle zeros/negatives per your chosen definition (e.g., return None if any value ≤ 0)."
   ]
  },
  {
   "cell_type": "code",
   "execution_count": 62,
   "id": "ceadfbd6-171c-4fec-bade-3f2a3311f398",
   "metadata": {},
   "outputs": [
    {
     "name": "stdout",
     "output_type": "stream",
     "text": [
      "2.605171084697352\n"
     ]
    }
   ],
   "source": [
    "def nth_root_newton(value,n):\n",
    "    x = value / n\n",
    "    max_iteration = 1000\n",
    "    tolerance =1e-10\n",
    "    for _ in range(max_iteration):\n",
    "        # applying newton formula\n",
    "        next_x = (1 / n) * ((n - 1) * x + value / (x ** (n - 1)))\n",
    "        # chech converagence (check difference)\n",
    "        diff = next_x - x\n",
    "\n",
    "        if diff < tolerance and -diff < tolerance:\n",
    "            return next_x\n",
    "            # converaged\n",
    "        x = next_x\n",
    "\n",
    "    return x\n",
    "    \n",
    "\n",
    "def geometric_mean(a):\n",
    "    # multiply number together\n",
    "     # count no.of values\n",
    "    multi = 1\n",
    "    count = 0\n",
    "    for value in a:\n",
    "        multi *= value\n",
    "        count += 1\n",
    "        \n",
    "\n",
    "   \n",
    "\n",
    "\n",
    "    \n",
    "    return nth_root_newton(multi , count)\n",
    "    \n",
    "data = [1,2,3,4,5]\n",
    "result = geometric_mean(data)\n",
    "print(result)"
   ]
  },
  {
   "cell_type": "markdown",
   "id": "43be4aaa-7a86-4503-a901-190ca8cbc104",
   "metadata": {},
   "source": [
    "Q 240.Write trimmed_mean(a, k) that removes the k smallest and k largest values (use your own sort and manual counting) and returns the mean of the remaining values; handle edge cases when 2k ≥ N"
   ]
  },
  {
   "cell_type": "code",
   "execution_count": 63,
   "id": "6837c4da-f52a-4df0-9f4b-6c55daf41bd9",
   "metadata": {},
   "outputs": [
    {
     "name": "stdout",
     "output_type": "stream",
     "text": [
      "smallest = 1\n",
      "largest = 5\n"
     ]
    }
   ],
   "source": [
    "def large_small(a):\n",
    "    k_small = a[0]\n",
    "    k_large = a[0]\n",
    "\n",
    "    for value in a:\n",
    "        if value < k_small:\n",
    "            k_small = value\n",
    "            \n",
    "        if value > k_large:\n",
    "            k_large = value\n",
    "\n",
    "    return k_small, k_large\n",
    "\n",
    "data = [1,2,3,4,5]\n",
    "\n",
    "result = large_small(data)\n",
    "print(\"smallest =\",result[0])\n",
    "print(\"largest =\",result[1])"
   ]
  },
  {
   "cell_type": "markdown",
   "id": "791e50a3-6f04-4be2-a016-49695d154bc2",
   "metadata": {},
   "source": [
    "Q 241.Write cumulative_frequency(counts) that returns cumulative counts list using only loops and manual addition."
   ]
  },
  {
   "cell_type": "code",
   "execution_count": 64,
   "id": "b5d64abb-9311-447f-970c-5f99655c0c4c",
   "metadata": {},
   "outputs": [
    {
     "name": "stdout",
     "output_type": "stream",
     "text": [
      "[1, 3, 6, 10, 15]\n"
     ]
    }
   ],
   "source": [
    "def cumulative_frequency():\n",
    "    count = [1, 2, 3, 4, 5]\n",
    "    total = 0\n",
    "    result = []\n",
    "    for i in count:\n",
    "     total += int (i)   \n",
    "     result += [total]\n",
    "    print(result)\n",
    "cumulative_frequency()    "
   ]
  },
  {
   "cell_type": "markdown",
   "id": "8f9fc25b-d099-4f0d-adba-03697bd42117",
   "metadata": {},
   "source": [
    "Q 242.Write a python function to Generate All Numbers Whose Digits Sum to N"
   ]
  },
  {
   "cell_type": "code",
   "execution_count": 65,
   "id": "a2feab9b-02e0-4b58-b049-31f49c68d4a0",
   "metadata": {},
   "outputs": [
    {
     "name": "stdout",
     "output_type": "stream",
     "text": [
      "number 6 and 4 sum equal to number = 6 + 4 = 10\n",
      "number 7 and 3 sum equal to number = 7 + 3 = 10\n",
      "number 8 and 2 sum equal to number = 8 + 2 = 10\n",
      "number 9 and 1 sum equal to number = 9 + 1 = 10\n"
     ]
    }
   ],
   "source": [
    "def generate_numbers(n):\n",
    "\n",
    "    count = 0\n",
    "    sum = 0\n",
    "    for num in range(n):\n",
    "        \n",
    "        for num2 in range(num):\n",
    "            sum = num + num2\n",
    "            \n",
    "            if sum == n:\n",
    "                print(\"number\",num,\"and\",num2,\"sum equal to number =\",num,\"+\",num2,\"=\",n)\n",
    "generate_numbers(10)"
   ]
  },
  {
   "cell_type": "markdown",
   "id": "5aff7f6d-7059-453f-8c93-082ba0e2a5fe",
   "metadata": {},
   "source": [
    "Q 243.Write a function egyptian_fraction(p, q) that takes two integers p (numerator) and q (denominator) and returns a list of denominators representing the sum of distinct unit fractions (1/k) that add up to p/q."
   ]
  },
  {
   "cell_type": "code",
   "execution_count": 66,
   "id": "836937d4-9d4b-492d-93e3-e16c30f4098d",
   "metadata": {},
   "outputs": [
    {
     "name": "stdout",
     "output_type": "stream",
     "text": [
      "1/2 = 5 / 6   1/3 = 4 / 12   \n"
     ]
    }
   ],
   "source": [
    "def egyption_fraction(a,b):\n",
    "\n",
    "    \n",
    "    while a != 0:\n",
    "        x = (b + a - 1) // a\n",
    "        print(\"1/\" +str(x) ,\"=\", a ,\"/\" , b,\" \",end=\" \")\n",
    "        \n",
    "        \n",
    "        a = a * x - b\n",
    "        b = b * x\n",
    "\n",
    "\n",
    "    print()\n",
    "\n",
    "        \n",
    "a = 5\n",
    "b = 6\n",
    "egyption_fraction(a,b)"
   ]
  },
  {
   "cell_type": "markdown",
   "id": "081eff5e-9393-4d13-846f-1176387ef1d4",
   "metadata": {},
   "source": [
    "Q 245.Write a function is_carmichael(n) that checks if a positive integer n is a Carmichael number using Korselt’s Criterion:\n",
    "Square-Free: n must not be divisible by any prime squared (i.e., no repeated prime factors).\n",
    "Divisibility Condition: For every prime factor p of n, (p - 1) must divide (n - 1)."
   ]
  },
  {
   "cell_type": "code",
   "execution_count": 68,
   "id": "efc8c98e-fa9e-48fe-85a1-bd91bfa8eeb4",
   "metadata": {},
   "outputs": [
    {
     "name": "stdout",
     "output_type": "stream",
     "text": [
      "1\n",
      "3\n",
      "prime divisor = 3\n",
      "11\n",
      "prime divisor = 11\n",
      "17\n",
      "prime divisor = 17\n"
     ]
    }
   ],
   "source": [
    "def is_prime(n):\n",
    "    \n",
    "    for num in range(1,n+1):\n",
    "        if n % num == 0:\n",
    "            \n",
    "            print(num)\n",
    "            \n",
    "            if num <= 1:\n",
    "                is_prime = True\n",
    "\n",
    "                \n",
    "                count = 0\n",
    "                for prime in range(2,num+1):\n",
    "                    if prime % num == 0:\n",
    "                        print(\"not prime factor\",num)\n",
    "                        is_prime = False\n",
    "                        break\n",
    "            if is_prime:\n",
    "                    count += 1\n",
    "                    if num == 1:\n",
    "                        continue\n",
    "                    print(\"prime divisor =\",num)\n",
    "                    \n",
    "       \n",
    "            if count == 4:\n",
    "                break\n",
    "\n",
    "\n",
    "def is_carmichael(n):\n",
    "    if is_prime(n):\n",
    "        count = 0\n",
    "        total = 0\n",
    "        while count == 3:\n",
    "            total = (num - 1 ) / (n - 1)\n",
    "            count += 1\n",
    "\n",
    "        \n",
    "        print(total)\n",
    "                                                                      \n",
    "                        \n",
    "is_carmichael(561)"
   ]
  },
  {
   "cell_type": "markdown",
   "id": "5d386176-d1c9-4dec-9997-6139d96db6df",
   "metadata": {},
   "source": [
    "Q 246.Write a function legendre(a, p) that computes the Legendre symbol (a/p), which indicates whether an integer a is a quadratic residue modulo an odd prime p."
   ]
  },
  {
   "cell_type": "code",
   "execution_count": 69,
   "id": "7aaab5a6-98ec-4034-8f3d-f6384e6fc9d4",
   "metadata": {},
   "outputs": [
    {
     "name": "stdout",
     "output_type": "stream",
     "text": [
      "number is legendre = 1\n"
     ]
    }
   ],
   "source": [
    "def function_legendre(a,p):\n",
    "    a = a % p\n",
    "    exponent = (p - 1) // 2\n",
    "    result = 1\n",
    "    for i in range(exponent):\n",
    "        result = (result * a) % p\n",
    "    if result == 1:\n",
    "        print(\"number is legendre =\",result)\n",
    "    else:\n",
    "        print(\"no match\")\n",
    "\n",
    "function_legendre(2,7)    "
   ]
  },
  {
   "cell_type": "markdown",
   "id": "646e3e38-a2de-4fed-9477-30c855389c09",
   "metadata": {},
   "source": [
    "Q 248.Write a program to find how many distinct pairs (a, b) of non-negative integers satisfy the equation a² + b² = n."
   ]
  },
  {
   "cell_type": "code",
   "execution_count": 70,
   "id": "b70498c4-fbc8-4172-bc51-1ebef0a17a65",
   "metadata": {},
   "outputs": [
    {
     "name": "stdout",
     "output_type": "stream",
     "text": [
      "number 26 and 18 square equal to number = 26 + 18 = 1000\n",
      "number 30 and 10 square equal to number = 30 + 10 = 1000\n"
     ]
    }
   ],
   "source": [
    "def distinct_pairs(n):\n",
    "\n",
    "    count = 0\n",
    "    square = 0\n",
    "    for num in range(n):\n",
    "        \n",
    "        for num2 in range(num):\n",
    "            square = (num ** 2) + (num2 ** 2)\n",
    "            \n",
    "            \n",
    "            if square == n:\n",
    "                print(\"number\",num,\"and\",num2,\"square equal to number =\",num,\"+\",num2,\"=\",n)\n",
    "distinct_pairs(1000)"
   ]
  },
  {
   "cell_type": "markdown",
   "id": "01c6ffdc-d09e-4314-b3b6-dd24e24369c4",
   "metadata": {},
   "source": [
    "Q 249.Write a program that reads an integer and returns the sum and the product of its first and last digits."
   ]
  },
  {
   "cell_type": "code",
   "execution_count": 71,
   "id": "3e94941c-5d64-41a9-a71f-cd84a7826675",
   "metadata": {},
   "outputs": [
    {
     "name": "stdout",
     "output_type": "stream",
     "text": [
      "small digit = 2\n",
      "large digit = 5\n",
      "sum of the small digit and large digit 2 + 5 = 7\n",
      "product of the small digit and large digit 2 * 5 = 10\n"
     ]
    }
   ],
   "source": [
    "def small_large(a):\n",
    "    small = a\n",
    "    large = 1\n",
    "\n",
    "    for digit in str(a):\n",
    "        digit = int(digit)\n",
    "        if digit < small:\n",
    "            small = digit\n",
    "            \n",
    "        if digit > large:\n",
    "            large = digit\n",
    "\n",
    "    sum = small + large\n",
    "    product = small * large\n",
    "\n",
    "    print(\"small digit =\",small)\n",
    "    print(\"large digit =\",large)\n",
    "    print(\"sum of the small digit and large digit\",small,\"+\",large,\"=\",sum)\n",
    "    print(\"product of the small digit and large digit\",small,\"*\",large,\"=\",product)\n",
    "    \n",
    "    \n",
    "\n",
    "small_large(2345)"
   ]
  },
  {
   "cell_type": "markdown",
   "id": "019076d0-4f5e-42b2-b408-1c4e54c3c053",
   "metadata": {},
   "source": [
    "Q 250.Write a program to calculate the Pearson correlation coefficient for two lists of equal length."
   ]
  },
  {
   "cell_type": "code",
   "execution_count": 72,
   "id": "c75bdcf5-1d93-4ba5-a66c-17a24e9a4e1a",
   "metadata": {},
   "outputs": [
    {
     "ename": "SyntaxError",
     "evalue": "* argument may appear only once (1602912952.py, line 1)",
     "output_type": "error",
     "traceback": [
      "\u001b[1;36m  Cell \u001b[1;32mIn[72], line 1\u001b[1;36m\u001b[0m\n\u001b[1;33m    def Pearson_correlation_coefficient(*x,*y):\u001b[0m\n\u001b[1;37m                                           ^\u001b[0m\n\u001b[1;31mSyntaxError\u001b[0m\u001b[1;31m:\u001b[0m * argument may appear only once\n"
     ]
    }
   ],
   "source": [
    "def Pearson_correlation_coefficient(*x,*y):\n",
    "    # length of x\n",
    "    n = 0\n",
    "    for _ in x:\n",
    "        n += 1\n",
    "\n",
    "    # the sum of the products of corresponding x and y values\n",
    "    # s = sum of the products\n",
    "    # p = product\n",
    "    # s_x = sum of all x value\n",
    "    # s_y = sum of all y value\n",
    "    # sq_x = sum of square of all x value\n",
    "    # sq_y = sum of square of all y value\n",
    "    for i in range(n):\n",
    "        square = 0\n",
    "        s_x = 0\n",
    "        sq_x = 0\n",
    "    for i in x:\n",
    "        s_x += i\n",
    "        square *= i\n",
    "        sq_x += square\n",
    "\n",
    "        s_y = 0\n",
    "        s = 0\n",
    "        square_y = 0\n",
    "        sq_y = 0\n",
    "        for j in y:\n",
    "            s_y += j\n",
    "            square_y *= j\n",
    "            sq_y += square_y\n",
    "            p = i * j\n",
    "            s += p\n",
    "\n",
    "    r = [n * s - s_x - s_y ] / [(n * sq_x - (s_x) ** 2 )] * [n * sq_y - (s_y) ** 2]\n",
    "    return r\n",
    "\n",
    "x = [1,2,3,4]\n",
    "y = [5,6,7,8]\n",
    "Pearson_correlation_coefficient(x,y)\n",
    "\n",
    "            \n",
    "            "
   ]
  },
  {
   "cell_type": "markdown",
   "id": "f47ed2ac-22ae-4535-bff4-40eefbc99e92",
   "metadata": {},
   "source": [
    "Q 251.Write a program to calculate the mean absolute deviation of a list of numbers."
   ]
  },
  {
   "cell_type": "code",
   "execution_count": 73,
   "id": "85a46d1e-3a21-4480-824f-4351b209eb0e",
   "metadata": {},
   "outputs": [
    {
     "name": "stdout",
     "output_type": "stream",
     "text": [
      "2.0\n"
     ]
    }
   ],
   "source": [
    "def mean_absolute_deviation(n):\n",
    "\n",
    "    # no.of the list\n",
    "    num = 0\n",
    "    for _ in n:\n",
    "        num += 1\n",
    "\n",
    "    # sum no.of the value in list\n",
    "    total = 0\n",
    "    for value in n:\n",
    "        total += value\n",
    "\n",
    "    mean = total / num\n",
    "\n",
    "    \n",
    "    mad = 0\n",
    "    for value in n:\n",
    "        # absolute daviation\n",
    "        abs_d = abs(value - mean) \n",
    "        # mean of the absolute daviation \n",
    "        mad += abs_d\n",
    "     \n",
    "    result = mad / num\n",
    "    return result\n",
    "\n",
    "data = [4,6,8,10]\n",
    "result = mean_absolute_deviation(data)\n",
    "print(result)"
   ]
  },
  {
   "cell_type": "markdown",
   "id": "02020db6-fe09-40b6-bfd8-e6c5382c5d54",
   "metadata": {},
   "source": [
    "Q 252.Write a program that calculates the moving average of a list of numbers given a window size."
   ]
  },
  {
   "cell_type": "code",
   "execution_count": 74,
   "id": "1babe087-db0b-4b0c-9ca3-c60d31c5ff50",
   "metadata": {},
   "outputs": [
    {
     "data": {
      "text/plain": [
       "(22.0, 23.0, 24.0)"
      ]
     },
     "execution_count": 74,
     "metadata": {},
     "output_type": "execute_result"
    }
   ],
   "source": [
    "def calculates_moving_average():\n",
    "    data = [20, 22, 24, 23, 25]\n",
    "    window = 3\n",
    "    mean1 = (20 + 22 + 24) / 3\n",
    "    mean2 = (22 + 24 + 23) / 3\n",
    "    mean3 = (24 + 23 + 25) / 3\n",
    "\n",
    "    return mean1,mean2,mean3\n",
    "\n",
    "\n",
    "calculates_moving_average()    "
   ]
  },
  {
   "cell_type": "markdown",
   "id": "2de671bf-a993-4ee4-9162-9b6ce3822bdd",
   "metadata": {},
   "source": [
    "Q 253.1.Write a python function to Check Equality of Two Quadratic Roots ",
    "Given coefficients a, b, c, print Equal Roots if b^2 − 4ac = 0, else Unequal Roots."
   ]
  },
  {
   "cell_type": "code",
   "execution_count": 3,
   "id": "61769010-17f0-44ba-afe5-f3fd5de2231a",
   "metadata": {},
   "outputs": [
    {
     "data": {
      "text/plain": [
       "'unequal roots'"
      ]
     },
     "execution_count": 3,
     "metadata": {},
     "output_type": "execute_result"
    }
   ],
   "source": [
    "def Two_Quadratic_Roots(a,b,c):\n",
    "\n",
    "    if b ** 2 - 4 *(a * c) == 0:\n",
    "        return \"equal roots\"\n",
    "    else:\n",
    "        return \"unequal roots\"\n",
    "Two_Quadratic_Roots(5,10,20)\n",
    "        \n",
    "    "
   ]
  },
  {
   "cell_type": "markdown",
   "id": "604e13d5-2226-4326-be83-e33a3efaab9c",
   "metadata": {},
   "source": [
    "Q 254. Write a python function to Compare Two Quadratics at x₀\n",
    "Given x0 and two quadratics f(x)=a1x^2+b1x+c1, g(x)=a2x^2+b2x+c2, print which is larger at x0 or Equal."
   ]
  },
  {
   "cell_type": "code",
   "execution_count": 4,
   "id": "de130537-af6c-4c9f-b298-e35e40fbb284",
   "metadata": {},
   "outputs": [
    {
     "name": "stdin",
     "output_type": "stream",
     "text": [
      "enter x value = 12\n"
     ]
    },
    {
     "data": {
      "text/plain": [
       "'g(x) is larger'"
      ]
     },
     "execution_count": 4,
     "metadata": {},
     "output_type": "execute_result"
    }
   ],
   "source": [
    "def Compare_Two_Quadratics(a1,b1,c1,a2,b2,c2):\n",
    "    x = int(input(\"enter x value =\"))\n",
    "    f_x = a1 * x ** 2 + b1 * x + c1\n",
    "    g_x = a2 * x ** 2 + b2 * x + c2\n",
    "\n",
    "    if f_x < g_x :\n",
    "        return \"g(x) is larger\"\n",
    "    if f_x > g_x :\n",
    "        return \"f(x) is larger\"\n",
    "    else :\n",
    "        return \"both are equal\"\n",
    "        \n",
    "Compare_Two_Quadratics(5,6,4,7,8,9)    "
   ]
  },
  {
   "cell_type": "markdown",
   "id": "7dbc91f6-75cb-49fe-9cf4-b4583b8c1dae",
   "metadata": {},
   "source": [
    "Q 255.Write a python function to Compare Slopes of Perpendicular Lines ",
    "Given slopes m1 and m2, print Perpendicular if m1*m2 = -1, else Not Perpendicular."
   ]
  },
  {
   "cell_type": "code",
   "execution_count": 5,
   "id": "9440e559-1953-4ecf-98d6-679f490c6e6e",
   "metadata": {},
   "outputs": [
    {
     "data": {
      "text/plain": [
       "'Perpendicular'"
      ]
     },
     "execution_count": 5,
     "metadata": {},
     "output_type": "execute_result"
    }
   ],
   "source": [
    "def Slopes_of_Perpendicular_Lines(m1,m2):\n",
    "\n",
    "    if m1 * m2 == -1 :\n",
    "        return \"Perpendicular\"\n",
    "    else:\n",
    "        return \"Not Perpendicular\"\n",
    "\n",
    "Slopes_of_Perpendicular_Lines(0.5,-2)"
   ]
  },
  {
   "cell_type": "markdown",
   "id": "0d6bc84c-a3c5-460d-8475-bcad69734b5a",
   "metadata": {},
   "source": [
    "Q 256. Write a python function to  check Axis of Symmetry vs Given Point\n",
    "For quadratic ax^2+bx+c, check if vertex x=−b/(2a) lies left of, on, or right of a given x0."
   ]
  },
  {
   "cell_type": "code",
   "execution_count": 6,
   "id": "1b408b79-6062-447d-8363-c87633642523",
   "metadata": {},
   "outputs": [
    {
     "data": {
      "text/plain": [
       "'vertex is left of the point'"
      ]
     },
     "execution_count": 6,
     "metadata": {},
     "output_type": "execute_result"
    }
   ],
   "source": [
    "def check_Axis(a,b,c,x):\n",
    "    \n",
    "    vertex = -b / (2 * a)\n",
    "    if vertex < x :\n",
    "        return \"vertex is left of the point\"\n",
    "    if vertex > x :\n",
    "        return \"vertex is right of the point\"\n",
    "    else:\n",
    "        return \"vertex is on the lies\"\n",
    "\n",
    "check_Axis(10,23,56,55)"
   ]
  },
  {
   "cell_type": "markdown",
   "id": "c6186b75-c86b-4c83-87ee-caae698b8cda",
   "metadata": {},
   "source": [
    "Q 257. Write a python function  for Equation of Circle Validity\n",
    "Given equation coefficients x²+y²+Dx+Ey+F=0, print Valid Circle if (D²+E²−4F) > 0, else Invalid."
   ]
  },
  {
   "cell_type": "code",
   "execution_count": 7,
   "id": "a7e6d07f-682e-4078-b0ba-1f92c034f891",
   "metadata": {},
   "outputs": [
    {
     "data": {
      "text/plain": [
       "'Valid Circle'"
      ]
     },
     "execution_count": 7,
     "metadata": {},
     "output_type": "execute_result"
    }
   ],
   "source": [
    "def Equation_of_Circle_Validity(x,y,D,E,F):\n",
    "    coefficient = (x ** 2) + (y ** 2) + (D * x) + (E * y) + F\n",
    "    circle = (D ** 2) + (E ** 2) - (4 * F)\n",
    "\n",
    "    if circle > 0 :\n",
    "        return \"Valid Circle\"\n",
    "    else:\n",
    "        return \" Invalid Circle\"\n",
    "        \n",
    "Equation_of_Circle_Validity(10,20,23,32,33)"
   ]
  },
  {
   "cell_type": "markdown",
   "id": "566ac553-6be1-499b-8864-032eafb9f94f",
   "metadata": {},
   "source": [
    "Q 258.Write a python function to calculate Distance Comparison Between Two Points ",
    "Given (x1,y1), (x2,y2), (x3,y3), print whether P2 or P3 is closer to P1."
   ]
  },
  {
   "cell_type": "code",
   "execution_count": 8,
   "id": "c63bd999-c60b-46c3-9f72-9b6e56b19c3a",
   "metadata": {},
   "outputs": [
    {
     "data": {
      "text/plain": [
       "'p3 closer to p1'"
      ]
     },
     "execution_count": 8,
     "metadata": {},
     "output_type": "execute_result"
    }
   ],
   "source": [
    "def Comparison_Between_Two_Points(x1,y1,x2,y2,x3,y3):\n",
    "    p1 = x1 * y1\n",
    "    p2 = x2 * y2\n",
    "    p3 = x3 * y3\n",
    "\n",
    "    p2 = p1 - p2\n",
    "    p3 = p1 - p3\n",
    "    if p2 < p3 :\n",
    "        return \"p2 closer to p1\"\n",
    "    if p2 > p3 :\n",
    "        return \"p3 closer to p1\"\n",
    "    else:\n",
    "        return \"not closer\"\n",
    "\n",
    "Comparison_Between_Two_Points(5,6,4,7,8,9)"
   ]
  },
  {
   "cell_type": "markdown",
   "id": "b8754a57-7b05-4d31-8c11-19d04a447908",
   "metadata": {},
   "source": [
    "Q 259. Write a python function for checking Line Midpoint Condition\n",
    "Given (x1,y1),(x2,y2) and a point (x,y), check if (x,y) is the midpoint."
   ]
  },
  {
   "cell_type": "code",
   "execution_count": 9,
   "id": "21a5ae67-c489-4bd5-bb59-727b2bcbade9",
   "metadata": {},
   "outputs": [
    {
     "data": {
      "text/plain": [
       "'not midpoint'"
      ]
     },
     "execution_count": 9,
     "metadata": {},
     "output_type": "execute_result"
    }
   ],
   "source": [
    "def Line_Midpoint_Condition(x,y,x1,y1,x2,y2):\n",
    "    midpoint_x = x1 + x2 / 2\n",
    "    midpoint_y = y1 + y2 / 2\n",
    "\n",
    "    if x == midpoint_x and y == midpoint_y :\n",
    "        return \"x,y is the midpoint\"\n",
    "    else:\n",
    "        return \"not midpoint\"\n",
    "\n",
    "Line_Midpoint_Condition(5,7,6,8,5,9)\n"
   ]
  },
  {
   "cell_type": "markdown",
   "id": "98f55c4a-73ad-4dc5-8d6d-66753d69e662",
   "metadata": {},
   "source": [
    "Q 260.Write a python function to Compare Two Triangle Perimeters\n",
    "Given two triangles (a,b,c) and (p,q,r), print which has Greater Perimeter or Equal."
   ]
  },
  {
   "cell_type": "code",
   "execution_count": 10,
   "id": "46082372-d91a-4e3e-8bdb-7d34956e1ae7",
   "metadata": {},
   "outputs": [
    {
     "data": {
      "text/plain": [
       "' B is greater than A'"
      ]
     },
     "execution_count": 10,
     "metadata": {},
     "output_type": "execute_result"
    }
   ],
   "source": [
    "def Two_Triangle_Perimeters(a,b,c,p,q,r):\n",
    "    A = a + b + c\n",
    "    B = p + q + r\n",
    "    if A < B :\n",
    "        return \" B is greater than A\"\n",
    "    if A > B :\n",
    "        return \"A is greater than B\"\n",
    "    else:\n",
    "        return \"both trangle are equal \"\n",
    "\n",
    "\n",
    "Two_Triangle_Perimeters(12,32,45,87,89,12)    "
   ]
  },
  {
   "cell_type": "markdown",
   "id": "bf94f537-e28d-444e-a83f-ab7782b53a9e",
   "metadata": {},
   "source": [
    "Q 261.Write a python function to Check if Diagonal Splits Rectangle Equally\n",
    "Given rectangle sides l,b and diagonal length d, check Pythagoras: d² = l²+b². Print Yes or No."
   ]
  },
  {
   "cell_type": "code",
   "execution_count": 11,
   "id": "a4dfdbb0-4dfe-423b-a633-e27446626289",
   "metadata": {},
   "outputs": [
    {
     "data": {
      "text/plain": [
       "'Rectangle is not Equal'"
      ]
     },
     "execution_count": 11,
     "metadata": {},
     "output_type": "execute_result"
    }
   ],
   "source": [
    "def Pythagoras(l,b,d):\n",
    "    D = d ** 2\n",
    "    L = l ** 2\n",
    "    B = b ** 2\n",
    "    if D == L + B :\n",
    "        return \"Rectangle is Equal\"\n",
    "    else:\n",
    "        return \"Rectangle is not Equal\"\n",
    "\n",
    "\n",
    "Pythagoras(10,15,30)        "
   ]
  },
  {
   "cell_type": "markdown",
   "id": "6d4075de-f544-40f0-a221-ce84211bfcd3",
   "metadata": {},
   "source": [
    "Q 262. Write a python function to check Tangent Slope at Point on Circle\n",
    "Given circle x²+y²=r² and point (x0,y0), print slope of tangent as −x0/y0 if valid (avoid division by zero)."
   ]
  },
  {
   "cell_type": "code",
   "execution_count": 12,
   "id": "977a4a8b-082a-49e4-88c6-b89b8d6b1bc8",
   "metadata": {},
   "outputs": [
    {
     "data": {
      "text/plain": [
       "(0.36, 34)"
      ]
     },
     "execution_count": 12,
     "metadata": {},
     "output_type": "execute_result"
    }
   ],
   "source": [
    "def Tangent_Slope_of_circle(x,y):\n",
    "    x_s = x ** 2\n",
    "    y_s = y ** 2\n",
    "    r2 = x_s + y_s\n",
    "    x1 = 0\n",
    "    y1 = 0\n",
    "    tangent_point = (x_s - x1)/(y_s - y1)\n",
    "    return tangent_point,r2\n",
    "\n",
    "Tangent_Slope_of_circle(3,5)"
   ]
  },
  {
   "cell_type": "markdown",
   "id": "d4d12b6e-1395-4a88-99f6-a87064d9ac5b",
   "metadata": {},
   "source": [
    "Q 263. Write a python function to check Similar Triangles Test (SSS ratio)\n",
    "Given two triangles sides (a,b,c) and (p,q,r), check if ratios a/p = b/q = c/r. Print Similar or Not Similar."
   ]
  },
  {
   "cell_type": "code",
   "execution_count": 13,
   "id": "2c9a9647-868c-4bdb-b27b-6a06e8d6020b",
   "metadata": {},
   "outputs": [
    {
     "data": {
      "text/plain": [
       "'Not Similar'"
      ]
     },
     "execution_count": 13,
     "metadata": {},
     "output_type": "execute_result"
    }
   ],
   "source": [
    "def Similar_Triangles_Test_SSS_ratio(a,b,c,p,q,r):\n",
    "    A = a / p\n",
    "    B = b / q\n",
    "    C = c / r\n",
    "    if a == b and a == c :\n",
    "        return \"Similar\"\n",
    "    else:\n",
    "        return \"Not Similar\"\n",
    "\n",
    "Similar_Triangles_Test_SSS_ratio(5,6,4,7,2,9)"
   ]
  },
  {
   "cell_type": "markdown",
   "id": "b793b17e-12c6-45fe-96ec-88bcb2ee61aa",
   "metadata": {},
   "source": [
    "Q 264. Write a python function for Point Reflection Check\n",
    "Given (x,y) and (x′,y′), check if second is reflection of first across x-axis, y-axis, or origin."
   ]
  },
  {
   "cell_type": "code",
   "execution_count": 14,
   "id": "abe2c2d8-d2ea-4687-99b2-2b1f19b63806",
   "metadata": {},
   "outputs": [
    {
     "data": {
      "text/plain": [
       "(3, 10)"
      ]
     },
     "execution_count": 14,
     "metadata": {},
     "output_type": "execute_result"
    }
   ],
   "source": [
    "def Point_Reflection_Check(x,y,a,b):\n",
    "    x_axis = (2 * a) - x\n",
    "    y_axis = (2 * b) - y\n",
    "    R = y_axis + x\n",
    "    return x,R\n",
    "Point_Reflection_Check(3,5,8,6)"
   ]
  },
  {
   "cell_type": "markdown",
   "id": "8cc99621-d8db-436d-9bf9-103c622d5ae5",
   "metadata": {},
   "source": [
    "Q 265.Write a python function to check Midpoint Lying on Circle\n",
    "Given circle (h,k,r) and line segment (x1,y1),(x2,y2), check if midpoint lies on circle."
   ]
  },
  {
   "cell_type": "code",
   "execution_count": 15,
   "id": "1ed86da9-5db9-47db-94ab-775ef8ac8ec9",
   "metadata": {},
   "outputs": [
    {
     "name": "stdout",
     "output_type": "stream",
     "text": [
      "midpoint not lie on the circle\n"
     ]
    }
   ],
   "source": [
    "def Midpoint_Lying_on_Circle(h,k,r,x1,y1,x2,y2):\n",
    "    # midpoint\n",
    "    midpoint_x = (x1 + x2) / 2\n",
    "    midpoint_y = (y1 + y2) / 2\n",
    "\n",
    "    # Check midpoint lies on the circle\n",
    "    distance_squared = (midpoint_x - h) ** 2 + (midpoint_y - k) ** 2\n",
    "\n",
    "    if distance_squared == r ** 2:\n",
    "        return \"midpoint lies on the circle\"\n",
    "    else:\n",
    "        return \"midpoint not lie on the circle\"\n",
    "mid_result = Midpoint_Lying_on_Circle(5,7,6,8,5,9,2)\n",
    "print(mid_result)\n"
   ]
  },
  {
   "cell_type": "markdown",
   "id": "2d31b7b3-e94a-44ba-8e80-092519043a9d",
   "metadata": {},
   "source": [
    "Q 266.Write a python function to check Tangent vs Secant Line to Circle (Distance Method)\n",
    "Given line ax+by+c=0 and circle (x−h)²+(y−k)²=r², print Tangent if distance from center = radius, Secant if less, else External."
   ]
  },
  {
   "cell_type": "code",
   "execution_count": 16,
   "id": "2055dff4-8a7d-4586-8c38-0d197ece2a82",
   "metadata": {},
   "outputs": [
    {
     "data": {
      "text/plain": [
       "'External'"
      ]
     },
     "execution_count": 16,
     "metadata": {},
     "output_type": "execute_result"
    }
   ],
   "source": [
    "def Tangent_vs_Secant(a,b,c,x,y,h,k):\n",
    "    L_c = (a * x) + (b * y) + c\n",
    "    C_r = (x - h) ** 2 + (y - k) ** 2\n",
    "    D = L_c / C_r\n",
    "    \n",
    "    if D == C_r :\n",
    "        return \"less\"\n",
    "    else:\n",
    "        return \"External\"\n",
    "\n",
    "Tangent_vs_Secant(1,2,3,4,5,6,7)"
   ]
  },
  {
   "cell_type": "markdown",
   "id": "a69a9efd-0ca8-4286-9bf1-24dddc66807e",
   "metadata": {},
   "source": [
    "Q 267. Write a python function to Compare Circumferences of Circle and Square\n",
    "Given circle radius r and square side s, compare 2πr and 4s symbolically (just compare r vs 2s/π)."
   ]
  },
  {
   "cell_type": "code",
   "execution_count": 17,
   "id": "15619d4b-e7b7-48d3-8074-ffda9b32a2b3",
   "metadata": {},
   "outputs": [
    {
     "data": {
      "text/plain": [
       "'Circumferences of Circle is greater'"
      ]
     },
     "execution_count": 17,
     "metadata": {},
     "output_type": "execute_result"
    }
   ],
   "source": [
    "def Circumferences_of_Circle_and_Square(r,s):\n",
    "    C = 2 * 3.14 * r\n",
    "    S = s * 2\n",
    "    \n",
    "    if C < S :  \n",
    "        return \"Circumferences of Circle is less\"\n",
    "    if C > S :\n",
    "        return \"Circumferences of Circle is greater\"\n",
    "Circumferences_of_Circle_and_Square(25,34)"
   ]
  },
  {
   "cell_type": "markdown",
   "id": "dee111cc-964e-4319-b7a0-2a6fe2a886d7",
   "metadata": {},
   "source": [
    "Q 268. Write a python function to find the nth number in the Fibonacci series."
   ]
  },
  {
   "cell_type": "code",
   "execution_count": 18,
   "id": "6a32a861-1335-43fb-89d6-7c2e903cd161",
   "metadata": {},
   "outputs": [
    {
     "data": {
      "text/plain": [
       "2"
      ]
     },
     "execution_count": 18,
     "metadata": {},
     "output_type": "execute_result"
    }
   ],
   "source": [
    "def fibo(n):\n",
    "    if n == 0:\n",
    "        return 0\n",
    "    if n == 1:\n",
    "        return 1\n",
    "    else:\n",
    "        return fibo(n - 1) + fibo(n - 2)\n",
    "fibo(3)"
   ]
  },
  {
   "cell_type": "markdown",
   "id": "339f7b28-c61f-4970-852d-74423bf9b444",
   "metadata": {},
   "source": [
    "Q 269. Write a recursive function to return the sum of first n natural numbers\n",
    "ex: sum(5) = 5 + 4 + 3 + 2 + 1"
   ]
  },
  {
   "cell_type": "code",
   "execution_count": 19,
   "id": "59e8a79e-3089-49b3-8d96-b58254ab3bab",
   "metadata": {},
   "outputs": [
    {
     "data": {
      "text/plain": [
       "15"
      ]
     },
     "execution_count": 19,
     "metadata": {},
     "output_type": "execute_result"
    }
   ],
   "source": [
    "def sum_n(n):\n",
    "    if n == 0:\n",
    "        return 0\n",
    "    else:\n",
    "        return n + sum_n(n - 1)\n",
    "sum_n(5)"
   ]
  },
  {
   "cell_type": "markdown",
   "id": "a5fc28c9-1bc0-42a5-bba0-5d57e7dc420a",
   "metadata": {},
   "source": [
    "Q 270.Write a recursive function to calculate a ^ b without using exponent operator"
   ]
  },
  {
   "cell_type": "code",
   "execution_count": 20,
   "id": "e9bd8ce3-6cf3-44b5-8d31-3f7bb9b8094a",
   "metadata": {},
   "outputs": [
    {
     "data": {
      "text/plain": [
       "8"
      ]
     },
     "execution_count": 20,
     "metadata": {},
     "output_type": "execute_result"
    }
   ],
   "source": [
    "def exponent(a,b):\n",
    "    if b == 0:\n",
    "        return 1\n",
    "    else:\n",
    "        return a * exponent(a,b-1)\n",
    "\n",
    "exponent(2,3)"
   ]
  },
  {
   "cell_type": "markdown",
   "id": "0b378858-6f13-4e98-baea-f586ed76c955",
   "metadata": {},
   "source": [
    "Q 271.Write a recursive function to count number of digits in the number entered by the user:"
   ]
  },
  {
   "cell_type": "code",
   "execution_count": 21,
   "id": "df6c1e07-521a-4bde-87c6-5808de49d94c",
   "metadata": {},
   "outputs": [
    {
     "data": {
      "text/plain": [
       "6"
      ]
     },
     "execution_count": 21,
     "metadata": {},
     "output_type": "execute_result"
    }
   ],
   "source": [
    "def count_d(n):\n",
    "    if n == 0:\n",
    "        return 0\n",
    "    else:\n",
    "        return 1 + count_d(n // 10)\n",
    "\n",
    "count_d(123454)"
   ]
  },
  {
   "cell_type": "markdown",
   "id": "12e993c2-e687-4558-9ba9-cd982162d2c9",
   "metadata": {},
   "source": [
    "Q 272.Write a function which takes user input and returns whether the number is prime or not."
   ]
  },
  {
   "cell_type": "code",
   "execution_count": 22,
   "id": "2383a59f-e456-487b-9af5-c4a4bbb0bf2b",
   "metadata": {},
   "outputs": [
    {
     "data": {
      "text/plain": [
       "False"
      ]
     },
     "execution_count": 22,
     "metadata": {},
     "output_type": "execute_result"
    }
   ],
   "source": [
    "def prime(n,i = 2):\n",
    "    if n <= 1:\n",
    "        return False\n",
    "    if n == 2 or n == 3:\n",
    "        return True\n",
    "    if n % i == 0:\n",
    "        return False\n",
    "    if i * i > n:\n",
    "        return True\n",
    "    else:\n",
    "        return prime(n,i + 1)\n",
    "    \n",
    "\n",
    "\n",
    "prime(117)\n",
    "        "
   ]
  },
  {
   "cell_type": "markdown",
   "id": "9afb48fc-77bf-4e75-8d30-88b8eab4baff",
   "metadata": {},
   "source": [
    "Q 273.Write a python function for  two spheres (x1,y1,z1,r1) and (x2,y2,z2,r2), check whether the smaller lies completely inside the larger."
   ]
  },
  {
   "cell_type": "code",
   "execution_count": 23,
   "id": "db9c9eb7-a32c-4798-8359-cc4f5e237236",
   "metadata": {},
   "outputs": [
    {
     "data": {
      "text/plain": [
       "'B is completely inside the A'"
      ]
     },
     "execution_count": 23,
     "metadata": {},
     "output_type": "execute_result"
    }
   ],
   "source": [
    "def spheres(x1,y1,z1,r1,x2,y2,z2,r2):\n",
    "    d = (x1 - x2) ** 2 + (y1 - y2) ** 2 + (z1 - z2) ** 2\n",
    "    if d <= (r1 - r2) ** 2:\n",
    "        return \"A is completely inside the B\"\n",
    "    if d >= (r1 - r2) ** 2:\n",
    "        return \"B is completely inside the A\"\n",
    "    else:\n",
    "        return \"Both are equal\"\n",
    "spheres(2,3,4,5,6,7,8,9)"
   ]
  },
  {
   "cell_type": "markdown",
   "id": "cda5ad50-cb9a-4a3f-877f-214af11bfb01",
   "metadata": {},
   "source": [
    "Q 274. Write a python function for Perpendicular Vectors in 3D\n",
    "Given vectors (a1,b1,c1) and (a2,b2,c2), check if Perpendicular (dot=0) or Not Perpendicular.                                                           "
   ]
  },
  {
   "cell_type": "code",
   "execution_count": 24,
   "id": "a803b5f7-b45f-4fc4-9516-5ee174e24d37",
   "metadata": {},
   "outputs": [
    {
     "data": {
      "text/plain": [
       "'Not Perpendicular Vector'"
      ]
     },
     "execution_count": 24,
     "metadata": {},
     "output_type": "execute_result"
    }
   ],
   "source": [
    "def vector_3d(a1,b1,c1,a2,b2,c2):\n",
    "    Dot = (a1 * a2) + (b1 * b2) + (c1 * c2)\n",
    "    if Dot == 0:\n",
    "        return \"Perpendicular Vector\"\n",
    "    else:\n",
    "        return \"Not Perpendicular Vector\"\n",
    "vector_3d(2,3,4,5,6,7)"
   ]
  },
  {
   "cell_type": "markdown",
   "id": "f421e312-6b0d-4a92-b45f-9c5d04e1950c",
   "metadata": {},
   "source": [
    "Q 275. Write a python function to Find LCM using Recursion."
   ]
  },
  {
   "cell_type": "code",
   "execution_count": 25,
   "id": "22b14c7f-368b-4999-a384-bf801b9e64df",
   "metadata": {},
   "outputs": [
    {
     "data": {
      "text/plain": [
       "2"
      ]
     },
     "execution_count": 25,
     "metadata": {},
     "output_type": "execute_result"
    }
   ],
   "source": [
    "def GCD(a,b):\n",
    "    if b == 0:\n",
    "        return a\n",
    "    else:\n",
    "        return GCD(b , a % b)\n",
    "def LCM(a,b):\n",
    "    if a == 0 or b == 0:\n",
    "        return 0\n",
    "    else:\n",
    "        return (a * b) // GCD(a, b)\n",
    "\n",
    "\n",
    "GCD(12,22)\n"
   ]
  },
  {
   "cell_type": "markdown",
   "id": "7550024d-0731-46c7-b574-9c13fdf6fcab",
   "metadata": {},
   "source": [
    "Q 276. Write a python function to Find GCD (Greatest Common Divisor) using recursion."
   ]
  },
  {
   "cell_type": "code",
   "execution_count": 26,
   "id": "f1577df4-e881-4fe1-9c9e-4c6b652a7bc7",
   "metadata": {},
   "outputs": [
    {
     "data": {
      "text/plain": [
       "30"
      ]
     },
     "execution_count": 26,
     "metadata": {},
     "output_type": "execute_result"
    }
   ],
   "source": [
    "def GCD_n(a,b):\n",
    "    if b == 0:\n",
    "        return a\n",
    "    else:\n",
    "        return GCD_n(b , a % b)\n",
    "\n",
    "GCD_n(30,60)"
   ]
  },
  {
   "cell_type": "markdown",
   "id": "610959df-f62b-4e6b-8f21-fb161f629a51",
   "metadata": {},
   "source": [
    "Q 277.Write a python function using recursion to find Sum of Alternate Digits (Odd Positions)"
   ]
  },
  {
   "cell_type": "code",
   "execution_count": 27,
   "id": "c89f1b50-e2b8-4261-8758-64eaf11f5a91",
   "metadata": {},
   "outputs": [
    {
     "data": {
      "text/plain": [
       "225"
      ]
     },
     "execution_count": 27,
     "metadata": {},
     "output_type": "execute_result"
    }
   ],
   "source": [
    "def sum_n(n):\n",
    "    if n == 0:\n",
    "        return 0\n",
    "    if n % 2 != 0:\n",
    "        return n + sum_n(n - 1)\n",
    "    else:\n",
    "        return sum_n(n - 1)\n",
    "  \n",
    "\n",
    "sum_n(30)"
   ]
  },
  {
   "cell_type": "markdown",
   "id": "7be2b0bb-6516-4df1-a0a1-0fb377611d92",
   "metadata": {},
   "source": [
    "Q 278. Write a python function to find Product of Digits using recursion."
   ]
  },
  {
   "cell_type": "code",
   "execution_count": 28,
   "id": "d613f8a9-e987-4966-8a15-864f25bbd16e",
   "metadata": {},
   "outputs": [
    {
     "data": {
      "text/plain": [
       "6"
      ]
     },
     "execution_count": 28,
     "metadata": {},
     "output_type": "execute_result"
    }
   ],
   "source": [
    "def product_of_digit(n):\n",
    "    if n == 0:\n",
    "        return 1\n",
    "    else:\n",
    "        return (n % 10) * product_of_digit(n // 10) \n",
    "\n",
    "product_of_digit(123)"
   ]
  },
  {
   "cell_type": "markdown",
   "id": "ce6a0abd-e440-470d-b651-8d964e44cde7",
   "metadata": {},
   "source": [
    "Q 279. Write a python function to Print Number in Reverse using recursion."
   ]
  },
  {
   "cell_type": "code",
   "execution_count": 29,
   "id": "dccaa7c1-57a6-412d-8adb-f48b716dd107",
   "metadata": {},
   "outputs": [
    {
     "data": {
      "text/plain": [
       "321"
      ]
     },
     "execution_count": 29,
     "metadata": {},
     "output_type": "execute_result"
    }
   ],
   "source": [
    "def reverce(n,r_n = 0):\n",
    "    if n == 0:\n",
    "        return r_n\n",
    "\n",
    "\n",
    "    last_digit = n % 10\n",
    "    return reverce(n // 10, r_n * 10 + last_digit) \n",
    "\n",
    "reverce(123)"
   ]
  },
  {
   "cell_type": "markdown",
   "id": "4e40ebe2-a0c9-428f-90fb-53fffcbf331e",
   "metadata": {},
   "source": [
    "## Inbuild function"
   ]
  },
  {
   "cell_type": "markdown",
   "id": "ee057d45-df68-45a2-bb60-c1fca96d540f",
   "metadata": {},
   "source": [
    "Q 280. Write a python program to Convert a list of floats to integers."
   ]
  },
  {
   "cell_type": "code",
   "execution_count": 31,
   "id": "d3fb642f-bfa1-48ea-b1f4-20c157751a65",
   "metadata": {},
   "outputs": [
    {
     "name": "stdout",
     "output_type": "stream",
     "text": [
      "list in integer's type =\n",
      "[12, 52, 12, 1, 22]\n"
     ]
    }
   ],
   "source": [
    "a = [12.02,52.25,12.55,1.0,22.36]\n",
    "list = lambda x :[int(i) for i in x]\n",
    "\n",
    "print(\"list in integer's type =\")\n",
    "print(list(a))\n"
   ]
  },
  {
   "cell_type": "markdown",
   "id": "34e43aaf-c3b6-41df-a0d9-b901c9897202",
   "metadata": {},
   "source": [
    "Q 281. Write a python program to Extract the unit digit of each number."
   ]
  },
  {
   "cell_type": "code",
   "execution_count": 32,
   "id": "968b8029-cea1-474f-a17a-7f6b62deef8d",
   "metadata": {},
   "outputs": [
    {
     "name": "stdout",
     "output_type": "stream",
     "text": [
      "unit digit = [2, 8, 9, 5, 8, 6]\n"
     ]
    }
   ],
   "source": [
    "a = [12,58,69,45,78,36]\n",
    "sub = list(map(lambda x : x % 10 ,a))\n",
    "print(\"unit digit =\",sub)"
   ]
  },
  {
   "cell_type": "markdown",
   "id": "6026dea2-3bb9-474a-934a-5e3147ac3691",
   "metadata": {},
   "source": [
    "Q 282. Write a python program to Raise each number to the power of its index."
   ]
  },
  {
   "cell_type": "code",
   "execution_count": 33,
   "id": "cd0a53dc-c51d-4d50-9dc6-bf88b79f25b9",
   "metadata": {},
   "outputs": [
    {
     "name": "stdout",
     "output_type": "stream",
     "text": [
      "number  5 ** 1 = 5\n",
      "number  6 ** 2 = 36\n",
      "number  7 ** 3 = 343\n",
      "number  8 ** 4 = 4096\n",
      "number  9 ** 5 = 59049\n"
     ]
    }
   ],
   "source": [
    "q = [5,6,7,8,9]\n",
    "\n",
    "for index,p in enumerate (q,start = 1):\n",
    "    n = p ** index\n",
    "\n",
    "    print(\"number \",p,\"**\",index,\"=\",n)\n"
   ]
  },
  {
   "cell_type": "markdown",
   "id": "766e552a-08eb-4a65-9f0d-f46bd5f4e91b",
   "metadata": {},
   "source": [
    "Q 283.Write a python program to Keep only numbers with exactly 3 digits."
   ]
  },
  {
   "cell_type": "code",
   "execution_count": 34,
   "id": "e415af0a-5dbb-4824-a586-cbdd91288c9a",
   "metadata": {},
   "outputs": [
    {
     "name": "stdout",
     "output_type": "stream",
     "text": [
      "[123, 369, 852, 741, 235]\n"
     ]
    }
   ],
   "source": [
    "d = [123,369,45,852,741,69,235,55,14,25,36]\n",
    "num = list(filter(lambda x : x // 100 ,d))\n",
    "print(num)"
   ]
  },
  {
   "cell_type": "markdown",
   "id": "89b74505-4a85-4b2f-bfd2-3252184c1cec",
   "metadata": {},
   "source": [
    "Q 284. Write a python program to Filter numbers which are not multiples of any number in [2, 3, 5]."
   ]
  },
  {
   "cell_type": "code",
   "execution_count": 35,
   "id": "a0977d2e-607e-4847-a72f-b31359a470df",
   "metadata": {},
   "outputs": [
    {
     "name": "stdout",
     "output_type": "stream",
     "text": [
      "[1, 7, 11, 23]\n"
     ]
    }
   ],
   "source": [
    "f = [1,2,3,4,5,6,7,8,9,11,21,54,78,23,65,99]\n",
    "z = list(filter(lambda x : x % 2 != 0 and x % 3 != 0 and x % 5 != 0,f))\n",
    "print(z)"
   ]
  },
  {
   "cell_type": "markdown",
   "id": "4ad71c05-0f95-4408-8409-ff765fe76f45",
   "metadata": {},
   "source": [
    "Q 285.Write a python program to Find the number formed by multiplying digits of all numbers."
   ]
  },
  {
   "cell_type": "code",
   "execution_count": 36,
   "id": "7e8ee597-7fe1-4d4b-bf88-40f551c51ae5",
   "metadata": {},
   "outputs": [
    {
     "name": "stdout",
     "output_type": "stream",
     "text": [
      "[2, 6, 30, 72, 56, 20, 2]\n"
     ]
    }
   ],
   "source": [
    "num = [12,32,65,89,78,45,12]\n",
    "def mull(x):\n",
    "    result = 1\n",
    "    for digit in str(x):\n",
    "        result *= int(digit)\n",
    "    return result\n",
    "\n",
    "map_result = map(mull,num)\n",
    "print(list(map_result))\n",
    "            "
   ]
  },
  {
   "cell_type": "markdown",
   "id": "0fae820e-b173-4138-a751-0dd73257acd0",
   "metadata": {},
   "source": [
    "Q 286. Write a python program to Find the index of the number with the highest number of digits."
   ]
  },
  {
   "cell_type": "code",
   "execution_count": 38,
   "id": "25fca0f7-d285-4619-b508-d1ae5cee1e20",
   "metadata": {},
   "outputs": [
    {
     "name": "stdout",
     "output_type": "stream",
     "text": [
      "8\n"
     ]
    }
   ],
   "source": [
    "a = [5, 6, 7, 8, 9, 5, 8, 9, 7, 4, 1, 2, 5, 8, 6, 3]\n",
    "\n",
    "max_digit = 0\n",
    "max_index = 0\n",
    "\n",
    "for index, num in enumerate(a, start=1):\n",
    "    \n",
    "    if num > max_digit:\n",
    "        max_digit = num\n",
    "        max_digit = index\n",
    "\n",
    "print(max_digit)\n"
   ]
  },
  {
   "cell_type": "markdown",
   "id": "7d26354c-2f01-4db2-8bac-89942e71161a",
   "metadata": {},
   "source": [
    "Q 287. Write a python program to Sum all values whose index is a multiple of 3."
   ]
  },
  {
   "cell_type": "code",
   "execution_count": 39,
   "id": "89db6c4d-0e73-4535-90a6-39b410cd48d4",
   "metadata": {},
   "outputs": [
    {
     "name": "stdout",
     "output_type": "stream",
     "text": [
      "3\n",
      "6\n",
      "9\n",
      "12\n",
      "15\n"
     ]
    }
   ],
   "source": [
    "o = [5,6,7,8,9,5,8,9,7,4,1,2,5,8,6,3]\n",
    "for index,p in enumerate (o,start = 1):\n",
    "    if index % 3 == 0:\n",
    "        print(index)\n",
    "\n"
   ]
  },
  {
   "cell_type": "markdown",
   "id": "52020017-9791-4258-9e94-c9e6cd8f79b6",
   "metadata": {},
   "source": [
    "Q 288. Write a python program to Find the factorial of each number using map + lambda."
   ]
  },
  {
   "cell_type": "code",
   "execution_count": 40,
   "id": "d2953723-a34a-4c08-b313-eaa27866dd2f",
   "metadata": {},
   "outputs": [
    {
     "name": "stdout",
     "output_type": "stream",
     "text": [
      "[2, 6, 24, 120, 720, 5040, 40320, 362880]\n"
     ]
    }
   ],
   "source": [
    "g = [2,3,4,5,6,7,8,9]\n",
    "def fact(x):\n",
    "    result = 1\n",
    "    for i in range(1, x + 1):\n",
    "        result *= i\n",
    "    return result\n",
    "map_result = map(fact, g)\n",
    "print(list(map_result))"
   ]
  },
  {
   "cell_type": "markdown",
   "id": "2b995e49-4f31-4554-be78-2af682e92eac",
   "metadata": {},
   "source": [
    "Q 289.Find the cube of the difference between each number and the maximum in the list."
   ]
  },
  {
   "cell_type": "code",
   "execution_count": 41,
   "id": "1d8ee7ad-5f9e-46f5-8a43-b26bf531f43a",
   "metadata": {},
   "outputs": [
    {
     "name": "stdout",
     "output_type": "stream",
     "text": [
      "difference between cube and each number\n",
      "[0, 6, 24, 60, 120, 210]\n",
      "difference between max value and cube in list\n",
      "[-6, 0, 18, 54, 114, 204]\n"
     ]
    }
   ],
   "source": [
    "j = [1,2,3,4,5,6]\n",
    "def cube(x):\n",
    "    \n",
    "    cube = x ** 3\n",
    "    diff = cube - x\n",
    "    return diff\n",
    "\n",
    "\n",
    "# difference between cube and each number\n",
    "cube_result = map(cube,j)\n",
    "print(\"difference between cube and each number\")\n",
    "print(list(cube_result))\n",
    "\n",
    "def max_val(x):\n",
    "    max_v = cube(x) - max(j)\n",
    "    return max_v\n",
    "\n",
    "\n",
    "\n",
    "\n",
    "# difference between max value and cube in list\n",
    "max_result = map(max_val,j)\n",
    "print(\"difference between max value and cube in list\")\n",
    "print(list(max_result))"
   ]
  },
  {
   "cell_type": "markdown",
   "id": "4202571b-b5e2-4956-aeb9-9448c20fe98c",
   "metadata": {},
   "source": [
    "Q 290.Filter numbers that are divisible by the sum of their digits."
   ]
  },
  {
   "cell_type": "code",
   "execution_count": 42,
   "id": "ef9fc9eb-3969-4813-82e0-fdb099fa9e49",
   "metadata": {},
   "outputs": [
    {
     "name": "stdout",
     "output_type": "stream",
     "text": [
      "numbers that are divisible by the sum of their digits =\n",
      "[52, 45, 65, 32, 89, 14, 99, 123]\n"
     ]
    }
   ],
   "source": [
    "v = [52,45,65,32,89,14,99,4,123]\n",
    "\n",
    "def sum_d(x):\n",
    "    sum = 0\n",
    "    for i in str(x):\n",
    "        sum += int(i)\n",
    "    return sum\n",
    "\n",
    "f_result = list(filter(lambda z : sum_d(z) % z != 0 ,v))\n",
    "print(\"numbers that are divisible by the sum of their digits =\")\n",
    "print(f_result)"
   ]
  },
  {
   "cell_type": "markdown",
   "id": "b9fc679d-50a0-4718-bff3-0afc844be3ce",
   "metadata": {},
   "source": [
    "Q 291.Replace each number with the sum of its digits."
   ]
  },
  {
   "cell_type": "code",
   "execution_count": 43,
   "id": "53540f7a-43ef-462d-95ad-162f4fc4bf55",
   "metadata": {},
   "outputs": [
    {
     "name": "stdout",
     "output_type": "stream",
     "text": [
      "Replace each number with the sum of its digits =\n",
      "[7, 9, 11, 5, 17, 5, 18, 4, 6]\n"
     ]
    }
   ],
   "source": [
    "k = [52,45,65,32,89,14,99,4,123]\n",
    "\n",
    "def sum_d(x):\n",
    "    sum = 0\n",
    "    for i in str(x):\n",
    "        sum += int(i)\n",
    "    return sum\n",
    "        \n",
    "\n",
    "# Replace each number with the sum of its digits.\n",
    "k_result = map(sum_d,k)\n",
    "print(\"Replace each number with the sum of its digits =\")\n",
    "print(list(k_result))\n",
    "\n"
   ]
  },
  {
   "cell_type": "markdown",
   "id": "db6e7e6b-8427-4c21-984a-57408153953f",
   "metadata": {},
   "source": [
    "Q 292. Using reduce(), concatenate a list of numbers into a single integer."
   ]
  },
  {
   "cell_type": "code",
   "execution_count": 44,
   "id": "4079e5be-e76b-46c3-91d7-19f069584889",
   "metadata": {},
   "outputs": [
    {
     "name": "stdout",
     "output_type": "stream",
     "text": [
      "123456789\n"
     ]
    }
   ],
   "source": [
    "from functools import reduce\n",
    "i = [1,2,3,4,5,6,7,8,9]\n",
    "\n",
    "\n",
    "i_result = reduce(lambda x,y : str(x)+str(y),i)\n",
    "print(i_result)"
   ]
  },
  {
   "cell_type": "markdown",
   "id": "402ada7c-93ce-4cd7-a8af-ba1903364486",
   "metadata": {},
   "source": [
    "Q 293. Write a python program to Count Even Digits in a Number using recursion."
   ]
  },
  {
   "cell_type": "code",
   "execution_count": 45,
   "id": "aadddb56-32b5-40d5-a3a1-610f8545d0c2",
   "metadata": {},
   "outputs": [
    {
     "data": {
      "text/plain": [
       "225"
      ]
     },
     "execution_count": 45,
     "metadata": {},
     "output_type": "execute_result"
    }
   ],
   "source": [
    "def sum_n(n):\n",
    "    if n == 0:\n",
    "        return 0\n",
    "    if n % 2 != 0:\n",
    "        return n + sum_n(n - 1)\n",
    "    else:\n",
    "        return sum_n(n - 1)\n",
    "  \n",
    "\n",
    "sum_n(30)"
   ]
  },
  {
   "cell_type": "markdown",
   "id": "aa7a1eab-1272-485b-95fc-f2573199a7b5",
   "metadata": {},
   "source": [
    "Q 294.count even digit in number"
   ]
  },
  {
   "cell_type": "code",
   "execution_count": 46,
   "id": "fe7b903e-2277-4353-ab68-21c7ae807ae7",
   "metadata": {},
   "outputs": [
    {
     "data": {
      "text/plain": [
       "2"
      ]
     },
     "execution_count": 46,
     "metadata": {},
     "output_type": "execute_result"
    }
   ],
   "source": [
    "# 1.count even digit in number\n",
    "def sum_n(n):\n",
    "    if n == 0:\n",
    "        return 0\n",
    "\n",
    "\n",
    "    else:\n",
    "        digit = n % 10\n",
    "        return (1 if digit % 2 == 0 else 0) + sum_n(n // 10)\n",
    "\n",
    "\n",
    "\n",
    "sum_n(1234)"
   ]
  },
  {
   "cell_type": "markdown",
   "id": "226a61b9-e8d3-419c-aaae-befbea26f669",
   "metadata": {},
   "source": [
    " Q 295.Write a python program to Replace All Occurrences of 0 with 5 using recursion."
   ]
  },
  {
   "cell_type": "code",
   "execution_count": 47,
   "id": "45545d11-ac37-4928-8336-8e83620284bc",
   "metadata": {},
   "outputs": [
    {
     "data": {
      "text/plain": [
       "12345"
      ]
     },
     "execution_count": 47,
     "metadata": {},
     "output_type": "execute_result"
    }
   ],
   "source": [
    "def Occrrences(n):\n",
    "    if n == 0:\n",
    "        return 0\n",
    "\n",
    "    last_digit = n % 10\n",
    "    if last_digit == 0:\n",
    "        last_digit = 5\n",
    "\n",
    "\n",
    "    return Occrrences(n // 10) * 10 + last_digit\n",
    "\n",
    "Occrrences(12340)    \n",
    "\n"
   ]
  },
  {
   "cell_type": "markdown",
   "id": "e9262e63-be0e-4aee-b8b8-0abc6aeef2c4",
   "metadata": {},
   "source": [
    "Q 296.Write a python program to Find Number of Zeroes in a Number using recursion."
   ]
  },
  {
   "cell_type": "code",
   "execution_count": 48,
   "id": "af485e3b-5b25-4364-8a50-3d28e7c52615",
   "metadata": {},
   "outputs": [
    {
     "data": {
      "text/plain": [
       "2"
      ]
     },
     "execution_count": 48,
     "metadata": {},
     "output_type": "execute_result"
    }
   ],
   "source": [
    "def Zeroes(n):\n",
    "    if n == 0 :\n",
    "        return 1\n",
    "\n",
    "    if n < 10 or n == 0:\n",
    "        return 0\n",
    "\n",
    "    last_digit = n % 10\n",
    "    remain_digit = n // 10\n",
    "    \n",
    "    if last_digit == 0:\n",
    "        return 1 + Zeroes(remain_digit)\n",
    "    else:\n",
    "        return Zeroes(remain_digit)\n",
    "\n",
    "Zeroes(1001)\n",
    "    \n"
   ]
  },
  {
   "cell_type": "markdown",
   "id": "f7179d09-4312-47fa-bb71-d2404925322e",
   "metadata": {},
   "source": [
    "Q 297. Write a python program to find Sum of Alternate Digits (Even Positions) using recursion."
   ]
  },
  {
   "cell_type": "code",
   "execution_count": 49,
   "id": "58cf6ae1-6494-46d0-b45e-0c6518c39be2",
   "metadata": {},
   "outputs": [
    {
     "data": {
      "text/plain": [
       "240"
      ]
     },
     "execution_count": 49,
     "metadata": {},
     "output_type": "execute_result"
    }
   ],
   "source": [
    "def sum_n(n):\n",
    "    if n == 0:\n",
    "        return 0\n",
    "    if n % 2 == 0:\n",
    "        return n + sum_n(n - 1)\n",
    "    else:\n",
    "        return sum_n(n - 1)\n",
    "  \n",
    "\n",
    "sum_n(30)"
   ]
  },
  {
   "cell_type": "markdown",
   "id": "88432164-fbb7-4c44-b3d3-44a30370a616",
   "metadata": {},
   "source": [
    " Q 298.Write a python program to find Sum of Square of Alternate Digits using recursion."
   ]
  },
  {
   "cell_type": "code",
   "execution_count": 50,
   "id": "9f36b36a-3581-468c-a855-5181208bcb96",
   "metadata": {},
   "outputs": [
    {
     "data": {
      "text/plain": [
       "25"
      ]
     },
     "execution_count": 50,
     "metadata": {},
     "output_type": "execute_result"
    }
   ],
   "source": [
    "def square_digits(n,is_alternate = True):\n",
    "    if n == 0:\n",
    "        return 0\n",
    "    last_digit = n % 10\n",
    "    main_number = n // 10\n",
    "\n",
    "    if is_alternate:\n",
    "        return (last_digit ** 2) + square_digits(main_number ,False)\n",
    "    else:\n",
    "        return square_digits(last_digit,True)\n",
    "\n",
    "square_digits(1234)\n",
    "     "
   ]
  },
  {
   "cell_type": "markdown",
   "id": "0723117c-29a4-4020-bb8b-caffe4e24124",
   "metadata": {},
   "source": [
    "Q 299.Write a python program to find Count of Digits Greater than 5 using recursion.\n"
   ]
  },
  {
   "cell_type": "code",
   "execution_count": 51,
   "id": "8008cbb2-a1b6-4cca-8588-a47dab9a4c9f",
   "metadata": {},
   "outputs": [
    {
     "data": {
      "text/plain": [
       "3"
      ]
     },
     "execution_count": 51,
     "metadata": {},
     "output_type": "execute_result"
    }
   ],
   "source": [
    "def digits_5(n):\n",
    "    if n == 0:\n",
    "        return 0\n",
    "    last_digit = n % 10\n",
    "\n",
    "    count = 0\n",
    "    if last_digit > 5:\n",
    "        count = 1\n",
    "\n",
    "    return count + digits_5(n // 10)\n",
    "\n",
    "digits_5(123789)\n"
   ]
  },
  {
   "cell_type": "markdown",
   "id": "7688bcaf-f2fc-4902-ad28-6735beda800d",
   "metadata": {},
   "source": [
    "Q 300.Write a python program to Convert each number into the reverse of its digits."
   ]
  },
  {
   "cell_type": "code",
   "execution_count": 52,
   "id": "c22472a2-64ab-49bc-b7fd-03a17b06a99a",
   "metadata": {},
   "outputs": [
    {
     "data": {
      "text/plain": [
       "4321"
      ]
     },
     "execution_count": 52,
     "metadata": {},
     "output_type": "execute_result"
    }
   ],
   "source": [
    "def reverce(n,reverce_n = 0):\n",
    "    if n == 0:\n",
    "        return reverce_n\n",
    "\n",
    "    last_digit = n % 10\n",
    "\n",
    "    return reverce(n // 10 ,reverce_n * 10 + last_digit)\n",
    "\n",
    "reverce(1234)"
   ]
  },
  {
   "cell_type": "markdown",
   "id": "b66146d1-f811-418f-b050-4626f29267dc",
   "metadata": {},
   "source": [
    "Q 301. Write a python program to Filter numbers where all digits are even."
   ]
  },
  {
   "cell_type": "code",
   "execution_count": 54,
   "id": "9c09e2e4-027b-4ec6-86e8-fb569230d649",
   "metadata": {},
   "outputs": [
    {
     "name": "stdout",
     "output_type": "stream",
     "text": [
      "[22]\n"
     ]
    }
   ],
   "source": [
    "v = [12,23,52,41,71,63,14,22]\n",
    "\n",
    "def even_digit(x):\n",
    "    for i in str(x):\n",
    "        if int(i) % 2 != 0:\n",
    "            return False\n",
    "    return True\n",
    "\n",
    "    \n",
    "            \n",
    "\n",
    "f_result = list(filter(even_digit, v))\n",
    "print(f_result)\n"
   ]
  },
  {
   "cell_type": "markdown",
   "id": "8a4678b5-41be-4583-9eea-a7a1806c1352",
   "metadata": {},
   "source": [
    "Q 302. Write a python program to Keep numbers where the product of digits is even."
   ]
  },
  {
   "cell_type": "code",
   "execution_count": 57,
   "id": "ae0efcd5-e9f9-4bea-b9d9-f08c52eb618d",
   "metadata": {},
   "outputs": [
    {
     "name": "stdout",
     "output_type": "stream",
     "text": [
      "[2, 25, 30, 72, 4, 35, 30, 4]\n"
     ]
    }
   ],
   "source": [
    "a = [21, 55, 65, 89, 14, 75, 65, 22]\n",
    "\n",
    "def product_digits(x):\n",
    "    product = 1\n",
    "    for i in str(x):\n",
    "        product *= int(i)\n",
    "    return product\n",
    "\n",
    "a_result = list(map(product_digits, a))\n",
    "print(a_result)\n"
   ]
  },
  {
   "cell_type": "markdown",
   "id": "567bf6fc-e676-4c6b-9c42-3bff6cbce768",
   "metadata": {},
   "source": [
    "Q 303. Write a python program to Find the sum of the minimum and maximum in a list using reduce."
   ]
  },
  {
   "cell_type": "code",
   "execution_count": 58,
   "id": "541f35e8-3293-458a-8d7d-67267b4ff841",
   "metadata": {},
   "outputs": [
    {
     "name": "stdout",
     "output_type": "stream",
     "text": [
      "9\n",
      "1\n",
      "10\n"
     ]
    }
   ],
   "source": [
    "from functools import reduce\n",
    "a = [1,2,3,4,5,6,7,8,9]\n",
    "\n",
    "def max(x,y):\n",
    "    if x > y:\n",
    "      return x\n",
    "    else:\n",
    "      return y\n",
    "\n",
    "def min(x,y):\n",
    "    if x < y:\n",
    "      return x\n",
    "    else:\n",
    "      return y\n",
    "        \n",
    "maxn = reduce(max,a)\n",
    "minn = reduce(min,a)\n",
    "\n",
    "print(maxn)\n",
    "print(minn)\n",
    "print(maxn + minn)"
   ]
  },
  {
   "cell_type": "markdown",
   "id": "b3de944d-f7d9-4fe8-8572-a49f2419c0d5",
   "metadata": {},
   "source": [
    "Q 304.Write a python program to Count how many numbers in a list are greater than the average (use reduce to get average)."
   ]
  },
  {
   "cell_type": "code",
   "execution_count": 59,
   "id": "9c8b44c3-f58b-4416-b784-1d9109d479ed",
   "metadata": {},
   "outputs": [
    {
     "name": "stdout",
     "output_type": "stream",
     "text": [
      "6\n"
     ]
    }
   ],
   "source": [
    "# many numbers in a list are greater than the average (use reduce to get average)\n",
    "from functools import reduce\n",
    "v = [1,2,3,4,5,6,58,65,78,41,55]\n",
    "total = reduce(lambda x ,y : x + y,v)\n",
    "numbers = 0\n",
    "for _ in v:\n",
    "    numbers += 1\n",
    "\n",
    "\n",
    "avg = total / numbers\n",
    "v_result = reduce(lambda a , s : a + 1 if s > avg else a,v,)\n",
    "print(v_result)\n",
    "    \n",
    "\n",
    "        "
   ]
  },
  {
   "cell_type": "markdown",
   "id": "9fcbca48-d018-4005-be24-dabfdfc81fa4",
   "metadata": {},
   "source": [
    "Q 305. Write a python program to Use lambda in filter to keep numbers whose square ends in 1."
   ]
  },
  {
   "cell_type": "code",
   "execution_count": 60,
   "id": "012d15f6-b362-4f6c-b8c2-72b2bd06cc9a",
   "metadata": {},
   "outputs": [
    {
     "name": "stdout",
     "output_type": "stream",
     "text": [
      "[9]\n"
     ]
    }
   ],
   "source": [
    "s = [2,3,4,5,6,7,8,9]\n",
    "result = list(filter(lambda x: (x ** 2) % 10 == 1, s))\n",
    "\n",
    "print(result)\n"
   ]
  },
  {
   "cell_type": "markdown",
   "id": "0a93aaa3-70fa-4c48-8871-b8ba0da370cf",
   "metadata": {},
   "source": [
    "Q 306.Write a python program to Filter numbers whose digit sum is even, then return their reversed forms."
   ]
  },
  {
   "cell_type": "code",
   "execution_count": 61,
   "id": "4c3c20be-ae69-4b03-98ea-e5717671566a",
   "metadata": {},
   "outputs": [
    {
     "name": "stdout",
     "output_type": "stream",
     "text": [
      "[2, 64, 86, 33]\n",
      "[2, 46, 68, 33]\n"
     ]
    }
   ],
   "source": [
    "# Filter numbers whose digit sum is even, then return their reversed forms.\n",
    "w = [12,45,78,65,32,14,74,2,64,86,33]\n",
    "def sum_even(x):\n",
    "    total = 0\n",
    "    for i in str(x):\n",
    "        total += int(i)\n",
    "    return total % 2 == 0\n",
    "\n",
    "w_result = list(filter(sum_even,w))\n",
    "print(w_result)\n",
    "\n",
    "def reverce(x):\n",
    "    reverce_num = 0\n",
    "    \n",
    "    while x > 0:\n",
    "        last_digit = x % 10\n",
    "        reverce_num = reverce_num * 10 + last_digit\n",
    "        x = x // 10\n",
    "    return reverce_num\n",
    "r_result = list(map(reverce,w_result))\n",
    "print(r_result)\n",
    "\n",
    "    "
   ]
  },
  {
   "cell_type": "markdown",
   "id": "c4ba9eb1-9cb5-4db3-8f65-d53530f8db22",
   "metadata": {},
   "source": [
    "Q 307. Write a python program to Map numbers to the difference between the number and its reverse."
   ]
  },
  {
   "cell_type": "code",
   "execution_count": 62,
   "id": "047f499d-8a48-46af-8cbb-8ccbd2e0a83f",
   "metadata": {},
   "outputs": [
    {
     "name": "stdout",
     "output_type": "stream",
     "text": [
      "[27, 9, 18, -27, -9, 27, -27]\n"
     ]
    }
   ],
   "source": [
    "# Map numbers to the difference between the number and its reverse.\n",
    "f = [25,45,68,96,32,14,52]\n",
    "def reverce_n(x):\n",
    "    main_number = x\n",
    "    reverce_num = 0\n",
    "    while x > 0:\n",
    "        last_digit = x % 10\n",
    "        reverce_num = reverce_num * 10 + last_digit\n",
    "        x = x // 10\n",
    "    return reverce_num - main_number\n",
    "\n",
    "f_result = list(map(reverce_n,f))\n",
    "print(f_result)\n",
    "\n",
    "\n",
    "\n",
    "    "
   ]
  },
  {
   "cell_type": "markdown",
   "id": "02e775b2-1ef1-4547-8216-07416e3e0f86",
   "metadata": {},
   "source": [
    "Q 308. Write a python program to Filter numbers with even digit sums, map to their square, reduce to sum them."
   ]
  },
  {
   "cell_type": "code",
   "execution_count": 63,
   "id": "02368c2e-28a1-4251-8960-e878b4de4142",
   "metadata": {},
   "outputs": [
    {
     "name": "stdout",
     "output_type": "stream",
     "text": [
      "[63, 89, 48]\n",
      "[3969, 7921, 2304]\n",
      "14194\n"
     ]
    }
   ],
   "source": [
    "e = [54,12,63,89,75,48,59]\n",
    "# keep numbers whose digit sum is even\n",
    "def sum_even(x): \n",
    "    sum = 0\n",
    "    for i in str(x):\n",
    "        sum += int(i)\n",
    "        return sum % 2 == 0\n",
    "even_sum = list(filter(sum_even,e))\n",
    "print(even_sum)\n",
    "# square those numbers\n",
    "square_even = list(map(lambda x : x ** 2 ,even_sum))\n",
    "print(square_even)\n",
    "\n",
    "# add all the squared numbers together\n",
    "add_even = reduce(lambda x ,y : x + y,square_even)\n",
    "print(add_even)"
   ]
  },
  {
   "cell_type": "markdown",
   "id": "afa49ced-4075-4ac1-b673-399e1f03c644",
   "metadata": {},
   "source": [
    "Q 309.Write a python program to From a list of numbers, remove all that are prime, then return the product of remaining."
   ]
  },
  {
   "cell_type": "code",
   "execution_count": 64,
   "id": "e1bd218b-2ed0-4380-902c-4eccec050696",
   "metadata": {},
   "outputs": [
    {
     "name": "stdout",
     "output_type": "stream",
     "text": [
      "[16, 36, 64, 81]\n"
     ]
    }
   ],
   "source": [
    "r = [2,3,4,5,6,7,8,9]\n",
    "def prime(x):\n",
    "    if x < 2:\n",
    "        return False\n",
    "\n",
    "    for i in range(2 ,x ):\n",
    "        if x % i == 0:\n",
    "            return False\n",
    "    return True\n",
    "\n",
    "def not_prime(x):\n",
    "    if not prime(x):\n",
    "        return x * x\n",
    "    else:\n",
    "        return False\n",
    "\n",
    "\n",
    "non_prime = list(filter(lambda x : x is not False ,map(not_prime,r)))\n",
    "print(non_prime)\n"
   ]
  },
  {
   "cell_type": "markdown",
   "id": "568ba360-f308-4568-ba7e-41dacc3fa5a1",
   "metadata": {},
   "source": [
    "Q 310.Write a python program to Square numbers, keep only > 10, sum them."
   ]
  },
  {
   "cell_type": "code",
   "execution_count": 65,
   "id": "9efe81e1-3ad8-4f38-9940-f8aa442f614a",
   "metadata": {},
   "outputs": [
    {
     "name": "stdout",
     "output_type": "stream",
     "text": [
      "square of each number =\n",
      "[4, 25, 16, 64, 121, 196, 81]\n",
      "filter number those are greater than 10 =\n",
      "[25, 16, 64, 121, 196, 81]\n",
      "sum of those number this are greater than 10 =\n",
      "503\n"
     ]
    }
   ],
   "source": [
    "from functools import reduce\n",
    "t = [2,5,4,8,11,14,9]\n",
    "def square(x):\n",
    "    return x ** 2\n",
    "square_num = list(map(square,t))\n",
    "print(\"square of each number =\")\n",
    "print(square_num)\n",
    "greater_10 = list(filter(lambda x : x > 10,square_num))\n",
    "print(\"filter number those are greater than 10 =\")\n",
    "print(greater_10)\n",
    "sum_num = reduce(lambda x,y : x + y,greater_10)\n",
    "print(\"sum of those number this are greater than 10 =\")\n",
    "print(sum_num)\n"
   ]
  },
  {
   "cell_type": "markdown",
   "id": "db033649-634c-42b4-b4e7-c3879e5cb3d3",
   "metadata": {},
   "source": [
    "Q 311.Write a python program to Convert a list of integers to their negatives."
   ]
  },
  {
   "cell_type": "code",
   "execution_count": 66,
   "id": "24ad5877-351b-4933-a04c-2d948212df88",
   "metadata": {},
   "outputs": [
    {
     "name": "stdout",
     "output_type": "stream",
     "text": [
      "[-54, -12, -63, -89, -75, -48, -59]\n"
     ]
    }
   ],
   "source": [
    "z = [54,12,63,89,75,48,59]\n",
    "def negative(x):\n",
    "    if x > 0:\n",
    "        return -x\n",
    "    else:\n",
    "        return x\n",
    "num_negative = list(map(negative,z))\n",
    "print(num_negative)"
   ]
  },
  {
   "cell_type": "markdown",
   "id": "e62402c2-07fc-419a-bb43-f3863143602d",
   "metadata": {},
   "source": [
    "Q 312.Write a python program to Keep only numbers where the sum of digits is odd."
   ]
  },
  {
   "cell_type": "code",
   "execution_count": 67,
   "id": "21d28478-0df9-40cf-8f24-dceed7f8b5fe",
   "metadata": {},
   "outputs": [
    {
     "name": "stdout",
     "output_type": "stream",
     "text": [
      "numbers the sum of digits is odd =\n",
      "[54, 12, 63, 89]\n"
     ]
    }
   ],
   "source": [
    "k = [54,12,63,89,75,48,59]\n",
    "def odd_sum(x):\n",
    "    sum = 0\n",
    "    for i in str(x):\n",
    "        sum += int(i) \n",
    "    return sum % 2 != 0\n",
    "sum_odd = list(filter(odd_sum,k))\n",
    "print(\"numbers the sum of digits is odd =\")\n",
    "print(sum_odd)\n"
   ]
  },
  {
   "cell_type": "markdown",
   "id": "164a298c-e6af-419e-b695-e457891346e0",
   "metadata": {},
   "source": [
    "Q 313.Write a python program to Sort list by remainder when divided by 3."
   ]
  },
  {
   "cell_type": "code",
   "execution_count": 68,
   "id": "45458670-de82-48de-9597-1ce26303d361",
   "metadata": {},
   "outputs": [
    {
     "name": "stdout",
     "output_type": "stream",
     "text": [
      "[3, 6, 9]\n"
     ]
    }
   ],
   "source": [
    "a = [2,3,4,5,6,7,8,9]\n",
    "def divide_by3(x):\n",
    "    if x % 3 == 0:\n",
    "        return x\n",
    "a_result = list(filter(divide_by3,a))\n",
    "print(a_result)\n",
    "        \n",
    "        "
   ]
  },
  {
   "cell_type": "markdown",
   "id": "cc546974-1b7f-4e1d-ab55-a9fe1b6ea290",
   "metadata": {},
   "source": [
    "Q 314.Write a python program to Use enumerate() and map() to multiply value with its (1-based) position."
   ]
  },
  {
   "cell_type": "code",
   "execution_count": 69,
   "id": "c035fb0e-3ef7-4c3c-b894-ac48adca1a6e",
   "metadata": {},
   "outputs": [
    {
     "name": "stdout",
     "output_type": "stream",
     "text": [
      "[2, 18, 9, 16, 25, 36, 49, 64]\n"
     ]
    }
   ],
   "source": [
    "a = [2,9,3,4,5,6,7,8]\n",
    "\n",
    "def multiply_index_value(index_value):\n",
    "    i, v = index_value  # unpack tuple here, no indexing\n",
    "    return i * v\n",
    "\n",
    "result = list(map(multiply_index_value, enumerate(a, start=1)))\n",
    "print(result)\n"
   ]
  },
  {
   "cell_type": "markdown",
   "id": "13cda3f9-5722-4f07-9af3-64d632841c23",
   "metadata": {},
   "source": [
    "Q 315. Write a python program to Map each number to its absolute difference from 100"
   ]
  },
  {
   "cell_type": "code",
   "execution_count": 70,
   "id": "11d6efb8-eec9-4203-997d-c652770f727b",
   "metadata": {},
   "outputs": [
    {
     "name": "stdout",
     "output_type": "stream",
     "text": [
      "number to its absolute difference from 100 =\n",
      "[158, 641, 863, 356, 689, 23]\n"
     ]
    }
   ],
   "source": [
    "d = [258,741,963,456,789,123]\n",
    "def abs_diff(x):\n",
    "    diff = x - 100  # absolute difference means number1 - number2\n",
    "    return diff\n",
    "\n",
    "d_result = list(map(abs_diff,d))\n",
    "print(\"number to its absolute difference from 100 =\")\n",
    "print(d_result)"
   ]
  },
  {
   "cell_type": "markdown",
   "id": "aedb737d-dbda-4844-b32d-47084715906c",
   "metadata": {},
   "source": [
    "Q 316.Write a python program to Filter numbers with all non-zero digits."
   ]
  },
  {
   "cell_type": "code",
   "execution_count": 71,
   "id": "6bc49504-a2d6-45c4-a96f-6f813259a2c5",
   "metadata": {},
   "outputs": [
    {
     "name": "stdout",
     "output_type": "stream",
     "text": [
      "[50, 60, 20, 80, 90]\n"
     ]
    }
   ],
   "source": [
    "a = [12,50,60,88,69,74,53,20,80,90]\n",
    "def non_zero(x):\n",
    "    if x % 10 == 0:\n",
    "        return x\n",
    "a_result = list(filter(non_zero,a))\n",
    "print(a_result)"
   ]
  },
  {
   "cell_type": "markdown",
   "id": "00650610-fe15-494b-8761-756709d0bc65",
   "metadata": {},
   "source": [
    "Q 317.Write a python program to Filter numbers that are square of any other number in the list."
   ]
  },
  {
   "cell_type": "code",
   "execution_count": 72,
   "id": "471d13ef-f714-4d90-9398-dbf5be93fbbf",
   "metadata": {},
   "outputs": [
    {
     "name": "stdout",
     "output_type": "stream",
     "text": [
      "[4, 9, 25, 4]\n"
     ]
    }
   ],
   "source": [
    "w = [2,3,4,5,6,7,8,9,44,55,25,78,96,35,47,52,56,11,22,35,4,99]\n",
    "\n",
    "def is_perfect_square(x):\n",
    "    i = 1\n",
    "    while i * i <= x:\n",
    "        if i * i == x:\n",
    "            return True\n",
    "        i += 1\n",
    "    return False\n",
    "\n",
    "w_result = list(filter(is_perfect_square, w))\n",
    "print(w_result)\n"
   ]
  },
  {
   "cell_type": "markdown",
   "id": "594fa95e-4b40-4256-b794-775e461a55b4",
   "metadata": {},
   "source": [
    "Q 318.Write a python program to Return True if a number is greater than 50, else False."
   ]
  },
  {
   "cell_type": "code",
   "execution_count": 73,
   "id": "9ac33f6c-87c5-458b-b892-580f66ab0497",
   "metadata": {},
   "outputs": [
    {
     "name": "stdout",
     "output_type": "stream",
     "text": [
      "[0, 0, 0, 0, 0, 0, 0, 0, 0, 1, 0, 1, 1, 0, 0, 1, 1, 0, 0, 0, 0, 1]\n"
     ]
    }
   ],
   "source": [
    "k = [2,3,4,5,6,7,8,9,44,55,25,78,96,35,47,52,56,11,22,35,4,99]\n",
    "k_result = list(map(lambda x : x > 50 ,k))\n",
    "print(k_result)"
   ]
  },
  {
   "cell_type": "markdown",
   "id": "61db649f-3406-48eb-a176-9a37d9267f33",
   "metadata": {},
   "source": [
    "Q 319.Write a python program to Subtract each number from the max value in the list."
   ]
  },
  {
   "cell_type": "code",
   "execution_count": 74,
   "id": "b4fbc1d8-de30-4be9-bd5d-c2304c2e9507",
   "metadata": {},
   "outputs": [
    {
     "name": "stdout",
     "output_type": "stream",
     "text": [
      "[8, 7, 6, 5, 4, 3, 2, 1, 0]\n",
      "9\n",
      "1\n"
     ]
    }
   ],
   "source": [
    "from functools import reduce\n",
    "a = [1,2,3,4,5,6,7,8,9]\n",
    "# taking max value in list\n",
    "def max(x,y):\n",
    "    if x > y:\n",
    "      return x\n",
    "    else:\n",
    "      return y\n",
    "# taking min value in list\n",
    "def min(x,y):\n",
    "    if x < y:\n",
    "      return x\n",
    "    else:\n",
    "      return y\n",
    "\n",
    "        \n",
    "maxn = reduce(max,a)\n",
    "minn = reduce(min,a)\n",
    "\n",
    "# after substract the each value from max \n",
    "def subs(x):\n",
    "    return maxn - x\n",
    "\n",
    "\n",
    "a_result = list(map(subs,a))\n",
    "print(a_result)\n",
    "\n",
    "print(maxn)\n",
    "print(minn)\n"
   ]
  },
  {
   "cell_type": "markdown",
   "id": "11dfac86-bc0d-4fed-a46d-e7476114d6f2",
   "metadata": {},
   "source": [
    "Q 320. Write a python program to Convert a list of 2-digit numbers into a list of digit sums."
   ]
  },
  {
   "cell_type": "code",
   "execution_count": 75,
   "id": "5a9162ac-5929-4935-ae2f-a6eaa682e1d6",
   "metadata": {},
   "outputs": [
    {
     "name": "stdout",
     "output_type": "stream",
     "text": [
      "45\n"
     ]
    }
   ],
   "source": [
    "a = [1,2,3,4,5,6,7,8,9]\n",
    "sum = reduce(lambda x,y : x + y ,a)\n",
    "print(sum)"
   ]
  },
  {
   "cell_type": "markdown",
   "id": "91721d8e-affb-4ecd-9f62-9604e1b4b308",
   "metadata": {},
   "source": [
    "Q 321. Write a python program to Filter numbers whose square ends with digit 6."
   ]
  },
  {
   "cell_type": "code",
   "execution_count": 76,
   "id": "588c5594-3eb9-4b5e-82f7-5975553a179b",
   "metadata": {},
   "outputs": [
    {
     "name": "stdout",
     "output_type": "stream",
     "text": [
      "[4, 6]\n"
     ]
    }
   ],
   "source": [
    "b = [1,2,3,4,5,6,7,8,9]\n",
    "def square(x):\n",
    "    return x ** 2\n",
    "\n",
    "b_result = list(filter(lambda i : square(i) % 10 == 6,b))\n",
    "print(b_result)\n"
   ]
  },
  {
   "cell_type": "markdown",
   "id": "c5c8c2f4-0bdc-4662-995e-8e9adbf4fdf0",
   "metadata": {},
   "source": [
    "Q 322. Write a python program to Count how many numbers are greater than 100."
   ]
  },
  {
   "cell_type": "code",
   "execution_count": 77,
   "id": "c705ef0c-448b-4019-8341-12920513b6c3",
   "metadata": {},
   "outputs": [
    {
     "name": "stdout",
     "output_type": "stream",
     "text": [
      "4\n"
     ]
    }
   ],
   "source": [
    "f = [52,456,74,258,12,325,85,658]\n",
    "def count_x(lst):    # when you need to do task with x value use lst aurgument in function\n",
    "    count = 0\n",
    "    for x in lst:\n",
    "        if x > 100:\n",
    "            count += 1\n",
    "    return count\n",
    "f_result = count_x(f)\n",
    "print(f_result)\n",
    "\n",
    "        \n",
    "    "
   ]
  },
  {
   "cell_type": "markdown",
   "id": "a901800b-8433-4a5b-bc32-8dd6e61df807",
   "metadata": {},
   "source": [
    "Q 323. Write a python program to Find the number with the minimum digit product."
   ]
  },
  {
   "cell_type": "code",
   "execution_count": 78,
   "id": "aa76a6ab-1e02-44c4-acc0-a5e1407acdbd",
   "metadata": {},
   "outputs": [
    {
     "name": "stdout",
     "output_type": "stream",
     "text": [
      "[10, 24, 56, 48, 144, 10, 12]\n",
      "10\n",
      "144\n"
     ]
    }
   ],
   "source": [
    "b = [25,64,78,642,892,25,26]\n",
    "def product(x):\n",
    "    p = 1\n",
    "    for digit in str(x):\n",
    "        p *= int(digit)\n",
    "    return p\n",
    "p_result = list(map(product,b))\n",
    "print(p_result)\n",
    "\n",
    "def max(x,y):\n",
    "    if x > y:\n",
    "      return x\n",
    "    else:\n",
    "      return y\n",
    "# taking min value in list\n",
    "def min(x,y):\n",
    "    if x < y:\n",
    "      return x\n",
    "    else:\n",
    "      return y\n",
    "\n",
    "        \n",
    "maxm = reduce(max,p_result)\n",
    "minm = reduce(min,p_result)\n",
    "print(minm)\n",
    "print(maxm)"
   ]
  },
  {
   "cell_type": "markdown",
   "id": "2246cebd-d4f4-43ca-8517-dc16f75760b2",
   "metadata": {},
   "source": [
    "Q 324. Write a python program to Use lambda + filter to return numbers with prime digit sum."
   ]
  },
  {
   "cell_type": "code",
   "execution_count": 79,
   "id": "fd0c119e-3cb8-4347-ae6f-eb116b1d1d54",
   "metadata": {},
   "outputs": [
    {
     "name": "stdout",
     "output_type": "stream",
     "text": [
      "[7, 10, 15, 12, 19, 7, 8]\n",
      "Prime digit  [7, 19, 7]\n"
     ]
    }
   ],
   "source": [
    "b = [25,64,78,642,892,25,26]\n",
    "def summ(x):\n",
    "    sum = 0\n",
    "    for digit in str(x):\n",
    "        sum += int(digit)\n",
    "    return sum\n",
    "sum_r = list(map(summ,b))\n",
    "print(sum_r)\n",
    "\n",
    "\n",
    "\n",
    "# Prime check function\n",
    "def prime(n):\n",
    "    if n < 2:\n",
    "        return False\n",
    "    i = 2\n",
    "    while i * i <= n:\n",
    "        if n % i == 0:\n",
    "            return False\n",
    "        i += 1\n",
    "    return True\n",
    "\n",
    "#  Filter prime digit sums\n",
    "is_prime = list(filter(prime, sum_r))\n",
    "print(\"Prime digit \", is_prime)\n",
    "\n"
   ]
  },
  {
   "cell_type": "markdown",
   "id": "4fe6b731-96ad-4f3f-ad59-30ec93c7ab5f",
   "metadata": {},
   "source": [
    "Q 325. Write a python program to Use lambda + map to return each number’s parity as string."
   ]
  },
  {
   "cell_type": "code",
   "execution_count": 1,
   "id": "7fcb9a9d-2be2-498d-8e06-8da87cc12d78",
   "metadata": {},
   "outputs": [
    {
     "name": "stdout",
     "output_type": "stream",
     "text": [
      "['odd', 'even', 'even', 'odd', 'even', 'odd', 'even']\n"
     ]
    }
   ],
   "source": [
    "b = [25,64,78,67,892,25,26]\n",
    "\n",
    "add = list(map(lambda x: \"even\" if x % 2 == 0 else \"odd\",b))\n",
    "print(add)\n"
   ]
  },
  {
   "cell_type": "markdown",
   "id": "f385251a-8236-497f-8c21-ad0b5b241963",
   "metadata": {},
   "source": [
    "Q 326. Write a python program to Create a list of products of each number with its index."
   ]
  },
  {
   "cell_type": "code",
   "execution_count": 2,
   "id": "a49f12ab-5301-49a5-8692-194dcf297c3e",
   "metadata": {},
   "outputs": [
    {
     "name": "stdout",
     "output_type": "stream",
     "text": [
      "1 10\n",
      "2 24\n",
      "3 56\n",
      "4 42\n",
      "5 144\n",
      "6 10\n",
      "7 12\n"
     ]
    }
   ],
   "source": [
    "c = [25,64,78,67,892,25,26]\n",
    "def prod(x):\n",
    "    product = 1\n",
    "    for i in str(x):\n",
    "        product *= int(i)\n",
    "    return product\n",
    "product_list = list(map(prod,c))\n",
    "\n",
    "for index,value in enumerate(product_list,start = 1):\n",
    "    print(index,value)"
   ]
  },
  {
   "cell_type": "markdown",
   "id": "fb84b6f1-74cd-4387-af4a-8fe0b0edb60b",
   "metadata": {},
   "source": [
    "Q 327. Write a python program to Find the difference between sum of evens and odds."
   ]
  },
  {
   "cell_type": "code",
   "execution_count": 3,
   "id": "c8b9501d-eef3-4950-b063-5d33c0ae245e",
   "metadata": {},
   "outputs": [
    {
     "name": "stdout",
     "output_type": "stream",
     "text": [
      "[4, 6, 8]\n",
      "[1, 3, 5, 7, 9]\n",
      "difference between even and odd sum =\n",
      "7\n"
     ]
    }
   ],
   "source": [
    "from functools import reduce\n",
    "h = [1,3,4,5,6,7,8,9]\n",
    "# creating the list of even and odd numbers\n",
    "def evenn(x):\n",
    "    if x % 2 == 0:\n",
    "        return x\n",
    "       \n",
    "def oddm(x):\n",
    "  \n",
    "    if x % 2 != 0:\n",
    "        return x\n",
    "even = list(filter(evenn,h))\n",
    "odd = list(filter(oddm,h))\n",
    "print(even)\n",
    "print(odd)\n",
    "\n",
    "# creating sum of even and odd numbers\n",
    "def sum_even(even):\n",
    "    sum_e = 0\n",
    "    for value in even:\n",
    "        sum_e += value\n",
    "    return sum_e\n",
    "def sum_odd(odd):\n",
    "    sum_o = 0\n",
    "    for value in odd:\n",
    "        sum_o += value\n",
    "    return sum_o\n",
    "# substract even odd for gate defference   \n",
    "e = sum_even(even)\n",
    "o = sum_odd(odd)\n",
    "print(\"difference between even and odd sum =\")\n",
    "print(o - e)\n",
    "        "
   ]
  },
  {
   "cell_type": "markdown",
   "id": "71d8e6b5-7327-4662-86af-5b586c908269",
   "metadata": {},
   "source": [
    "Q 328. Given a list of integers and a divisor n, use filter and a lambda to return a list of all numbers divisible by n."
   ]
  },
  {
   "cell_type": "code",
   "execution_count": 4,
   "id": "fbb3860c-6b85-466e-9df7-be84efaa180f",
   "metadata": {},
   "outputs": [
    {
     "name": "stdout",
     "output_type": "stream",
     "text": [
      "[25, 45, 325, 45]\n"
     ]
    }
   ],
   "source": [
    "a = [25,12,45,887,69,325,45,74]\n",
    "n = 5\n",
    "list = list(filter(lambda x : x % n == 0,a))\n",
    "print(list)\n",
    "\n"
   ]
  },
  {
   "cell_type": "markdown",
   "id": "0262df87-9034-43c3-a45c-64841b0634da",
   "metadata": {},
   "source": [
    "Q 329. Given a list of integers and a single integer n, use filter to find all numbers that are co-prime with n. Then use map and reduce to find the sum of squares of these co-prime numbers."
   ]
  },
  {
   "cell_type": "code",
   "execution_count": 1,
   "id": "68bb3504-55b7-41ef-a957-bf3e7fe6b578",
   "metadata": {},
   "outputs": [
    {
     "name": "stdout",
     "output_type": "stream",
     "text": [
      "numbers that are co-prime with n = [2, 3, 4, 6, 7, 8, 9, 11, 12, 13, 14, 16, 17, 18, 19]\n",
      "square of each number = [4, 9, 16, 36, 49, 64, 81, 121, 144, 169, 196, 256, 289, 324, 361]\n",
      "sum of squares = 2119\n"
     ]
    }
   ],
   "source": [
    "from functools import reduce\n",
    "s = [2,3,4,6,7,8,9,11,12,13,14,15,16,17,18,19,20]\n",
    "n = 5\n",
    "\n",
    "\n",
    "def gcd(x,y):\n",
    "    while y:\n",
    "        x, y = y, x % y\n",
    "    return x\n",
    "\n",
    "def are_coprime(x, n):\n",
    "    return gcd(x, n) == 1\n",
    "\n",
    "# check coprime\n",
    "coprime = list(filter(lambda v : are_coprime(v, n),s))\n",
    "# taking square of numbers\n",
    "square = list(map(lambda a : a ** 2 , coprime))\n",
    "# taking sum of squares\n",
    "sum_square = reduce(lambda a , b: a + b ,square)\n",
    "\n",
    "print(\"numbers that are co-prime with n =\",coprime)\n",
    "print(\"square of each number =\",square)\n",
    "print(\"sum of squares =\",sum_square)\n",
    "\n",
    "\n"
   ]
  },
  {
   "cell_type": "markdown",
   "id": "49f6f5e7-ee55-4e17-a12c-bd4ada4ac0f4",
   "metadata": {},
   "source": [
    "Q 330. Given a list of numbers, use a combination of functions to find all amicable pairs within that list. Two numbers \\(a\\) and \\(b\\) are an amicable pair if the sum of the proper divisors of \\(a\\) is equal to \\(b\\), and the sum of the proper divisors of \\(b\\) is equal to \\(a\\) (\\(a\\ne b\\))."
   ]
  },
  {
   "cell_type": "code",
   "execution_count": 2,
   "id": "b0a2458f-3d50-4762-b0dd-237dbbbec87e",
   "metadata": {},
   "outputs": [
    {
     "name": "stdout",
     "output_type": "stream",
     "text": [
      "[1, 1, 3, 6, 1, 7, 4, 1, 16, 1, 10, 9, 15, 1, 21, 1, 22, 284, 220]\n",
      "220 284\n"
     ]
    }
   ],
   "source": [
    "s = [2,3,4,6,7,8,9,11,12,13,14,15,16,17,18,19,20,220,284]\n",
    "\n",
    "# Function to compute sum of proper divisors\n",
    "def p_divisor(x):\n",
    "    sum_d = 0\n",
    "    for i in range(1, x):\n",
    "        if x % i == 0:\n",
    "            sum_d += i\n",
    "    return sum_d\n",
    "\n",
    "# Print sum of proper divisors\n",
    "result = list(map(p_divisor, s))\n",
    "print(result)\n",
    "\n",
    "# Function to find and print amicable pairs\n",
    "def amicable_pairs():\n",
    "    i = 0\n",
    "    while i < len(s):\n",
    "        a = s[i]\n",
    "        b = p_divisor(a)\n",
    "\n",
    "        if b != a:\n",
    "            j = 0\n",
    "            while j < len(s):\n",
    "                if s[j] == b:\n",
    "                    if p_divisor(b) == a and a < b:\n",
    "                        print(a, b)\n",
    "                j += 1\n",
    "        i += 1\n",
    "\n",
    "\n",
    "amicable_pairs()\n"
   ]
  },
  {
   "cell_type": "markdown",
   "id": "32769f51-a151-4f49-ba74-37405bb0b14f",
   "metadata": {},
   "source": [
    "Q 331. Given a list of numbers, use map and a helper function to return a new list containing the sum of all divisors for each number. "
   ]
  },
  {
   "cell_type": "code",
   "execution_count": 3,
   "id": "d0df018c-c9c7-4586-b692-bc49028bbb18",
   "metadata": {},
   "outputs": [
    {
     "name": "stdout",
     "output_type": "stream",
     "text": [
      "[1, 1, 3, 6, 1, 7, 4, 1, 16, 1, 10, 9, 15, 1, 21, 1, 22]\n"
     ]
    }
   ],
   "source": [
    "p = [2,3,4,6,7,8,9,11,12,13,14,15,16,17,18,19,20]\n",
    "\n",
    "# helper fuction to divisible each number of list\n",
    "def divisor(x):\n",
    "    sum_divisor = 0\n",
    "    for i in range(1,x):\n",
    "        if x % i == 0:\n",
    "            sum_divisor += i\n",
    "    return sum_divisor\n",
    "\n",
    "p_result = list(map(divisor,p))\n",
    "print(p_result)\n",
    "            "
   ]
  },
  {
   "cell_type": "markdown",
   "id": "e29daea7-866b-4388-ae27-4f478bf81dc8",
   "metadata": {},
   "source": [
    "Q 332.Write a python function for Linear regression (OLS). To compute slope and intercept via formulas from sums; print fitted line and total absolute error (L1) and squared error (L2)"
   ]
  },
  {
   "cell_type": "code",
   "execution_count": 4,
   "id": "7f72cf22-1c37-432b-8c98-33041098e3df",
   "metadata": {},
   "outputs": [
    {
     "name": "stdout",
     "output_type": "stream",
     "text": [
      "slope = 20.0\n",
      "intercept = -73.2\n",
      "None\n"
     ]
    }
   ],
   "source": [
    "def linear_regretion(x,y):\n",
    "    # sum_x = sum of all x values\n",
    "    # sum-y = sum of all y values\n",
    "    # sum_p_x = sum of product x values\n",
    "    # sum_p_y = sum of product y value\n",
    "    # sum_p_xy = sum of product of x and y values\n",
    "    # sum_sq = sum of sqaured all x values\n",
    "    # n_x = number of data point in x\n",
    "    #\n",
    "     # sum_x = sum of all x values\n",
    "    sum_x = 0\n",
    "    for i in x:\n",
    "        sum_x += i\n",
    "     # sum-y = sum of all y values\n",
    "    sum_y = 0\n",
    "    for j in y:\n",
    "        sum_y += j\n",
    "\n",
    "     # sum_p_x = sum of product x values\n",
    "    sum_p_x = 0\n",
    "    for i in x:\n",
    "        sum_p_x = sum_p_x + i * i\n",
    "\n",
    "    # sum_p_y = sum of product y value\n",
    "    sum_p_y = 0\n",
    "    for j in y:\n",
    "        sum_p_y = sum_p_y + j * j\n",
    "\n",
    "     # sum_p_xy = sum of product of x and y values\n",
    "    sum_p_xy = sum_p_x + sum_p_y\n",
    "\n",
    "    # sum_sq = sum of sqaured all x values\n",
    "    sum_sq = 0\n",
    "    for i in x:\n",
    "        sum_sq = sum_sq + i ** 2\n",
    "\n",
    "     # n_x = number of data point in x\n",
    "    n_x = 0\n",
    "    for _ in x:\n",
    "        n_x += 1\n",
    "\n",
    "\n",
    "\n",
    "    numerator = n_x * sum_p_xy - sum_x * sum_y\n",
    "    denominator = n_x * sum_sq - sum_x * sum_x\n",
    "\n",
    "    # calculating slope and intercept\n",
    "    slope = numerator / denominator\n",
    "    intercept = (sum_y - slope * sum_x) / n_x\n",
    "\n",
    "    \n",
    "    print(\"slope =\",slope)\n",
    "    print(\"intercept =\",intercept)\n",
    "\n",
    "x = [2,3,4,5,6]\n",
    "y = [8,7,6,4,9]\n",
    "result = linear_regretion(x,y)\n",
    "print(result)\n",
    "        "
   ]
  },
  {
   "cell_type": "markdown",
   "id": "7960cc7d-260e-4ace-bc37-fad20efaa2c0",
   "metadata": {},
   "source": [
    "Q 334.Write a python function for Linear Transformation of a List.Apply a linear transformation y = 2x + 3 to each number in a list."
   ]
  },
  {
   "cell_type": "code",
   "execution_count": 5,
   "id": "6d95c267-374c-4a4a-a283-021b015ad809",
   "metadata": {},
   "outputs": [
    {
     "name": "stdout",
     "output_type": "stream",
     "text": [
      "[7, 13, 19, 17, 19]\n"
     ]
    }
   ],
   "source": [
    "a = [2,5,8,7,8]\n",
    "def linear(x):\n",
    "    y = 2 * x + 3\n",
    "    return y\n",
    "a_result = list(map(linear,a))\n",
    "print(a_result)"
   ]
  },
  {
   "cell_type": "markdown",
   "id": "0e406a9e-9f85-4b12-995b-3e7ca3984c3d",
   "metadata": {},
   "source": [
    "Q 335.Write a python function for a list of radius of different circles, calculate the area of circle for each radius."
   ]
  },
  {
   "cell_type": "code",
   "execution_count": 6,
   "id": "17b1d8f3-faa1-495d-878d-6798e7982e04",
   "metadata": {},
   "outputs": [
    {
     "name": "stdout",
     "output_type": "stream",
     "text": [
      "[78.5, 14949.54, 6936.26, 22686.5, 9156.24]\n"
     ]
    }
   ],
   "source": [
    "s = [5,69,47,85,54]\n",
    "def radius(x):\n",
    "    A = 3.14 * (x ** 2)\n",
    "    return A\n",
    "s_result = list(map(radius,s))\n",
    "print(s_result)"
   ]
  },
  {
   "cell_type": "markdown",
   "id": "4f1106d1-ea62-41cb-a45c-d482ef15dd7c",
   "metadata": {},
   "source": [
    "Q 336.Write a python function to Evaluate a Polynomial at Given x Values, Evaluate f(x) = 3x² - 2x + 5 for each x in the list."
   ]
  },
  {
   "cell_type": "code",
   "execution_count": 7,
   "id": "d7ddbaff-f65f-4094-9fa0-43a2aaf007a5",
   "metadata": {},
   "outputs": [
    {
     "name": "stdout",
     "output_type": "stream",
     "text": [
      "[12550, 23590, 565, 16730, 3013]\n"
     ]
    }
   ],
   "source": [
    "e = [65,89,14,75,32]\n",
    "def polynominal(x):\n",
    "    f_x = 3 * (x ** 2) - (2 * x) + 5\n",
    "    return f_x\n",
    "e_result = list(map(polynominal,e))\n",
    "print(e_result)"
   ]
  },
  {
   "cell_type": "markdown",
   "id": "85ded5dd-c8aa-4040-9a7e-dee018e0c5fb",
   "metadata": {},
   "source": [
    "Q 337. Write a python function to Filter Integer Solutions to Linear Equation, Find values of x where 2x + 3 = 11 (i.e., x = 4)."
   ]
  },
  {
   "cell_type": "code",
   "execution_count": 8,
   "id": "d733e81a-3563-4cf2-8334-0b148d8a32b0",
   "metadata": {},
   "outputs": [
    {
     "name": "stdout",
     "output_type": "stream",
     "text": [
      "[4]\n"
     ]
    }
   ],
   "source": [
    "n = [2,3,4,5,6,7,8,9]\n",
    "def integer(x):\n",
    "    A = 2 * x + 3\n",
    "    if A == 11:\n",
    "        return x\n",
    "n_result = list(filter(integer,n))\n",
    "print(n_result)"
   ]
  },
  {
   "cell_type": "markdown",
   "id": "66ffa909-33ea-45f0-96d6-eb6f00d05d08",
   "metadata": {},
   "source": [
    "Q 338. Write a python function to Calculate Weighted Average, Weighted average = Σ(value × weight) / Σ(weights)."
   ]
  },
  {
   "cell_type": "code",
   "execution_count": 9,
   "id": "a0a1e030-d396-4eb6-bc6a-fe5173e351f8",
   "metadata": {},
   "outputs": [
    {
     "data": {
      "text/plain": [
       "24.0"
      ]
     },
     "execution_count": 9,
     "metadata": {},
     "output_type": "execute_result"
    }
   ],
   "source": [
    "from functools import reduce\n",
    "weight = [56,89,75,20,60]\n",
    "value = [2,5,8,6,3]\n",
    "sum_value = reduce(lambda x , y: x + y , value)\n",
    "sum_weight = reduce(lambda i , j : i + j , weight)\n",
    "sum_both = sum_value * sum_weight\n",
    "\n",
    "def avg():\n",
    "    average = sum_both / sum_weight\n",
    "    return average\n",
    "avg()"
   ]
  },
  {
   "cell_type": "markdown",
   "id": "1f80391b-fccb-4310-8a0b-f26225b08822",
   "metadata": {},
   "source": [
    "Q 339.Write a python function to find Roots of a Linear Equation, Find all values of x that solve 4x - 8 = 0 from a list."
   ]
  },
  {
   "cell_type": "code",
   "execution_count": 10,
   "id": "b926fce2-e360-4a9b-9341-ede66b04256b",
   "metadata": {},
   "outputs": [
    {
     "name": "stdout",
     "output_type": "stream",
     "text": [
      "[2]\n"
     ]
    }
   ],
   "source": [
    "m = [2,3,6,5,4,7,8,9,5,4,7,8]\n",
    "def roots(x):\n",
    "    s = (4 * x) - 8\n",
    "    if s == 0:\n",
    "        return x\n",
    "m_result = list(filter(roots,m))\n",
    "print(m_result)"
   ]
  },
  {
   "cell_type": "markdown",
   "id": "9c734518-ba1d-40fe-bcc5-2c144bdc09af",
   "metadata": {},
   "source": [
    "Q 340.Write a python function to find Running Sum (Cumulative Sum) for a list of numbers."
   ]
  },
  {
   "cell_type": "code",
   "execution_count": 12,
   "id": "acc022f6-04a5-4503-876e-e57e16bbde9a",
   "metadata": {},
   "outputs": [
    {
     "name": "stdout",
     "output_type": "stream",
     "text": [
      "[1, 3, 6, 10, 15]\n"
     ]
    }
   ],
   "source": [
    "from functools import reduce\n",
    "numbers = [1, 2, 3, 4, 5]\n",
    "def sum_func(a, x):\n",
    "    total, result = a\n",
    "    total += x\n",
    "    result += [total]\n",
    "    return total, result\n",
    "total, result = reduce(sum_func, numbers, (0, []))\n",
    "print(result)"
   ]
  },
  {
   "cell_type": "markdown",
   "id": "5b04707e-1b1c-4052-8692-ed112c9a49fe",
   "metadata": {},
   "source": [
    "Q 341. Write a python function to Count How Many Numbers Are Above the Mean. Take a list of numbers and calculate the mean first then find the numbers greater than the mean."
   ]
  },
  {
   "cell_type": "code",
   "execution_count": 13,
   "id": "9b93b6c6-5e9c-4311-a16e-33b8682be7dd",
   "metadata": {},
   "outputs": [
    {
     "name": "stdout",
     "output_type": "stream",
     "text": [
      "26\n",
      "[40, 50]\n"
     ]
    }
   ],
   "source": [
    "from functools import reduce\n",
    "numbers = [10,20,11,40,50]\n",
    "\n",
    "def count_elements(n):\n",
    "    count = 0\n",
    "    for n in numbers:\n",
    "        count += 1\n",
    "    return count\n",
    "total = reduce(lambda x, y: x + y, numbers)\n",
    "avg = total // count_elements(numbers)\n",
    "print(avg)\n",
    "def mean(numbers):\n",
    "    greater = []\n",
    "    for num in numbers:\n",
    "        if num > avg:\n",
    "            greater = greater + [num]\n",
    "            \n",
    "    return greater\n",
    "\n",
    "result = list(mean(numbers))\n",
    "print(result)\n",
    "\n",
    "\n",
    "        \n"
   ]
  }
 ],
 "metadata": {
  "kernelspec": {
   "display_name": "Python [conda env:base] *",
   "language": "python",
   "name": "conda-base-py"
  },
  "language_info": {
   "codemirror_mode": {
    "name": "ipython",
    "version": 3
   },
   "file_extension": ".py",
   "mimetype": "text/x-python",
   "name": "python",
   "nbconvert_exporter": "python",
   "pygments_lexer": "ipython3",
   "version": "3.13.5"
  }
 },
 "nbformat": 4,
 "nbformat_minor": 5
}
